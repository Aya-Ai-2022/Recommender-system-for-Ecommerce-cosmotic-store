{
 "cells": [
  {
   "cell_type": "code",
   "execution_count": 73,
   "metadata": {},
   "outputs": [],
   "source": [
    "# Thanks for Moorissa Tjokro I get some of my codes from her explanation to deal with purchase data\n",
    "\n",
    "\n",
    "##https://medium.datadriveninvestor.com/how-to-build-a-recommendation-system-for-purchase-data-step-by-step-d6d7a78800b6\n",
    "    "
   ]
  },
  {
   "cell_type": "markdown",
   "metadata": {},
   "source": [
    "#  Data Prep & Filtering"
   ]
  },
  {
   "cell_type": "code",
   "execution_count": 72,
   "metadata": {},
   "outputs": [],
   "source": [
    "import pandas as pd\n",
    "import matplotlib\n",
    "import matplotlib.pyplot as plt\n",
    "import numpy as np\n",
    "from pandas import Series, DataFrame\n",
    "import time\n",
    "import turicreate as tc\n",
    "from sklearn.model_selection import train_test_split\n",
    "from functools import reduce\n",
    "import random"
   ]
  },
  {
   "cell_type": "code",
   "execution_count": 2,
   "metadata": {},
   "outputs": [],
   "source": [
    "\n",
    "file1 = \"Data1.csv\"\n",
    "file2 = \"Data2.csv\"\n"
   ]
  },
  {
   "cell_type": "code",
   "execution_count": 3,
   "metadata": {},
   "outputs": [],
   "source": [
    "def pre_process_df(filename):\n",
    "    if filename:\n",
    "        df = pd.read_csv(filename)\n",
    "        df = df.drop_duplicates()\n",
    "        df = df[df.brand.notnull()]\n",
    "        return df[df.price > 0]\n",
    "    return None\n",
    "  \n",
    "def gen_purchase_count(files):\n",
    "    df = pd.concat([pre_process_df(f) for f in files])\n",
    "    df = df.loc[:, ['event_type', 'brand', 'user_id']]\n",
    "    df['purchase_count'] = [1 if e == 'purchase' else 0 for e in df['event_type']]\n",
    "    df = df.drop(['event_type'], axis = 1)\n",
    "    df = df.groupby(['brand', 'user_id']).sum()\n",
    "    df = df[df.purchase_count != 0]\n",
    "    return df.reset_index()"
   ]
  },
  {
   "cell_type": "code",
   "execution_count": 4,
   "metadata": {},
   "outputs": [],
   "source": [
    "purchase_count = gen_purchase_count([file1,file2])"
   ]
  },
  {
   "cell_type": "code",
   "execution_count": 5,
   "metadata": {},
   "outputs": [
    {
     "data": {
      "text/html": [
       "<div>\n",
       "<style scoped>\n",
       "    .dataframe tbody tr th:only-of-type {\n",
       "        vertical-align: middle;\n",
       "    }\n",
       "\n",
       "    .dataframe tbody tr th {\n",
       "        vertical-align: top;\n",
       "    }\n",
       "\n",
       "    .dataframe thead th {\n",
       "        text-align: right;\n",
       "    }\n",
       "</style>\n",
       "<table border=\"1\" class=\"dataframe\">\n",
       "  <thead>\n",
       "    <tr style=\"text-align: right;\">\n",
       "      <th></th>\n",
       "      <th>brand</th>\n",
       "      <th>user_id</th>\n",
       "      <th>purchase_count</th>\n",
       "    </tr>\n",
       "  </thead>\n",
       "  <tbody>\n",
       "    <tr>\n",
       "      <th>0</th>\n",
       "      <td>airnails</td>\n",
       "      <td>10280338</td>\n",
       "      <td>1</td>\n",
       "    </tr>\n",
       "    <tr>\n",
       "      <th>1</th>\n",
       "      <td>airnails</td>\n",
       "      <td>105697630</td>\n",
       "      <td>1</td>\n",
       "    </tr>\n",
       "    <tr>\n",
       "      <th>2</th>\n",
       "      <td>airnails</td>\n",
       "      <td>126051562</td>\n",
       "      <td>2</td>\n",
       "    </tr>\n",
       "    <tr>\n",
       "      <th>3</th>\n",
       "      <td>airnails</td>\n",
       "      <td>149936015</td>\n",
       "      <td>1</td>\n",
       "    </tr>\n",
       "    <tr>\n",
       "      <th>4</th>\n",
       "      <td>airnails</td>\n",
       "      <td>160905182</td>\n",
       "      <td>2</td>\n",
       "    </tr>\n",
       "    <tr>\n",
       "      <th>...</th>\n",
       "      <td>...</td>\n",
       "      <td>...</td>\n",
       "      <td>...</td>\n",
       "    </tr>\n",
       "    <tr>\n",
       "      <th>151238</th>\n",
       "      <td>zinger</td>\n",
       "      <td>579632103</td>\n",
       "      <td>1</td>\n",
       "    </tr>\n",
       "    <tr>\n",
       "      <th>151239</th>\n",
       "      <td>zinger</td>\n",
       "      <td>579681799</td>\n",
       "      <td>10</td>\n",
       "    </tr>\n",
       "    <tr>\n",
       "      <th>151240</th>\n",
       "      <td>zinger</td>\n",
       "      <td>579750441</td>\n",
       "      <td>1</td>\n",
       "    </tr>\n",
       "    <tr>\n",
       "      <th>151241</th>\n",
       "      <td>zinger</td>\n",
       "      <td>579849574</td>\n",
       "      <td>1</td>\n",
       "    </tr>\n",
       "    <tr>\n",
       "      <th>151242</th>\n",
       "      <td>zinger</td>\n",
       "      <td>579866859</td>\n",
       "      <td>1</td>\n",
       "    </tr>\n",
       "  </tbody>\n",
       "</table>\n",
       "<p>151243 rows × 3 columns</p>\n",
       "</div>"
      ],
      "text/plain": [
       "           brand    user_id  purchase_count\n",
       "0       airnails   10280338               1\n",
       "1       airnails  105697630               1\n",
       "2       airnails  126051562               2\n",
       "3       airnails  149936015               1\n",
       "4       airnails  160905182               2\n",
       "...          ...        ...             ...\n",
       "151238    zinger  579632103               1\n",
       "151239    zinger  579681799              10\n",
       "151240    zinger  579750441               1\n",
       "151241    zinger  579849574               1\n",
       "151242    zinger  579866859               1\n",
       "\n",
       "[151243 rows x 3 columns]"
      ]
     },
     "execution_count": 5,
     "metadata": {},
     "output_type": "execute_result"
    }
   ],
   "source": [
    "purchase_count"
   ]
  },
  {
   "cell_type": "code",
   "execution_count": 6,
   "metadata": {},
   "outputs": [],
   "source": [
    "user_id  = np.unique(purchase_count['user_id'])\n",
    "num_brand_purchased = np.zeros(len(user_id))\n",
    "for loc, user in enumerate(user_id):\n",
    "    num_brand_purchased[loc] = np.sum(purchase_count['user_id'] == user)"
   ]
  },
  {
   "cell_type": "code",
   "execution_count": 7,
   "metadata": {},
   "outputs": [
    {
     "data": {
      "text/plain": [
       "array([2., 2., 3., ..., 2., 1., 1.])"
      ]
     },
     "execution_count": 7,
     "metadata": {},
     "output_type": "execute_result"
    }
   ],
   "source": [
    "num_brand_purchased"
   ]
  },
  {
   "cell_type": "code",
   "execution_count": 8,
   "metadata": {},
   "outputs": [
    {
     "data": {
      "text/plain": [
       "3"
      ]
     },
     "execution_count": 8,
     "metadata": {},
     "output_type": "execute_result"
    }
   ],
   "source": [
    "np.sum(purchase_count['user_id'] == 579681799)"
   ]
  },
  {
   "cell_type": "code",
   "execution_count": 9,
   "metadata": {},
   "outputs": [
    {
     "data": {
      "text/html": [
       "<div>\n",
       "<style scoped>\n",
       "    .dataframe tbody tr th:only-of-type {\n",
       "        vertical-align: middle;\n",
       "    }\n",
       "\n",
       "    .dataframe tbody tr th {\n",
       "        vertical-align: top;\n",
       "    }\n",
       "\n",
       "    .dataframe thead th {\n",
       "        text-align: right;\n",
       "    }\n",
       "</style>\n",
       "<table border=\"1\" class=\"dataframe\">\n",
       "  <thead>\n",
       "    <tr style=\"text-align: right;\">\n",
       "      <th></th>\n",
       "      <th>brand</th>\n",
       "      <th>user_id</th>\n",
       "      <th>purchase_count</th>\n",
       "    </tr>\n",
       "  </thead>\n",
       "  <tbody>\n",
       "    <tr>\n",
       "      <th>72519</th>\n",
       "      <td>irisk</td>\n",
       "      <td>579681799</td>\n",
       "      <td>1</td>\n",
       "    </tr>\n",
       "    <tr>\n",
       "      <th>89748</th>\n",
       "      <td>lovely</td>\n",
       "      <td>579681799</td>\n",
       "      <td>2</td>\n",
       "    </tr>\n",
       "    <tr>\n",
       "      <th>151239</th>\n",
       "      <td>zinger</td>\n",
       "      <td>579681799</td>\n",
       "      <td>10</td>\n",
       "    </tr>\n",
       "  </tbody>\n",
       "</table>\n",
       "</div>"
      ],
      "text/plain": [
       "         brand    user_id  purchase_count\n",
       "72519    irisk  579681799               1\n",
       "89748   lovely  579681799               2\n",
       "151239  zinger  579681799              10"
      ]
     },
     "execution_count": 9,
     "metadata": {},
     "output_type": "execute_result"
    }
   ],
   "source": [
    "purchase_count[purchase_count['user_id'] == 579681799]"
   ]
  },
  {
   "cell_type": "code",
   "execution_count": 10,
   "metadata": {},
   "outputs": [
    {
     "data": {
      "text/plain": [
       "array([  9794320,  10079204,  10280338, ..., 579924768, 579925377,\n",
       "       579944216])"
      ]
     },
     "execution_count": 10,
     "metadata": {},
     "output_type": "execute_result"
    }
   ],
   "source": [
    "user_id"
   ]
  },
  {
   "cell_type": "code",
   "execution_count": 11,
   "metadata": {},
   "outputs": [],
   "source": [
    "idx = np.where(num_brand_purchased>=5)"
   ]
  },
  {
   "cell_type": "code",
   "execution_count": 12,
   "metadata": {},
   "outputs": [
    {
     "data": {
      "text/plain": [
       "(array([    6,     9,    11, ..., 46949, 46951, 46953]),)"
      ]
     },
     "execution_count": 12,
     "metadata": {},
     "output_type": "execute_result"
    }
   ],
   "source": [
    "np.where(num_brand_purchased>=5)"
   ]
  },
  {
   "cell_type": "code",
   "execution_count": 13,
   "metadata": {},
   "outputs": [],
   "source": [
    "filitered_user_id = user_id[idx]"
   ]
  },
  {
   "cell_type": "code",
   "execution_count": 14,
   "metadata": {},
   "outputs": [],
   "source": [
    "filtered_data = purchase_count.loc[purchase_count['user_id'].isin(filitered_user_id)]"
   ]
  },
  {
   "cell_type": "code",
   "execution_count": 15,
   "metadata": {},
   "outputs": [
    {
     "data": {
      "text/html": [
       "<div>\n",
       "<style scoped>\n",
       "    .dataframe tbody tr th:only-of-type {\n",
       "        vertical-align: middle;\n",
       "    }\n",
       "\n",
       "    .dataframe tbody tr th {\n",
       "        vertical-align: top;\n",
       "    }\n",
       "\n",
       "    .dataframe thead th {\n",
       "        text-align: right;\n",
       "    }\n",
       "</style>\n",
       "<table border=\"1\" class=\"dataframe\">\n",
       "  <thead>\n",
       "    <tr style=\"text-align: right;\">\n",
       "      <th></th>\n",
       "      <th>brand</th>\n",
       "      <th>user_id</th>\n",
       "      <th>purchase_count</th>\n",
       "    </tr>\n",
       "  </thead>\n",
       "  <tbody>\n",
       "    <tr>\n",
       "      <th>1</th>\n",
       "      <td>airnails</td>\n",
       "      <td>105697630</td>\n",
       "      <td>1</td>\n",
       "    </tr>\n",
       "    <tr>\n",
       "      <th>2</th>\n",
       "      <td>airnails</td>\n",
       "      <td>126051562</td>\n",
       "      <td>2</td>\n",
       "    </tr>\n",
       "    <tr>\n",
       "      <th>3</th>\n",
       "      <td>airnails</td>\n",
       "      <td>149936015</td>\n",
       "      <td>1</td>\n",
       "    </tr>\n",
       "    <tr>\n",
       "      <th>5</th>\n",
       "      <td>airnails</td>\n",
       "      <td>169938179</td>\n",
       "      <td>2</td>\n",
       "    </tr>\n",
       "    <tr>\n",
       "      <th>6</th>\n",
       "      <td>airnails</td>\n",
       "      <td>170386254</td>\n",
       "      <td>4</td>\n",
       "    </tr>\n",
       "    <tr>\n",
       "      <th>...</th>\n",
       "      <td>...</td>\n",
       "      <td>...</td>\n",
       "      <td>...</td>\n",
       "    </tr>\n",
       "    <tr>\n",
       "      <th>151231</th>\n",
       "      <td>zinger</td>\n",
       "      <td>579242176</td>\n",
       "      <td>2</td>\n",
       "    </tr>\n",
       "    <tr>\n",
       "      <th>151234</th>\n",
       "      <td>zinger</td>\n",
       "      <td>579501173</td>\n",
       "      <td>1</td>\n",
       "    </tr>\n",
       "    <tr>\n",
       "      <th>151236</th>\n",
       "      <td>zinger</td>\n",
       "      <td>579523833</td>\n",
       "      <td>1</td>\n",
       "    </tr>\n",
       "    <tr>\n",
       "      <th>151237</th>\n",
       "      <td>zinger</td>\n",
       "      <td>579608040</td>\n",
       "      <td>1</td>\n",
       "    </tr>\n",
       "    <tr>\n",
       "      <th>151241</th>\n",
       "      <td>zinger</td>\n",
       "      <td>579849574</td>\n",
       "      <td>1</td>\n",
       "    </tr>\n",
       "  </tbody>\n",
       "</table>\n",
       "<p>75792 rows × 3 columns</p>\n",
       "</div>"
      ],
      "text/plain": [
       "           brand    user_id  purchase_count\n",
       "1       airnails  105697630               1\n",
       "2       airnails  126051562               2\n",
       "3       airnails  149936015               1\n",
       "5       airnails  169938179               2\n",
       "6       airnails  170386254               4\n",
       "...          ...        ...             ...\n",
       "151231    zinger  579242176               2\n",
       "151234    zinger  579501173               1\n",
       "151236    zinger  579523833               1\n",
       "151237    zinger  579608040               1\n",
       "151241    zinger  579849574               1\n",
       "\n",
       "[75792 rows x 3 columns]"
      ]
     },
     "execution_count": 15,
     "metadata": {},
     "output_type": "execute_result"
    }
   ],
   "source": [
    "filtered_data"
   ]
  },
  {
   "cell_type": "code",
   "execution_count": 16,
   "metadata": {},
   "outputs": [],
   "source": [
    "filtered_data=filtered_data[['user_id','brand','purchase_count']]"
   ]
  },
  {
   "cell_type": "code",
   "execution_count": 17,
   "metadata": {},
   "outputs": [],
   "source": [
    "filtered_data.columns=['customerId','productId','purchase_count']"
   ]
  },
  {
   "cell_type": "code",
   "execution_count": 18,
   "metadata": {},
   "outputs": [],
   "source": [
    "data=filtered_data"
   ]
  },
  {
   "cell_type": "code",
   "execution_count": 19,
   "metadata": {},
   "outputs": [],
   "source": [
    "def create_data_dummy(data):\n",
    "    data_dummy = data.copy()\n",
    "    data_dummy['purchase_dummy'] = 1\n",
    "    return data_dummy\n",
    "data_dummy = create_data_dummy(data)"
   ]
  },
  {
   "cell_type": "code",
   "execution_count": 20,
   "metadata": {},
   "outputs": [],
   "source": [
    "df_matrix = pd.pivot_table(data, values='purchase_count', index='customerId', columns='productId')"
   ]
  },
  {
   "cell_type": "code",
   "execution_count": 21,
   "metadata": {},
   "outputs": [
    {
     "data": {
      "text/html": [
       "<div>\n",
       "<style scoped>\n",
       "    .dataframe tbody tr th:only-of-type {\n",
       "        vertical-align: middle;\n",
       "    }\n",
       "\n",
       "    .dataframe tbody tr th {\n",
       "        vertical-align: top;\n",
       "    }\n",
       "\n",
       "    .dataframe thead th {\n",
       "        text-align: right;\n",
       "    }\n",
       "</style>\n",
       "<table border=\"1\" class=\"dataframe\">\n",
       "  <thead>\n",
       "    <tr style=\"text-align: right;\">\n",
       "      <th>productId</th>\n",
       "      <th>airnails</th>\n",
       "      <th>almea</th>\n",
       "      <th>andrea</th>\n",
       "      <th>ardell</th>\n",
       "      <th>art-visage</th>\n",
       "      <th>artex</th>\n",
       "      <th>aura</th>\n",
       "      <th>balbcare</th>\n",
       "      <th>barbie</th>\n",
       "      <th>batiste</th>\n",
       "      <th>...</th>\n",
       "      <th>uskusi</th>\n",
       "      <th>veraclara</th>\n",
       "      <th>vilenta</th>\n",
       "      <th>vosev</th>\n",
       "      <th>weaver</th>\n",
       "      <th>yoko</th>\n",
       "      <th>ypsed</th>\n",
       "      <th>yu-r</th>\n",
       "      <th>zeitun</th>\n",
       "      <th>zinger</th>\n",
       "    </tr>\n",
       "    <tr>\n",
       "      <th>customerId</th>\n",
       "      <th></th>\n",
       "      <th></th>\n",
       "      <th></th>\n",
       "      <th></th>\n",
       "      <th></th>\n",
       "      <th></th>\n",
       "      <th></th>\n",
       "      <th></th>\n",
       "      <th></th>\n",
       "      <th></th>\n",
       "      <th></th>\n",
       "      <th></th>\n",
       "      <th></th>\n",
       "      <th></th>\n",
       "      <th></th>\n",
       "      <th></th>\n",
       "      <th></th>\n",
       "      <th></th>\n",
       "      <th></th>\n",
       "      <th></th>\n",
       "      <th></th>\n",
       "    </tr>\n",
       "  </thead>\n",
       "  <tbody>\n",
       "    <tr>\n",
       "      <th>29025780</th>\n",
       "      <td>NaN</td>\n",
       "      <td>NaN</td>\n",
       "      <td>NaN</td>\n",
       "      <td>NaN</td>\n",
       "      <td>NaN</td>\n",
       "      <td>NaN</td>\n",
       "      <td>NaN</td>\n",
       "      <td>NaN</td>\n",
       "      <td>NaN</td>\n",
       "      <td>NaN</td>\n",
       "      <td>...</td>\n",
       "      <td>NaN</td>\n",
       "      <td>NaN</td>\n",
       "      <td>NaN</td>\n",
       "      <td>NaN</td>\n",
       "      <td>NaN</td>\n",
       "      <td>NaN</td>\n",
       "      <td>NaN</td>\n",
       "      <td>NaN</td>\n",
       "      <td>NaN</td>\n",
       "      <td>NaN</td>\n",
       "    </tr>\n",
       "    <tr>\n",
       "      <th>33609704</th>\n",
       "      <td>NaN</td>\n",
       "      <td>NaN</td>\n",
       "      <td>NaN</td>\n",
       "      <td>NaN</td>\n",
       "      <td>NaN</td>\n",
       "      <td>NaN</td>\n",
       "      <td>NaN</td>\n",
       "      <td>NaN</td>\n",
       "      <td>NaN</td>\n",
       "      <td>NaN</td>\n",
       "      <td>...</td>\n",
       "      <td>NaN</td>\n",
       "      <td>NaN</td>\n",
       "      <td>NaN</td>\n",
       "      <td>NaN</td>\n",
       "      <td>NaN</td>\n",
       "      <td>NaN</td>\n",
       "      <td>NaN</td>\n",
       "      <td>NaN</td>\n",
       "      <td>NaN</td>\n",
       "      <td>NaN</td>\n",
       "    </tr>\n",
       "    <tr>\n",
       "      <th>34236465</th>\n",
       "      <td>NaN</td>\n",
       "      <td>NaN</td>\n",
       "      <td>NaN</td>\n",
       "      <td>NaN</td>\n",
       "      <td>NaN</td>\n",
       "      <td>NaN</td>\n",
       "      <td>NaN</td>\n",
       "      <td>NaN</td>\n",
       "      <td>NaN</td>\n",
       "      <td>NaN</td>\n",
       "      <td>...</td>\n",
       "      <td>NaN</td>\n",
       "      <td>NaN</td>\n",
       "      <td>NaN</td>\n",
       "      <td>NaN</td>\n",
       "      <td>NaN</td>\n",
       "      <td>NaN</td>\n",
       "      <td>NaN</td>\n",
       "      <td>NaN</td>\n",
       "      <td>NaN</td>\n",
       "      <td>NaN</td>\n",
       "    </tr>\n",
       "    <tr>\n",
       "      <th>36180886</th>\n",
       "      <td>NaN</td>\n",
       "      <td>NaN</td>\n",
       "      <td>NaN</td>\n",
       "      <td>NaN</td>\n",
       "      <td>NaN</td>\n",
       "      <td>NaN</td>\n",
       "      <td>NaN</td>\n",
       "      <td>NaN</td>\n",
       "      <td>NaN</td>\n",
       "      <td>NaN</td>\n",
       "      <td>...</td>\n",
       "      <td>NaN</td>\n",
       "      <td>NaN</td>\n",
       "      <td>NaN</td>\n",
       "      <td>NaN</td>\n",
       "      <td>NaN</td>\n",
       "      <td>NaN</td>\n",
       "      <td>NaN</td>\n",
       "      <td>NaN</td>\n",
       "      <td>NaN</td>\n",
       "      <td>NaN</td>\n",
       "    </tr>\n",
       "    <tr>\n",
       "      <th>40821287</th>\n",
       "      <td>NaN</td>\n",
       "      <td>NaN</td>\n",
       "      <td>NaN</td>\n",
       "      <td>NaN</td>\n",
       "      <td>NaN</td>\n",
       "      <td>NaN</td>\n",
       "      <td>NaN</td>\n",
       "      <td>NaN</td>\n",
       "      <td>NaN</td>\n",
       "      <td>NaN</td>\n",
       "      <td>...</td>\n",
       "      <td>NaN</td>\n",
       "      <td>NaN</td>\n",
       "      <td>NaN</td>\n",
       "      <td>NaN</td>\n",
       "      <td>NaN</td>\n",
       "      <td>NaN</td>\n",
       "      <td>NaN</td>\n",
       "      <td>NaN</td>\n",
       "      <td>NaN</td>\n",
       "      <td>1.0</td>\n",
       "    </tr>\n",
       "    <tr>\n",
       "      <th>...</th>\n",
       "      <td>...</td>\n",
       "      <td>...</td>\n",
       "      <td>...</td>\n",
       "      <td>...</td>\n",
       "      <td>...</td>\n",
       "      <td>...</td>\n",
       "      <td>...</td>\n",
       "      <td>...</td>\n",
       "      <td>...</td>\n",
       "      <td>...</td>\n",
       "      <td>...</td>\n",
       "      <td>...</td>\n",
       "      <td>...</td>\n",
       "      <td>...</td>\n",
       "      <td>...</td>\n",
       "      <td>...</td>\n",
       "      <td>...</td>\n",
       "      <td>...</td>\n",
       "      <td>...</td>\n",
       "      <td>...</td>\n",
       "      <td>...</td>\n",
       "    </tr>\n",
       "    <tr>\n",
       "      <th>579811378</th>\n",
       "      <td>NaN</td>\n",
       "      <td>NaN</td>\n",
       "      <td>NaN</td>\n",
       "      <td>NaN</td>\n",
       "      <td>NaN</td>\n",
       "      <td>NaN</td>\n",
       "      <td>NaN</td>\n",
       "      <td>NaN</td>\n",
       "      <td>NaN</td>\n",
       "      <td>NaN</td>\n",
       "      <td>...</td>\n",
       "      <td>NaN</td>\n",
       "      <td>NaN</td>\n",
       "      <td>NaN</td>\n",
       "      <td>NaN</td>\n",
       "      <td>NaN</td>\n",
       "      <td>NaN</td>\n",
       "      <td>NaN</td>\n",
       "      <td>NaN</td>\n",
       "      <td>NaN</td>\n",
       "      <td>NaN</td>\n",
       "    </tr>\n",
       "    <tr>\n",
       "      <th>579841776</th>\n",
       "      <td>NaN</td>\n",
       "      <td>NaN</td>\n",
       "      <td>NaN</td>\n",
       "      <td>NaN</td>\n",
       "      <td>NaN</td>\n",
       "      <td>NaN</td>\n",
       "      <td>NaN</td>\n",
       "      <td>NaN</td>\n",
       "      <td>NaN</td>\n",
       "      <td>NaN</td>\n",
       "      <td>...</td>\n",
       "      <td>NaN</td>\n",
       "      <td>NaN</td>\n",
       "      <td>NaN</td>\n",
       "      <td>NaN</td>\n",
       "      <td>NaN</td>\n",
       "      <td>NaN</td>\n",
       "      <td>NaN</td>\n",
       "      <td>NaN</td>\n",
       "      <td>NaN</td>\n",
       "      <td>NaN</td>\n",
       "    </tr>\n",
       "    <tr>\n",
       "      <th>579847583</th>\n",
       "      <td>NaN</td>\n",
       "      <td>NaN</td>\n",
       "      <td>NaN</td>\n",
       "      <td>NaN</td>\n",
       "      <td>NaN</td>\n",
       "      <td>NaN</td>\n",
       "      <td>NaN</td>\n",
       "      <td>NaN</td>\n",
       "      <td>NaN</td>\n",
       "      <td>NaN</td>\n",
       "      <td>...</td>\n",
       "      <td>NaN</td>\n",
       "      <td>NaN</td>\n",
       "      <td>NaN</td>\n",
       "      <td>NaN</td>\n",
       "      <td>NaN</td>\n",
       "      <td>NaN</td>\n",
       "      <td>NaN</td>\n",
       "      <td>NaN</td>\n",
       "      <td>NaN</td>\n",
       "      <td>NaN</td>\n",
       "    </tr>\n",
       "    <tr>\n",
       "      <th>579849574</th>\n",
       "      <td>NaN</td>\n",
       "      <td>NaN</td>\n",
       "      <td>NaN</td>\n",
       "      <td>NaN</td>\n",
       "      <td>NaN</td>\n",
       "      <td>NaN</td>\n",
       "      <td>NaN</td>\n",
       "      <td>NaN</td>\n",
       "      <td>NaN</td>\n",
       "      <td>NaN</td>\n",
       "      <td>...</td>\n",
       "      <td>NaN</td>\n",
       "      <td>NaN</td>\n",
       "      <td>NaN</td>\n",
       "      <td>NaN</td>\n",
       "      <td>NaN</td>\n",
       "      <td>NaN</td>\n",
       "      <td>NaN</td>\n",
       "      <td>NaN</td>\n",
       "      <td>NaN</td>\n",
       "      <td>1.0</td>\n",
       "    </tr>\n",
       "    <tr>\n",
       "      <th>579857098</th>\n",
       "      <td>NaN</td>\n",
       "      <td>NaN</td>\n",
       "      <td>NaN</td>\n",
       "      <td>NaN</td>\n",
       "      <td>NaN</td>\n",
       "      <td>NaN</td>\n",
       "      <td>NaN</td>\n",
       "      <td>NaN</td>\n",
       "      <td>NaN</td>\n",
       "      <td>NaN</td>\n",
       "      <td>...</td>\n",
       "      <td>NaN</td>\n",
       "      <td>NaN</td>\n",
       "      <td>NaN</td>\n",
       "      <td>NaN</td>\n",
       "      <td>NaN</td>\n",
       "      <td>NaN</td>\n",
       "      <td>NaN</td>\n",
       "      <td>NaN</td>\n",
       "      <td>NaN</td>\n",
       "      <td>NaN</td>\n",
       "    </tr>\n",
       "  </tbody>\n",
       "</table>\n",
       "<p>10609 rows × 213 columns</p>\n",
       "</div>"
      ],
      "text/plain": [
       "productId   airnails  almea  andrea  ardell  art-visage  artex  aura  \\\n",
       "customerId                                                             \n",
       "29025780         NaN    NaN     NaN     NaN         NaN    NaN   NaN   \n",
       "33609704         NaN    NaN     NaN     NaN         NaN    NaN   NaN   \n",
       "34236465         NaN    NaN     NaN     NaN         NaN    NaN   NaN   \n",
       "36180886         NaN    NaN     NaN     NaN         NaN    NaN   NaN   \n",
       "40821287         NaN    NaN     NaN     NaN         NaN    NaN   NaN   \n",
       "...              ...    ...     ...     ...         ...    ...   ...   \n",
       "579811378        NaN    NaN     NaN     NaN         NaN    NaN   NaN   \n",
       "579841776        NaN    NaN     NaN     NaN         NaN    NaN   NaN   \n",
       "579847583        NaN    NaN     NaN     NaN         NaN    NaN   NaN   \n",
       "579849574        NaN    NaN     NaN     NaN         NaN    NaN   NaN   \n",
       "579857098        NaN    NaN     NaN     NaN         NaN    NaN   NaN   \n",
       "\n",
       "productId   balbcare  barbie  batiste  ...  uskusi  veraclara  vilenta  vosev  \\\n",
       "customerId                             ...                                      \n",
       "29025780         NaN     NaN      NaN  ...     NaN        NaN      NaN    NaN   \n",
       "33609704         NaN     NaN      NaN  ...     NaN        NaN      NaN    NaN   \n",
       "34236465         NaN     NaN      NaN  ...     NaN        NaN      NaN    NaN   \n",
       "36180886         NaN     NaN      NaN  ...     NaN        NaN      NaN    NaN   \n",
       "40821287         NaN     NaN      NaN  ...     NaN        NaN      NaN    NaN   \n",
       "...              ...     ...      ...  ...     ...        ...      ...    ...   \n",
       "579811378        NaN     NaN      NaN  ...     NaN        NaN      NaN    NaN   \n",
       "579841776        NaN     NaN      NaN  ...     NaN        NaN      NaN    NaN   \n",
       "579847583        NaN     NaN      NaN  ...     NaN        NaN      NaN    NaN   \n",
       "579849574        NaN     NaN      NaN  ...     NaN        NaN      NaN    NaN   \n",
       "579857098        NaN     NaN      NaN  ...     NaN        NaN      NaN    NaN   \n",
       "\n",
       "productId   weaver  yoko  ypsed  yu-r  zeitun  zinger  \n",
       "customerId                                             \n",
       "29025780       NaN   NaN    NaN   NaN     NaN     NaN  \n",
       "33609704       NaN   NaN    NaN   NaN     NaN     NaN  \n",
       "34236465       NaN   NaN    NaN   NaN     NaN     NaN  \n",
       "36180886       NaN   NaN    NaN   NaN     NaN     NaN  \n",
       "40821287       NaN   NaN    NaN   NaN     NaN     1.0  \n",
       "...            ...   ...    ...   ...     ...     ...  \n",
       "579811378      NaN   NaN    NaN   NaN     NaN     NaN  \n",
       "579841776      NaN   NaN    NaN   NaN     NaN     NaN  \n",
       "579847583      NaN   NaN    NaN   NaN     NaN     NaN  \n",
       "579849574      NaN   NaN    NaN   NaN     NaN     1.0  \n",
       "579857098      NaN   NaN    NaN   NaN     NaN     NaN  \n",
       "\n",
       "[10609 rows x 213 columns]"
      ]
     },
     "execution_count": 21,
     "metadata": {},
     "output_type": "execute_result"
    }
   ],
   "source": [
    "df_matrix"
   ]
  },
  {
   "cell_type": "code",
   "execution_count": 22,
   "metadata": {},
   "outputs": [],
   "source": [
    "df_matrix_norm = (df_matrix-df_matrix.min())/(df_matrix.max()-df_matrix.min())"
   ]
  },
  {
   "cell_type": "code",
   "execution_count": 23,
   "metadata": {},
   "outputs": [],
   "source": [
    "d = df_matrix_norm.reset_index() \n",
    "d.index.names = ['scaled_purchase_freq'] \n",
    "data_norm = pd.melt(d, id_vars=['customerId'], value_name='scaled_purchase_freq').dropna()\n"
   ]
  },
  {
   "cell_type": "code",
   "execution_count": 24,
   "metadata": {},
   "outputs": [
    {
     "name": "stdout",
     "output_type": "stream",
     "text": [
      "(75607, 3)\n"
     ]
    },
    {
     "data": {
      "text/html": [
       "<div>\n",
       "<style scoped>\n",
       "    .dataframe tbody tr th:only-of-type {\n",
       "        vertical-align: middle;\n",
       "    }\n",
       "\n",
       "    .dataframe tbody tr th {\n",
       "        vertical-align: top;\n",
       "    }\n",
       "\n",
       "    .dataframe thead th {\n",
       "        text-align: right;\n",
       "    }\n",
       "</style>\n",
       "<table border=\"1\" class=\"dataframe\">\n",
       "  <thead>\n",
       "    <tr style=\"text-align: right;\">\n",
       "      <th></th>\n",
       "      <th>customerId</th>\n",
       "      <th>productId</th>\n",
       "      <th>scaled_purchase_freq</th>\n",
       "    </tr>\n",
       "  </thead>\n",
       "  <tbody>\n",
       "    <tr>\n",
       "      <th>27</th>\n",
       "      <td>105697630</td>\n",
       "      <td>airnails</td>\n",
       "      <td>0.000000</td>\n",
       "    </tr>\n",
       "    <tr>\n",
       "      <th>36</th>\n",
       "      <td>126051562</td>\n",
       "      <td>airnails</td>\n",
       "      <td>0.021277</td>\n",
       "    </tr>\n",
       "    <tr>\n",
       "      <th>49</th>\n",
       "      <td>149936015</td>\n",
       "      <td>airnails</td>\n",
       "      <td>0.000000</td>\n",
       "    </tr>\n",
       "    <tr>\n",
       "      <th>65</th>\n",
       "      <td>169938179</td>\n",
       "      <td>airnails</td>\n",
       "      <td>0.021277</td>\n",
       "    </tr>\n",
       "    <tr>\n",
       "      <th>67</th>\n",
       "      <td>170386254</td>\n",
       "      <td>airnails</td>\n",
       "      <td>0.063830</td>\n",
       "    </tr>\n",
       "  </tbody>\n",
       "</table>\n",
       "</div>"
      ],
      "text/plain": [
       "    customerId productId  scaled_purchase_freq\n",
       "27   105697630  airnails              0.000000\n",
       "36   126051562  airnails              0.021277\n",
       "49   149936015  airnails              0.000000\n",
       "65   169938179  airnails              0.021277\n",
       "67   170386254  airnails              0.063830"
      ]
     },
     "execution_count": 24,
     "metadata": {},
     "output_type": "execute_result"
    }
   ],
   "source": [
    "print(data_norm.shape)\n",
    "data_norm.head()"
   ]
  },
  {
   "cell_type": "code",
   "execution_count": 25,
   "metadata": {},
   "outputs": [],
   "source": [
    "def split_data(data):\n",
    "    '''\n",
    "    Splits dataset into training and test set.\n",
    "    \n",
    "    Args:\n",
    "        data (pandas.DataFrame)\n",
    "        \n",
    "    Returns\n",
    "        train_data (tc.SFrame)\n",
    "        test_data (tc.SFrame)\n",
    "    '''\n",
    "    train, test = train_test_split(data, test_size = .2)\n",
    "    train_data = tc.SFrame(train)\n",
    "    test_data = tc.SFrame(test)\n",
    "    return train_data, test_data"
   ]
  },
  {
   "cell_type": "code",
   "execution_count": 26,
   "metadata": {},
   "outputs": [],
   "source": [
    "train_data, test_data = split_data(data)\n",
    "train_data_dummy, test_data_dummy = split_data(data_dummy)\n",
    "train_data_norm, test_data_norm = split_data(data_norm)"
   ]
  },
  {
   "cell_type": "code",
   "execution_count": 27,
   "metadata": {},
   "outputs": [],
   "source": [
    "user_id = 'customerId'\n",
    "item_id = 'productId'\n",
    "users_to_recommend = list(filtered_data[user_id])\n",
    "n_rec = 10 # number of items to recommend\n",
    "n_display = 30 # to display the first few rows in an output dataset"
   ]
  },
  {
   "cell_type": "code",
   "execution_count": 30,
   "metadata": {},
   "outputs": [],
   "source": [
    "def model(train_data, name, user_id, item_id, target, users_to_recommend, n_rec, n_display):\n",
    "    if name == 'popularity':\n",
    "        model = tc.popularity_recommender.create(train_data, \n",
    "                                                    user_id=user_id, \n",
    "                                                    item_id=item_id, \n",
    "                                                    target=target)\n",
    "    elif name == 'cosine':\n",
    "        model = tc.item_similarity_recommender.create(train_data, \n",
    "                                                    user_id=user_id, \n",
    "                                                    item_id=item_id, \n",
    "                                                    target=target, \n",
    "                                                    similarity_type='cosine')\n",
    "    elif name == 'pearson':\n",
    "            model = tc.item_similarity_recommender.create(train_data, \n",
    "                                                        user_id=user_id, \n",
    "                                                        item_id=item_id, \n",
    "                                                        target=target, \n",
    "                                                    similarity_type='pearson')\n",
    "    elif name == 'jaccard':\n",
    "        model = tc.item_similarity_recommender.create(train_data, \n",
    "                                                    user_id=user_id, \n",
    "                                                    item_id=item_id, \n",
    "                                                    target=target, \n",
    "                                                    similarity_type='jaccard')\n",
    "\n",
    "    recom = model.recommend(users=users_to_recommend, k=n_rec)\n",
    "    recom.print_rows(n_display)\n",
    "    return model\n"
   ]
  },
  {
   "cell_type": "code",
   "execution_count": 31,
   "metadata": {},
   "outputs": [
    {
     "data": {
      "text/html": [
       "<pre>Preparing data set.</pre>"
      ],
      "text/plain": [
       "Preparing data set."
      ]
     },
     "metadata": {},
     "output_type": "display_data"
    },
    {
     "data": {
      "text/html": [
       "<pre>    Data has 60633 observations with 10609 users and 210 items.</pre>"
      ],
      "text/plain": [
       "    Data has 60633 observations with 10609 users and 210 items."
      ]
     },
     "metadata": {},
     "output_type": "display_data"
    },
    {
     "data": {
      "text/html": [
       "<pre>    Data prepared in: 0.120788s</pre>"
      ],
      "text/plain": [
       "    Data prepared in: 0.120788s"
      ]
     },
     "metadata": {},
     "output_type": "display_data"
    },
    {
     "data": {
      "text/html": [
       "<pre>60633 observations to process; with 210 unique items.</pre>"
      ],
      "text/plain": [
       "60633 observations to process; with 210 unique items."
      ]
     },
     "metadata": {},
     "output_type": "display_data"
    },
    {
     "data": {
      "text/html": [
       "<pre>recommendations finished on 1000/75792 queries. users per second: 48412.1</pre>"
      ],
      "text/plain": [
       "recommendations finished on 1000/75792 queries. users per second: 48412.1"
      ]
     },
     "metadata": {},
     "output_type": "display_data"
    },
    {
     "data": {
      "text/html": [
       "<pre>recommendations finished on 2000/75792 queries. users per second: 84463</pre>"
      ],
      "text/plain": [
       "recommendations finished on 2000/75792 queries. users per second: 84463"
      ]
     },
     "metadata": {},
     "output_type": "display_data"
    },
    {
     "data": {
      "text/html": [
       "<pre>recommendations finished on 3000/75792 queries. users per second: 110452</pre>"
      ],
      "text/plain": [
       "recommendations finished on 3000/75792 queries. users per second: 110452"
      ]
     },
     "metadata": {},
     "output_type": "display_data"
    },
    {
     "data": {
      "text/html": [
       "<pre>recommendations finished on 4000/75792 queries. users per second: 76477.4</pre>"
      ],
      "text/plain": [
       "recommendations finished on 4000/75792 queries. users per second: 76477.4"
      ]
     },
     "metadata": {},
     "output_type": "display_data"
    },
    {
     "data": {
      "text/html": [
       "<pre>recommendations finished on 5000/75792 queries. users per second: 91519.8</pre>"
      ],
      "text/plain": [
       "recommendations finished on 5000/75792 queries. users per second: 91519.8"
      ]
     },
     "metadata": {},
     "output_type": "display_data"
    },
    {
     "data": {
      "text/html": [
       "<pre>recommendations finished on 6000/75792 queries. users per second: 104065</pre>"
      ],
      "text/plain": [
       "recommendations finished on 6000/75792 queries. users per second: 104065"
      ]
     },
     "metadata": {},
     "output_type": "display_data"
    },
    {
     "data": {
      "text/html": [
       "<pre>recommendations finished on 7000/75792 queries. users per second: 115810</pre>"
      ],
      "text/plain": [
       "recommendations finished on 7000/75792 queries. users per second: 115810"
      ]
     },
     "metadata": {},
     "output_type": "display_data"
    },
    {
     "data": {
      "text/html": [
       "<pre>recommendations finished on 8000/75792 queries. users per second: 122756</pre>"
      ],
      "text/plain": [
       "recommendations finished on 8000/75792 queries. users per second: 122756"
      ]
     },
     "metadata": {},
     "output_type": "display_data"
    },
    {
     "data": {
      "text/html": [
       "<pre>recommendations finished on 9000/75792 queries. users per second: 131922</pre>"
      ],
      "text/plain": [
       "recommendations finished on 9000/75792 queries. users per second: 131922"
      ]
     },
     "metadata": {},
     "output_type": "display_data"
    },
    {
     "data": {
      "text/html": [
       "<pre>recommendations finished on 10000/75792 queries. users per second: 141397</pre>"
      ],
      "text/plain": [
       "recommendations finished on 10000/75792 queries. users per second: 141397"
      ]
     },
     "metadata": {},
     "output_type": "display_data"
    },
    {
     "data": {
      "text/html": [
       "<pre>recommendations finished on 11000/75792 queries. users per second: 136580</pre>"
      ],
      "text/plain": [
       "recommendations finished on 11000/75792 queries. users per second: 136580"
      ]
     },
     "metadata": {},
     "output_type": "display_data"
    },
    {
     "data": {
      "text/html": [
       "<pre>recommendations finished on 12000/75792 queries. users per second: 144208</pre>"
      ],
      "text/plain": [
       "recommendations finished on 12000/75792 queries. users per second: 144208"
      ]
     },
     "metadata": {},
     "output_type": "display_data"
    },
    {
     "data": {
      "text/html": [
       "<pre>recommendations finished on 13000/75792 queries. users per second: 151586</pre>"
      ],
      "text/plain": [
       "recommendations finished on 13000/75792 queries. users per second: 151586"
      ]
     },
     "metadata": {},
     "output_type": "display_data"
    },
    {
     "data": {
      "text/html": [
       "<pre>recommendations finished on 14000/75792 queries. users per second: 157713</pre>"
      ],
      "text/plain": [
       "recommendations finished on 14000/75792 queries. users per second: 157713"
      ]
     },
     "metadata": {},
     "output_type": "display_data"
    },
    {
     "data": {
      "text/html": [
       "<pre>recommendations finished on 15000/75792 queries. users per second: 164540</pre>"
      ],
      "text/plain": [
       "recommendations finished on 15000/75792 queries. users per second: 164540"
      ]
     },
     "metadata": {},
     "output_type": "display_data"
    },
    {
     "data": {
      "text/html": [
       "<pre>recommendations finished on 16000/75792 queries. users per second: 167214</pre>"
      ],
      "text/plain": [
       "recommendations finished on 16000/75792 queries. users per second: 167214"
      ]
     },
     "metadata": {},
     "output_type": "display_data"
    },
    {
     "data": {
      "text/html": [
       "<pre>recommendations finished on 17000/75792 queries. users per second: 172501</pre>"
      ],
      "text/plain": [
       "recommendations finished on 17000/75792 queries. users per second: 172501"
      ]
     },
     "metadata": {},
     "output_type": "display_data"
    },
    {
     "data": {
      "text/html": [
       "<pre>recommendations finished on 18000/75792 queries. users per second: 176835</pre>"
      ],
      "text/plain": [
       "recommendations finished on 18000/75792 queries. users per second: 176835"
      ]
     },
     "metadata": {},
     "output_type": "display_data"
    },
    {
     "data": {
      "text/html": [
       "<pre>recommendations finished on 19000/75792 queries. users per second: 182696</pre>"
      ],
      "text/plain": [
       "recommendations finished on 19000/75792 queries. users per second: 182696"
      ]
     },
     "metadata": {},
     "output_type": "display_data"
    },
    {
     "data": {
      "text/html": [
       "<pre>recommendations finished on 20000/75792 queries. users per second: 188319</pre>"
      ],
      "text/plain": [
       "recommendations finished on 20000/75792 queries. users per second: 188319"
      ]
     },
     "metadata": {},
     "output_type": "display_data"
    },
    {
     "data": {
      "text/html": [
       "<pre>recommendations finished on 21000/75792 queries. users per second: 191243</pre>"
      ],
      "text/plain": [
       "recommendations finished on 21000/75792 queries. users per second: 191243"
      ]
     },
     "metadata": {},
     "output_type": "display_data"
    },
    {
     "data": {
      "text/html": [
       "<pre>recommendations finished on 22000/75792 queries. users per second: 193332</pre>"
      ],
      "text/plain": [
       "recommendations finished on 22000/75792 queries. users per second: 193332"
      ]
     },
     "metadata": {},
     "output_type": "display_data"
    },
    {
     "data": {
      "text/html": [
       "<pre>recommendations finished on 23000/75792 queries. users per second: 197134</pre>"
      ],
      "text/plain": [
       "recommendations finished on 23000/75792 queries. users per second: 197134"
      ]
     },
     "metadata": {},
     "output_type": "display_data"
    },
    {
     "data": {
      "text/html": [
       "<pre>recommendations finished on 24000/75792 queries. users per second: 200433</pre>"
      ],
      "text/plain": [
       "recommendations finished on 24000/75792 queries. users per second: 200433"
      ]
     },
     "metadata": {},
     "output_type": "display_data"
    },
    {
     "data": {
      "text/html": [
       "<pre>recommendations finished on 25000/75792 queries. users per second: 205194</pre>"
      ],
      "text/plain": [
       "recommendations finished on 25000/75792 queries. users per second: 205194"
      ]
     },
     "metadata": {},
     "output_type": "display_data"
    },
    {
     "data": {
      "text/html": [
       "<pre>recommendations finished on 26000/75792 queries. users per second: 209556</pre>"
      ],
      "text/plain": [
       "recommendations finished on 26000/75792 queries. users per second: 209556"
      ]
     },
     "metadata": {},
     "output_type": "display_data"
    },
    {
     "data": {
      "text/html": [
       "<pre>recommendations finished on 27000/75792 queries. users per second: 213221</pre>"
      ],
      "text/plain": [
       "recommendations finished on 27000/75792 queries. users per second: 213221"
      ]
     },
     "metadata": {},
     "output_type": "display_data"
    },
    {
     "data": {
      "text/html": [
       "<pre>recommendations finished on 28000/75792 queries. users per second: 214033</pre>"
      ],
      "text/plain": [
       "recommendations finished on 28000/75792 queries. users per second: 214033"
      ]
     },
     "metadata": {},
     "output_type": "display_data"
    },
    {
     "data": {
      "text/html": [
       "<pre>recommendations finished on 29000/75792 queries. users per second: 214488</pre>"
      ],
      "text/plain": [
       "recommendations finished on 29000/75792 queries. users per second: 214488"
      ]
     },
     "metadata": {},
     "output_type": "display_data"
    },
    {
     "data": {
      "text/html": [
       "<pre>recommendations finished on 30000/75792 queries. users per second: 216685</pre>"
      ],
      "text/plain": [
       "recommendations finished on 30000/75792 queries. users per second: 216685"
      ]
     },
     "metadata": {},
     "output_type": "display_data"
    },
    {
     "data": {
      "text/html": [
       "<pre>recommendations finished on 31000/75792 queries. users per second: 218361</pre>"
      ],
      "text/plain": [
       "recommendations finished on 31000/75792 queries. users per second: 218361"
      ]
     },
     "metadata": {},
     "output_type": "display_data"
    },
    {
     "data": {
      "text/html": [
       "<pre>recommendations finished on 32000/75792 queries. users per second: 220157</pre>"
      ],
      "text/plain": [
       "recommendations finished on 32000/75792 queries. users per second: 220157"
      ]
     },
     "metadata": {},
     "output_type": "display_data"
    },
    {
     "name": "stdout",
     "output_type": "stream",
     "text": [
      "+------------+-----------+--------------------+------+\n",
      "| customerId | productId |       score        | rank |\n",
      "+------------+-----------+--------------------+------+\n",
      "| 105697630  | bpw.style | 3.8805925030229744 |  1   |\n",
      "| 105697630  |   keune   |        3.5         |  2   |\n",
      "| 105697630  |  airnails |       3.485        |  3   |\n",
      "| 105697630  |   runail  | 3.4467480354455775 |  4   |\n",
      "| 105697630  |  kinetics | 3.0516129032258066 |  5   |\n",
      "| 105697630  | freedecor | 2.9850402761795167 |  6   |\n",
      "| 105697630  |  grattol  | 2.8441116405718176 |  7   |\n",
      "| 105697630  |   thuya   |        2.8         |  8   |\n",
      "| 105697630  |   dermal  | 2.742857142857143  |  9   |\n",
      "| 105697630  | levissime | 2.7222222222222223 |  10  |\n",
      "| 126051562  | bpw.style | 3.8805925030229744 |  1   |\n",
      "| 126051562  |   masura  | 3.667487684729064  |  2   |\n",
      "| 126051562  |   keune   |        3.5         |  3   |\n",
      "| 126051562  |  airnails |       3.485        |  4   |\n",
      "| 126051562  |  kinetics | 3.0516129032258066 |  5   |\n",
      "| 126051562  | freedecor | 2.9850402761795167 |  6   |\n",
      "| 126051562  |   thuya   |        2.8         |  7   |\n",
      "| 126051562  |   dermal  | 2.742857142857143  |  8   |\n",
      "| 126051562  | levissime | 2.7222222222222223 |  9   |\n",
      "| 126051562  | swarovski |       2.7025       |  10  |\n",
      "| 149936015  | bpw.style | 3.8805925030229744 |  1   |\n",
      "| 149936015  |   masura  | 3.667487684729064  |  2   |\n",
      "| 149936015  |   keune   |        3.5         |  3   |\n",
      "| 149936015  |   runail  | 3.4467480354455775 |  4   |\n",
      "| 149936015  |  kinetics | 3.0516129032258066 |  5   |\n",
      "| 149936015  | freedecor | 2.9850402761795167 |  6   |\n",
      "| 149936015  |   thuya   |        2.8         |  7   |\n",
      "| 149936015  |   dermal  | 2.742857142857143  |  8   |\n",
      "| 149936015  | levissime | 2.7222222222222223 |  9   |\n",
      "| 149936015  | swarovski |       2.7025       |  10  |\n",
      "+------------+-----------+--------------------+------+\n",
      "[757920 rows x 4 columns]\n",
      "\n"
     ]
    },
    {
     "data": {
      "text/html": [
       "<pre>recommendations finished on 33000/75792 queries. users per second: 222140</pre>"
      ],
      "text/plain": [
       "recommendations finished on 33000/75792 queries. users per second: 222140"
      ]
     },
     "metadata": {},
     "output_type": "display_data"
    },
    {
     "data": {
      "text/html": [
       "<pre>recommendations finished on 34000/75792 queries. users per second: 222430</pre>"
      ],
      "text/plain": [
       "recommendations finished on 34000/75792 queries. users per second: 222430"
      ]
     },
     "metadata": {},
     "output_type": "display_data"
    },
    {
     "data": {
      "text/html": [
       "<pre>recommendations finished on 35000/75792 queries. users per second: 225066</pre>"
      ],
      "text/plain": [
       "recommendations finished on 35000/75792 queries. users per second: 225066"
      ]
     },
     "metadata": {},
     "output_type": "display_data"
    },
    {
     "data": {
      "text/html": [
       "<pre>recommendations finished on 36000/75792 queries. users per second: 226917</pre>"
      ],
      "text/plain": [
       "recommendations finished on 36000/75792 queries. users per second: 226917"
      ]
     },
     "metadata": {},
     "output_type": "display_data"
    },
    {
     "data": {
      "text/html": [
       "<pre>recommendations finished on 37000/75792 queries. users per second: 227647</pre>"
      ],
      "text/plain": [
       "recommendations finished on 37000/75792 queries. users per second: 227647"
      ]
     },
     "metadata": {},
     "output_type": "display_data"
    },
    {
     "data": {
      "text/html": [
       "<pre>recommendations finished on 38000/75792 queries. users per second: 230274</pre>"
      ],
      "text/plain": [
       "recommendations finished on 38000/75792 queries. users per second: 230274"
      ]
     },
     "metadata": {},
     "output_type": "display_data"
    },
    {
     "data": {
      "text/html": [
       "<pre>recommendations finished on 39000/75792 queries. users per second: 231635</pre>"
      ],
      "text/plain": [
       "recommendations finished on 39000/75792 queries. users per second: 231635"
      ]
     },
     "metadata": {},
     "output_type": "display_data"
    },
    {
     "data": {
      "text/html": [
       "<pre>recommendations finished on 40000/75792 queries. users per second: 232792</pre>"
      ],
      "text/plain": [
       "recommendations finished on 40000/75792 queries. users per second: 232792"
      ]
     },
     "metadata": {},
     "output_type": "display_data"
    },
    {
     "data": {
      "text/html": [
       "<pre>recommendations finished on 41000/75792 queries. users per second: 234900</pre>"
      ],
      "text/plain": [
       "recommendations finished on 41000/75792 queries. users per second: 234900"
      ]
     },
     "metadata": {},
     "output_type": "display_data"
    },
    {
     "data": {
      "text/html": [
       "<pre>recommendations finished on 42000/75792 queries. users per second: 236911</pre>"
      ],
      "text/plain": [
       "recommendations finished on 42000/75792 queries. users per second: 236911"
      ]
     },
     "metadata": {},
     "output_type": "display_data"
    },
    {
     "data": {
      "text/html": [
       "<pre>recommendations finished on 43000/75792 queries. users per second: 239334</pre>"
      ],
      "text/plain": [
       "recommendations finished on 43000/75792 queries. users per second: 239334"
      ]
     },
     "metadata": {},
     "output_type": "display_data"
    },
    {
     "data": {
      "text/html": [
       "<pre>recommendations finished on 44000/75792 queries. users per second: 241452</pre>"
      ],
      "text/plain": [
       "recommendations finished on 44000/75792 queries. users per second: 241452"
      ]
     },
     "metadata": {},
     "output_type": "display_data"
    },
    {
     "data": {
      "text/html": [
       "<pre>recommendations finished on 45000/75792 queries. users per second: 243596</pre>"
      ],
      "text/plain": [
       "recommendations finished on 45000/75792 queries. users per second: 243596"
      ]
     },
     "metadata": {},
     "output_type": "display_data"
    },
    {
     "data": {
      "text/html": [
       "<pre>recommendations finished on 46000/75792 queries. users per second: 245493</pre>"
      ],
      "text/plain": [
       "recommendations finished on 46000/75792 queries. users per second: 245493"
      ]
     },
     "metadata": {},
     "output_type": "display_data"
    },
    {
     "data": {
      "text/html": [
       "<pre>recommendations finished on 47000/75792 queries. users per second: 247995</pre>"
      ],
      "text/plain": [
       "recommendations finished on 47000/75792 queries. users per second: 247995"
      ]
     },
     "metadata": {},
     "output_type": "display_data"
    },
    {
     "data": {
      "text/html": [
       "<pre>recommendations finished on 48000/75792 queries. users per second: 249465</pre>"
      ],
      "text/plain": [
       "recommendations finished on 48000/75792 queries. users per second: 249465"
      ]
     },
     "metadata": {},
     "output_type": "display_data"
    },
    {
     "data": {
      "text/html": [
       "<pre>recommendations finished on 49000/75792 queries. users per second: 251795</pre>"
      ],
      "text/plain": [
       "recommendations finished on 49000/75792 queries. users per second: 251795"
      ]
     },
     "metadata": {},
     "output_type": "display_data"
    },
    {
     "data": {
      "text/html": [
       "<pre>recommendations finished on 50000/75792 queries. users per second: 252956</pre>"
      ],
      "text/plain": [
       "recommendations finished on 50000/75792 queries. users per second: 252956"
      ]
     },
     "metadata": {},
     "output_type": "display_data"
    },
    {
     "data": {
      "text/html": [
       "<pre>recommendations finished on 51000/75792 queries. users per second: 232265</pre>"
      ],
      "text/plain": [
       "recommendations finished on 51000/75792 queries. users per second: 232265"
      ]
     },
     "metadata": {},
     "output_type": "display_data"
    },
    {
     "data": {
      "text/html": [
       "<pre>recommendations finished on 52000/75792 queries. users per second: 234211</pre>"
      ],
      "text/plain": [
       "recommendations finished on 52000/75792 queries. users per second: 234211"
      ]
     },
     "metadata": {},
     "output_type": "display_data"
    },
    {
     "data": {
      "text/html": [
       "<pre>recommendations finished on 53000/75792 queries. users per second: 235411</pre>"
      ],
      "text/plain": [
       "recommendations finished on 53000/75792 queries. users per second: 235411"
      ]
     },
     "metadata": {},
     "output_type": "display_data"
    },
    {
     "data": {
      "text/html": [
       "<pre>recommendations finished on 54000/75792 queries. users per second: 235375</pre>"
      ],
      "text/plain": [
       "recommendations finished on 54000/75792 queries. users per second: 235375"
      ]
     },
     "metadata": {},
     "output_type": "display_data"
    },
    {
     "data": {
      "text/html": [
       "<pre>recommendations finished on 55000/75792 queries. users per second: 229073</pre>"
      ],
      "text/plain": [
       "recommendations finished on 55000/75792 queries. users per second: 229073"
      ]
     },
     "metadata": {},
     "output_type": "display_data"
    },
    {
     "data": {
      "text/html": [
       "<pre>recommendations finished on 56000/75792 queries. users per second: 229354</pre>"
      ],
      "text/plain": [
       "recommendations finished on 56000/75792 queries. users per second: 229354"
      ]
     },
     "metadata": {},
     "output_type": "display_data"
    },
    {
     "data": {
      "text/html": [
       "<pre>recommendations finished on 57000/75792 queries. users per second: 220385</pre>"
      ],
      "text/plain": [
       "recommendations finished on 57000/75792 queries. users per second: 220385"
      ]
     },
     "metadata": {},
     "output_type": "display_data"
    },
    {
     "data": {
      "text/html": [
       "<pre>recommendations finished on 58000/75792 queries. users per second: 219846</pre>"
      ],
      "text/plain": [
       "recommendations finished on 58000/75792 queries. users per second: 219846"
      ]
     },
     "metadata": {},
     "output_type": "display_data"
    },
    {
     "data": {
      "text/html": [
       "<pre>recommendations finished on 59000/75792 queries. users per second: 219855</pre>"
      ],
      "text/plain": [
       "recommendations finished on 59000/75792 queries. users per second: 219855"
      ]
     },
     "metadata": {},
     "output_type": "display_data"
    },
    {
     "data": {
      "text/html": [
       "<pre>recommendations finished on 60000/75792 queries. users per second: 220955</pre>"
      ],
      "text/plain": [
       "recommendations finished on 60000/75792 queries. users per second: 220955"
      ]
     },
     "metadata": {},
     "output_type": "display_data"
    },
    {
     "data": {
      "text/html": [
       "<pre>recommendations finished on 61000/75792 queries. users per second: 221069</pre>"
      ],
      "text/plain": [
       "recommendations finished on 61000/75792 queries. users per second: 221069"
      ]
     },
     "metadata": {},
     "output_type": "display_data"
    },
    {
     "data": {
      "text/html": [
       "<pre>recommendations finished on 62000/75792 queries. users per second: 207711</pre>"
      ],
      "text/plain": [
       "recommendations finished on 62000/75792 queries. users per second: 207711"
      ]
     },
     "metadata": {},
     "output_type": "display_data"
    },
    {
     "data": {
      "text/html": [
       "<pre>recommendations finished on 63000/75792 queries. users per second: 208289</pre>"
      ],
      "text/plain": [
       "recommendations finished on 63000/75792 queries. users per second: 208289"
      ]
     },
     "metadata": {},
     "output_type": "display_data"
    },
    {
     "data": {
      "text/html": [
       "<pre>recommendations finished on 64000/75792 queries. users per second: 209468</pre>"
      ],
      "text/plain": [
       "recommendations finished on 64000/75792 queries. users per second: 209468"
      ]
     },
     "metadata": {},
     "output_type": "display_data"
    },
    {
     "data": {
      "text/html": [
       "<pre>recommendations finished on 65000/75792 queries. users per second: 210556</pre>"
      ],
      "text/plain": [
       "recommendations finished on 65000/75792 queries. users per second: 210556"
      ]
     },
     "metadata": {},
     "output_type": "display_data"
    },
    {
     "data": {
      "text/html": [
       "<pre>recommendations finished on 66000/75792 queries. users per second: 211546</pre>"
      ],
      "text/plain": [
       "recommendations finished on 66000/75792 queries. users per second: 211546"
      ]
     },
     "metadata": {},
     "output_type": "display_data"
    },
    {
     "data": {
      "text/html": [
       "<pre>recommendations finished on 67000/75792 queries. users per second: 212590</pre>"
      ],
      "text/plain": [
       "recommendations finished on 67000/75792 queries. users per second: 212590"
      ]
     },
     "metadata": {},
     "output_type": "display_data"
    },
    {
     "data": {
      "text/html": [
       "<pre>recommendations finished on 68000/75792 queries. users per second: 212323</pre>"
      ],
      "text/plain": [
       "recommendations finished on 68000/75792 queries. users per second: 212323"
      ]
     },
     "metadata": {},
     "output_type": "display_data"
    },
    {
     "data": {
      "text/html": [
       "<pre>recommendations finished on 69000/75792 queries. users per second: 213592</pre>"
      ],
      "text/plain": [
       "recommendations finished on 69000/75792 queries. users per second: 213592"
      ]
     },
     "metadata": {},
     "output_type": "display_data"
    },
    {
     "data": {
      "text/html": [
       "<pre>recommendations finished on 70000/75792 queries. users per second: 214048</pre>"
      ],
      "text/plain": [
       "recommendations finished on 70000/75792 queries. users per second: 214048"
      ]
     },
     "metadata": {},
     "output_type": "display_data"
    },
    {
     "data": {
      "text/html": [
       "<pre>recommendations finished on 71000/75792 queries. users per second: 215045</pre>"
      ],
      "text/plain": [
       "recommendations finished on 71000/75792 queries. users per second: 215045"
      ]
     },
     "metadata": {},
     "output_type": "display_data"
    },
    {
     "data": {
      "text/html": [
       "<pre>recommendations finished on 72000/75792 queries. users per second: 216381</pre>"
      ],
      "text/plain": [
       "recommendations finished on 72000/75792 queries. users per second: 216381"
      ]
     },
     "metadata": {},
     "output_type": "display_data"
    },
    {
     "data": {
      "text/html": [
       "<pre>recommendations finished on 73000/75792 queries. users per second: 217036</pre>"
      ],
      "text/plain": [
       "recommendations finished on 73000/75792 queries. users per second: 217036"
      ]
     },
     "metadata": {},
     "output_type": "display_data"
    },
    {
     "data": {
      "text/html": [
       "<pre>recommendations finished on 74000/75792 queries. users per second: 217140</pre>"
      ],
      "text/plain": [
       "recommendations finished on 74000/75792 queries. users per second: 217140"
      ]
     },
     "metadata": {},
     "output_type": "display_data"
    },
    {
     "data": {
      "text/html": [
       "<pre>recommendations finished on 75000/75792 queries. users per second: 217293</pre>"
      ],
      "text/plain": [
       "recommendations finished on 75000/75792 queries. users per second: 217293"
      ]
     },
     "metadata": {},
     "output_type": "display_data"
    }
   ],
   "source": [
    "name = 'popularity'\n",
    "target = 'purchase_count'\n",
    "popularity = model(train_data, name, user_id, item_id, target, users_to_recommend, n_rec, n_display)"
   ]
  },
  {
   "cell_type": "code",
   "execution_count": 32,
   "metadata": {},
   "outputs": [
    {
     "data": {
      "text/html": [
       "<pre>Warning: Ignoring columns purchase_count;</pre>"
      ],
      "text/plain": [
       "Warning: Ignoring columns purchase_count;"
      ]
     },
     "metadata": {},
     "output_type": "display_data"
    },
    {
     "data": {
      "text/html": [
       "<pre>    To use these columns in scoring predictions, use a model that allows the use of additional features.</pre>"
      ],
      "text/plain": [
       "    To use these columns in scoring predictions, use a model that allows the use of additional features."
      ]
     },
     "metadata": {},
     "output_type": "display_data"
    },
    {
     "data": {
      "text/html": [
       "<pre>Preparing data set.</pre>"
      ],
      "text/plain": [
       "Preparing data set."
      ]
     },
     "metadata": {},
     "output_type": "display_data"
    },
    {
     "data": {
      "text/html": [
       "<pre>    Data has 60633 observations with 10608 users and 212 items.</pre>"
      ],
      "text/plain": [
       "    Data has 60633 observations with 10608 users and 212 items."
      ]
     },
     "metadata": {},
     "output_type": "display_data"
    },
    {
     "data": {
      "text/html": [
       "<pre>    Data prepared in: 0.109495s</pre>"
      ],
      "text/plain": [
       "    Data prepared in: 0.109495s"
      ]
     },
     "metadata": {},
     "output_type": "display_data"
    },
    {
     "data": {
      "text/html": [
       "<pre>60633 observations to process; with 212 unique items.</pre>"
      ],
      "text/plain": [
       "60633 observations to process; with 212 unique items."
      ]
     },
     "metadata": {},
     "output_type": "display_data"
    },
    {
     "data": {
      "text/html": [
       "<pre>recommendations finished on 1000/75792 queries. users per second: 43813.5</pre>"
      ],
      "text/plain": [
       "recommendations finished on 1000/75792 queries. users per second: 43813.5"
      ]
     },
     "metadata": {},
     "output_type": "display_data"
    },
    {
     "data": {
      "text/html": [
       "<pre>recommendations finished on 2000/75792 queries. users per second: 80208.5</pre>"
      ],
      "text/plain": [
       "recommendations finished on 2000/75792 queries. users per second: 80208.5"
      ]
     },
     "metadata": {},
     "output_type": "display_data"
    },
    {
     "data": {
      "text/html": [
       "<pre>recommendations finished on 3000/75792 queries. users per second: 110583</pre>"
      ],
      "text/plain": [
       "recommendations finished on 3000/75792 queries. users per second: 110583"
      ]
     },
     "metadata": {},
     "output_type": "display_data"
    },
    {
     "data": {
      "text/html": [
       "<pre>recommendations finished on 4000/75792 queries. users per second: 128209</pre>"
      ],
      "text/plain": [
       "recommendations finished on 4000/75792 queries. users per second: 128209"
      ]
     },
     "metadata": {},
     "output_type": "display_data"
    },
    {
     "data": {
      "text/html": [
       "<pre>recommendations finished on 5000/75792 queries. users per second: 146830</pre>"
      ],
      "text/plain": [
       "recommendations finished on 5000/75792 queries. users per second: 146830"
      ]
     },
     "metadata": {},
     "output_type": "display_data"
    },
    {
     "data": {
      "text/html": [
       "<pre>recommendations finished on 6000/75792 queries. users per second: 165622</pre>"
      ],
      "text/plain": [
       "recommendations finished on 6000/75792 queries. users per second: 165622"
      ]
     },
     "metadata": {},
     "output_type": "display_data"
    },
    {
     "data": {
      "text/html": [
       "<pre>recommendations finished on 7000/75792 queries. users per second: 180278</pre>"
      ],
      "text/plain": [
       "recommendations finished on 7000/75792 queries. users per second: 180278"
      ]
     },
     "metadata": {},
     "output_type": "display_data"
    },
    {
     "data": {
      "text/html": [
       "<pre>recommendations finished on 8000/75792 queries. users per second: 194747</pre>"
      ],
      "text/plain": [
       "recommendations finished on 8000/75792 queries. users per second: 194747"
      ]
     },
     "metadata": {},
     "output_type": "display_data"
    },
    {
     "data": {
      "text/html": [
       "<pre>recommendations finished on 9000/75792 queries. users per second: 207895</pre>"
      ],
      "text/plain": [
       "recommendations finished on 9000/75792 queries. users per second: 207895"
      ]
     },
     "metadata": {},
     "output_type": "display_data"
    },
    {
     "data": {
      "text/html": [
       "<pre>recommendations finished on 10000/75792 queries. users per second: 217075</pre>"
      ],
      "text/plain": [
       "recommendations finished on 10000/75792 queries. users per second: 217075"
      ]
     },
     "metadata": {},
     "output_type": "display_data"
    },
    {
     "data": {
      "text/html": [
       "<pre>recommendations finished on 11000/75792 queries. users per second: 229224</pre>"
      ],
      "text/plain": [
       "recommendations finished on 11000/75792 queries. users per second: 229224"
      ]
     },
     "metadata": {},
     "output_type": "display_data"
    },
    {
     "data": {
      "text/html": [
       "<pre>recommendations finished on 12000/75792 queries. users per second: 240202</pre>"
      ],
      "text/plain": [
       "recommendations finished on 12000/75792 queries. users per second: 240202"
      ]
     },
     "metadata": {},
     "output_type": "display_data"
    },
    {
     "data": {
      "text/html": [
       "<pre>recommendations finished on 13000/75792 queries. users per second: 247865</pre>"
      ],
      "text/plain": [
       "recommendations finished on 13000/75792 queries. users per second: 247865"
      ]
     },
     "metadata": {},
     "output_type": "display_data"
    },
    {
     "data": {
      "text/html": [
       "<pre>recommendations finished on 14000/75792 queries. users per second: 246054</pre>"
      ],
      "text/plain": [
       "recommendations finished on 14000/75792 queries. users per second: 246054"
      ]
     },
     "metadata": {},
     "output_type": "display_data"
    },
    {
     "data": {
      "text/html": [
       "<pre>recommendations finished on 15000/75792 queries. users per second: 243966</pre>"
      ],
      "text/plain": [
       "recommendations finished on 15000/75792 queries. users per second: 243966"
      ]
     },
     "metadata": {},
     "output_type": "display_data"
    },
    {
     "data": {
      "text/html": [
       "<pre>recommendations finished on 16000/75792 queries. users per second: 249668</pre>"
      ],
      "text/plain": [
       "recommendations finished on 16000/75792 queries. users per second: 249668"
      ]
     },
     "metadata": {},
     "output_type": "display_data"
    },
    {
     "data": {
      "text/html": [
       "<pre>recommendations finished on 17000/75792 queries. users per second: 231469</pre>"
      ],
      "text/plain": [
       "recommendations finished on 17000/75792 queries. users per second: 231469"
      ]
     },
     "metadata": {},
     "output_type": "display_data"
    },
    {
     "data": {
      "text/html": [
       "<pre>recommendations finished on 18000/75792 queries. users per second: 235368</pre>"
      ],
      "text/plain": [
       "recommendations finished on 18000/75792 queries. users per second: 235368"
      ]
     },
     "metadata": {},
     "output_type": "display_data"
    },
    {
     "data": {
      "text/html": [
       "<pre>recommendations finished on 19000/75792 queries. users per second: 238526</pre>"
      ],
      "text/plain": [
       "recommendations finished on 19000/75792 queries. users per second: 238526"
      ]
     },
     "metadata": {},
     "output_type": "display_data"
    },
    {
     "data": {
      "text/html": [
       "<pre>recommendations finished on 20000/75792 queries. users per second: 242542</pre>"
      ],
      "text/plain": [
       "recommendations finished on 20000/75792 queries. users per second: 242542"
      ]
     },
     "metadata": {},
     "output_type": "display_data"
    },
    {
     "data": {
      "text/html": [
       "<pre>recommendations finished on 21000/75792 queries. users per second: 243866</pre>"
      ],
      "text/plain": [
       "recommendations finished on 21000/75792 queries. users per second: 243866"
      ]
     },
     "metadata": {},
     "output_type": "display_data"
    },
    {
     "data": {
      "text/html": [
       "<pre>recommendations finished on 22000/75792 queries. users per second: 247291</pre>"
      ],
      "text/plain": [
       "recommendations finished on 22000/75792 queries. users per second: 247291"
      ]
     },
     "metadata": {},
     "output_type": "display_data"
    },
    {
     "data": {
      "text/html": [
       "<pre>recommendations finished on 23000/75792 queries. users per second: 249282</pre>"
      ],
      "text/plain": [
       "recommendations finished on 23000/75792 queries. users per second: 249282"
      ]
     },
     "metadata": {},
     "output_type": "display_data"
    },
    {
     "data": {
      "text/html": [
       "<pre>recommendations finished on 24000/75792 queries. users per second: 252935</pre>"
      ],
      "text/plain": [
       "recommendations finished on 24000/75792 queries. users per second: 252935"
      ]
     },
     "metadata": {},
     "output_type": "display_data"
    },
    {
     "data": {
      "text/html": [
       "<pre>recommendations finished on 25000/75792 queries. users per second: 249868</pre>"
      ],
      "text/plain": [
       "recommendations finished on 25000/75792 queries. users per second: 249868"
      ]
     },
     "metadata": {},
     "output_type": "display_data"
    },
    {
     "data": {
      "text/html": [
       "<pre>recommendations finished on 26000/75792 queries. users per second: 252727</pre>"
      ],
      "text/plain": [
       "recommendations finished on 26000/75792 queries. users per second: 252727"
      ]
     },
     "metadata": {},
     "output_type": "display_data"
    },
    {
     "data": {
      "text/html": [
       "<pre>recommendations finished on 27000/75792 queries. users per second: 254544</pre>"
      ],
      "text/plain": [
       "recommendations finished on 27000/75792 queries. users per second: 254544"
      ]
     },
     "metadata": {},
     "output_type": "display_data"
    },
    {
     "data": {
      "text/html": [
       "<pre>recommendations finished on 28000/75792 queries. users per second: 254587</pre>"
      ],
      "text/plain": [
       "recommendations finished on 28000/75792 queries. users per second: 254587"
      ]
     },
     "metadata": {},
     "output_type": "display_data"
    },
    {
     "data": {
      "text/html": [
       "<pre>recommendations finished on 29000/75792 queries. users per second: 256014</pre>"
      ],
      "text/plain": [
       "recommendations finished on 29000/75792 queries. users per second: 256014"
      ]
     },
     "metadata": {},
     "output_type": "display_data"
    },
    {
     "data": {
      "text/html": [
       "<pre>recommendations finished on 30000/75792 queries. users per second: 260494</pre>"
      ],
      "text/plain": [
       "recommendations finished on 30000/75792 queries. users per second: 260494"
      ]
     },
     "metadata": {},
     "output_type": "display_data"
    },
    {
     "data": {
      "text/html": [
       "<pre>recommendations finished on 31000/75792 queries. users per second: 258683</pre>"
      ],
      "text/plain": [
       "recommendations finished on 31000/75792 queries. users per second: 258683"
      ]
     },
     "metadata": {},
     "output_type": "display_data"
    },
    {
     "data": {
      "text/html": [
       "<pre>recommendations finished on 32000/75792 queries. users per second: 258179</pre>"
      ],
      "text/plain": [
       "recommendations finished on 32000/75792 queries. users per second: 258179"
      ]
     },
     "metadata": {},
     "output_type": "display_data"
    },
    {
     "data": {
      "text/html": [
       "<pre>recommendations finished on 33000/75792 queries. users per second: 256273</pre>"
      ],
      "text/plain": [
       "recommendations finished on 33000/75792 queries. users per second: 256273"
      ]
     },
     "metadata": {},
     "output_type": "display_data"
    },
    {
     "data": {
      "text/html": [
       "<pre>recommendations finished on 34000/75792 queries. users per second: 257568</pre>"
      ],
      "text/plain": [
       "recommendations finished on 34000/75792 queries. users per second: 257568"
      ]
     },
     "metadata": {},
     "output_type": "display_data"
    },
    {
     "data": {
      "text/html": [
       "<pre>recommendations finished on 35000/75792 queries. users per second: 260256</pre>"
      ],
      "text/plain": [
       "recommendations finished on 35000/75792 queries. users per second: 260256"
      ]
     },
     "metadata": {},
     "output_type": "display_data"
    },
    {
     "name": "stdout",
     "output_type": "stream",
     "text": [
      "+------------+-----------+-------+------+\n",
      "| customerId | productId | score | rank |\n",
      "+------------+-----------+-------+------+\n",
      "| 105697630  |   domix   |  1.0  |  1   |\n",
      "| 105697630  |  italwax  |  1.0  |  2   |\n",
      "| 105697630  |   ardell  |  1.0  |  3   |\n",
      "| 105697630  |    oniq   |  1.0  |  4   |\n",
      "| 105697630  |  bluesky  |  1.0  |  5   |\n",
      "| 105697630  |  severina |  1.0  |  6   |\n",
      "| 105697630  |  ingarden |  1.0  |  7   |\n",
      "| 105697630  |    milv   |  1.0  |  8   |\n",
      "| 105697630  |    pole   |  1.0  |  9   |\n",
      "| 105697630  |   dizao   |  1.0  |  10  |\n",
      "| 126051562  |   domix   |  1.0  |  1   |\n",
      "| 126051562  |  italwax  |  1.0  |  2   |\n",
      "| 126051562  |   ardell  |  1.0  |  3   |\n",
      "| 126051562  |    oniq   |  1.0  |  4   |\n",
      "| 126051562  |  severina |  1.0  |  5   |\n",
      "| 126051562  |    milv   |  1.0  |  6   |\n",
      "| 126051562  |    pole   |  1.0  |  7   |\n",
      "| 126051562  |   dizao   |  1.0  |  8   |\n",
      "| 126051562  | bpw.style |  1.0  |  9   |\n",
      "| 126051562  |   masura  |  1.0  |  10  |\n",
      "| 149936015  |  italwax  |  1.0  |  1   |\n",
      "| 149936015  |   ardell  |  1.0  |  2   |\n",
      "| 149936015  |  bluesky  |  1.0  |  3   |\n",
      "| 149936015  |  severina |  1.0  |  4   |\n",
      "| 149936015  |    milv   |  1.0  |  5   |\n",
      "| 149936015  |    pole   |  1.0  |  6   |\n",
      "| 149936015  |   dizao   |  1.0  |  7   |\n",
      "| 149936015  | bpw.style |  1.0  |  8   |\n",
      "| 149936015  |   runail  |  1.0  |  9   |\n",
      "| 149936015  |   masura  |  1.0  |  10  |\n",
      "+------------+-----------+-------+------+\n",
      "[757920 rows x 4 columns]\n",
      "\n"
     ]
    },
    {
     "data": {
      "text/html": [
       "<pre>recommendations finished on 36000/75792 queries. users per second: 262622</pre>"
      ],
      "text/plain": [
       "recommendations finished on 36000/75792 queries. users per second: 262622"
      ]
     },
     "metadata": {},
     "output_type": "display_data"
    },
    {
     "data": {
      "text/html": [
       "<pre>recommendations finished on 37000/75792 queries. users per second: 264776</pre>"
      ],
      "text/plain": [
       "recommendations finished on 37000/75792 queries. users per second: 264776"
      ]
     },
     "metadata": {},
     "output_type": "display_data"
    },
    {
     "data": {
      "text/html": [
       "<pre>recommendations finished on 38000/75792 queries. users per second: 264315</pre>"
      ],
      "text/plain": [
       "recommendations finished on 38000/75792 queries. users per second: 264315"
      ]
     },
     "metadata": {},
     "output_type": "display_data"
    },
    {
     "data": {
      "text/html": [
       "<pre>recommendations finished on 39000/75792 queries. users per second: 262844</pre>"
      ],
      "text/plain": [
       "recommendations finished on 39000/75792 queries. users per second: 262844"
      ]
     },
     "metadata": {},
     "output_type": "display_data"
    },
    {
     "data": {
      "text/html": [
       "<pre>recommendations finished on 40000/75792 queries. users per second: 265756</pre>"
      ],
      "text/plain": [
       "recommendations finished on 40000/75792 queries. users per second: 265756"
      ]
     },
     "metadata": {},
     "output_type": "display_data"
    },
    {
     "data": {
      "text/html": [
       "<pre>recommendations finished on 41000/75792 queries. users per second: 264704</pre>"
      ],
      "text/plain": [
       "recommendations finished on 41000/75792 queries. users per second: 264704"
      ]
     },
     "metadata": {},
     "output_type": "display_data"
    },
    {
     "data": {
      "text/html": [
       "<pre>recommendations finished on 42000/75792 queries. users per second: 264715</pre>"
      ],
      "text/plain": [
       "recommendations finished on 42000/75792 queries. users per second: 264715"
      ]
     },
     "metadata": {},
     "output_type": "display_data"
    },
    {
     "data": {
      "text/html": [
       "<pre>recommendations finished on 43000/75792 queries. users per second: 263092</pre>"
      ],
      "text/plain": [
       "recommendations finished on 43000/75792 queries. users per second: 263092"
      ]
     },
     "metadata": {},
     "output_type": "display_data"
    },
    {
     "data": {
      "text/html": [
       "<pre>recommendations finished on 44000/75792 queries. users per second: 264339</pre>"
      ],
      "text/plain": [
       "recommendations finished on 44000/75792 queries. users per second: 264339"
      ]
     },
     "metadata": {},
     "output_type": "display_data"
    },
    {
     "data": {
      "text/html": [
       "<pre>recommendations finished on 45000/75792 queries. users per second: 266755</pre>"
      ],
      "text/plain": [
       "recommendations finished on 45000/75792 queries. users per second: 266755"
      ]
     },
     "metadata": {},
     "output_type": "display_data"
    },
    {
     "data": {
      "text/html": [
       "<pre>recommendations finished on 46000/75792 queries. users per second: 267611</pre>"
      ],
      "text/plain": [
       "recommendations finished on 46000/75792 queries. users per second: 267611"
      ]
     },
     "metadata": {},
     "output_type": "display_data"
    },
    {
     "data": {
      "text/html": [
       "<pre>recommendations finished on 47000/75792 queries. users per second: 269737</pre>"
      ],
      "text/plain": [
       "recommendations finished on 47000/75792 queries. users per second: 269737"
      ]
     },
     "metadata": {},
     "output_type": "display_data"
    },
    {
     "data": {
      "text/html": [
       "<pre>recommendations finished on 48000/75792 queries. users per second: 272313</pre>"
      ],
      "text/plain": [
       "recommendations finished on 48000/75792 queries. users per second: 272313"
      ]
     },
     "metadata": {},
     "output_type": "display_data"
    },
    {
     "data": {
      "text/html": [
       "<pre>recommendations finished on 49000/75792 queries. users per second: 274464</pre>"
      ],
      "text/plain": [
       "recommendations finished on 49000/75792 queries. users per second: 274464"
      ]
     },
     "metadata": {},
     "output_type": "display_data"
    },
    {
     "data": {
      "text/html": [
       "<pre>recommendations finished on 50000/75792 queries. users per second: 276130</pre>"
      ],
      "text/plain": [
       "recommendations finished on 50000/75792 queries. users per second: 276130"
      ]
     },
     "metadata": {},
     "output_type": "display_data"
    },
    {
     "data": {
      "text/html": [
       "<pre>recommendations finished on 51000/75792 queries. users per second: 276655</pre>"
      ],
      "text/plain": [
       "recommendations finished on 51000/75792 queries. users per second: 276655"
      ]
     },
     "metadata": {},
     "output_type": "display_data"
    },
    {
     "data": {
      "text/html": [
       "<pre>recommendations finished on 52000/75792 queries. users per second: 276391</pre>"
      ],
      "text/plain": [
       "recommendations finished on 52000/75792 queries. users per second: 276391"
      ]
     },
     "metadata": {},
     "output_type": "display_data"
    },
    {
     "data": {
      "text/html": [
       "<pre>recommendations finished on 53000/75792 queries. users per second: 277095</pre>"
      ],
      "text/plain": [
       "recommendations finished on 53000/75792 queries. users per second: 277095"
      ]
     },
     "metadata": {},
     "output_type": "display_data"
    },
    {
     "data": {
      "text/html": [
       "<pre>recommendations finished on 54000/75792 queries. users per second: 271473</pre>"
      ],
      "text/plain": [
       "recommendations finished on 54000/75792 queries. users per second: 271473"
      ]
     },
     "metadata": {},
     "output_type": "display_data"
    },
    {
     "data": {
      "text/html": [
       "<pre>recommendations finished on 55000/75792 queries. users per second: 271049</pre>"
      ],
      "text/plain": [
       "recommendations finished on 55000/75792 queries. users per second: 271049"
      ]
     },
     "metadata": {},
     "output_type": "display_data"
    },
    {
     "data": {
      "text/html": [
       "<pre>recommendations finished on 56000/75792 queries. users per second: 257255</pre>"
      ],
      "text/plain": [
       "recommendations finished on 56000/75792 queries. users per second: 257255"
      ]
     },
     "metadata": {},
     "output_type": "display_data"
    },
    {
     "data": {
      "text/html": [
       "<pre>recommendations finished on 57000/75792 queries. users per second: 254953</pre>"
      ],
      "text/plain": [
       "recommendations finished on 57000/75792 queries. users per second: 254953"
      ]
     },
     "metadata": {},
     "output_type": "display_data"
    },
    {
     "data": {
      "text/html": [
       "<pre>recommendations finished on 58000/75792 queries. users per second: 256038</pre>"
      ],
      "text/plain": [
       "recommendations finished on 58000/75792 queries. users per second: 256038"
      ]
     },
     "metadata": {},
     "output_type": "display_data"
    },
    {
     "data": {
      "text/html": [
       "<pre>recommendations finished on 59000/75792 queries. users per second: 244976</pre>"
      ],
      "text/plain": [
       "recommendations finished on 59000/75792 queries. users per second: 244976"
      ]
     },
     "metadata": {},
     "output_type": "display_data"
    },
    {
     "data": {
      "text/html": [
       "<pre>recommendations finished on 60000/75792 queries. users per second: 241947</pre>"
      ],
      "text/plain": [
       "recommendations finished on 60000/75792 queries. users per second: 241947"
      ]
     },
     "metadata": {},
     "output_type": "display_data"
    },
    {
     "data": {
      "text/html": [
       "<pre>recommendations finished on 61000/75792 queries. users per second: 243677</pre>"
      ],
      "text/plain": [
       "recommendations finished on 61000/75792 queries. users per second: 243677"
      ]
     },
     "metadata": {},
     "output_type": "display_data"
    },
    {
     "data": {
      "text/html": [
       "<pre>recommendations finished on 62000/75792 queries. users per second: 244975</pre>"
      ],
      "text/plain": [
       "recommendations finished on 62000/75792 queries. users per second: 244975"
      ]
     },
     "metadata": {},
     "output_type": "display_data"
    },
    {
     "data": {
      "text/html": [
       "<pre>recommendations finished on 63000/75792 queries. users per second: 244650</pre>"
      ],
      "text/plain": [
       "recommendations finished on 63000/75792 queries. users per second: 244650"
      ]
     },
     "metadata": {},
     "output_type": "display_data"
    },
    {
     "data": {
      "text/html": [
       "<pre>recommendations finished on 64000/75792 queries. users per second: 245533</pre>"
      ],
      "text/plain": [
       "recommendations finished on 64000/75792 queries. users per second: 245533"
      ]
     },
     "metadata": {},
     "output_type": "display_data"
    },
    {
     "data": {
      "text/html": [
       "<pre>recommendations finished on 65000/75792 queries. users per second: 246026</pre>"
      ],
      "text/plain": [
       "recommendations finished on 65000/75792 queries. users per second: 246026"
      ]
     },
     "metadata": {},
     "output_type": "display_data"
    },
    {
     "data": {
      "text/html": [
       "<pre>recommendations finished on 66000/75792 queries. users per second: 246769</pre>"
      ],
      "text/plain": [
       "recommendations finished on 66000/75792 queries. users per second: 246769"
      ]
     },
     "metadata": {},
     "output_type": "display_data"
    },
    {
     "data": {
      "text/html": [
       "<pre>recommendations finished on 67000/75792 queries. users per second: 248404</pre>"
      ],
      "text/plain": [
       "recommendations finished on 67000/75792 queries. users per second: 248404"
      ]
     },
     "metadata": {},
     "output_type": "display_data"
    },
    {
     "data": {
      "text/html": [
       "<pre>recommendations finished on 68000/75792 queries. users per second: 249114</pre>"
      ],
      "text/plain": [
       "recommendations finished on 68000/75792 queries. users per second: 249114"
      ]
     },
     "metadata": {},
     "output_type": "display_data"
    },
    {
     "data": {
      "text/html": [
       "<pre>recommendations finished on 69000/75792 queries. users per second: 250311</pre>"
      ],
      "text/plain": [
       "recommendations finished on 69000/75792 queries. users per second: 250311"
      ]
     },
     "metadata": {},
     "output_type": "display_data"
    },
    {
     "data": {
      "text/html": [
       "<pre>recommendations finished on 70000/75792 queries. users per second: 251957</pre>"
      ],
      "text/plain": [
       "recommendations finished on 70000/75792 queries. users per second: 251957"
      ]
     },
     "metadata": {},
     "output_type": "display_data"
    },
    {
     "data": {
      "text/html": [
       "<pre>recommendations finished on 71000/75792 queries. users per second: 252465</pre>"
      ],
      "text/plain": [
       "recommendations finished on 71000/75792 queries. users per second: 252465"
      ]
     },
     "metadata": {},
     "output_type": "display_data"
    },
    {
     "data": {
      "text/html": [
       "<pre>recommendations finished on 72000/75792 queries. users per second: 253074</pre>"
      ],
      "text/plain": [
       "recommendations finished on 72000/75792 queries. users per second: 253074"
      ]
     },
     "metadata": {},
     "output_type": "display_data"
    },
    {
     "data": {
      "text/html": [
       "<pre>recommendations finished on 73000/75792 queries. users per second: 253752</pre>"
      ],
      "text/plain": [
       "recommendations finished on 73000/75792 queries. users per second: 253752"
      ]
     },
     "metadata": {},
     "output_type": "display_data"
    },
    {
     "data": {
      "text/html": [
       "<pre>recommendations finished on 74000/75792 queries. users per second: 252585</pre>"
      ],
      "text/plain": [
       "recommendations finished on 74000/75792 queries. users per second: 252585"
      ]
     },
     "metadata": {},
     "output_type": "display_data"
    },
    {
     "data": {
      "text/html": [
       "<pre>recommendations finished on 75000/75792 queries. users per second: 250106</pre>"
      ],
      "text/plain": [
       "recommendations finished on 75000/75792 queries. users per second: 250106"
      ]
     },
     "metadata": {},
     "output_type": "display_data"
    }
   ],
   "source": [
    "name = 'popularity'\n",
    "target = 'purchase_dummy'\n",
    "pop_dummy = model(train_data_dummy, name, user_id, item_id, target, users_to_recommend, n_rec, n_display)"
   ]
  },
  {
   "cell_type": "code",
   "execution_count": 33,
   "metadata": {},
   "outputs": [
    {
     "data": {
      "text/html": [
       "<pre>Preparing data set.</pre>"
      ],
      "text/plain": [
       "Preparing data set."
      ]
     },
     "metadata": {},
     "output_type": "display_data"
    },
    {
     "data": {
      "text/html": [
       "<pre>    Data has 60485 observations with 10605 users and 172 items.</pre>"
      ],
      "text/plain": [
       "    Data has 60485 observations with 10605 users and 172 items."
      ]
     },
     "metadata": {},
     "output_type": "display_data"
    },
    {
     "data": {
      "text/html": [
       "<pre>    Data prepared in: 0.086707s</pre>"
      ],
      "text/plain": [
       "    Data prepared in: 0.086707s"
      ]
     },
     "metadata": {},
     "output_type": "display_data"
    },
    {
     "data": {
      "text/html": [
       "<pre>60485 observations to process; with 172 unique items.</pre>"
      ],
      "text/plain": [
       "60485 observations to process; with 172 unique items."
      ]
     },
     "metadata": {},
     "output_type": "display_data"
    },
    {
     "data": {
      "text/html": [
       "<pre>recommendations finished on 1000/75792 queries. users per second: 48341.9</pre>"
      ],
      "text/plain": [
       "recommendations finished on 1000/75792 queries. users per second: 48341.9"
      ]
     },
     "metadata": {},
     "output_type": "display_data"
    },
    {
     "data": {
      "text/html": [
       "<pre>recommendations finished on 2000/75792 queries. users per second: 85664.1</pre>"
      ],
      "text/plain": [
       "recommendations finished on 2000/75792 queries. users per second: 85664.1"
      ]
     },
     "metadata": {},
     "output_type": "display_data"
    },
    {
     "data": {
      "text/html": [
       "<pre>recommendations finished on 3000/75792 queries. users per second: 117689</pre>"
      ],
      "text/plain": [
       "recommendations finished on 3000/75792 queries. users per second: 117689"
      ]
     },
     "metadata": {},
     "output_type": "display_data"
    },
    {
     "data": {
      "text/html": [
       "<pre>recommendations finished on 4000/75792 queries. users per second: 142359</pre>"
      ],
      "text/plain": [
       "recommendations finished on 4000/75792 queries. users per second: 142359"
      ]
     },
     "metadata": {},
     "output_type": "display_data"
    },
    {
     "data": {
      "text/html": [
       "<pre>recommendations finished on 5000/75792 queries. users per second: 159974</pre>"
      ],
      "text/plain": [
       "recommendations finished on 5000/75792 queries. users per second: 159974"
      ]
     },
     "metadata": {},
     "output_type": "display_data"
    },
    {
     "data": {
      "text/html": [
       "<pre>recommendations finished on 6000/75792 queries. users per second: 177804</pre>"
      ],
      "text/plain": [
       "recommendations finished on 6000/75792 queries. users per second: 177804"
      ]
     },
     "metadata": {},
     "output_type": "display_data"
    },
    {
     "data": {
      "text/html": [
       "<pre>recommendations finished on 7000/75792 queries. users per second: 192986</pre>"
      ],
      "text/plain": [
       "recommendations finished on 7000/75792 queries. users per second: 192986"
      ]
     },
     "metadata": {},
     "output_type": "display_data"
    },
    {
     "data": {
      "text/html": [
       "<pre>recommendations finished on 8000/75792 queries. users per second: 201827</pre>"
      ],
      "text/plain": [
       "recommendations finished on 8000/75792 queries. users per second: 201827"
      ]
     },
     "metadata": {},
     "output_type": "display_data"
    },
    {
     "data": {
      "text/html": [
       "<pre>recommendations finished on 9000/75792 queries. users per second: 212299</pre>"
      ],
      "text/plain": [
       "recommendations finished on 9000/75792 queries. users per second: 212299"
      ]
     },
     "metadata": {},
     "output_type": "display_data"
    },
    {
     "data": {
      "text/html": [
       "<pre>recommendations finished on 10000/75792 queries. users per second: 221136</pre>"
      ],
      "text/plain": [
       "recommendations finished on 10000/75792 queries. users per second: 221136"
      ]
     },
     "metadata": {},
     "output_type": "display_data"
    },
    {
     "data": {
      "text/html": [
       "<pre>recommendations finished on 11000/75792 queries. users per second: 232195</pre>"
      ],
      "text/plain": [
       "recommendations finished on 11000/75792 queries. users per second: 232195"
      ]
     },
     "metadata": {},
     "output_type": "display_data"
    },
    {
     "data": {
      "text/html": [
       "<pre>recommendations finished on 12000/75792 queries. users per second: 237309</pre>"
      ],
      "text/plain": [
       "recommendations finished on 12000/75792 queries. users per second: 237309"
      ]
     },
     "metadata": {},
     "output_type": "display_data"
    },
    {
     "data": {
      "text/html": [
       "<pre>recommendations finished on 13000/75792 queries. users per second: 242578</pre>"
      ],
      "text/plain": [
       "recommendations finished on 13000/75792 queries. users per second: 242578"
      ]
     },
     "metadata": {},
     "output_type": "display_data"
    },
    {
     "data": {
      "text/html": [
       "<pre>recommendations finished on 14000/75792 queries. users per second: 241963</pre>"
      ],
      "text/plain": [
       "recommendations finished on 14000/75792 queries. users per second: 241963"
      ]
     },
     "metadata": {},
     "output_type": "display_data"
    },
    {
     "data": {
      "text/html": [
       "<pre>recommendations finished on 15000/75792 queries. users per second: 233165</pre>"
      ],
      "text/plain": [
       "recommendations finished on 15000/75792 queries. users per second: 233165"
      ]
     },
     "metadata": {},
     "output_type": "display_data"
    },
    {
     "data": {
      "text/html": [
       "<pre>recommendations finished on 16000/75792 queries. users per second: 194732</pre>"
      ],
      "text/plain": [
       "recommendations finished on 16000/75792 queries. users per second: 194732"
      ]
     },
     "metadata": {},
     "output_type": "display_data"
    },
    {
     "data": {
      "text/html": [
       "<pre>recommendations finished on 17000/75792 queries. users per second: 197596</pre>"
      ],
      "text/plain": [
       "recommendations finished on 17000/75792 queries. users per second: 197596"
      ]
     },
     "metadata": {},
     "output_type": "display_data"
    },
    {
     "data": {
      "text/html": [
       "<pre>recommendations finished on 18000/75792 queries. users per second: 203424</pre>"
      ],
      "text/plain": [
       "recommendations finished on 18000/75792 queries. users per second: 203424"
      ]
     },
     "metadata": {},
     "output_type": "display_data"
    },
    {
     "data": {
      "text/html": [
       "<pre>recommendations finished on 19000/75792 queries. users per second: 209799</pre>"
      ],
      "text/plain": [
       "recommendations finished on 19000/75792 queries. users per second: 209799"
      ]
     },
     "metadata": {},
     "output_type": "display_data"
    },
    {
     "data": {
      "text/html": [
       "<pre>recommendations finished on 20000/75792 queries. users per second: 213778</pre>"
      ],
      "text/plain": [
       "recommendations finished on 20000/75792 queries. users per second: 213778"
      ]
     },
     "metadata": {},
     "output_type": "display_data"
    },
    {
     "data": {
      "text/html": [
       "<pre>recommendations finished on 21000/75792 queries. users per second: 217506</pre>"
      ],
      "text/plain": [
       "recommendations finished on 21000/75792 queries. users per second: 217506"
      ]
     },
     "metadata": {},
     "output_type": "display_data"
    },
    {
     "data": {
      "text/html": [
       "<pre>recommendations finished on 22000/75792 queries. users per second: 220200</pre>"
      ],
      "text/plain": [
       "recommendations finished on 22000/75792 queries. users per second: 220200"
      ]
     },
     "metadata": {},
     "output_type": "display_data"
    },
    {
     "data": {
      "text/html": [
       "<pre>recommendations finished on 23000/75792 queries. users per second: 217962</pre>"
      ],
      "text/plain": [
       "recommendations finished on 23000/75792 queries. users per second: 217962"
      ]
     },
     "metadata": {},
     "output_type": "display_data"
    },
    {
     "data": {
      "text/html": [
       "<pre>recommendations finished on 24000/75792 queries. users per second: 200443</pre>"
      ],
      "text/plain": [
       "recommendations finished on 24000/75792 queries. users per second: 200443"
      ]
     },
     "metadata": {},
     "output_type": "display_data"
    },
    {
     "data": {
      "text/html": [
       "<pre>recommendations finished on 25000/75792 queries. users per second: 202105</pre>"
      ],
      "text/plain": [
       "recommendations finished on 25000/75792 queries. users per second: 202105"
      ]
     },
     "metadata": {},
     "output_type": "display_data"
    },
    {
     "data": {
      "text/html": [
       "<pre>recommendations finished on 26000/75792 queries. users per second: 205730</pre>"
      ],
      "text/plain": [
       "recommendations finished on 26000/75792 queries. users per second: 205730"
      ]
     },
     "metadata": {},
     "output_type": "display_data"
    },
    {
     "data": {
      "text/html": [
       "<pre>recommendations finished on 27000/75792 queries. users per second: 208888</pre>"
      ],
      "text/plain": [
       "recommendations finished on 27000/75792 queries. users per second: 208888"
      ]
     },
     "metadata": {},
     "output_type": "display_data"
    },
    {
     "data": {
      "text/html": [
       "<pre>recommendations finished on 28000/75792 queries. users per second: 212745</pre>"
      ],
      "text/plain": [
       "recommendations finished on 28000/75792 queries. users per second: 212745"
      ]
     },
     "metadata": {},
     "output_type": "display_data"
    },
    {
     "data": {
      "text/html": [
       "<pre>recommendations finished on 29000/75792 queries. users per second: 214532</pre>"
      ],
      "text/plain": [
       "recommendations finished on 29000/75792 queries. users per second: 214532"
      ]
     },
     "metadata": {},
     "output_type": "display_data"
    },
    {
     "data": {
      "text/html": [
       "<pre>recommendations finished on 30000/75792 queries. users per second: 213968</pre>"
      ],
      "text/plain": [
       "recommendations finished on 30000/75792 queries. users per second: 213968"
      ]
     },
     "metadata": {},
     "output_type": "display_data"
    },
    {
     "data": {
      "text/html": [
       "<pre>recommendations finished on 31000/75792 queries. users per second: 216001</pre>"
      ],
      "text/plain": [
       "recommendations finished on 31000/75792 queries. users per second: 216001"
      ]
     },
     "metadata": {},
     "output_type": "display_data"
    },
    {
     "data": {
      "text/html": [
       "<pre>recommendations finished on 32000/75792 queries. users per second: 217416</pre>"
      ],
      "text/plain": [
       "recommendations finished on 32000/75792 queries. users per second: 217416"
      ]
     },
     "metadata": {},
     "output_type": "display_data"
    },
    {
     "data": {
      "text/html": [
       "<pre>recommendations finished on 33000/75792 queries. users per second: 220094</pre>"
      ],
      "text/plain": [
       "recommendations finished on 33000/75792 queries. users per second: 220094"
      ]
     },
     "metadata": {},
     "output_type": "display_data"
    },
    {
     "data": {
      "text/html": [
       "<pre>recommendations finished on 34000/75792 queries. users per second: 222649</pre>"
      ],
      "text/plain": [
       "recommendations finished on 34000/75792 queries. users per second: 222649"
      ]
     },
     "metadata": {},
     "output_type": "display_data"
    },
    {
     "data": {
      "text/html": [
       "<pre>recommendations finished on 35000/75792 queries. users per second: 224460</pre>"
      ],
      "text/plain": [
       "recommendations finished on 35000/75792 queries. users per second: 224460"
      ]
     },
     "metadata": {},
     "output_type": "display_data"
    },
    {
     "data": {
      "text/html": [
       "<pre>recommendations finished on 36000/75792 queries. users per second: 224711</pre>"
      ],
      "text/plain": [
       "recommendations finished on 36000/75792 queries. users per second: 224711"
      ]
     },
     "metadata": {},
     "output_type": "display_data"
    },
    {
     "data": {
      "text/html": [
       "<pre>recommendations finished on 37000/75792 queries. users per second: 227542</pre>"
      ],
      "text/plain": [
       "recommendations finished on 37000/75792 queries. users per second: 227542"
      ]
     },
     "metadata": {},
     "output_type": "display_data"
    },
    {
     "data": {
      "text/html": [
       "<pre>recommendations finished on 38000/75792 queries. users per second: 229707</pre>"
      ],
      "text/plain": [
       "recommendations finished on 38000/75792 queries. users per second: 229707"
      ]
     },
     "metadata": {},
     "output_type": "display_data"
    },
    {
     "data": {
      "text/html": [
       "<pre>recommendations finished on 39000/75792 queries. users per second: 231631</pre>"
      ],
      "text/plain": [
       "recommendations finished on 39000/75792 queries. users per second: 231631"
      ]
     },
     "metadata": {},
     "output_type": "display_data"
    },
    {
     "data": {
      "text/html": [
       "<pre>recommendations finished on 40000/75792 queries. users per second: 214930</pre>"
      ],
      "text/plain": [
       "recommendations finished on 40000/75792 queries. users per second: 214930"
      ]
     },
     "metadata": {},
     "output_type": "display_data"
    },
    {
     "data": {
      "text/html": [
       "<pre>recommendations finished on 41000/75792 queries. users per second: 216270</pre>"
      ],
      "text/plain": [
       "recommendations finished on 41000/75792 queries. users per second: 216270"
      ]
     },
     "metadata": {},
     "output_type": "display_data"
    },
    {
     "data": {
      "text/html": [
       "<pre>recommendations finished on 42000/75792 queries. users per second: 216547</pre>"
      ],
      "text/plain": [
       "recommendations finished on 42000/75792 queries. users per second: 216547"
      ]
     },
     "metadata": {},
     "output_type": "display_data"
    },
    {
     "name": "stdout",
     "output_type": "stream",
     "text": [
      "+------------+-----------+--------------------+------+\n",
      "| customerId | productId |       score        | rank |\n",
      "+------------+-----------+--------------------+------+\n",
      "| 105697630  |   labay   |        1.0         |  1   |\n",
      "| 105697630  |    osmo   | 0.6666666666666666 |  2   |\n",
      "| 105697630  |   dewal   | 0.6666666666666666 |  3   |\n",
      "| 105697630  |   coxir   |        0.5         |  4   |\n",
      "| 105697630  |   mielle  |        0.5         |  5   |\n",
      "| 105697630  |   sanoto  |        0.5         |  6   |\n",
      "| 105697630  |  skinity  |        0.5         |  7   |\n",
      "| 105697630  |  ecocraft |        0.4         |  8   |\n",
      "| 105697630  |   nirvel  |        0.35        |  9   |\n",
      "| 105697630  |   keune   | 0.3333333333333333 |  10  |\n",
      "| 126051562  |   labay   |        1.0         |  1   |\n",
      "| 126051562  |    osmo   | 0.6666666666666666 |  2   |\n",
      "| 126051562  |   dewal   | 0.6666666666666666 |  3   |\n",
      "| 126051562  |   coxir   |        0.5         |  4   |\n",
      "| 126051562  |   mielle  |        0.5         |  5   |\n",
      "| 126051562  |   sanoto  |        0.5         |  6   |\n",
      "| 126051562  |  skinity  |        0.5         |  7   |\n",
      "| 126051562  |  ecocraft |        0.4         |  8   |\n",
      "| 126051562  |   nirvel  |        0.35        |  9   |\n",
      "| 126051562  |   keune   | 0.3333333333333333 |  10  |\n",
      "| 149936015  |   labay   |        1.0         |  1   |\n",
      "| 149936015  |    osmo   | 0.6666666666666666 |  2   |\n",
      "| 149936015  |   dewal   | 0.6666666666666666 |  3   |\n",
      "| 149936015  |   coxir   |        0.5         |  4   |\n",
      "| 149936015  |   mielle  |        0.5         |  5   |\n",
      "| 149936015  |   sanoto  |        0.5         |  6   |\n",
      "| 149936015  |  skinity  |        0.5         |  7   |\n",
      "| 149936015  |  ecocraft |        0.4         |  8   |\n",
      "| 149936015  |   nirvel  |        0.35        |  9   |\n",
      "| 149936015  |   keune   | 0.3333333333333333 |  10  |\n",
      "+------------+-----------+--------------------+------+\n",
      "[757920 rows x 4 columns]\n",
      "\n"
     ]
    },
    {
     "data": {
      "text/html": [
       "<pre>recommendations finished on 43000/75792 queries. users per second: 219327</pre>"
      ],
      "text/plain": [
       "recommendations finished on 43000/75792 queries. users per second: 219327"
      ]
     },
     "metadata": {},
     "output_type": "display_data"
    },
    {
     "data": {
      "text/html": [
       "<pre>recommendations finished on 44000/75792 queries. users per second: 220236</pre>"
      ],
      "text/plain": [
       "recommendations finished on 44000/75792 queries. users per second: 220236"
      ]
     },
     "metadata": {},
     "output_type": "display_data"
    },
    {
     "data": {
      "text/html": [
       "<pre>recommendations finished on 45000/75792 queries. users per second: 222517</pre>"
      ],
      "text/plain": [
       "recommendations finished on 45000/75792 queries. users per second: 222517"
      ]
     },
     "metadata": {},
     "output_type": "display_data"
    },
    {
     "data": {
      "text/html": [
       "<pre>recommendations finished on 46000/75792 queries. users per second: 224933</pre>"
      ],
      "text/plain": [
       "recommendations finished on 46000/75792 queries. users per second: 224933"
      ]
     },
     "metadata": {},
     "output_type": "display_data"
    },
    {
     "data": {
      "text/html": [
       "<pre>recommendations finished on 47000/75792 queries. users per second: 225217</pre>"
      ],
      "text/plain": [
       "recommendations finished on 47000/75792 queries. users per second: 225217"
      ]
     },
     "metadata": {},
     "output_type": "display_data"
    },
    {
     "data": {
      "text/html": [
       "<pre>recommendations finished on 48000/75792 queries. users per second: 223197</pre>"
      ],
      "text/plain": [
       "recommendations finished on 48000/75792 queries. users per second: 223197"
      ]
     },
     "metadata": {},
     "output_type": "display_data"
    },
    {
     "data": {
      "text/html": [
       "<pre>recommendations finished on 49000/75792 queries. users per second: 224810</pre>"
      ],
      "text/plain": [
       "recommendations finished on 49000/75792 queries. users per second: 224810"
      ]
     },
     "metadata": {},
     "output_type": "display_data"
    },
    {
     "data": {
      "text/html": [
       "<pre>recommendations finished on 50000/75792 queries. users per second: 224882</pre>"
      ],
      "text/plain": [
       "recommendations finished on 50000/75792 queries. users per second: 224882"
      ]
     },
     "metadata": {},
     "output_type": "display_data"
    },
    {
     "data": {
      "text/html": [
       "<pre>recommendations finished on 51000/75792 queries. users per second: 226046</pre>"
      ],
      "text/plain": [
       "recommendations finished on 51000/75792 queries. users per second: 226046"
      ]
     },
     "metadata": {},
     "output_type": "display_data"
    },
    {
     "data": {
      "text/html": [
       "<pre>recommendations finished on 52000/75792 queries. users per second: 227333</pre>"
      ],
      "text/plain": [
       "recommendations finished on 52000/75792 queries. users per second: 227333"
      ]
     },
     "metadata": {},
     "output_type": "display_data"
    },
    {
     "data": {
      "text/html": [
       "<pre>recommendations finished on 53000/75792 queries. users per second: 228622</pre>"
      ],
      "text/plain": [
       "recommendations finished on 53000/75792 queries. users per second: 228622"
      ]
     },
     "metadata": {},
     "output_type": "display_data"
    },
    {
     "data": {
      "text/html": [
       "<pre>recommendations finished on 54000/75792 queries. users per second: 230739</pre>"
      ],
      "text/plain": [
       "recommendations finished on 54000/75792 queries. users per second: 230739"
      ]
     },
     "metadata": {},
     "output_type": "display_data"
    },
    {
     "data": {
      "text/html": [
       "<pre>recommendations finished on 55000/75792 queries. users per second: 232215</pre>"
      ],
      "text/plain": [
       "recommendations finished on 55000/75792 queries. users per second: 232215"
      ]
     },
     "metadata": {},
     "output_type": "display_data"
    },
    {
     "data": {
      "text/html": [
       "<pre>recommendations finished on 56000/75792 queries. users per second: 233714</pre>"
      ],
      "text/plain": [
       "recommendations finished on 56000/75792 queries. users per second: 233714"
      ]
     },
     "metadata": {},
     "output_type": "display_data"
    },
    {
     "data": {
      "text/html": [
       "<pre>recommendations finished on 57000/75792 queries. users per second: 233146</pre>"
      ],
      "text/plain": [
       "recommendations finished on 57000/75792 queries. users per second: 233146"
      ]
     },
     "metadata": {},
     "output_type": "display_data"
    },
    {
     "data": {
      "text/html": [
       "<pre>recommendations finished on 58000/75792 queries. users per second: 234517</pre>"
      ],
      "text/plain": [
       "recommendations finished on 58000/75792 queries. users per second: 234517"
      ]
     },
     "metadata": {},
     "output_type": "display_data"
    },
    {
     "data": {
      "text/html": [
       "<pre>recommendations finished on 59000/75792 queries. users per second: 236008</pre>"
      ],
      "text/plain": [
       "recommendations finished on 59000/75792 queries. users per second: 236008"
      ]
     },
     "metadata": {},
     "output_type": "display_data"
    },
    {
     "data": {
      "text/html": [
       "<pre>recommendations finished on 60000/75792 queries. users per second: 237676</pre>"
      ],
      "text/plain": [
       "recommendations finished on 60000/75792 queries. users per second: 237676"
      ]
     },
     "metadata": {},
     "output_type": "display_data"
    },
    {
     "data": {
      "text/html": [
       "<pre>recommendations finished on 61000/75792 queries. users per second: 237375</pre>"
      ],
      "text/plain": [
       "recommendations finished on 61000/75792 queries. users per second: 237375"
      ]
     },
     "metadata": {},
     "output_type": "display_data"
    },
    {
     "data": {
      "text/html": [
       "<pre>recommendations finished on 62000/75792 queries. users per second: 237335</pre>"
      ],
      "text/plain": [
       "recommendations finished on 62000/75792 queries. users per second: 237335"
      ]
     },
     "metadata": {},
     "output_type": "display_data"
    },
    {
     "data": {
      "text/html": [
       "<pre>recommendations finished on 63000/75792 queries. users per second: 236277</pre>"
      ],
      "text/plain": [
       "recommendations finished on 63000/75792 queries. users per second: 236277"
      ]
     },
     "metadata": {},
     "output_type": "display_data"
    },
    {
     "data": {
      "text/html": [
       "<pre>recommendations finished on 64000/75792 queries. users per second: 236334</pre>"
      ],
      "text/plain": [
       "recommendations finished on 64000/75792 queries. users per second: 236334"
      ]
     },
     "metadata": {},
     "output_type": "display_data"
    },
    {
     "data": {
      "text/html": [
       "<pre>recommendations finished on 65000/75792 queries. users per second: 235451</pre>"
      ],
      "text/plain": [
       "recommendations finished on 65000/75792 queries. users per second: 235451"
      ]
     },
     "metadata": {},
     "output_type": "display_data"
    },
    {
     "data": {
      "text/html": [
       "<pre>recommendations finished on 66000/75792 queries. users per second: 236513</pre>"
      ],
      "text/plain": [
       "recommendations finished on 66000/75792 queries. users per second: 236513"
      ]
     },
     "metadata": {},
     "output_type": "display_data"
    },
    {
     "data": {
      "text/html": [
       "<pre>recommendations finished on 67000/75792 queries. users per second: 237599</pre>"
      ],
      "text/plain": [
       "recommendations finished on 67000/75792 queries. users per second: 237599"
      ]
     },
     "metadata": {},
     "output_type": "display_data"
    },
    {
     "data": {
      "text/html": [
       "<pre>recommendations finished on 68000/75792 queries. users per second: 238386</pre>"
      ],
      "text/plain": [
       "recommendations finished on 68000/75792 queries. users per second: 238386"
      ]
     },
     "metadata": {},
     "output_type": "display_data"
    },
    {
     "data": {
      "text/html": [
       "<pre>recommendations finished on 69000/75792 queries. users per second: 238402</pre>"
      ],
      "text/plain": [
       "recommendations finished on 69000/75792 queries. users per second: 238402"
      ]
     },
     "metadata": {},
     "output_type": "display_data"
    },
    {
     "data": {
      "text/html": [
       "<pre>recommendations finished on 70000/75792 queries. users per second: 238369</pre>"
      ],
      "text/plain": [
       "recommendations finished on 70000/75792 queries. users per second: 238369"
      ]
     },
     "metadata": {},
     "output_type": "display_data"
    },
    {
     "data": {
      "text/html": [
       "<pre>recommendations finished on 71000/75792 queries. users per second: 237330</pre>"
      ],
      "text/plain": [
       "recommendations finished on 71000/75792 queries. users per second: 237330"
      ]
     },
     "metadata": {},
     "output_type": "display_data"
    },
    {
     "data": {
      "text/html": [
       "<pre>recommendations finished on 72000/75792 queries. users per second: 238467</pre>"
      ],
      "text/plain": [
       "recommendations finished on 72000/75792 queries. users per second: 238467"
      ]
     },
     "metadata": {},
     "output_type": "display_data"
    },
    {
     "data": {
      "text/html": [
       "<pre>recommendations finished on 73000/75792 queries. users per second: 238981</pre>"
      ],
      "text/plain": [
       "recommendations finished on 73000/75792 queries. users per second: 238981"
      ]
     },
     "metadata": {},
     "output_type": "display_data"
    },
    {
     "data": {
      "text/html": [
       "<pre>recommendations finished on 74000/75792 queries. users per second: 239533</pre>"
      ],
      "text/plain": [
       "recommendations finished on 74000/75792 queries. users per second: 239533"
      ]
     },
     "metadata": {},
     "output_type": "display_data"
    },
    {
     "data": {
      "text/html": [
       "<pre>recommendations finished on 75000/75792 queries. users per second: 238390</pre>"
      ],
      "text/plain": [
       "recommendations finished on 75000/75792 queries. users per second: 238390"
      ]
     },
     "metadata": {},
     "output_type": "display_data"
    }
   ],
   "source": [
    "name = 'popularity'\n",
    "target = 'scaled_purchase_freq'\n",
    "pop_norm = model(train_data_norm, name, user_id, item_id, target, users_to_recommend, n_rec, n_display)"
   ]
  },
  {
   "cell_type": "code",
   "execution_count": 34,
   "metadata": {},
   "outputs": [
    {
     "data": {
      "text/html": [
       "<pre>Preparing data set.</pre>"
      ],
      "text/plain": [
       "Preparing data set."
      ]
     },
     "metadata": {},
     "output_type": "display_data"
    },
    {
     "data": {
      "text/html": [
       "<pre>    Data has 60633 observations with 10609 users and 210 items.</pre>"
      ],
      "text/plain": [
       "    Data has 60633 observations with 10609 users and 210 items."
      ]
     },
     "metadata": {},
     "output_type": "display_data"
    },
    {
     "data": {
      "text/html": [
       "<pre>    Data prepared in: 0.13242s</pre>"
      ],
      "text/plain": [
       "    Data prepared in: 0.13242s"
      ]
     },
     "metadata": {},
     "output_type": "display_data"
    },
    {
     "data": {
      "text/html": [
       "<pre>Training model from provided data.</pre>"
      ],
      "text/plain": [
       "Training model from provided data."
      ]
     },
     "metadata": {},
     "output_type": "display_data"
    },
    {
     "data": {
      "text/html": [
       "<pre>Gathering per-item and per-user statistics.</pre>"
      ],
      "text/plain": [
       "Gathering per-item and per-user statistics."
      ]
     },
     "metadata": {},
     "output_type": "display_data"
    },
    {
     "data": {
      "text/html": [
       "<pre>+--------------------------------+------------+</pre>"
      ],
      "text/plain": [
       "+--------------------------------+------------+"
      ]
     },
     "metadata": {},
     "output_type": "display_data"
    },
    {
     "data": {
      "text/html": [
       "<pre>| Elapsed Time (Item Statistics) | % Complete |</pre>"
      ],
      "text/plain": [
       "| Elapsed Time (Item Statistics) | % Complete |"
      ]
     },
     "metadata": {},
     "output_type": "display_data"
    },
    {
     "data": {
      "text/html": [
       "<pre>+--------------------------------+------------+</pre>"
      ],
      "text/plain": [
       "+--------------------------------+------------+"
      ]
     },
     "metadata": {},
     "output_type": "display_data"
    },
    {
     "data": {
      "text/html": [
       "<pre>| 10.58ms                        | 9.25       |</pre>"
      ],
      "text/plain": [
       "| 10.58ms                        | 9.25       |"
      ]
     },
     "metadata": {},
     "output_type": "display_data"
    },
    {
     "data": {
      "text/html": [
       "<pre>| 69.569ms                       | 100        |</pre>"
      ],
      "text/plain": [
       "| 69.569ms                       | 100        |"
      ]
     },
     "metadata": {},
     "output_type": "display_data"
    },
    {
     "data": {
      "text/html": [
       "<pre>+--------------------------------+------------+</pre>"
      ],
      "text/plain": [
       "+--------------------------------+------------+"
      ]
     },
     "metadata": {},
     "output_type": "display_data"
    },
    {
     "data": {
      "text/html": [
       "<pre>Setting up lookup tables.</pre>"
      ],
      "text/plain": [
       "Setting up lookup tables."
      ]
     },
     "metadata": {},
     "output_type": "display_data"
    },
    {
     "data": {
      "text/html": [
       "<pre>Processing data in one pass using dense lookup tables.</pre>"
      ],
      "text/plain": [
       "Processing data in one pass using dense lookup tables."
      ]
     },
     "metadata": {},
     "output_type": "display_data"
    },
    {
     "data": {
      "text/html": [
       "<pre>+-------------------------------------+------------------+-----------------+</pre>"
      ],
      "text/plain": [
       "+-------------------------------------+------------------+-----------------+"
      ]
     },
     "metadata": {},
     "output_type": "display_data"
    },
    {
     "data": {
      "text/html": [
       "<pre>| Elapsed Time (Constructing Lookups) | Total % Complete | Items Processed |</pre>"
      ],
      "text/plain": [
       "| Elapsed Time (Constructing Lookups) | Total % Complete | Items Processed |"
      ]
     },
     "metadata": {},
     "output_type": "display_data"
    },
    {
     "data": {
      "text/html": [
       "<pre>+-------------------------------------+------------------+-----------------+</pre>"
      ],
      "text/plain": [
       "+-------------------------------------+------------------+-----------------+"
      ]
     },
     "metadata": {},
     "output_type": "display_data"
    },
    {
     "data": {
      "text/html": [
       "<pre>| 84.577ms                            | 0                | 0               |</pre>"
      ],
      "text/plain": [
       "| 84.577ms                            | 0                | 0               |"
      ]
     },
     "metadata": {},
     "output_type": "display_data"
    },
    {
     "data": {
      "text/html": [
       "<pre>| 96.362ms                            | 100              | 210             |</pre>"
      ],
      "text/plain": [
       "| 96.362ms                            | 100              | 210             |"
      ]
     },
     "metadata": {},
     "output_type": "display_data"
    },
    {
     "data": {
      "text/html": [
       "<pre>+-------------------------------------+------------------+-----------------+</pre>"
      ],
      "text/plain": [
       "+-------------------------------------+------------------+-----------------+"
      ]
     },
     "metadata": {},
     "output_type": "display_data"
    },
    {
     "data": {
      "text/html": [
       "<pre>Finalizing lookup tables.</pre>"
      ],
      "text/plain": [
       "Finalizing lookup tables."
      ]
     },
     "metadata": {},
     "output_type": "display_data"
    },
    {
     "data": {
      "text/html": [
       "<pre>Generating candidate set for working with new users.</pre>"
      ],
      "text/plain": [
       "Generating candidate set for working with new users."
      ]
     },
     "metadata": {},
     "output_type": "display_data"
    },
    {
     "data": {
      "text/html": [
       "<pre>Finished training in 1.13394s</pre>"
      ],
      "text/plain": [
       "Finished training in 1.13394s"
      ]
     },
     "metadata": {},
     "output_type": "display_data"
    },
    {
     "data": {
      "text/html": [
       "<pre>recommendations finished on 1000/75792 queries. users per second: 28002.6</pre>"
      ],
      "text/plain": [
       "recommendations finished on 1000/75792 queries. users per second: 28002.6"
      ]
     },
     "metadata": {},
     "output_type": "display_data"
    },
    {
     "data": {
      "text/html": [
       "<pre>recommendations finished on 2000/75792 queries. users per second: 48772.2</pre>"
      ],
      "text/plain": [
       "recommendations finished on 2000/75792 queries. users per second: 48772.2"
      ]
     },
     "metadata": {},
     "output_type": "display_data"
    },
    {
     "data": {
      "text/html": [
       "<pre>recommendations finished on 3000/75792 queries. users per second: 65001.2</pre>"
      ],
      "text/plain": [
       "recommendations finished on 3000/75792 queries. users per second: 65001.2"
      ]
     },
     "metadata": {},
     "output_type": "display_data"
    },
    {
     "data": {
      "text/html": [
       "<pre>recommendations finished on 4000/75792 queries. users per second: 77077.2</pre>"
      ],
      "text/plain": [
       "recommendations finished on 4000/75792 queries. users per second: 77077.2"
      ]
     },
     "metadata": {},
     "output_type": "display_data"
    },
    {
     "data": {
      "text/html": [
       "<pre>recommendations finished on 5000/75792 queries. users per second: 84585.2</pre>"
      ],
      "text/plain": [
       "recommendations finished on 5000/75792 queries. users per second: 84585.2"
      ]
     },
     "metadata": {},
     "output_type": "display_data"
    },
    {
     "data": {
      "text/html": [
       "<pre>recommendations finished on 6000/75792 queries. users per second: 86720.2</pre>"
      ],
      "text/plain": [
       "recommendations finished on 6000/75792 queries. users per second: 86720.2"
      ]
     },
     "metadata": {},
     "output_type": "display_data"
    },
    {
     "data": {
      "text/html": [
       "<pre>recommendations finished on 7000/75792 queries. users per second: 91226.6</pre>"
      ],
      "text/plain": [
       "recommendations finished on 7000/75792 queries. users per second: 91226.6"
      ]
     },
     "metadata": {},
     "output_type": "display_data"
    },
    {
     "data": {
      "text/html": [
       "<pre>recommendations finished on 8000/75792 queries. users per second: 96468.1</pre>"
      ],
      "text/plain": [
       "recommendations finished on 8000/75792 queries. users per second: 96468.1"
      ]
     },
     "metadata": {},
     "output_type": "display_data"
    },
    {
     "data": {
      "text/html": [
       "<pre>recommendations finished on 9000/75792 queries. users per second: 100367</pre>"
      ],
      "text/plain": [
       "recommendations finished on 9000/75792 queries. users per second: 100367"
      ]
     },
     "metadata": {},
     "output_type": "display_data"
    },
    {
     "data": {
      "text/html": [
       "<pre>recommendations finished on 10000/75792 queries. users per second: 101019</pre>"
      ],
      "text/plain": [
       "recommendations finished on 10000/75792 queries. users per second: 101019"
      ]
     },
     "metadata": {},
     "output_type": "display_data"
    },
    {
     "data": {
      "text/html": [
       "<pre>recommendations finished on 11000/75792 queries. users per second: 103689</pre>"
      ],
      "text/plain": [
       "recommendations finished on 11000/75792 queries. users per second: 103689"
      ]
     },
     "metadata": {},
     "output_type": "display_data"
    },
    {
     "data": {
      "text/html": [
       "<pre>recommendations finished on 12000/75792 queries. users per second: 106643</pre>"
      ],
      "text/plain": [
       "recommendations finished on 12000/75792 queries. users per second: 106643"
      ]
     },
     "metadata": {},
     "output_type": "display_data"
    },
    {
     "data": {
      "text/html": [
       "<pre>recommendations finished on 13000/75792 queries. users per second: 109060</pre>"
      ],
      "text/plain": [
       "recommendations finished on 13000/75792 queries. users per second: 109060"
      ]
     },
     "metadata": {},
     "output_type": "display_data"
    },
    {
     "data": {
      "text/html": [
       "<pre>recommendations finished on 14000/75792 queries. users per second: 112655</pre>"
      ],
      "text/plain": [
       "recommendations finished on 14000/75792 queries. users per second: 112655"
      ]
     },
     "metadata": {},
     "output_type": "display_data"
    },
    {
     "data": {
      "text/html": [
       "<pre>recommendations finished on 15000/75792 queries. users per second: 116022</pre>"
      ],
      "text/plain": [
       "recommendations finished on 15000/75792 queries. users per second: 116022"
      ]
     },
     "metadata": {},
     "output_type": "display_data"
    },
    {
     "data": {
      "text/html": [
       "<pre>recommendations finished on 16000/75792 queries. users per second: 119450</pre>"
      ],
      "text/plain": [
       "recommendations finished on 16000/75792 queries. users per second: 119450"
      ]
     },
     "metadata": {},
     "output_type": "display_data"
    },
    {
     "data": {
      "text/html": [
       "<pre>recommendations finished on 17000/75792 queries. users per second: 120398</pre>"
      ],
      "text/plain": [
       "recommendations finished on 17000/75792 queries. users per second: 120398"
      ]
     },
     "metadata": {},
     "output_type": "display_data"
    },
    {
     "data": {
      "text/html": [
       "<pre>recommendations finished on 18000/75792 queries. users per second: 122651</pre>"
      ],
      "text/plain": [
       "recommendations finished on 18000/75792 queries. users per second: 122651"
      ]
     },
     "metadata": {},
     "output_type": "display_data"
    },
    {
     "data": {
      "text/html": [
       "<pre>recommendations finished on 19000/75792 queries. users per second: 123678</pre>"
      ],
      "text/plain": [
       "recommendations finished on 19000/75792 queries. users per second: 123678"
      ]
     },
     "metadata": {},
     "output_type": "display_data"
    },
    {
     "data": {
      "text/html": [
       "<pre>recommendations finished on 20000/75792 queries. users per second: 125017</pre>"
      ],
      "text/plain": [
       "recommendations finished on 20000/75792 queries. users per second: 125017"
      ]
     },
     "metadata": {},
     "output_type": "display_data"
    },
    {
     "data": {
      "text/html": [
       "<pre>recommendations finished on 21000/75792 queries. users per second: 127478</pre>"
      ],
      "text/plain": [
       "recommendations finished on 21000/75792 queries. users per second: 127478"
      ]
     },
     "metadata": {},
     "output_type": "display_data"
    },
    {
     "name": "stdout",
     "output_type": "stream",
     "text": [
      "+------------+-----------+---------------------+------+\n",
      "| customerId | productId |        score        | rank |\n",
      "+------------+-----------+---------------------+------+\n",
      "| 105697630  |   runail  |  0.3300863703091939 |  1   |\n",
      "| 105697630  | bpw.style | 0.22618568936983743 |  2   |\n",
      "| 105697630  |   domix   |  0.2021221121152242 |  3   |\n",
      "| 105697630  |  severina |  0.1905081868171692 |  4   |\n",
      "| 105697630  |   zinger  | 0.16219988465309143 |  5   |\n",
      "| 105697630  | freedecor | 0.15928182999293009 |  6   |\n",
      "| 105697630  |  grattol  | 0.15431002775828043 |  7   |\n",
      "| 105697630  |  ingarden |  0.1542424956957499 |  8   |\n",
      "| 105697630  |  nagaraku | 0.15061996380488077 |  9   |\n",
      "| 105697630  |  inoface  | 0.14454394578933716 |  10  |\n",
      "| 126051562  | bpw.style |  0.3505216572019789 |  1   |\n",
      "| 126051562  |   domix   | 0.29984940422905815 |  2   |\n",
      "| 126051562  | freedecor |  0.2324874003728231 |  3   |\n",
      "| 126051562  |    milv   | 0.22222508986790976 |  4   |\n",
      "| 126051562  |    yoko   |  0.2183974583943685 |  5   |\n",
      "| 126051562  |   zinger  | 0.21650777922736275 |  6   |\n",
      "| 126051562  |  severina |  0.2160203523106045 |  7   |\n",
      "| 126051562  |   masura  | 0.18766441610124376 |  8   |\n",
      "| 126051562  |   estel   | 0.17609523402320015 |  9   |\n",
      "| 126051562  | depilflax | 0.17244222429063585 |  10  |\n",
      "| 149936015  |   artex   |  0.4318289279937744 |  1   |\n",
      "| 149936015  | bpw.style |  0.4108571887016296 |  2   |\n",
      "| 149936015  |  beautix  | 0.33806791305541994 |  3   |\n",
      "| 149936015  |   irisk   |  0.3135573506355286 |  4   |\n",
      "| 149936015  | freedecor |  0.2790764093399048 |  5   |\n",
      "| 149936015  |    uno    |  0.2762208342552185 |  6   |\n",
      "| 149936015  |   runail  |  0.2722347617149353 |  7   |\n",
      "| 149936015  |   domix   |  0.2712832450866699 |  8   |\n",
      "| 149936015  |   benovy  | 0.23546501398086547 |  9   |\n",
      "| 149936015  |  severina | 0.21657952070236205 |  10  |\n",
      "+------------+-----------+---------------------+------+\n",
      "[757920 rows x 4 columns]\n",
      "\n"
     ]
    },
    {
     "data": {
      "text/html": [
       "<pre>recommendations finished on 22000/75792 queries. users per second: 128684</pre>"
      ],
      "text/plain": [
       "recommendations finished on 22000/75792 queries. users per second: 128684"
      ]
     },
     "metadata": {},
     "output_type": "display_data"
    },
    {
     "data": {
      "text/html": [
       "<pre>recommendations finished on 23000/75792 queries. users per second: 130713</pre>"
      ],
      "text/plain": [
       "recommendations finished on 23000/75792 queries. users per second: 130713"
      ]
     },
     "metadata": {},
     "output_type": "display_data"
    },
    {
     "data": {
      "text/html": [
       "<pre>recommendations finished on 24000/75792 queries. users per second: 131515</pre>"
      ],
      "text/plain": [
       "recommendations finished on 24000/75792 queries. users per second: 131515"
      ]
     },
     "metadata": {},
     "output_type": "display_data"
    },
    {
     "data": {
      "text/html": [
       "<pre>recommendations finished on 25000/75792 queries. users per second: 132549</pre>"
      ],
      "text/plain": [
       "recommendations finished on 25000/75792 queries. users per second: 132549"
      ]
     },
     "metadata": {},
     "output_type": "display_data"
    },
    {
     "data": {
      "text/html": [
       "<pre>recommendations finished on 26000/75792 queries. users per second: 133422</pre>"
      ],
      "text/plain": [
       "recommendations finished on 26000/75792 queries. users per second: 133422"
      ]
     },
     "metadata": {},
     "output_type": "display_data"
    },
    {
     "data": {
      "text/html": [
       "<pre>recommendations finished on 27000/75792 queries. users per second: 134077</pre>"
      ],
      "text/plain": [
       "recommendations finished on 27000/75792 queries. users per second: 134077"
      ]
     },
     "metadata": {},
     "output_type": "display_data"
    },
    {
     "data": {
      "text/html": [
       "<pre>recommendations finished on 28000/75792 queries. users per second: 135581</pre>"
      ],
      "text/plain": [
       "recommendations finished on 28000/75792 queries. users per second: 135581"
      ]
     },
     "metadata": {},
     "output_type": "display_data"
    },
    {
     "data": {
      "text/html": [
       "<pre>recommendations finished on 29000/75792 queries. users per second: 136375</pre>"
      ],
      "text/plain": [
       "recommendations finished on 29000/75792 queries. users per second: 136375"
      ]
     },
     "metadata": {},
     "output_type": "display_data"
    },
    {
     "data": {
      "text/html": [
       "<pre>recommendations finished on 30000/75792 queries. users per second: 137132</pre>"
      ],
      "text/plain": [
       "recommendations finished on 30000/75792 queries. users per second: 137132"
      ]
     },
     "metadata": {},
     "output_type": "display_data"
    },
    {
     "data": {
      "text/html": [
       "<pre>recommendations finished on 31000/75792 queries. users per second: 138903</pre>"
      ],
      "text/plain": [
       "recommendations finished on 31000/75792 queries. users per second: 138903"
      ]
     },
     "metadata": {},
     "output_type": "display_data"
    },
    {
     "data": {
      "text/html": [
       "<pre>recommendations finished on 32000/75792 queries. users per second: 137933</pre>"
      ],
      "text/plain": [
       "recommendations finished on 32000/75792 queries. users per second: 137933"
      ]
     },
     "metadata": {},
     "output_type": "display_data"
    },
    {
     "data": {
      "text/html": [
       "<pre>recommendations finished on 33000/75792 queries. users per second: 136606</pre>"
      ],
      "text/plain": [
       "recommendations finished on 33000/75792 queries. users per second: 136606"
      ]
     },
     "metadata": {},
     "output_type": "display_data"
    },
    {
     "data": {
      "text/html": [
       "<pre>recommendations finished on 34000/75792 queries. users per second: 137054</pre>"
      ],
      "text/plain": [
       "recommendations finished on 34000/75792 queries. users per second: 137054"
      ]
     },
     "metadata": {},
     "output_type": "display_data"
    },
    {
     "data": {
      "text/html": [
       "<pre>recommendations finished on 35000/75792 queries. users per second: 137141</pre>"
      ],
      "text/plain": [
       "recommendations finished on 35000/75792 queries. users per second: 137141"
      ]
     },
     "metadata": {},
     "output_type": "display_data"
    },
    {
     "data": {
      "text/html": [
       "<pre>recommendations finished on 36000/75792 queries. users per second: 137664</pre>"
      ],
      "text/plain": [
       "recommendations finished on 36000/75792 queries. users per second: 137664"
      ]
     },
     "metadata": {},
     "output_type": "display_data"
    },
    {
     "data": {
      "text/html": [
       "<pre>recommendations finished on 37000/75792 queries. users per second: 138937</pre>"
      ],
      "text/plain": [
       "recommendations finished on 37000/75792 queries. users per second: 138937"
      ]
     },
     "metadata": {},
     "output_type": "display_data"
    },
    {
     "data": {
      "text/html": [
       "<pre>recommendations finished on 38000/75792 queries. users per second: 139976</pre>"
      ],
      "text/plain": [
       "recommendations finished on 38000/75792 queries. users per second: 139976"
      ]
     },
     "metadata": {},
     "output_type": "display_data"
    },
    {
     "data": {
      "text/html": [
       "<pre>recommendations finished on 39000/75792 queries. users per second: 140570</pre>"
      ],
      "text/plain": [
       "recommendations finished on 39000/75792 queries. users per second: 140570"
      ]
     },
     "metadata": {},
     "output_type": "display_data"
    },
    {
     "data": {
      "text/html": [
       "<pre>recommendations finished on 40000/75792 queries. users per second: 141536</pre>"
      ],
      "text/plain": [
       "recommendations finished on 40000/75792 queries. users per second: 141536"
      ]
     },
     "metadata": {},
     "output_type": "display_data"
    },
    {
     "data": {
      "text/html": [
       "<pre>recommendations finished on 41000/75792 queries. users per second: 142961</pre>"
      ],
      "text/plain": [
       "recommendations finished on 41000/75792 queries. users per second: 142961"
      ]
     },
     "metadata": {},
     "output_type": "display_data"
    },
    {
     "data": {
      "text/html": [
       "<pre>recommendations finished on 42000/75792 queries. users per second: 143206</pre>"
      ],
      "text/plain": [
       "recommendations finished on 42000/75792 queries. users per second: 143206"
      ]
     },
     "metadata": {},
     "output_type": "display_data"
    },
    {
     "data": {
      "text/html": [
       "<pre>recommendations finished on 43000/75792 queries. users per second: 143213</pre>"
      ],
      "text/plain": [
       "recommendations finished on 43000/75792 queries. users per second: 143213"
      ]
     },
     "metadata": {},
     "output_type": "display_data"
    },
    {
     "data": {
      "text/html": [
       "<pre>recommendations finished on 44000/75792 queries. users per second: 142613</pre>"
      ],
      "text/plain": [
       "recommendations finished on 44000/75792 queries. users per second: 142613"
      ]
     },
     "metadata": {},
     "output_type": "display_data"
    },
    {
     "data": {
      "text/html": [
       "<pre>recommendations finished on 45000/75792 queries. users per second: 142215</pre>"
      ],
      "text/plain": [
       "recommendations finished on 45000/75792 queries. users per second: 142215"
      ]
     },
     "metadata": {},
     "output_type": "display_data"
    },
    {
     "data": {
      "text/html": [
       "<pre>recommendations finished on 46000/75792 queries. users per second: 141484</pre>"
      ],
      "text/plain": [
       "recommendations finished on 46000/75792 queries. users per second: 141484"
      ]
     },
     "metadata": {},
     "output_type": "display_data"
    },
    {
     "data": {
      "text/html": [
       "<pre>recommendations finished on 47000/75792 queries. users per second: 141973</pre>"
      ],
      "text/plain": [
       "recommendations finished on 47000/75792 queries. users per second: 141973"
      ]
     },
     "metadata": {},
     "output_type": "display_data"
    },
    {
     "data": {
      "text/html": [
       "<pre>recommendations finished on 48000/75792 queries. users per second: 142582</pre>"
      ],
      "text/plain": [
       "recommendations finished on 48000/75792 queries. users per second: 142582"
      ]
     },
     "metadata": {},
     "output_type": "display_data"
    },
    {
     "data": {
      "text/html": [
       "<pre>recommendations finished on 49000/75792 queries. users per second: 141943</pre>"
      ],
      "text/plain": [
       "recommendations finished on 49000/75792 queries. users per second: 141943"
      ]
     },
     "metadata": {},
     "output_type": "display_data"
    },
    {
     "data": {
      "text/html": [
       "<pre>recommendations finished on 50000/75792 queries. users per second: 141474</pre>"
      ],
      "text/plain": [
       "recommendations finished on 50000/75792 queries. users per second: 141474"
      ]
     },
     "metadata": {},
     "output_type": "display_data"
    },
    {
     "data": {
      "text/html": [
       "<pre>recommendations finished on 51000/75792 queries. users per second: 141372</pre>"
      ],
      "text/plain": [
       "recommendations finished on 51000/75792 queries. users per second: 141372"
      ]
     },
     "metadata": {},
     "output_type": "display_data"
    },
    {
     "data": {
      "text/html": [
       "<pre>recommendations finished on 52000/75792 queries. users per second: 141719</pre>"
      ],
      "text/plain": [
       "recommendations finished on 52000/75792 queries. users per second: 141719"
      ]
     },
     "metadata": {},
     "output_type": "display_data"
    },
    {
     "data": {
      "text/html": [
       "<pre>recommendations finished on 53000/75792 queries. users per second: 142112</pre>"
      ],
      "text/plain": [
       "recommendations finished on 53000/75792 queries. users per second: 142112"
      ]
     },
     "metadata": {},
     "output_type": "display_data"
    },
    {
     "data": {
      "text/html": [
       "<pre>recommendations finished on 54000/75792 queries. users per second: 142220</pre>"
      ],
      "text/plain": [
       "recommendations finished on 54000/75792 queries. users per second: 142220"
      ]
     },
     "metadata": {},
     "output_type": "display_data"
    },
    {
     "data": {
      "text/html": [
       "<pre>recommendations finished on 55000/75792 queries. users per second: 143123</pre>"
      ],
      "text/plain": [
       "recommendations finished on 55000/75792 queries. users per second: 143123"
      ]
     },
     "metadata": {},
     "output_type": "display_data"
    },
    {
     "data": {
      "text/html": [
       "<pre>recommendations finished on 56000/75792 queries. users per second: 142358</pre>"
      ],
      "text/plain": [
       "recommendations finished on 56000/75792 queries. users per second: 142358"
      ]
     },
     "metadata": {},
     "output_type": "display_data"
    },
    {
     "data": {
      "text/html": [
       "<pre>recommendations finished on 57000/75792 queries. users per second: 142481</pre>"
      ],
      "text/plain": [
       "recommendations finished on 57000/75792 queries. users per second: 142481"
      ]
     },
     "metadata": {},
     "output_type": "display_data"
    },
    {
     "data": {
      "text/html": [
       "<pre>recommendations finished on 58000/75792 queries. users per second: 142696</pre>"
      ],
      "text/plain": [
       "recommendations finished on 58000/75792 queries. users per second: 142696"
      ]
     },
     "metadata": {},
     "output_type": "display_data"
    },
    {
     "data": {
      "text/html": [
       "<pre>recommendations finished on 59000/75792 queries. users per second: 142884</pre>"
      ],
      "text/plain": [
       "recommendations finished on 59000/75792 queries. users per second: 142884"
      ]
     },
     "metadata": {},
     "output_type": "display_data"
    },
    {
     "data": {
      "text/html": [
       "<pre>recommendations finished on 60000/75792 queries. users per second: 143096</pre>"
      ],
      "text/plain": [
       "recommendations finished on 60000/75792 queries. users per second: 143096"
      ]
     },
     "metadata": {},
     "output_type": "display_data"
    },
    {
     "data": {
      "text/html": [
       "<pre>recommendations finished on 61000/75792 queries. users per second: 143507</pre>"
      ],
      "text/plain": [
       "recommendations finished on 61000/75792 queries. users per second: 143507"
      ]
     },
     "metadata": {},
     "output_type": "display_data"
    },
    {
     "data": {
      "text/html": [
       "<pre>recommendations finished on 62000/75792 queries. users per second: 143048</pre>"
      ],
      "text/plain": [
       "recommendations finished on 62000/75792 queries. users per second: 143048"
      ]
     },
     "metadata": {},
     "output_type": "display_data"
    },
    {
     "data": {
      "text/html": [
       "<pre>recommendations finished on 63000/75792 queries. users per second: 143284</pre>"
      ],
      "text/plain": [
       "recommendations finished on 63000/75792 queries. users per second: 143284"
      ]
     },
     "metadata": {},
     "output_type": "display_data"
    },
    {
     "data": {
      "text/html": [
       "<pre>recommendations finished on 64000/75792 queries. users per second: 143557</pre>"
      ],
      "text/plain": [
       "recommendations finished on 64000/75792 queries. users per second: 143557"
      ]
     },
     "metadata": {},
     "output_type": "display_data"
    },
    {
     "data": {
      "text/html": [
       "<pre>recommendations finished on 65000/75792 queries. users per second: 144048</pre>"
      ],
      "text/plain": [
       "recommendations finished on 65000/75792 queries. users per second: 144048"
      ]
     },
     "metadata": {},
     "output_type": "display_data"
    },
    {
     "data": {
      "text/html": [
       "<pre>recommendations finished on 66000/75792 queries. users per second: 144200</pre>"
      ],
      "text/plain": [
       "recommendations finished on 66000/75792 queries. users per second: 144200"
      ]
     },
     "metadata": {},
     "output_type": "display_data"
    },
    {
     "data": {
      "text/html": [
       "<pre>recommendations finished on 67000/75792 queries. users per second: 144106</pre>"
      ],
      "text/plain": [
       "recommendations finished on 67000/75792 queries. users per second: 144106"
      ]
     },
     "metadata": {},
     "output_type": "display_data"
    },
    {
     "data": {
      "text/html": [
       "<pre>recommendations finished on 68000/75792 queries. users per second: 144156</pre>"
      ],
      "text/plain": [
       "recommendations finished on 68000/75792 queries. users per second: 144156"
      ]
     },
     "metadata": {},
     "output_type": "display_data"
    },
    {
     "data": {
      "text/html": [
       "<pre>recommendations finished on 69000/75792 queries. users per second: 144378</pre>"
      ],
      "text/plain": [
       "recommendations finished on 69000/75792 queries. users per second: 144378"
      ]
     },
     "metadata": {},
     "output_type": "display_data"
    },
    {
     "data": {
      "text/html": [
       "<pre>recommendations finished on 70000/75792 queries. users per second: 144871</pre>"
      ],
      "text/plain": [
       "recommendations finished on 70000/75792 queries. users per second: 144871"
      ]
     },
     "metadata": {},
     "output_type": "display_data"
    },
    {
     "data": {
      "text/html": [
       "<pre>recommendations finished on 71000/75792 queries. users per second: 145172</pre>"
      ],
      "text/plain": [
       "recommendations finished on 71000/75792 queries. users per second: 145172"
      ]
     },
     "metadata": {},
     "output_type": "display_data"
    },
    {
     "data": {
      "text/html": [
       "<pre>recommendations finished on 72000/75792 queries. users per second: 145357</pre>"
      ],
      "text/plain": [
       "recommendations finished on 72000/75792 queries. users per second: 145357"
      ]
     },
     "metadata": {},
     "output_type": "display_data"
    },
    {
     "data": {
      "text/html": [
       "<pre>recommendations finished on 73000/75792 queries. users per second: 145759</pre>"
      ],
      "text/plain": [
       "recommendations finished on 73000/75792 queries. users per second: 145759"
      ]
     },
     "metadata": {},
     "output_type": "display_data"
    },
    {
     "data": {
      "text/html": [
       "<pre>recommendations finished on 74000/75792 queries. users per second: 145930</pre>"
      ],
      "text/plain": [
       "recommendations finished on 74000/75792 queries. users per second: 145930"
      ]
     },
     "metadata": {},
     "output_type": "display_data"
    },
    {
     "data": {
      "text/html": [
       "<pre>recommendations finished on 75000/75792 queries. users per second: 145469</pre>"
      ],
      "text/plain": [
       "recommendations finished on 75000/75792 queries. users per second: 145469"
      ]
     },
     "metadata": {},
     "output_type": "display_data"
    }
   ],
   "source": [
    "name = 'cosine'\n",
    "target = 'purchase_count'\n",
    "cos = model(train_data, name, user_id, item_id, target, users_to_recommend, n_rec, n_display)"
   ]
  },
  {
   "cell_type": "code",
   "execution_count": 35,
   "metadata": {},
   "outputs": [
    {
     "data": {
      "text/html": [
       "<pre>Warning: Ignoring columns purchase_count;</pre>"
      ],
      "text/plain": [
       "Warning: Ignoring columns purchase_count;"
      ]
     },
     "metadata": {},
     "output_type": "display_data"
    },
    {
     "data": {
      "text/html": [
       "<pre>    To use these columns in scoring predictions, use a model that allows the use of additional features.</pre>"
      ],
      "text/plain": [
       "    To use these columns in scoring predictions, use a model that allows the use of additional features."
      ]
     },
     "metadata": {},
     "output_type": "display_data"
    },
    {
     "data": {
      "text/html": [
       "<pre>Preparing data set.</pre>"
      ],
      "text/plain": [
       "Preparing data set."
      ]
     },
     "metadata": {},
     "output_type": "display_data"
    },
    {
     "data": {
      "text/html": [
       "<pre>    Data has 60633 observations with 10608 users and 212 items.</pre>"
      ],
      "text/plain": [
       "    Data has 60633 observations with 10608 users and 212 items."
      ]
     },
     "metadata": {},
     "output_type": "display_data"
    },
    {
     "data": {
      "text/html": [
       "<pre>    Data prepared in: 0.082772s</pre>"
      ],
      "text/plain": [
       "    Data prepared in: 0.082772s"
      ]
     },
     "metadata": {},
     "output_type": "display_data"
    },
    {
     "data": {
      "text/html": [
       "<pre>Training model from provided data.</pre>"
      ],
      "text/plain": [
       "Training model from provided data."
      ]
     },
     "metadata": {},
     "output_type": "display_data"
    },
    {
     "data": {
      "text/html": [
       "<pre>Gathering per-item and per-user statistics.</pre>"
      ],
      "text/plain": [
       "Gathering per-item and per-user statistics."
      ]
     },
     "metadata": {},
     "output_type": "display_data"
    },
    {
     "data": {
      "text/html": [
       "<pre>+--------------------------------+------------+</pre>"
      ],
      "text/plain": [
       "+--------------------------------+------------+"
      ]
     },
     "metadata": {},
     "output_type": "display_data"
    },
    {
     "data": {
      "text/html": [
       "<pre>| Elapsed Time (Item Statistics) | % Complete |</pre>"
      ],
      "text/plain": [
       "| Elapsed Time (Item Statistics) | % Complete |"
      ]
     },
     "metadata": {},
     "output_type": "display_data"
    },
    {
     "data": {
      "text/html": [
       "<pre>+--------------------------------+------------+</pre>"
      ],
      "text/plain": [
       "+--------------------------------+------------+"
      ]
     },
     "metadata": {},
     "output_type": "display_data"
    },
    {
     "data": {
      "text/html": [
       "<pre>| 1.102ms                        | 9.25       |</pre>"
      ],
      "text/plain": [
       "| 1.102ms                        | 9.25       |"
      ]
     },
     "metadata": {},
     "output_type": "display_data"
    },
    {
     "data": {
      "text/html": [
       "<pre>| 3.784ms                        | 100        |</pre>"
      ],
      "text/plain": [
       "| 3.784ms                        | 100        |"
      ]
     },
     "metadata": {},
     "output_type": "display_data"
    },
    {
     "data": {
      "text/html": [
       "<pre>+--------------------------------+------------+</pre>"
      ],
      "text/plain": [
       "+--------------------------------+------------+"
      ]
     },
     "metadata": {},
     "output_type": "display_data"
    },
    {
     "data": {
      "text/html": [
       "<pre>Setting up lookup tables.</pre>"
      ],
      "text/plain": [
       "Setting up lookup tables."
      ]
     },
     "metadata": {},
     "output_type": "display_data"
    },
    {
     "data": {
      "text/html": [
       "<pre>Processing data in one pass using dense lookup tables.</pre>"
      ],
      "text/plain": [
       "Processing data in one pass using dense lookup tables."
      ]
     },
     "metadata": {},
     "output_type": "display_data"
    },
    {
     "data": {
      "text/html": [
       "<pre>+-------------------------------------+------------------+-----------------+</pre>"
      ],
      "text/plain": [
       "+-------------------------------------+------------------+-----------------+"
      ]
     },
     "metadata": {},
     "output_type": "display_data"
    },
    {
     "data": {
      "text/html": [
       "<pre>| Elapsed Time (Constructing Lookups) | Total % Complete | Items Processed |</pre>"
      ],
      "text/plain": [
       "| Elapsed Time (Constructing Lookups) | Total % Complete | Items Processed |"
      ]
     },
     "metadata": {},
     "output_type": "display_data"
    },
    {
     "data": {
      "text/html": [
       "<pre>+-------------------------------------+------------------+-----------------+</pre>"
      ],
      "text/plain": [
       "+-------------------------------------+------------------+-----------------+"
      ]
     },
     "metadata": {},
     "output_type": "display_data"
    },
    {
     "data": {
      "text/html": [
       "<pre>| 5.17ms                              | 0                | 0               |</pre>"
      ],
      "text/plain": [
       "| 5.17ms                              | 0                | 0               |"
      ]
     },
     "metadata": {},
     "output_type": "display_data"
    },
    {
     "data": {
      "text/html": [
       "<pre>| 24.283ms                            | 100              | 212             |</pre>"
      ],
      "text/plain": [
       "| 24.283ms                            | 100              | 212             |"
      ]
     },
     "metadata": {},
     "output_type": "display_data"
    },
    {
     "data": {
      "text/html": [
       "<pre>+-------------------------------------+------------------+-----------------+</pre>"
      ],
      "text/plain": [
       "+-------------------------------------+------------------+-----------------+"
      ]
     },
     "metadata": {},
     "output_type": "display_data"
    },
    {
     "data": {
      "text/html": [
       "<pre>Finalizing lookup tables.</pre>"
      ],
      "text/plain": [
       "Finalizing lookup tables."
      ]
     },
     "metadata": {},
     "output_type": "display_data"
    },
    {
     "data": {
      "text/html": [
       "<pre>Generating candidate set for working with new users.</pre>"
      ],
      "text/plain": [
       "Generating candidate set for working with new users."
      ]
     },
     "metadata": {},
     "output_type": "display_data"
    },
    {
     "data": {
      "text/html": [
       "<pre>Finished training in 0.033713s</pre>"
      ],
      "text/plain": [
       "Finished training in 0.033713s"
      ]
     },
     "metadata": {},
     "output_type": "display_data"
    },
    {
     "data": {
      "text/html": [
       "<pre>recommendations finished on 1000/75792 queries. users per second: 31002.9</pre>"
      ],
      "text/plain": [
       "recommendations finished on 1000/75792 queries. users per second: 31002.9"
      ]
     },
     "metadata": {},
     "output_type": "display_data"
    },
    {
     "data": {
      "text/html": [
       "<pre>recommendations finished on 2000/75792 queries. users per second: 52164.8</pre>"
      ],
      "text/plain": [
       "recommendations finished on 2000/75792 queries. users per second: 52164.8"
      ]
     },
     "metadata": {},
     "output_type": "display_data"
    },
    {
     "data": {
      "text/html": [
       "<pre>recommendations finished on 3000/75792 queries. users per second: 69825.9</pre>"
      ],
      "text/plain": [
       "recommendations finished on 3000/75792 queries. users per second: 69825.9"
      ]
     },
     "metadata": {},
     "output_type": "display_data"
    },
    {
     "data": {
      "text/html": [
       "<pre>recommendations finished on 4000/75792 queries. users per second: 80300.3</pre>"
      ],
      "text/plain": [
       "recommendations finished on 4000/75792 queries. users per second: 80300.3"
      ]
     },
     "metadata": {},
     "output_type": "display_data"
    },
    {
     "data": {
      "text/html": [
       "<pre>recommendations finished on 5000/75792 queries. users per second: 87994.1</pre>"
      ],
      "text/plain": [
       "recommendations finished on 5000/75792 queries. users per second: 87994.1"
      ]
     },
     "metadata": {},
     "output_type": "display_data"
    },
    {
     "data": {
      "text/html": [
       "<pre>recommendations finished on 6000/75792 queries. users per second: 94350</pre>"
      ],
      "text/plain": [
       "recommendations finished on 6000/75792 queries. users per second: 94350"
      ]
     },
     "metadata": {},
     "output_type": "display_data"
    },
    {
     "data": {
      "text/html": [
       "<pre>recommendations finished on 7000/75792 queries. users per second: 100083</pre>"
      ],
      "text/plain": [
       "recommendations finished on 7000/75792 queries. users per second: 100083"
      ]
     },
     "metadata": {},
     "output_type": "display_data"
    },
    {
     "data": {
      "text/html": [
       "<pre>recommendations finished on 8000/75792 queries. users per second: 105680</pre>"
      ],
      "text/plain": [
       "recommendations finished on 8000/75792 queries. users per second: 105680"
      ]
     },
     "metadata": {},
     "output_type": "display_data"
    },
    {
     "data": {
      "text/html": [
       "<pre>recommendations finished on 9000/75792 queries. users per second: 112222</pre>"
      ],
      "text/plain": [
       "recommendations finished on 9000/75792 queries. users per second: 112222"
      ]
     },
     "metadata": {},
     "output_type": "display_data"
    },
    {
     "data": {
      "text/html": [
       "<pre>recommendations finished on 10000/75792 queries. users per second: 115619</pre>"
      ],
      "text/plain": [
       "recommendations finished on 10000/75792 queries. users per second: 115619"
      ]
     },
     "metadata": {},
     "output_type": "display_data"
    },
    {
     "data": {
      "text/html": [
       "<pre>recommendations finished on 11000/75792 queries. users per second: 119831</pre>"
      ],
      "text/plain": [
       "recommendations finished on 11000/75792 queries. users per second: 119831"
      ]
     },
     "metadata": {},
     "output_type": "display_data"
    },
    {
     "data": {
      "text/html": [
       "<pre>recommendations finished on 12000/75792 queries. users per second: 124320</pre>"
      ],
      "text/plain": [
       "recommendations finished on 12000/75792 queries. users per second: 124320"
      ]
     },
     "metadata": {},
     "output_type": "display_data"
    },
    {
     "data": {
      "text/html": [
       "<pre>recommendations finished on 13000/75792 queries. users per second: 125581</pre>"
      ],
      "text/plain": [
       "recommendations finished on 13000/75792 queries. users per second: 125581"
      ]
     },
     "metadata": {},
     "output_type": "display_data"
    },
    {
     "data": {
      "text/html": [
       "<pre>recommendations finished on 14000/75792 queries. users per second: 128101</pre>"
      ],
      "text/plain": [
       "recommendations finished on 14000/75792 queries. users per second: 128101"
      ]
     },
     "metadata": {},
     "output_type": "display_data"
    },
    {
     "name": "stdout",
     "output_type": "stream",
     "text": [
      "+------------+-----------+---------------------+------+\n",
      "| customerId | productId |        score        | rank |\n",
      "+------------+-----------+---------------------+------+\n",
      "| 105697630  |  ingarden | 0.21753829717636108 |  1   |\n",
      "| 105697630  |  grattol  | 0.21155695617198944 |  2   |\n",
      "| 105697630  | freedecor | 0.18618328869342804 |  3   |\n",
      "| 105697630  |   domix   | 0.18014919012784958 |  4   |\n",
      "| 105697630  |    uno    | 0.16740696132183075 |  5   |\n",
      "| 105697630  |    milv   | 0.16437480598688126 |  6   |\n",
      "| 105697630  |  severina | 0.15084143728017807 |  7   |\n",
      "| 105697630  |   de.lux  | 0.14920006692409515 |  8   |\n",
      "| 105697630  |   zinger  | 0.13844066113233566 |  9   |\n",
      "| 105697630  |  jessnail |  0.1348465010523796 |  10  |\n",
      "| 126051562  | bpw.style | 0.30916649103164673 |  1   |\n",
      "| 126051562  |   masura  | 0.23814347386360168 |  2   |\n",
      "| 126051562  | freedecor | 0.22777479141950607 |  3   |\n",
      "| 126051562  |   domix   |  0.2090669423341751 |  4   |\n",
      "| 126051562  |    milv   | 0.20381104201078415 |  5   |\n",
      "| 126051562  |  severina |  0.1816033124923706 |  6   |\n",
      "| 126051562  |   zinger  |  0.1659320965409279 |  7   |\n",
      "| 126051562  |  jessnail | 0.16150043159723282 |  8   |\n",
      "| 126051562  |  haruyama | 0.15781629085540771 |  9   |\n",
      "| 126051562  |  lianail  | 0.15112683176994324 |  10  |\n",
      "| 149936015  |   runail  |  0.2315745751063029 |  1   |\n",
      "| 149936015  |   irisk   | 0.22358890374501547 |  2   |\n",
      "| 149936015  | bpw.style | 0.20287052790323892 |  3   |\n",
      "| 149936015  |  grattol  | 0.18984800577163696 |  4   |\n",
      "| 149936015  |    uno    |  0.1510839064915975 |  5   |\n",
      "| 149936015  |   masura  | 0.14290018876393637 |  6   |\n",
      "| 149936015  |   de.lux  |  0.1354476809501648 |  7   |\n",
      "| 149936015  |    milv   | 0.13383509715398154 |  8   |\n",
      "| 149936015  | freedecor | 0.12601719299952188 |  9   |\n",
      "| 149936015  |   domix   | 0.12295367320378621 |  10  |\n",
      "+------------+-----------+---------------------+------+\n",
      "[757920 rows x 4 columns]\n",
      "\n"
     ]
    },
    {
     "data": {
      "text/html": [
       "<pre>recommendations finished on 15000/75792 queries. users per second: 129416</pre>"
      ],
      "text/plain": [
       "recommendations finished on 15000/75792 queries. users per second: 129416"
      ]
     },
     "metadata": {},
     "output_type": "display_data"
    },
    {
     "data": {
      "text/html": [
       "<pre>recommendations finished on 16000/75792 queries. users per second: 132083</pre>"
      ],
      "text/plain": [
       "recommendations finished on 16000/75792 queries. users per second: 132083"
      ]
     },
     "metadata": {},
     "output_type": "display_data"
    },
    {
     "data": {
      "text/html": [
       "<pre>recommendations finished on 17000/75792 queries. users per second: 133746</pre>"
      ],
      "text/plain": [
       "recommendations finished on 17000/75792 queries. users per second: 133746"
      ]
     },
     "metadata": {},
     "output_type": "display_data"
    },
    {
     "data": {
      "text/html": [
       "<pre>recommendations finished on 18000/75792 queries. users per second: 134419</pre>"
      ],
      "text/plain": [
       "recommendations finished on 18000/75792 queries. users per second: 134419"
      ]
     },
     "metadata": {},
     "output_type": "display_data"
    },
    {
     "data": {
      "text/html": [
       "<pre>recommendations finished on 19000/75792 queries. users per second: 135698</pre>"
      ],
      "text/plain": [
       "recommendations finished on 19000/75792 queries. users per second: 135698"
      ]
     },
     "metadata": {},
     "output_type": "display_data"
    },
    {
     "data": {
      "text/html": [
       "<pre>recommendations finished on 20000/75792 queries. users per second: 138224</pre>"
      ],
      "text/plain": [
       "recommendations finished on 20000/75792 queries. users per second: 138224"
      ]
     },
     "metadata": {},
     "output_type": "display_data"
    },
    {
     "data": {
      "text/html": [
       "<pre>recommendations finished on 21000/75792 queries. users per second: 140504</pre>"
      ],
      "text/plain": [
       "recommendations finished on 21000/75792 queries. users per second: 140504"
      ]
     },
     "metadata": {},
     "output_type": "display_data"
    },
    {
     "data": {
      "text/html": [
       "<pre>recommendations finished on 22000/75792 queries. users per second: 141949</pre>"
      ],
      "text/plain": [
       "recommendations finished on 22000/75792 queries. users per second: 141949"
      ]
     },
     "metadata": {},
     "output_type": "display_data"
    },
    {
     "data": {
      "text/html": [
       "<pre>recommendations finished on 23000/75792 queries. users per second: 140871</pre>"
      ],
      "text/plain": [
       "recommendations finished on 23000/75792 queries. users per second: 140871"
      ]
     },
     "metadata": {},
     "output_type": "display_data"
    },
    {
     "data": {
      "text/html": [
       "<pre>recommendations finished on 24000/75792 queries. users per second: 141369</pre>"
      ],
      "text/plain": [
       "recommendations finished on 24000/75792 queries. users per second: 141369"
      ]
     },
     "metadata": {},
     "output_type": "display_data"
    },
    {
     "data": {
      "text/html": [
       "<pre>recommendations finished on 25000/75792 queries. users per second: 141660</pre>"
      ],
      "text/plain": [
       "recommendations finished on 25000/75792 queries. users per second: 141660"
      ]
     },
     "metadata": {},
     "output_type": "display_data"
    },
    {
     "data": {
      "text/html": [
       "<pre>recommendations finished on 26000/75792 queries. users per second: 142441</pre>"
      ],
      "text/plain": [
       "recommendations finished on 26000/75792 queries. users per second: 142441"
      ]
     },
     "metadata": {},
     "output_type": "display_data"
    },
    {
     "data": {
      "text/html": [
       "<pre>recommendations finished on 27000/75792 queries. users per second: 143056</pre>"
      ],
      "text/plain": [
       "recommendations finished on 27000/75792 queries. users per second: 143056"
      ]
     },
     "metadata": {},
     "output_type": "display_data"
    },
    {
     "data": {
      "text/html": [
       "<pre>recommendations finished on 28000/75792 queries. users per second: 144454</pre>"
      ],
      "text/plain": [
       "recommendations finished on 28000/75792 queries. users per second: 144454"
      ]
     },
     "metadata": {},
     "output_type": "display_data"
    },
    {
     "data": {
      "text/html": [
       "<pre>recommendations finished on 29000/75792 queries. users per second: 144279</pre>"
      ],
      "text/plain": [
       "recommendations finished on 29000/75792 queries. users per second: 144279"
      ]
     },
     "metadata": {},
     "output_type": "display_data"
    },
    {
     "data": {
      "text/html": [
       "<pre>recommendations finished on 30000/75792 queries. users per second: 144304</pre>"
      ],
      "text/plain": [
       "recommendations finished on 30000/75792 queries. users per second: 144304"
      ]
     },
     "metadata": {},
     "output_type": "display_data"
    },
    {
     "data": {
      "text/html": [
       "<pre>recommendations finished on 31000/75792 queries. users per second: 142674</pre>"
      ],
      "text/plain": [
       "recommendations finished on 31000/75792 queries. users per second: 142674"
      ]
     },
     "metadata": {},
     "output_type": "display_data"
    },
    {
     "data": {
      "text/html": [
       "<pre>recommendations finished on 32000/75792 queries. users per second: 139995</pre>"
      ],
      "text/plain": [
       "recommendations finished on 32000/75792 queries. users per second: 139995"
      ]
     },
     "metadata": {},
     "output_type": "display_data"
    },
    {
     "data": {
      "text/html": [
       "<pre>recommendations finished on 33000/75792 queries. users per second: 138889</pre>"
      ],
      "text/plain": [
       "recommendations finished on 33000/75792 queries. users per second: 138889"
      ]
     },
     "metadata": {},
     "output_type": "display_data"
    },
    {
     "data": {
      "text/html": [
       "<pre>recommendations finished on 34000/75792 queries. users per second: 139228</pre>"
      ],
      "text/plain": [
       "recommendations finished on 34000/75792 queries. users per second: 139228"
      ]
     },
     "metadata": {},
     "output_type": "display_data"
    },
    {
     "data": {
      "text/html": [
       "<pre>recommendations finished on 35000/75792 queries. users per second: 138932</pre>"
      ],
      "text/plain": [
       "recommendations finished on 35000/75792 queries. users per second: 138932"
      ]
     },
     "metadata": {},
     "output_type": "display_data"
    },
    {
     "data": {
      "text/html": [
       "<pre>recommendations finished on 36000/75792 queries. users per second: 138298</pre>"
      ],
      "text/plain": [
       "recommendations finished on 36000/75792 queries. users per second: 138298"
      ]
     },
     "metadata": {},
     "output_type": "display_data"
    },
    {
     "data": {
      "text/html": [
       "<pre>recommendations finished on 37000/75792 queries. users per second: 138772</pre>"
      ],
      "text/plain": [
       "recommendations finished on 37000/75792 queries. users per second: 138772"
      ]
     },
     "metadata": {},
     "output_type": "display_data"
    },
    {
     "data": {
      "text/html": [
       "<pre>recommendations finished on 38000/75792 queries. users per second: 137949</pre>"
      ],
      "text/plain": [
       "recommendations finished on 38000/75792 queries. users per second: 137949"
      ]
     },
     "metadata": {},
     "output_type": "display_data"
    },
    {
     "data": {
      "text/html": [
       "<pre>recommendations finished on 39000/75792 queries. users per second: 138892</pre>"
      ],
      "text/plain": [
       "recommendations finished on 39000/75792 queries. users per second: 138892"
      ]
     },
     "metadata": {},
     "output_type": "display_data"
    },
    {
     "data": {
      "text/html": [
       "<pre>recommendations finished on 40000/75792 queries. users per second: 138458</pre>"
      ],
      "text/plain": [
       "recommendations finished on 40000/75792 queries. users per second: 138458"
      ]
     },
     "metadata": {},
     "output_type": "display_data"
    },
    {
     "data": {
      "text/html": [
       "<pre>recommendations finished on 41000/75792 queries. users per second: 138318</pre>"
      ],
      "text/plain": [
       "recommendations finished on 41000/75792 queries. users per second: 138318"
      ]
     },
     "metadata": {},
     "output_type": "display_data"
    },
    {
     "data": {
      "text/html": [
       "<pre>recommendations finished on 42000/75792 queries. users per second: 138429</pre>"
      ],
      "text/plain": [
       "recommendations finished on 42000/75792 queries. users per second: 138429"
      ]
     },
     "metadata": {},
     "output_type": "display_data"
    },
    {
     "data": {
      "text/html": [
       "<pre>recommendations finished on 43000/75792 queries. users per second: 139089</pre>"
      ],
      "text/plain": [
       "recommendations finished on 43000/75792 queries. users per second: 139089"
      ]
     },
     "metadata": {},
     "output_type": "display_data"
    },
    {
     "data": {
      "text/html": [
       "<pre>recommendations finished on 44000/75792 queries. users per second: 139512</pre>"
      ],
      "text/plain": [
       "recommendations finished on 44000/75792 queries. users per second: 139512"
      ]
     },
     "metadata": {},
     "output_type": "display_data"
    },
    {
     "data": {
      "text/html": [
       "<pre>recommendations finished on 45000/75792 queries. users per second: 139477</pre>"
      ],
      "text/plain": [
       "recommendations finished on 45000/75792 queries. users per second: 139477"
      ]
     },
     "metadata": {},
     "output_type": "display_data"
    },
    {
     "data": {
      "text/html": [
       "<pre>recommendations finished on 46000/75792 queries. users per second: 140201</pre>"
      ],
      "text/plain": [
       "recommendations finished on 46000/75792 queries. users per second: 140201"
      ]
     },
     "metadata": {},
     "output_type": "display_data"
    },
    {
     "data": {
      "text/html": [
       "<pre>recommendations finished on 47000/75792 queries. users per second: 141285</pre>"
      ],
      "text/plain": [
       "recommendations finished on 47000/75792 queries. users per second: 141285"
      ]
     },
     "metadata": {},
     "output_type": "display_data"
    },
    {
     "data": {
      "text/html": [
       "<pre>recommendations finished on 48000/75792 queries. users per second: 140989</pre>"
      ],
      "text/plain": [
       "recommendations finished on 48000/75792 queries. users per second: 140989"
      ]
     },
     "metadata": {},
     "output_type": "display_data"
    },
    {
     "data": {
      "text/html": [
       "<pre>recommendations finished on 49000/75792 queries. users per second: 141373</pre>"
      ],
      "text/plain": [
       "recommendations finished on 49000/75792 queries. users per second: 141373"
      ]
     },
     "metadata": {},
     "output_type": "display_data"
    },
    {
     "data": {
      "text/html": [
       "<pre>recommendations finished on 50000/75792 queries. users per second: 142251</pre>"
      ],
      "text/plain": [
       "recommendations finished on 50000/75792 queries. users per second: 142251"
      ]
     },
     "metadata": {},
     "output_type": "display_data"
    },
    {
     "data": {
      "text/html": [
       "<pre>recommendations finished on 51000/75792 queries. users per second: 142822</pre>"
      ],
      "text/plain": [
       "recommendations finished on 51000/75792 queries. users per second: 142822"
      ]
     },
     "metadata": {},
     "output_type": "display_data"
    },
    {
     "data": {
      "text/html": [
       "<pre>recommendations finished on 52000/75792 queries. users per second: 141657</pre>"
      ],
      "text/plain": [
       "recommendations finished on 52000/75792 queries. users per second: 141657"
      ]
     },
     "metadata": {},
     "output_type": "display_data"
    },
    {
     "data": {
      "text/html": [
       "<pre>recommendations finished on 53000/75792 queries. users per second: 140580</pre>"
      ],
      "text/plain": [
       "recommendations finished on 53000/75792 queries. users per second: 140580"
      ]
     },
     "metadata": {},
     "output_type": "display_data"
    },
    {
     "data": {
      "text/html": [
       "<pre>recommendations finished on 54000/75792 queries. users per second: 140727</pre>"
      ],
      "text/plain": [
       "recommendations finished on 54000/75792 queries. users per second: 140727"
      ]
     },
     "metadata": {},
     "output_type": "display_data"
    },
    {
     "data": {
      "text/html": [
       "<pre>recommendations finished on 55000/75792 queries. users per second: 140760</pre>"
      ],
      "text/plain": [
       "recommendations finished on 55000/75792 queries. users per second: 140760"
      ]
     },
     "metadata": {},
     "output_type": "display_data"
    },
    {
     "data": {
      "text/html": [
       "<pre>recommendations finished on 56000/75792 queries. users per second: 140918</pre>"
      ],
      "text/plain": [
       "recommendations finished on 56000/75792 queries. users per second: 140918"
      ]
     },
     "metadata": {},
     "output_type": "display_data"
    },
    {
     "data": {
      "text/html": [
       "<pre>recommendations finished on 57000/75792 queries. users per second: 141303</pre>"
      ],
      "text/plain": [
       "recommendations finished on 57000/75792 queries. users per second: 141303"
      ]
     },
     "metadata": {},
     "output_type": "display_data"
    },
    {
     "data": {
      "text/html": [
       "<pre>recommendations finished on 58000/75792 queries. users per second: 141888</pre>"
      ],
      "text/plain": [
       "recommendations finished on 58000/75792 queries. users per second: 141888"
      ]
     },
     "metadata": {},
     "output_type": "display_data"
    },
    {
     "data": {
      "text/html": [
       "<pre>recommendations finished on 59000/75792 queries. users per second: 142030</pre>"
      ],
      "text/plain": [
       "recommendations finished on 59000/75792 queries. users per second: 142030"
      ]
     },
     "metadata": {},
     "output_type": "display_data"
    },
    {
     "data": {
      "text/html": [
       "<pre>recommendations finished on 60000/75792 queries. users per second: 142938</pre>"
      ],
      "text/plain": [
       "recommendations finished on 60000/75792 queries. users per second: 142938"
      ]
     },
     "metadata": {},
     "output_type": "display_data"
    },
    {
     "data": {
      "text/html": [
       "<pre>recommendations finished on 61000/75792 queries. users per second: 143355</pre>"
      ],
      "text/plain": [
       "recommendations finished on 61000/75792 queries. users per second: 143355"
      ]
     },
     "metadata": {},
     "output_type": "display_data"
    },
    {
     "data": {
      "text/html": [
       "<pre>recommendations finished on 62000/75792 queries. users per second: 143159</pre>"
      ],
      "text/plain": [
       "recommendations finished on 62000/75792 queries. users per second: 143159"
      ]
     },
     "metadata": {},
     "output_type": "display_data"
    },
    {
     "data": {
      "text/html": [
       "<pre>recommendations finished on 63000/75792 queries. users per second: 143890</pre>"
      ],
      "text/plain": [
       "recommendations finished on 63000/75792 queries. users per second: 143890"
      ]
     },
     "metadata": {},
     "output_type": "display_data"
    },
    {
     "data": {
      "text/html": [
       "<pre>recommendations finished on 64000/75792 queries. users per second: 144288</pre>"
      ],
      "text/plain": [
       "recommendations finished on 64000/75792 queries. users per second: 144288"
      ]
     },
     "metadata": {},
     "output_type": "display_data"
    },
    {
     "data": {
      "text/html": [
       "<pre>recommendations finished on 65000/75792 queries. users per second: 144957</pre>"
      ],
      "text/plain": [
       "recommendations finished on 65000/75792 queries. users per second: 144957"
      ]
     },
     "metadata": {},
     "output_type": "display_data"
    },
    {
     "data": {
      "text/html": [
       "<pre>recommendations finished on 66000/75792 queries. users per second: 144985</pre>"
      ],
      "text/plain": [
       "recommendations finished on 66000/75792 queries. users per second: 144985"
      ]
     },
     "metadata": {},
     "output_type": "display_data"
    },
    {
     "data": {
      "text/html": [
       "<pre>recommendations finished on 67000/75792 queries. users per second: 145465</pre>"
      ],
      "text/plain": [
       "recommendations finished on 67000/75792 queries. users per second: 145465"
      ]
     },
     "metadata": {},
     "output_type": "display_data"
    },
    {
     "data": {
      "text/html": [
       "<pre>recommendations finished on 68000/75792 queries. users per second: 145559</pre>"
      ],
      "text/plain": [
       "recommendations finished on 68000/75792 queries. users per second: 145559"
      ]
     },
     "metadata": {},
     "output_type": "display_data"
    },
    {
     "data": {
      "text/html": [
       "<pre>recommendations finished on 69000/75792 queries. users per second: 146078</pre>"
      ],
      "text/plain": [
       "recommendations finished on 69000/75792 queries. users per second: 146078"
      ]
     },
     "metadata": {},
     "output_type": "display_data"
    },
    {
     "data": {
      "text/html": [
       "<pre>recommendations finished on 70000/75792 queries. users per second: 146793</pre>"
      ],
      "text/plain": [
       "recommendations finished on 70000/75792 queries. users per second: 146793"
      ]
     },
     "metadata": {},
     "output_type": "display_data"
    },
    {
     "data": {
      "text/html": [
       "<pre>recommendations finished on 71000/75792 queries. users per second: 147264</pre>"
      ],
      "text/plain": [
       "recommendations finished on 71000/75792 queries. users per second: 147264"
      ]
     },
     "metadata": {},
     "output_type": "display_data"
    },
    {
     "data": {
      "text/html": [
       "<pre>recommendations finished on 72000/75792 queries. users per second: 146562</pre>"
      ],
      "text/plain": [
       "recommendations finished on 72000/75792 queries. users per second: 146562"
      ]
     },
     "metadata": {},
     "output_type": "display_data"
    },
    {
     "data": {
      "text/html": [
       "<pre>recommendations finished on 73000/75792 queries. users per second: 147005</pre>"
      ],
      "text/plain": [
       "recommendations finished on 73000/75792 queries. users per second: 147005"
      ]
     },
     "metadata": {},
     "output_type": "display_data"
    },
    {
     "data": {
      "text/html": [
       "<pre>recommendations finished on 74000/75792 queries. users per second: 146655</pre>"
      ],
      "text/plain": [
       "recommendations finished on 74000/75792 queries. users per second: 146655"
      ]
     },
     "metadata": {},
     "output_type": "display_data"
    },
    {
     "data": {
      "text/html": [
       "<pre>recommendations finished on 75000/75792 queries. users per second: 146350</pre>"
      ],
      "text/plain": [
       "recommendations finished on 75000/75792 queries. users per second: 146350"
      ]
     },
     "metadata": {},
     "output_type": "display_data"
    }
   ],
   "source": [
    "name = 'cosine'\n",
    "target = 'purchase_dummy'\n",
    "cos_dummy = model(train_data_dummy, name, user_id, item_id, target, users_to_recommend, n_rec, n_display)"
   ]
  },
  {
   "cell_type": "code",
   "execution_count": 36,
   "metadata": {},
   "outputs": [
    {
     "data": {
      "text/html": [
       "<pre>Preparing data set.</pre>"
      ],
      "text/plain": [
       "Preparing data set."
      ]
     },
     "metadata": {},
     "output_type": "display_data"
    },
    {
     "data": {
      "text/html": [
       "<pre>    Data has 60485 observations with 10605 users and 172 items.</pre>"
      ],
      "text/plain": [
       "    Data has 60485 observations with 10605 users and 172 items."
      ]
     },
     "metadata": {},
     "output_type": "display_data"
    },
    {
     "data": {
      "text/html": [
       "<pre>    Data prepared in: 0.090875s</pre>"
      ],
      "text/plain": [
       "    Data prepared in: 0.090875s"
      ]
     },
     "metadata": {},
     "output_type": "display_data"
    },
    {
     "data": {
      "text/html": [
       "<pre>Training model from provided data.</pre>"
      ],
      "text/plain": [
       "Training model from provided data."
      ]
     },
     "metadata": {},
     "output_type": "display_data"
    },
    {
     "data": {
      "text/html": [
       "<pre>Gathering per-item and per-user statistics.</pre>"
      ],
      "text/plain": [
       "Gathering per-item and per-user statistics."
      ]
     },
     "metadata": {},
     "output_type": "display_data"
    },
    {
     "data": {
      "text/html": [
       "<pre>+--------------------------------+------------+</pre>"
      ],
      "text/plain": [
       "+--------------------------------+------------+"
      ]
     },
     "metadata": {},
     "output_type": "display_data"
    },
    {
     "data": {
      "text/html": [
       "<pre>| Elapsed Time (Item Statistics) | % Complete |</pre>"
      ],
      "text/plain": [
       "| Elapsed Time (Item Statistics) | % Complete |"
      ]
     },
     "metadata": {},
     "output_type": "display_data"
    },
    {
     "data": {
      "text/html": [
       "<pre>+--------------------------------+------------+</pre>"
      ],
      "text/plain": [
       "+--------------------------------+------------+"
      ]
     },
     "metadata": {},
     "output_type": "display_data"
    },
    {
     "data": {
      "text/html": [
       "<pre>| 1.199ms                        | 9.25       |</pre>"
      ],
      "text/plain": [
       "| 1.199ms                        | 9.25       |"
      ]
     },
     "metadata": {},
     "output_type": "display_data"
    },
    {
     "data": {
      "text/html": [
       "<pre>| 10.33ms                        | 100        |</pre>"
      ],
      "text/plain": [
       "| 10.33ms                        | 100        |"
      ]
     },
     "metadata": {},
     "output_type": "display_data"
    },
    {
     "data": {
      "text/html": [
       "<pre>+--------------------------------+------------+</pre>"
      ],
      "text/plain": [
       "+--------------------------------+------------+"
      ]
     },
     "metadata": {},
     "output_type": "display_data"
    },
    {
     "data": {
      "text/html": [
       "<pre>Setting up lookup tables.</pre>"
      ],
      "text/plain": [
       "Setting up lookup tables."
      ]
     },
     "metadata": {},
     "output_type": "display_data"
    },
    {
     "data": {
      "text/html": [
       "<pre>Processing data in one pass using dense lookup tables.</pre>"
      ],
      "text/plain": [
       "Processing data in one pass using dense lookup tables."
      ]
     },
     "metadata": {},
     "output_type": "display_data"
    },
    {
     "data": {
      "text/html": [
       "<pre>+-------------------------------------+------------------+-----------------+</pre>"
      ],
      "text/plain": [
       "+-------------------------------------+------------------+-----------------+"
      ]
     },
     "metadata": {},
     "output_type": "display_data"
    },
    {
     "data": {
      "text/html": [
       "<pre>| Elapsed Time (Constructing Lookups) | Total % Complete | Items Processed |</pre>"
      ],
      "text/plain": [
       "| Elapsed Time (Constructing Lookups) | Total % Complete | Items Processed |"
      ]
     },
     "metadata": {},
     "output_type": "display_data"
    },
    {
     "data": {
      "text/html": [
       "<pre>+-------------------------------------+------------------+-----------------+</pre>"
      ],
      "text/plain": [
       "+-------------------------------------+------------------+-----------------+"
      ]
     },
     "metadata": {},
     "output_type": "display_data"
    },
    {
     "data": {
      "text/html": [
       "<pre>| 12.53ms                             | 0                | 0               |</pre>"
      ],
      "text/plain": [
       "| 12.53ms                             | 0                | 0               |"
      ]
     },
     "metadata": {},
     "output_type": "display_data"
    },
    {
     "data": {
      "text/html": [
       "<pre>| 22.908ms                            | 100              | 172             |</pre>"
      ],
      "text/plain": [
       "| 22.908ms                            | 100              | 172             |"
      ]
     },
     "metadata": {},
     "output_type": "display_data"
    },
    {
     "data": {
      "text/html": [
       "<pre>+-------------------------------------+------------------+-----------------+</pre>"
      ],
      "text/plain": [
       "+-------------------------------------+------------------+-----------------+"
      ]
     },
     "metadata": {},
     "output_type": "display_data"
    },
    {
     "data": {
      "text/html": [
       "<pre>Finalizing lookup tables.</pre>"
      ],
      "text/plain": [
       "Finalizing lookup tables."
      ]
     },
     "metadata": {},
     "output_type": "display_data"
    },
    {
     "data": {
      "text/html": [
       "<pre>Generating candidate set for working with new users.</pre>"
      ],
      "text/plain": [
       "Generating candidate set for working with new users."
      ]
     },
     "metadata": {},
     "output_type": "display_data"
    },
    {
     "data": {
      "text/html": [
       "<pre>Finished training in 0.045453s</pre>"
      ],
      "text/plain": [
       "Finished training in 0.045453s"
      ]
     },
     "metadata": {},
     "output_type": "display_data"
    },
    {
     "data": {
      "text/html": [
       "<pre>recommendations finished on 1000/75792 queries. users per second: 47810.3</pre>"
      ],
      "text/plain": [
       "recommendations finished on 1000/75792 queries. users per second: 47810.3"
      ]
     },
     "metadata": {},
     "output_type": "display_data"
    },
    {
     "data": {
      "text/html": [
       "<pre>recommendations finished on 2000/75792 queries. users per second: 78858.1</pre>"
      ],
      "text/plain": [
       "recommendations finished on 2000/75792 queries. users per second: 78858.1"
      ]
     },
     "metadata": {},
     "output_type": "display_data"
    },
    {
     "data": {
      "text/html": [
       "<pre>recommendations finished on 3000/75792 queries. users per second: 91188.2</pre>"
      ],
      "text/plain": [
       "recommendations finished on 3000/75792 queries. users per second: 91188.2"
      ]
     },
     "metadata": {},
     "output_type": "display_data"
    },
    {
     "data": {
      "text/html": [
       "<pre>recommendations finished on 4000/75792 queries. users per second: 101696</pre>"
      ],
      "text/plain": [
       "recommendations finished on 4000/75792 queries. users per second: 101696"
      ]
     },
     "metadata": {},
     "output_type": "display_data"
    },
    {
     "data": {
      "text/html": [
       "<pre>recommendations finished on 5000/75792 queries. users per second: 111789</pre>"
      ],
      "text/plain": [
       "recommendations finished on 5000/75792 queries. users per second: 111789"
      ]
     },
     "metadata": {},
     "output_type": "display_data"
    },
    {
     "data": {
      "text/html": [
       "<pre>recommendations finished on 6000/75792 queries. users per second: 116718</pre>"
      ],
      "text/plain": [
       "recommendations finished on 6000/75792 queries. users per second: 116718"
      ]
     },
     "metadata": {},
     "output_type": "display_data"
    },
    {
     "data": {
      "text/html": [
       "<pre>recommendations finished on 7000/75792 queries. users per second: 120318</pre>"
      ],
      "text/plain": [
       "recommendations finished on 7000/75792 queries. users per second: 120318"
      ]
     },
     "metadata": {},
     "output_type": "display_data"
    },
    {
     "name": "stdout",
     "output_type": "stream",
     "text": [
      "+------------+-------------+-----------------------+------+\n",
      "| customerId |  productId  |         score         | rank |\n",
      "+------------+-------------+-----------------------+------+\n",
      "| 105697630  |    irisk    |  0.006274844918932233 |  1   |\n",
      "| 105697630  |    domix    | 0.0035774452345711844 |  2   |\n",
      "| 105697630  |    de.lux   | 0.0033263819558279856 |  3   |\n",
      "| 105697630  |  freedecor  | 0.0031950814383370535 |  4   |\n",
      "| 105697630  |   ingarden  | 0.0029682346752711703 |  5   |\n",
      "| 105697630  |   grattol   |  0.002919239657265799 |  6   |\n",
      "| 105697630  |   severina  | 0.0025632636887686594 |  7   |\n",
      "| 105697630  |     milv    | 0.0024867398398263113 |  8   |\n",
      "| 105697630  |    zinger   | 0.0024011731147766113 |  9   |\n",
      "| 105697630  |     uno     |  0.002041935920715332 |  10  |\n",
      "| 126051562  |   farmona   | 0.0032359063625335693 |  1   |\n",
      "| 126051562  |  igrobeauty |  0.002030588686466217 |  2   |\n",
      "| 126051562  |  art-visage | 0.0017753541469573975 |  3   |\n",
      "| 126051562  |    irisk    | 0.0017291158437728882 |  4   |\n",
      "| 126051562  |   severina  |  0.001467391848564148 |  5   |\n",
      "| 126051562  |     yoko    | 0.0014190003275871277 |  6   |\n",
      "| 126051562  |    domix    | 0.0013397932052612305 |  7   |\n",
      "| 126051562  |  browxenna  | 0.0013299211859703064 |  8   |\n",
      "| 126051562  |  refectocil | 0.0011441409587860107 |  9   |\n",
      "| 126051562  |    estel    |  0.001058436930179596 |  10  |\n",
      "| 149936015  |   beautix   | 0.0069579680760701495 |  1   |\n",
      "| 149936015  |    artex    |  0.004185398419698079 |  2   |\n",
      "| 149936015  |  bpw.style  | 0.0035573840141296387 |  3   |\n",
      "| 149936015  | beauty-free | 0.0031740268071492514 |  4   |\n",
      "| 149936015  |  freedecor  | 0.0022924343744913736 |  5   |\n",
      "| 149936015  |   kinetics  | 0.0022902687390645346 |  6   |\n",
      "| 149936015  |    runail   | 0.0016901493072509766 |  7   |\n",
      "| 149936015  |   lianail   | 0.0013281901677449544 |  8   |\n",
      "| 149936015  |     pole    | 0.0012673536936442058 |  9   |\n",
      "| 149936015  |     uno     |  0.00117264191309611  |  10  |\n",
      "+------------+-------------+-----------------------+------+\n",
      "[757920 rows x 4 columns]\n",
      "\n"
     ]
    },
    {
     "data": {
      "text/html": [
       "<pre>recommendations finished on 8000/75792 queries. users per second: 125599</pre>"
      ],
      "text/plain": [
       "recommendations finished on 8000/75792 queries. users per second: 125599"
      ]
     },
     "metadata": {},
     "output_type": "display_data"
    },
    {
     "data": {
      "text/html": [
       "<pre>recommendations finished on 9000/75792 queries. users per second: 128731</pre>"
      ],
      "text/plain": [
       "recommendations finished on 9000/75792 queries. users per second: 128731"
      ]
     },
     "metadata": {},
     "output_type": "display_data"
    },
    {
     "data": {
      "text/html": [
       "<pre>recommendations finished on 10000/75792 queries. users per second: 132188</pre>"
      ],
      "text/plain": [
       "recommendations finished on 10000/75792 queries. users per second: 132188"
      ]
     },
     "metadata": {},
     "output_type": "display_data"
    },
    {
     "data": {
      "text/html": [
       "<pre>recommendations finished on 11000/75792 queries. users per second: 135019</pre>"
      ],
      "text/plain": [
       "recommendations finished on 11000/75792 queries. users per second: 135019"
      ]
     },
     "metadata": {},
     "output_type": "display_data"
    },
    {
     "data": {
      "text/html": [
       "<pre>recommendations finished on 12000/75792 queries. users per second: 137119</pre>"
      ],
      "text/plain": [
       "recommendations finished on 12000/75792 queries. users per second: 137119"
      ]
     },
     "metadata": {},
     "output_type": "display_data"
    },
    {
     "data": {
      "text/html": [
       "<pre>recommendations finished on 13000/75792 queries. users per second: 140237</pre>"
      ],
      "text/plain": [
       "recommendations finished on 13000/75792 queries. users per second: 140237"
      ]
     },
     "metadata": {},
     "output_type": "display_data"
    },
    {
     "data": {
      "text/html": [
       "<pre>recommendations finished on 14000/75792 queries. users per second: 141441</pre>"
      ],
      "text/plain": [
       "recommendations finished on 14000/75792 queries. users per second: 141441"
      ]
     },
     "metadata": {},
     "output_type": "display_data"
    },
    {
     "data": {
      "text/html": [
       "<pre>recommendations finished on 15000/75792 queries. users per second: 144209</pre>"
      ],
      "text/plain": [
       "recommendations finished on 15000/75792 queries. users per second: 144209"
      ]
     },
     "metadata": {},
     "output_type": "display_data"
    },
    {
     "data": {
      "text/html": [
       "<pre>recommendations finished on 16000/75792 queries. users per second: 146523</pre>"
      ],
      "text/plain": [
       "recommendations finished on 16000/75792 queries. users per second: 146523"
      ]
     },
     "metadata": {},
     "output_type": "display_data"
    },
    {
     "data": {
      "text/html": [
       "<pre>recommendations finished on 17000/75792 queries. users per second: 146835</pre>"
      ],
      "text/plain": [
       "recommendations finished on 17000/75792 queries. users per second: 146835"
      ]
     },
     "metadata": {},
     "output_type": "display_data"
    },
    {
     "data": {
      "text/html": [
       "<pre>recommendations finished on 18000/75792 queries. users per second: 147437</pre>"
      ],
      "text/plain": [
       "recommendations finished on 18000/75792 queries. users per second: 147437"
      ]
     },
     "metadata": {},
     "output_type": "display_data"
    },
    {
     "data": {
      "text/html": [
       "<pre>recommendations finished on 19000/75792 queries. users per second: 149104</pre>"
      ],
      "text/plain": [
       "recommendations finished on 19000/75792 queries. users per second: 149104"
      ]
     },
     "metadata": {},
     "output_type": "display_data"
    },
    {
     "data": {
      "text/html": [
       "<pre>recommendations finished on 20000/75792 queries. users per second: 151903</pre>"
      ],
      "text/plain": [
       "recommendations finished on 20000/75792 queries. users per second: 151903"
      ]
     },
     "metadata": {},
     "output_type": "display_data"
    },
    {
     "data": {
      "text/html": [
       "<pre>recommendations finished on 21000/75792 queries. users per second: 151884</pre>"
      ],
      "text/plain": [
       "recommendations finished on 21000/75792 queries. users per second: 151884"
      ]
     },
     "metadata": {},
     "output_type": "display_data"
    },
    {
     "data": {
      "text/html": [
       "<pre>recommendations finished on 22000/75792 queries. users per second: 151016</pre>"
      ],
      "text/plain": [
       "recommendations finished on 22000/75792 queries. users per second: 151016"
      ]
     },
     "metadata": {},
     "output_type": "display_data"
    },
    {
     "data": {
      "text/html": [
       "<pre>recommendations finished on 23000/75792 queries. users per second: 153208</pre>"
      ],
      "text/plain": [
       "recommendations finished on 23000/75792 queries. users per second: 153208"
      ]
     },
     "metadata": {},
     "output_type": "display_data"
    },
    {
     "data": {
      "text/html": [
       "<pre>recommendations finished on 24000/75792 queries. users per second: 153784</pre>"
      ],
      "text/plain": [
       "recommendations finished on 24000/75792 queries. users per second: 153784"
      ]
     },
     "metadata": {},
     "output_type": "display_data"
    },
    {
     "data": {
      "text/html": [
       "<pre>recommendations finished on 25000/75792 queries. users per second: 154374</pre>"
      ],
      "text/plain": [
       "recommendations finished on 25000/75792 queries. users per second: 154374"
      ]
     },
     "metadata": {},
     "output_type": "display_data"
    },
    {
     "data": {
      "text/html": [
       "<pre>recommendations finished on 26000/75792 queries. users per second: 155305</pre>"
      ],
      "text/plain": [
       "recommendations finished on 26000/75792 queries. users per second: 155305"
      ]
     },
     "metadata": {},
     "output_type": "display_data"
    },
    {
     "data": {
      "text/html": [
       "<pre>recommendations finished on 27000/75792 queries. users per second: 156942</pre>"
      ],
      "text/plain": [
       "recommendations finished on 27000/75792 queries. users per second: 156942"
      ]
     },
     "metadata": {},
     "output_type": "display_data"
    },
    {
     "data": {
      "text/html": [
       "<pre>recommendations finished on 28000/75792 queries. users per second: 158522</pre>"
      ],
      "text/plain": [
       "recommendations finished on 28000/75792 queries. users per second: 158522"
      ]
     },
     "metadata": {},
     "output_type": "display_data"
    },
    {
     "data": {
      "text/html": [
       "<pre>recommendations finished on 29000/75792 queries. users per second: 158409</pre>"
      ],
      "text/plain": [
       "recommendations finished on 29000/75792 queries. users per second: 158409"
      ]
     },
     "metadata": {},
     "output_type": "display_data"
    },
    {
     "data": {
      "text/html": [
       "<pre>recommendations finished on 30000/75792 queries. users per second: 158509</pre>"
      ],
      "text/plain": [
       "recommendations finished on 30000/75792 queries. users per second: 158509"
      ]
     },
     "metadata": {},
     "output_type": "display_data"
    },
    {
     "data": {
      "text/html": [
       "<pre>recommendations finished on 31000/75792 queries. users per second: 157526</pre>"
      ],
      "text/plain": [
       "recommendations finished on 31000/75792 queries. users per second: 157526"
      ]
     },
     "metadata": {},
     "output_type": "display_data"
    },
    {
     "data": {
      "text/html": [
       "<pre>recommendations finished on 32000/75792 queries. users per second: 156123</pre>"
      ],
      "text/plain": [
       "recommendations finished on 32000/75792 queries. users per second: 156123"
      ]
     },
     "metadata": {},
     "output_type": "display_data"
    },
    {
     "data": {
      "text/html": [
       "<pre>recommendations finished on 33000/75792 queries. users per second: 155410</pre>"
      ],
      "text/plain": [
       "recommendations finished on 33000/75792 queries. users per second: 155410"
      ]
     },
     "metadata": {},
     "output_type": "display_data"
    },
    {
     "data": {
      "text/html": [
       "<pre>recommendations finished on 34000/75792 queries. users per second: 156270</pre>"
      ],
      "text/plain": [
       "recommendations finished on 34000/75792 queries. users per second: 156270"
      ]
     },
     "metadata": {},
     "output_type": "display_data"
    },
    {
     "data": {
      "text/html": [
       "<pre>recommendations finished on 35000/75792 queries. users per second: 157171</pre>"
      ],
      "text/plain": [
       "recommendations finished on 35000/75792 queries. users per second: 157171"
      ]
     },
     "metadata": {},
     "output_type": "display_data"
    },
    {
     "data": {
      "text/html": [
       "<pre>recommendations finished on 36000/75792 queries. users per second: 157917</pre>"
      ],
      "text/plain": [
       "recommendations finished on 36000/75792 queries. users per second: 157917"
      ]
     },
     "metadata": {},
     "output_type": "display_data"
    },
    {
     "data": {
      "text/html": [
       "<pre>recommendations finished on 37000/75792 queries. users per second: 156719</pre>"
      ],
      "text/plain": [
       "recommendations finished on 37000/75792 queries. users per second: 156719"
      ]
     },
     "metadata": {},
     "output_type": "display_data"
    },
    {
     "data": {
      "text/html": [
       "<pre>recommendations finished on 38000/75792 queries. users per second: 156562</pre>"
      ],
      "text/plain": [
       "recommendations finished on 38000/75792 queries. users per second: 156562"
      ]
     },
     "metadata": {},
     "output_type": "display_data"
    },
    {
     "data": {
      "text/html": [
       "<pre>recommendations finished on 39000/75792 queries. users per second: 157086</pre>"
      ],
      "text/plain": [
       "recommendations finished on 39000/75792 queries. users per second: 157086"
      ]
     },
     "metadata": {},
     "output_type": "display_data"
    },
    {
     "data": {
      "text/html": [
       "<pre>recommendations finished on 40000/75792 queries. users per second: 157737</pre>"
      ],
      "text/plain": [
       "recommendations finished on 40000/75792 queries. users per second: 157737"
      ]
     },
     "metadata": {},
     "output_type": "display_data"
    },
    {
     "data": {
      "text/html": [
       "<pre>recommendations finished on 41000/75792 queries. users per second: 157623</pre>"
      ],
      "text/plain": [
       "recommendations finished on 41000/75792 queries. users per second: 157623"
      ]
     },
     "metadata": {},
     "output_type": "display_data"
    },
    {
     "data": {
      "text/html": [
       "<pre>recommendations finished on 42000/75792 queries. users per second: 157995</pre>"
      ],
      "text/plain": [
       "recommendations finished on 42000/75792 queries. users per second: 157995"
      ]
     },
     "metadata": {},
     "output_type": "display_data"
    },
    {
     "data": {
      "text/html": [
       "<pre>recommendations finished on 43000/75792 queries. users per second: 157305</pre>"
      ],
      "text/plain": [
       "recommendations finished on 43000/75792 queries. users per second: 157305"
      ]
     },
     "metadata": {},
     "output_type": "display_data"
    },
    {
     "data": {
      "text/html": [
       "<pre>recommendations finished on 44000/75792 queries. users per second: 158207</pre>"
      ],
      "text/plain": [
       "recommendations finished on 44000/75792 queries. users per second: 158207"
      ]
     },
     "metadata": {},
     "output_type": "display_data"
    },
    {
     "data": {
      "text/html": [
       "<pre>recommendations finished on 45000/75792 queries. users per second: 159211</pre>"
      ],
      "text/plain": [
       "recommendations finished on 45000/75792 queries. users per second: 159211"
      ]
     },
     "metadata": {},
     "output_type": "display_data"
    },
    {
     "data": {
      "text/html": [
       "<pre>recommendations finished on 46000/75792 queries. users per second: 160109</pre>"
      ],
      "text/plain": [
       "recommendations finished on 46000/75792 queries. users per second: 160109"
      ]
     },
     "metadata": {},
     "output_type": "display_data"
    },
    {
     "data": {
      "text/html": [
       "<pre>recommendations finished on 47000/75792 queries. users per second: 161134</pre>"
      ],
      "text/plain": [
       "recommendations finished on 47000/75792 queries. users per second: 161134"
      ]
     },
     "metadata": {},
     "output_type": "display_data"
    },
    {
     "data": {
      "text/html": [
       "<pre>recommendations finished on 48000/75792 queries. users per second: 156924</pre>"
      ],
      "text/plain": [
       "recommendations finished on 48000/75792 queries. users per second: 156924"
      ]
     },
     "metadata": {},
     "output_type": "display_data"
    },
    {
     "data": {
      "text/html": [
       "<pre>recommendations finished on 49000/75792 queries. users per second: 156638</pre>"
      ],
      "text/plain": [
       "recommendations finished on 49000/75792 queries. users per second: 156638"
      ]
     },
     "metadata": {},
     "output_type": "display_data"
    },
    {
     "data": {
      "text/html": [
       "<pre>recommendations finished on 50000/75792 queries. users per second: 157195</pre>"
      ],
      "text/plain": [
       "recommendations finished on 50000/75792 queries. users per second: 157195"
      ]
     },
     "metadata": {},
     "output_type": "display_data"
    },
    {
     "data": {
      "text/html": [
       "<pre>recommendations finished on 51000/75792 queries. users per second: 157827</pre>"
      ],
      "text/plain": [
       "recommendations finished on 51000/75792 queries. users per second: 157827"
      ]
     },
     "metadata": {},
     "output_type": "display_data"
    },
    {
     "data": {
      "text/html": [
       "<pre>recommendations finished on 52000/75792 queries. users per second: 158550</pre>"
      ],
      "text/plain": [
       "recommendations finished on 52000/75792 queries. users per second: 158550"
      ]
     },
     "metadata": {},
     "output_type": "display_data"
    },
    {
     "data": {
      "text/html": [
       "<pre>recommendations finished on 53000/75792 queries. users per second: 159178</pre>"
      ],
      "text/plain": [
       "recommendations finished on 53000/75792 queries. users per second: 159178"
      ]
     },
     "metadata": {},
     "output_type": "display_data"
    },
    {
     "data": {
      "text/html": [
       "<pre>recommendations finished on 54000/75792 queries. users per second: 159830</pre>"
      ],
      "text/plain": [
       "recommendations finished on 54000/75792 queries. users per second: 159830"
      ]
     },
     "metadata": {},
     "output_type": "display_data"
    },
    {
     "data": {
      "text/html": [
       "<pre>recommendations finished on 55000/75792 queries. users per second: 160179</pre>"
      ],
      "text/plain": [
       "recommendations finished on 55000/75792 queries. users per second: 160179"
      ]
     },
     "metadata": {},
     "output_type": "display_data"
    },
    {
     "data": {
      "text/html": [
       "<pre>recommendations finished on 56000/75792 queries. users per second: 160863</pre>"
      ],
      "text/plain": [
       "recommendations finished on 56000/75792 queries. users per second: 160863"
      ]
     },
     "metadata": {},
     "output_type": "display_data"
    },
    {
     "data": {
      "text/html": [
       "<pre>recommendations finished on 57000/75792 queries. users per second: 161201</pre>"
      ],
      "text/plain": [
       "recommendations finished on 57000/75792 queries. users per second: 161201"
      ]
     },
     "metadata": {},
     "output_type": "display_data"
    },
    {
     "data": {
      "text/html": [
       "<pre>recommendations finished on 58000/75792 queries. users per second: 161458</pre>"
      ],
      "text/plain": [
       "recommendations finished on 58000/75792 queries. users per second: 161458"
      ]
     },
     "metadata": {},
     "output_type": "display_data"
    },
    {
     "data": {
      "text/html": [
       "<pre>recommendations finished on 59000/75792 queries. users per second: 161736</pre>"
      ],
      "text/plain": [
       "recommendations finished on 59000/75792 queries. users per second: 161736"
      ]
     },
     "metadata": {},
     "output_type": "display_data"
    },
    {
     "data": {
      "text/html": [
       "<pre>recommendations finished on 60000/75792 queries. users per second: 162348</pre>"
      ],
      "text/plain": [
       "recommendations finished on 60000/75792 queries. users per second: 162348"
      ]
     },
     "metadata": {},
     "output_type": "display_data"
    },
    {
     "data": {
      "text/html": [
       "<pre>recommendations finished on 61000/75792 queries. users per second: 162342</pre>"
      ],
      "text/plain": [
       "recommendations finished on 61000/75792 queries. users per second: 162342"
      ]
     },
     "metadata": {},
     "output_type": "display_data"
    },
    {
     "data": {
      "text/html": [
       "<pre>recommendations finished on 62000/75792 queries. users per second: 162635</pre>"
      ],
      "text/plain": [
       "recommendations finished on 62000/75792 queries. users per second: 162635"
      ]
     },
     "metadata": {},
     "output_type": "display_data"
    },
    {
     "data": {
      "text/html": [
       "<pre>recommendations finished on 63000/75792 queries. users per second: 156509</pre>"
      ],
      "text/plain": [
       "recommendations finished on 63000/75792 queries. users per second: 156509"
      ]
     },
     "metadata": {},
     "output_type": "display_data"
    },
    {
     "data": {
      "text/html": [
       "<pre>recommendations finished on 64000/75792 queries. users per second: 157275</pre>"
      ],
      "text/plain": [
       "recommendations finished on 64000/75792 queries. users per second: 157275"
      ]
     },
     "metadata": {},
     "output_type": "display_data"
    },
    {
     "data": {
      "text/html": [
       "<pre>recommendations finished on 65000/75792 queries. users per second: 151770</pre>"
      ],
      "text/plain": [
       "recommendations finished on 65000/75792 queries. users per second: 151770"
      ]
     },
     "metadata": {},
     "output_type": "display_data"
    },
    {
     "data": {
      "text/html": [
       "<pre>recommendations finished on 66000/75792 queries. users per second: 152396</pre>"
      ],
      "text/plain": [
       "recommendations finished on 66000/75792 queries. users per second: 152396"
      ]
     },
     "metadata": {},
     "output_type": "display_data"
    },
    {
     "data": {
      "text/html": [
       "<pre>recommendations finished on 67000/75792 queries. users per second: 151703</pre>"
      ],
      "text/plain": [
       "recommendations finished on 67000/75792 queries. users per second: 151703"
      ]
     },
     "metadata": {},
     "output_type": "display_data"
    },
    {
     "data": {
      "text/html": [
       "<pre>recommendations finished on 68000/75792 queries. users per second: 152139</pre>"
      ],
      "text/plain": [
       "recommendations finished on 68000/75792 queries. users per second: 152139"
      ]
     },
     "metadata": {},
     "output_type": "display_data"
    },
    {
     "data": {
      "text/html": [
       "<pre>recommendations finished on 69000/75792 queries. users per second: 152176</pre>"
      ],
      "text/plain": [
       "recommendations finished on 69000/75792 queries. users per second: 152176"
      ]
     },
     "metadata": {},
     "output_type": "display_data"
    },
    {
     "data": {
      "text/html": [
       "<pre>recommendations finished on 70000/75792 queries. users per second: 152379</pre>"
      ],
      "text/plain": [
       "recommendations finished on 70000/75792 queries. users per second: 152379"
      ]
     },
     "metadata": {},
     "output_type": "display_data"
    },
    {
     "data": {
      "text/html": [
       "<pre>recommendations finished on 71000/75792 queries. users per second: 153269</pre>"
      ],
      "text/plain": [
       "recommendations finished on 71000/75792 queries. users per second: 153269"
      ]
     },
     "metadata": {},
     "output_type": "display_data"
    },
    {
     "data": {
      "text/html": [
       "<pre>recommendations finished on 72000/75792 queries. users per second: 153666</pre>"
      ],
      "text/plain": [
       "recommendations finished on 72000/75792 queries. users per second: 153666"
      ]
     },
     "metadata": {},
     "output_type": "display_data"
    },
    {
     "data": {
      "text/html": [
       "<pre>recommendations finished on 73000/75792 queries. users per second: 153971</pre>"
      ],
      "text/plain": [
       "recommendations finished on 73000/75792 queries. users per second: 153971"
      ]
     },
     "metadata": {},
     "output_type": "display_data"
    },
    {
     "data": {
      "text/html": [
       "<pre>recommendations finished on 74000/75792 queries. users per second: 154178</pre>"
      ],
      "text/plain": [
       "recommendations finished on 74000/75792 queries. users per second: 154178"
      ]
     },
     "metadata": {},
     "output_type": "display_data"
    },
    {
     "data": {
      "text/html": [
       "<pre>recommendations finished on 75000/75792 queries. users per second: 154230</pre>"
      ],
      "text/plain": [
       "recommendations finished on 75000/75792 queries. users per second: 154230"
      ]
     },
     "metadata": {},
     "output_type": "display_data"
    }
   ],
   "source": [
    "name = 'cosine' \n",
    "target = 'scaled_purchase_freq' \n",
    "cos_norm = model(train_data_norm, name, user_id, item_id, target, users_to_recommend, n_rec, n_display)"
   ]
  },
  {
   "cell_type": "code",
   "execution_count": null,
   "metadata": {},
   "outputs": [],
   "source": []
  },
  {
   "cell_type": "code",
   "execution_count": 37,
   "metadata": {},
   "outputs": [
    {
     "data": {
      "text/html": [
       "<pre>Preparing data set.</pre>"
      ],
      "text/plain": [
       "Preparing data set."
      ]
     },
     "metadata": {},
     "output_type": "display_data"
    },
    {
     "data": {
      "text/html": [
       "<pre>    Data has 60633 observations with 10609 users and 210 items.</pre>"
      ],
      "text/plain": [
       "    Data has 60633 observations with 10609 users and 210 items."
      ]
     },
     "metadata": {},
     "output_type": "display_data"
    },
    {
     "data": {
      "text/html": [
       "<pre>    Data prepared in: 0.123109s</pre>"
      ],
      "text/plain": [
       "    Data prepared in: 0.123109s"
      ]
     },
     "metadata": {},
     "output_type": "display_data"
    },
    {
     "data": {
      "text/html": [
       "<pre>Training model from provided data.</pre>"
      ],
      "text/plain": [
       "Training model from provided data."
      ]
     },
     "metadata": {},
     "output_type": "display_data"
    },
    {
     "data": {
      "text/html": [
       "<pre>Gathering per-item and per-user statistics.</pre>"
      ],
      "text/plain": [
       "Gathering per-item and per-user statistics."
      ]
     },
     "metadata": {},
     "output_type": "display_data"
    },
    {
     "data": {
      "text/html": [
       "<pre>+--------------------------------+------------+</pre>"
      ],
      "text/plain": [
       "+--------------------------------+------------+"
      ]
     },
     "metadata": {},
     "output_type": "display_data"
    },
    {
     "data": {
      "text/html": [
       "<pre>| Elapsed Time (Item Statistics) | % Complete |</pre>"
      ],
      "text/plain": [
       "| Elapsed Time (Item Statistics) | % Complete |"
      ]
     },
     "metadata": {},
     "output_type": "display_data"
    },
    {
     "data": {
      "text/html": [
       "<pre>+--------------------------------+------------+</pre>"
      ],
      "text/plain": [
       "+--------------------------------+------------+"
      ]
     },
     "metadata": {},
     "output_type": "display_data"
    },
    {
     "data": {
      "text/html": [
       "<pre>| 1.496ms                        | 9.25       |</pre>"
      ],
      "text/plain": [
       "| 1.496ms                        | 9.25       |"
      ]
     },
     "metadata": {},
     "output_type": "display_data"
    },
    {
     "data": {
      "text/html": [
       "<pre>| 4.635ms                        | 100        |</pre>"
      ],
      "text/plain": [
       "| 4.635ms                        | 100        |"
      ]
     },
     "metadata": {},
     "output_type": "display_data"
    },
    {
     "data": {
      "text/html": [
       "<pre>+--------------------------------+------------+</pre>"
      ],
      "text/plain": [
       "+--------------------------------+------------+"
      ]
     },
     "metadata": {},
     "output_type": "display_data"
    },
    {
     "data": {
      "text/html": [
       "<pre>Setting up lookup tables.</pre>"
      ],
      "text/plain": [
       "Setting up lookup tables."
      ]
     },
     "metadata": {},
     "output_type": "display_data"
    },
    {
     "data": {
      "text/html": [
       "<pre>Processing data in one pass using dense lookup tables.</pre>"
      ],
      "text/plain": [
       "Processing data in one pass using dense lookup tables."
      ]
     },
     "metadata": {},
     "output_type": "display_data"
    },
    {
     "data": {
      "text/html": [
       "<pre>+-------------------------------------+------------------+-----------------+</pre>"
      ],
      "text/plain": [
       "+-------------------------------------+------------------+-----------------+"
      ]
     },
     "metadata": {},
     "output_type": "display_data"
    },
    {
     "data": {
      "text/html": [
       "<pre>| Elapsed Time (Constructing Lookups) | Total % Complete | Items Processed |</pre>"
      ],
      "text/plain": [
       "| Elapsed Time (Constructing Lookups) | Total % Complete | Items Processed |"
      ]
     },
     "metadata": {},
     "output_type": "display_data"
    },
    {
     "data": {
      "text/html": [
       "<pre>+-------------------------------------+------------------+-----------------+</pre>"
      ],
      "text/plain": [
       "+-------------------------------------+------------------+-----------------+"
      ]
     },
     "metadata": {},
     "output_type": "display_data"
    },
    {
     "data": {
      "text/html": [
       "<pre>| 23.176ms                            | 0                | 0               |</pre>"
      ],
      "text/plain": [
       "| 23.176ms                            | 0                | 0               |"
      ]
     },
     "metadata": {},
     "output_type": "display_data"
    },
    {
     "data": {
      "text/html": [
       "<pre>| 35.256ms                            | 100              | 210             |</pre>"
      ],
      "text/plain": [
       "| 35.256ms                            | 100              | 210             |"
      ]
     },
     "metadata": {},
     "output_type": "display_data"
    },
    {
     "data": {
      "text/html": [
       "<pre>+-------------------------------------+------------------+-----------------+</pre>"
      ],
      "text/plain": [
       "+-------------------------------------+------------------+-----------------+"
      ]
     },
     "metadata": {},
     "output_type": "display_data"
    },
    {
     "data": {
      "text/html": [
       "<pre>Finalizing lookup tables.</pre>"
      ],
      "text/plain": [
       "Finalizing lookup tables."
      ]
     },
     "metadata": {},
     "output_type": "display_data"
    },
    {
     "data": {
      "text/html": [
       "<pre>Generating candidate set for working with new users.</pre>"
      ],
      "text/plain": [
       "Generating candidate set for working with new users."
      ]
     },
     "metadata": {},
     "output_type": "display_data"
    },
    {
     "data": {
      "text/html": [
       "<pre>Finished training in 0.075317s</pre>"
      ],
      "text/plain": [
       "Finished training in 0.075317s"
      ]
     },
     "metadata": {},
     "output_type": "display_data"
    },
    {
     "data": {
      "text/html": [
       "<pre>recommendations finished on 1000/75792 queries. users per second: 85251.5</pre>"
      ],
      "text/plain": [
       "recommendations finished on 1000/75792 queries. users per second: 85251.5"
      ]
     },
     "metadata": {},
     "output_type": "display_data"
    },
    {
     "data": {
      "text/html": [
       "<pre>recommendations finished on 2000/75792 queries. users per second: 118526</pre>"
      ],
      "text/plain": [
       "recommendations finished on 2000/75792 queries. users per second: 118526"
      ]
     },
     "metadata": {},
     "output_type": "display_data"
    },
    {
     "data": {
      "text/html": [
       "<pre>recommendations finished on 3000/75792 queries. users per second: 119947</pre>"
      ],
      "text/plain": [
       "recommendations finished on 3000/75792 queries. users per second: 119947"
      ]
     },
     "metadata": {},
     "output_type": "display_data"
    },
    {
     "data": {
      "text/html": [
       "<pre>recommendations finished on 4000/75792 queries. users per second: 128033</pre>"
      ],
      "text/plain": [
       "recommendations finished on 4000/75792 queries. users per second: 128033"
      ]
     },
     "metadata": {},
     "output_type": "display_data"
    },
    {
     "data": {
      "text/html": [
       "<pre>recommendations finished on 5000/75792 queries. users per second: 134564</pre>"
      ],
      "text/plain": [
       "recommendations finished on 5000/75792 queries. users per second: 134564"
      ]
     },
     "metadata": {},
     "output_type": "display_data"
    },
    {
     "data": {
      "text/html": [
       "<pre>recommendations finished on 6000/75792 queries. users per second: 138453</pre>"
      ],
      "text/plain": [
       "recommendations finished on 6000/75792 queries. users per second: 138453"
      ]
     },
     "metadata": {},
     "output_type": "display_data"
    },
    {
     "data": {
      "text/html": [
       "<pre>recommendations finished on 7000/75792 queries. users per second: 143672</pre>"
      ],
      "text/plain": [
       "recommendations finished on 7000/75792 queries. users per second: 143672"
      ]
     },
     "metadata": {},
     "output_type": "display_data"
    },
    {
     "data": {
      "text/html": [
       "<pre>recommendations finished on 8000/75792 queries. users per second: 142689</pre>"
      ],
      "text/plain": [
       "recommendations finished on 8000/75792 queries. users per second: 142689"
      ]
     },
     "metadata": {},
     "output_type": "display_data"
    },
    {
     "data": {
      "text/html": [
       "<pre>recommendations finished on 9000/75792 queries. users per second: 141541</pre>"
      ],
      "text/plain": [
       "recommendations finished on 9000/75792 queries. users per second: 141541"
      ]
     },
     "metadata": {},
     "output_type": "display_data"
    },
    {
     "data": {
      "text/html": [
       "<pre>recommendations finished on 10000/75792 queries. users per second: 143569</pre>"
      ],
      "text/plain": [
       "recommendations finished on 10000/75792 queries. users per second: 143569"
      ]
     },
     "metadata": {},
     "output_type": "display_data"
    },
    {
     "data": {
      "text/html": [
       "<pre>recommendations finished on 11000/75792 queries. users per second: 143127</pre>"
      ],
      "text/plain": [
       "recommendations finished on 11000/75792 queries. users per second: 143127"
      ]
     },
     "metadata": {},
     "output_type": "display_data"
    },
    {
     "data": {
      "text/html": [
       "<pre>recommendations finished on 12000/75792 queries. users per second: 145725</pre>"
      ],
      "text/plain": [
       "recommendations finished on 12000/75792 queries. users per second: 145725"
      ]
     },
     "metadata": {},
     "output_type": "display_data"
    },
    {
     "data": {
      "text/html": [
       "<pre>recommendations finished on 13000/75792 queries. users per second: 147034</pre>"
      ],
      "text/plain": [
       "recommendations finished on 13000/75792 queries. users per second: 147034"
      ]
     },
     "metadata": {},
     "output_type": "display_data"
    },
    {
     "data": {
      "text/html": [
       "<pre>recommendations finished on 14000/75792 queries. users per second: 149391</pre>"
      ],
      "text/plain": [
       "recommendations finished on 14000/75792 queries. users per second: 149391"
      ]
     },
     "metadata": {},
     "output_type": "display_data"
    },
    {
     "data": {
      "text/html": [
       "<pre>recommendations finished on 15000/75792 queries. users per second: 142645</pre>"
      ],
      "text/plain": [
       "recommendations finished on 15000/75792 queries. users per second: 142645"
      ]
     },
     "metadata": {},
     "output_type": "display_data"
    },
    {
     "data": {
      "text/html": [
       "<pre>recommendations finished on 16000/75792 queries. users per second: 140710</pre>"
      ],
      "text/plain": [
       "recommendations finished on 16000/75792 queries. users per second: 140710"
      ]
     },
     "metadata": {},
     "output_type": "display_data"
    },
    {
     "data": {
      "text/html": [
       "<pre>recommendations finished on 17000/75792 queries. users per second: 140258</pre>"
      ],
      "text/plain": [
       "recommendations finished on 17000/75792 queries. users per second: 140258"
      ]
     },
     "metadata": {},
     "output_type": "display_data"
    },
    {
     "data": {
      "text/html": [
       "<pre>recommendations finished on 18000/75792 queries. users per second: 142844</pre>"
      ],
      "text/plain": [
       "recommendations finished on 18000/75792 queries. users per second: 142844"
      ]
     },
     "metadata": {},
     "output_type": "display_data"
    },
    {
     "data": {
      "text/html": [
       "<pre>recommendations finished on 19000/75792 queries. users per second: 144612</pre>"
      ],
      "text/plain": [
       "recommendations finished on 19000/75792 queries. users per second: 144612"
      ]
     },
     "metadata": {},
     "output_type": "display_data"
    },
    {
     "data": {
      "text/html": [
       "<pre>recommendations finished on 20000/75792 queries. users per second: 144256</pre>"
      ],
      "text/plain": [
       "recommendations finished on 20000/75792 queries. users per second: 144256"
      ]
     },
     "metadata": {},
     "output_type": "display_data"
    },
    {
     "data": {
      "text/html": [
       "<pre>recommendations finished on 21000/75792 queries. users per second: 144945</pre>"
      ],
      "text/plain": [
       "recommendations finished on 21000/75792 queries. users per second: 144945"
      ]
     },
     "metadata": {},
     "output_type": "display_data"
    },
    {
     "data": {
      "text/html": [
       "<pre>recommendations finished on 22000/75792 queries. users per second: 146326</pre>"
      ],
      "text/plain": [
       "recommendations finished on 22000/75792 queries. users per second: 146326"
      ]
     },
     "metadata": {},
     "output_type": "display_data"
    },
    {
     "data": {
      "text/html": [
       "<pre>recommendations finished on 23000/75792 queries. users per second: 139011</pre>"
      ],
      "text/plain": [
       "recommendations finished on 23000/75792 queries. users per second: 139011"
      ]
     },
     "metadata": {},
     "output_type": "display_data"
    },
    {
     "data": {
      "text/html": [
       "<pre>recommendations finished on 24000/75792 queries. users per second: 139511</pre>"
      ],
      "text/plain": [
       "recommendations finished on 24000/75792 queries. users per second: 139511"
      ]
     },
     "metadata": {},
     "output_type": "display_data"
    },
    {
     "name": "stdout",
     "output_type": "stream",
     "text": [
      "+------------+-----------+--------------------+------+\n",
      "| customerId | productId |       score        | rank |\n",
      "+------------+-----------+--------------------+------+\n",
      "| 105697630  | bpw.style | 3.855887132755738  |  1   |\n",
      "| 105697630  |   keune   |        3.5         |  2   |\n",
      "| 105697630  |  airnails | 3.484505927165349  |  3   |\n",
      "| 105697630  |   runail  | 3.4330264998423674 |  4   |\n",
      "| 105697630  |  kinetics | 3.051851590025808  |  5   |\n",
      "| 105697630  | freedecor | 2.9547833193638007 |  6   |\n",
      "| 105697630  |  grattol  | 2.840546319205824  |  7   |\n",
      "| 105697630  |   thuya   | 2.8000000000000003 |  8   |\n",
      "| 105697630  |   dermal  | 2.743655864965349  |  9   |\n",
      "| 105697630  | levissime | 2.718699597650105  |  10  |\n",
      "| 126051562  | bpw.style | 3.875610508394064  |  1   |\n",
      "| 126051562  |   masura  | 3.6694870629334093 |  2   |\n",
      "| 126051562  |   keune   | 3.4986272388034396 |  3   |\n",
      "| 126051562  |  airnails | 3.4677936291694635 |  4   |\n",
      "| 126051562  |  kinetics | 3.0483289588309512 |  5   |\n",
      "| 126051562  | freedecor | 2.9847550348405787 |  6   |\n",
      "| 126051562  |   thuya   | 2.8398533542950952 |  7   |\n",
      "| 126051562  |   dermal  | 2.7386860031930236 |  8   |\n",
      "| 126051562  | levissime | 2.721136424276565  |  9   |\n",
      "| 126051562  | swarovski | 2.695089036623638  |  10  |\n",
      "| 149936015  | bpw.style | 3.960162832212271  |  1   |\n",
      "| 149936015  |   masura  | 3.6738441386246325 |  2   |\n",
      "| 149936015  |   keune   | 3.5184486269950868 |  3   |\n",
      "| 149936015  |   runail  | 3.439046888842942  |  4   |\n",
      "| 149936015  |  kinetics | 3.1141591206673636 |  5   |\n",
      "| 149936015  | freedecor | 3.0134328771927037 |  6   |\n",
      "| 149936015  |   thuya   | 2.8046653985977175 |  7   |\n",
      "| 149936015  |   dermal  | 2.7374801005635954 |  8   |\n",
      "| 149936015  | levissime | 2.722222222222223  |  9   |\n",
      "| 149936015  | swarovski | 2.694374682903291  |  10  |\n",
      "+------------+-----------+--------------------+------+\n",
      "[757920 rows x 4 columns]\n",
      "\n"
     ]
    },
    {
     "data": {
      "text/html": [
       "<pre>recommendations finished on 25000/75792 queries. users per second: 138471</pre>"
      ],
      "text/plain": [
       "recommendations finished on 25000/75792 queries. users per second: 138471"
      ]
     },
     "metadata": {},
     "output_type": "display_data"
    },
    {
     "data": {
      "text/html": [
       "<pre>recommendations finished on 26000/75792 queries. users per second: 139144</pre>"
      ],
      "text/plain": [
       "recommendations finished on 26000/75792 queries. users per second: 139144"
      ]
     },
     "metadata": {},
     "output_type": "display_data"
    },
    {
     "data": {
      "text/html": [
       "<pre>recommendations finished on 27000/75792 queries. users per second: 140672</pre>"
      ],
      "text/plain": [
       "recommendations finished on 27000/75792 queries. users per second: 140672"
      ]
     },
     "metadata": {},
     "output_type": "display_data"
    },
    {
     "data": {
      "text/html": [
       "<pre>recommendations finished on 28000/75792 queries. users per second: 142215</pre>"
      ],
      "text/plain": [
       "recommendations finished on 28000/75792 queries. users per second: 142215"
      ]
     },
     "metadata": {},
     "output_type": "display_data"
    },
    {
     "data": {
      "text/html": [
       "<pre>recommendations finished on 29000/75792 queries. users per second: 135121</pre>"
      ],
      "text/plain": [
       "recommendations finished on 29000/75792 queries. users per second: 135121"
      ]
     },
     "metadata": {},
     "output_type": "display_data"
    },
    {
     "data": {
      "text/html": [
       "<pre>recommendations finished on 30000/75792 queries. users per second: 134815</pre>"
      ],
      "text/plain": [
       "recommendations finished on 30000/75792 queries. users per second: 134815"
      ]
     },
     "metadata": {},
     "output_type": "display_data"
    },
    {
     "data": {
      "text/html": [
       "<pre>recommendations finished on 31000/75792 queries. users per second: 134836</pre>"
      ],
      "text/plain": [
       "recommendations finished on 31000/75792 queries. users per second: 134836"
      ]
     },
     "metadata": {},
     "output_type": "display_data"
    },
    {
     "data": {
      "text/html": [
       "<pre>recommendations finished on 32000/75792 queries. users per second: 135195</pre>"
      ],
      "text/plain": [
       "recommendations finished on 32000/75792 queries. users per second: 135195"
      ]
     },
     "metadata": {},
     "output_type": "display_data"
    },
    {
     "data": {
      "text/html": [
       "<pre>recommendations finished on 33000/75792 queries. users per second: 136449</pre>"
      ],
      "text/plain": [
       "recommendations finished on 33000/75792 queries. users per second: 136449"
      ]
     },
     "metadata": {},
     "output_type": "display_data"
    },
    {
     "data": {
      "text/html": [
       "<pre>recommendations finished on 34000/75792 queries. users per second: 137279</pre>"
      ],
      "text/plain": [
       "recommendations finished on 34000/75792 queries. users per second: 137279"
      ]
     },
     "metadata": {},
     "output_type": "display_data"
    },
    {
     "data": {
      "text/html": [
       "<pre>recommendations finished on 35000/75792 queries. users per second: 138126</pre>"
      ],
      "text/plain": [
       "recommendations finished on 35000/75792 queries. users per second: 138126"
      ]
     },
     "metadata": {},
     "output_type": "display_data"
    },
    {
     "data": {
      "text/html": [
       "<pre>recommendations finished on 36000/75792 queries. users per second: 138264</pre>"
      ],
      "text/plain": [
       "recommendations finished on 36000/75792 queries. users per second: 138264"
      ]
     },
     "metadata": {},
     "output_type": "display_data"
    },
    {
     "data": {
      "text/html": [
       "<pre>recommendations finished on 37000/75792 queries. users per second: 137389</pre>"
      ],
      "text/plain": [
       "recommendations finished on 37000/75792 queries. users per second: 137389"
      ]
     },
     "metadata": {},
     "output_type": "display_data"
    },
    {
     "data": {
      "text/html": [
       "<pre>recommendations finished on 38000/75792 queries. users per second: 137114</pre>"
      ],
      "text/plain": [
       "recommendations finished on 38000/75792 queries. users per second: 137114"
      ]
     },
     "metadata": {},
     "output_type": "display_data"
    },
    {
     "data": {
      "text/html": [
       "<pre>recommendations finished on 39000/75792 queries. users per second: 135520</pre>"
      ],
      "text/plain": [
       "recommendations finished on 39000/75792 queries. users per second: 135520"
      ]
     },
     "metadata": {},
     "output_type": "display_data"
    },
    {
     "data": {
      "text/html": [
       "<pre>recommendations finished on 40000/75792 queries. users per second: 136475</pre>"
      ],
      "text/plain": [
       "recommendations finished on 40000/75792 queries. users per second: 136475"
      ]
     },
     "metadata": {},
     "output_type": "display_data"
    },
    {
     "data": {
      "text/html": [
       "<pre>recommendations finished on 41000/75792 queries. users per second: 135474</pre>"
      ],
      "text/plain": [
       "recommendations finished on 41000/75792 queries. users per second: 135474"
      ]
     },
     "metadata": {},
     "output_type": "display_data"
    },
    {
     "data": {
      "text/html": [
       "<pre>recommendations finished on 42000/75792 queries. users per second: 135566</pre>"
      ],
      "text/plain": [
       "recommendations finished on 42000/75792 queries. users per second: 135566"
      ]
     },
     "metadata": {},
     "output_type": "display_data"
    },
    {
     "data": {
      "text/html": [
       "<pre>recommendations finished on 43000/75792 queries. users per second: 135094</pre>"
      ],
      "text/plain": [
       "recommendations finished on 43000/75792 queries. users per second: 135094"
      ]
     },
     "metadata": {},
     "output_type": "display_data"
    },
    {
     "data": {
      "text/html": [
       "<pre>recommendations finished on 44000/75792 queries. users per second: 135175</pre>"
      ],
      "text/plain": [
       "recommendations finished on 44000/75792 queries. users per second: 135175"
      ]
     },
     "metadata": {},
     "output_type": "display_data"
    },
    {
     "data": {
      "text/html": [
       "<pre>recommendations finished on 45000/75792 queries. users per second: 134947</pre>"
      ],
      "text/plain": [
       "recommendations finished on 45000/75792 queries. users per second: 134947"
      ]
     },
     "metadata": {},
     "output_type": "display_data"
    },
    {
     "data": {
      "text/html": [
       "<pre>recommendations finished on 46000/75792 queries. users per second: 135066</pre>"
      ],
      "text/plain": [
       "recommendations finished on 46000/75792 queries. users per second: 135066"
      ]
     },
     "metadata": {},
     "output_type": "display_data"
    },
    {
     "data": {
      "text/html": [
       "<pre>recommendations finished on 47000/75792 queries. users per second: 136158</pre>"
      ],
      "text/plain": [
       "recommendations finished on 47000/75792 queries. users per second: 136158"
      ]
     },
     "metadata": {},
     "output_type": "display_data"
    },
    {
     "data": {
      "text/html": [
       "<pre>recommendations finished on 48000/75792 queries. users per second: 136772</pre>"
      ],
      "text/plain": [
       "recommendations finished on 48000/75792 queries. users per second: 136772"
      ]
     },
     "metadata": {},
     "output_type": "display_data"
    },
    {
     "data": {
      "text/html": [
       "<pre>recommendations finished on 49000/75792 queries. users per second: 137365</pre>"
      ],
      "text/plain": [
       "recommendations finished on 49000/75792 queries. users per second: 137365"
      ]
     },
     "metadata": {},
     "output_type": "display_data"
    },
    {
     "data": {
      "text/html": [
       "<pre>recommendations finished on 50000/75792 queries. users per second: 137934</pre>"
      ],
      "text/plain": [
       "recommendations finished on 50000/75792 queries. users per second: 137934"
      ]
     },
     "metadata": {},
     "output_type": "display_data"
    },
    {
     "data": {
      "text/html": [
       "<pre>recommendations finished on 51000/75792 queries. users per second: 138693</pre>"
      ],
      "text/plain": [
       "recommendations finished on 51000/75792 queries. users per second: 138693"
      ]
     },
     "metadata": {},
     "output_type": "display_data"
    },
    {
     "data": {
      "text/html": [
       "<pre>recommendations finished on 52000/75792 queries. users per second: 139140</pre>"
      ],
      "text/plain": [
       "recommendations finished on 52000/75792 queries. users per second: 139140"
      ]
     },
     "metadata": {},
     "output_type": "display_data"
    },
    {
     "data": {
      "text/html": [
       "<pre>recommendations finished on 53000/75792 queries. users per second: 139098</pre>"
      ],
      "text/plain": [
       "recommendations finished on 53000/75792 queries. users per second: 139098"
      ]
     },
     "metadata": {},
     "output_type": "display_data"
    },
    {
     "data": {
      "text/html": [
       "<pre>recommendations finished on 54000/75792 queries. users per second: 138901</pre>"
      ],
      "text/plain": [
       "recommendations finished on 54000/75792 queries. users per second: 138901"
      ]
     },
     "metadata": {},
     "output_type": "display_data"
    },
    {
     "data": {
      "text/html": [
       "<pre>recommendations finished on 55000/75792 queries. users per second: 139401</pre>"
      ],
      "text/plain": [
       "recommendations finished on 55000/75792 queries. users per second: 139401"
      ]
     },
     "metadata": {},
     "output_type": "display_data"
    },
    {
     "data": {
      "text/html": [
       "<pre>recommendations finished on 56000/75792 queries. users per second: 140026</pre>"
      ],
      "text/plain": [
       "recommendations finished on 56000/75792 queries. users per second: 140026"
      ]
     },
     "metadata": {},
     "output_type": "display_data"
    },
    {
     "data": {
      "text/html": [
       "<pre>recommendations finished on 57000/75792 queries. users per second: 140033</pre>"
      ],
      "text/plain": [
       "recommendations finished on 57000/75792 queries. users per second: 140033"
      ]
     },
     "metadata": {},
     "output_type": "display_data"
    },
    {
     "data": {
      "text/html": [
       "<pre>recommendations finished on 58000/75792 queries. users per second: 140090</pre>"
      ],
      "text/plain": [
       "recommendations finished on 58000/75792 queries. users per second: 140090"
      ]
     },
     "metadata": {},
     "output_type": "display_data"
    },
    {
     "data": {
      "text/html": [
       "<pre>recommendations finished on 59000/75792 queries. users per second: 139971</pre>"
      ],
      "text/plain": [
       "recommendations finished on 59000/75792 queries. users per second: 139971"
      ]
     },
     "metadata": {},
     "output_type": "display_data"
    },
    {
     "data": {
      "text/html": [
       "<pre>recommendations finished on 60000/75792 queries. users per second: 140738</pre>"
      ],
      "text/plain": [
       "recommendations finished on 60000/75792 queries. users per second: 140738"
      ]
     },
     "metadata": {},
     "output_type": "display_data"
    },
    {
     "data": {
      "text/html": [
       "<pre>recommendations finished on 61000/75792 queries. users per second: 141379</pre>"
      ],
      "text/plain": [
       "recommendations finished on 61000/75792 queries. users per second: 141379"
      ]
     },
     "metadata": {},
     "output_type": "display_data"
    },
    {
     "data": {
      "text/html": [
       "<pre>recommendations finished on 62000/75792 queries. users per second: 141069</pre>"
      ],
      "text/plain": [
       "recommendations finished on 62000/75792 queries. users per second: 141069"
      ]
     },
     "metadata": {},
     "output_type": "display_data"
    },
    {
     "data": {
      "text/html": [
       "<pre>recommendations finished on 63000/75792 queries. users per second: 140471</pre>"
      ],
      "text/plain": [
       "recommendations finished on 63000/75792 queries. users per second: 140471"
      ]
     },
     "metadata": {},
     "output_type": "display_data"
    },
    {
     "data": {
      "text/html": [
       "<pre>recommendations finished on 64000/75792 queries. users per second: 140623</pre>"
      ],
      "text/plain": [
       "recommendations finished on 64000/75792 queries. users per second: 140623"
      ]
     },
     "metadata": {},
     "output_type": "display_data"
    },
    {
     "data": {
      "text/html": [
       "<pre>recommendations finished on 65000/75792 queries. users per second: 139558</pre>"
      ],
      "text/plain": [
       "recommendations finished on 65000/75792 queries. users per second: 139558"
      ]
     },
     "metadata": {},
     "output_type": "display_data"
    },
    {
     "data": {
      "text/html": [
       "<pre>recommendations finished on 66000/75792 queries. users per second: 139813</pre>"
      ],
      "text/plain": [
       "recommendations finished on 66000/75792 queries. users per second: 139813"
      ]
     },
     "metadata": {},
     "output_type": "display_data"
    },
    {
     "data": {
      "text/html": [
       "<pre>recommendations finished on 67000/75792 queries. users per second: 140155</pre>"
      ],
      "text/plain": [
       "recommendations finished on 67000/75792 queries. users per second: 140155"
      ]
     },
     "metadata": {},
     "output_type": "display_data"
    },
    {
     "data": {
      "text/html": [
       "<pre>recommendations finished on 68000/75792 queries. users per second: 140412</pre>"
      ],
      "text/plain": [
       "recommendations finished on 68000/75792 queries. users per second: 140412"
      ]
     },
     "metadata": {},
     "output_type": "display_data"
    },
    {
     "data": {
      "text/html": [
       "<pre>recommendations finished on 69000/75792 queries. users per second: 140672</pre>"
      ],
      "text/plain": [
       "recommendations finished on 69000/75792 queries. users per second: 140672"
      ]
     },
     "metadata": {},
     "output_type": "display_data"
    },
    {
     "data": {
      "text/html": [
       "<pre>recommendations finished on 70000/75792 queries. users per second: 141087</pre>"
      ],
      "text/plain": [
       "recommendations finished on 70000/75792 queries. users per second: 141087"
      ]
     },
     "metadata": {},
     "output_type": "display_data"
    },
    {
     "data": {
      "text/html": [
       "<pre>recommendations finished on 71000/75792 queries. users per second: 140926</pre>"
      ],
      "text/plain": [
       "recommendations finished on 71000/75792 queries. users per second: 140926"
      ]
     },
     "metadata": {},
     "output_type": "display_data"
    },
    {
     "data": {
      "text/html": [
       "<pre>recommendations finished on 72000/75792 queries. users per second: 141272</pre>"
      ],
      "text/plain": [
       "recommendations finished on 72000/75792 queries. users per second: 141272"
      ]
     },
     "metadata": {},
     "output_type": "display_data"
    },
    {
     "data": {
      "text/html": [
       "<pre>recommendations finished on 73000/75792 queries. users per second: 141737</pre>"
      ],
      "text/plain": [
       "recommendations finished on 73000/75792 queries. users per second: 141737"
      ]
     },
     "metadata": {},
     "output_type": "display_data"
    },
    {
     "data": {
      "text/html": [
       "<pre>recommendations finished on 74000/75792 queries. users per second: 142327</pre>"
      ],
      "text/plain": [
       "recommendations finished on 74000/75792 queries. users per second: 142327"
      ]
     },
     "metadata": {},
     "output_type": "display_data"
    },
    {
     "data": {
      "text/html": [
       "<pre>recommendations finished on 75000/75792 queries. users per second: 141544</pre>"
      ],
      "text/plain": [
       "recommendations finished on 75000/75792 queries. users per second: 141544"
      ]
     },
     "metadata": {},
     "output_type": "display_data"
    }
   ],
   "source": [
    "name = 'pearson'\n",
    "target = 'purchase_count'\n",
    "pear = model(train_data, name, user_id, item_id, target, users_to_recommend, n_rec, n_display)"
   ]
  },
  {
   "cell_type": "code",
   "execution_count": 38,
   "metadata": {},
   "outputs": [
    {
     "data": {
      "text/html": [
       "<pre>Warning: Ignoring columns purchase_count;</pre>"
      ],
      "text/plain": [
       "Warning: Ignoring columns purchase_count;"
      ]
     },
     "metadata": {},
     "output_type": "display_data"
    },
    {
     "data": {
      "text/html": [
       "<pre>    To use these columns in scoring predictions, use a model that allows the use of additional features.</pre>"
      ],
      "text/plain": [
       "    To use these columns in scoring predictions, use a model that allows the use of additional features."
      ]
     },
     "metadata": {},
     "output_type": "display_data"
    },
    {
     "data": {
      "text/html": [
       "<pre>Preparing data set.</pre>"
      ],
      "text/plain": [
       "Preparing data set."
      ]
     },
     "metadata": {},
     "output_type": "display_data"
    },
    {
     "data": {
      "text/html": [
       "<pre>    Data has 60633 observations with 10608 users and 212 items.</pre>"
      ],
      "text/plain": [
       "    Data has 60633 observations with 10608 users and 212 items."
      ]
     },
     "metadata": {},
     "output_type": "display_data"
    },
    {
     "data": {
      "text/html": [
       "<pre>    Data prepared in: 0.093988s</pre>"
      ],
      "text/plain": [
       "    Data prepared in: 0.093988s"
      ]
     },
     "metadata": {},
     "output_type": "display_data"
    },
    {
     "data": {
      "text/html": [
       "<pre>Training model from provided data.</pre>"
      ],
      "text/plain": [
       "Training model from provided data."
      ]
     },
     "metadata": {},
     "output_type": "display_data"
    },
    {
     "data": {
      "text/html": [
       "<pre>Gathering per-item and per-user statistics.</pre>"
      ],
      "text/plain": [
       "Gathering per-item and per-user statistics."
      ]
     },
     "metadata": {},
     "output_type": "display_data"
    },
    {
     "data": {
      "text/html": [
       "<pre>+--------------------------------+------------+</pre>"
      ],
      "text/plain": [
       "+--------------------------------+------------+"
      ]
     },
     "metadata": {},
     "output_type": "display_data"
    },
    {
     "data": {
      "text/html": [
       "<pre>| Elapsed Time (Item Statistics) | % Complete |</pre>"
      ],
      "text/plain": [
       "| Elapsed Time (Item Statistics) | % Complete |"
      ]
     },
     "metadata": {},
     "output_type": "display_data"
    },
    {
     "data": {
      "text/html": [
       "<pre>+--------------------------------+------------+</pre>"
      ],
      "text/plain": [
       "+--------------------------------+------------+"
      ]
     },
     "metadata": {},
     "output_type": "display_data"
    },
    {
     "data": {
      "text/html": [
       "<pre>| 925us                          | 9.25       |</pre>"
      ],
      "text/plain": [
       "| 925us                          | 9.25       |"
      ]
     },
     "metadata": {},
     "output_type": "display_data"
    },
    {
     "data": {
      "text/html": [
       "<pre>| 4.835ms                        | 100        |</pre>"
      ],
      "text/plain": [
       "| 4.835ms                        | 100        |"
      ]
     },
     "metadata": {},
     "output_type": "display_data"
    },
    {
     "data": {
      "text/html": [
       "<pre>+--------------------------------+------------+</pre>"
      ],
      "text/plain": [
       "+--------------------------------+------------+"
      ]
     },
     "metadata": {},
     "output_type": "display_data"
    },
    {
     "data": {
      "text/html": [
       "<pre>Setting up lookup tables.</pre>"
      ],
      "text/plain": [
       "Setting up lookup tables."
      ]
     },
     "metadata": {},
     "output_type": "display_data"
    },
    {
     "data": {
      "text/html": [
       "<pre>Processing data in one pass using dense lookup tables.</pre>"
      ],
      "text/plain": [
       "Processing data in one pass using dense lookup tables."
      ]
     },
     "metadata": {},
     "output_type": "display_data"
    },
    {
     "data": {
      "text/html": [
       "<pre>+-------------------------------------+------------------+-----------------+</pre>"
      ],
      "text/plain": [
       "+-------------------------------------+------------------+-----------------+"
      ]
     },
     "metadata": {},
     "output_type": "display_data"
    },
    {
     "data": {
      "text/html": [
       "<pre>| Elapsed Time (Constructing Lookups) | Total % Complete | Items Processed |</pre>"
      ],
      "text/plain": [
       "| Elapsed Time (Constructing Lookups) | Total % Complete | Items Processed |"
      ]
     },
     "metadata": {},
     "output_type": "display_data"
    },
    {
     "data": {
      "text/html": [
       "<pre>+-------------------------------------+------------------+-----------------+</pre>"
      ],
      "text/plain": [
       "+-------------------------------------+------------------+-----------------+"
      ]
     },
     "metadata": {},
     "output_type": "display_data"
    },
    {
     "data": {
      "text/html": [
       "<pre>| 5.989ms                             | 0                | 0               |</pre>"
      ],
      "text/plain": [
       "| 5.989ms                             | 0                | 0               |"
      ]
     },
     "metadata": {},
     "output_type": "display_data"
    },
    {
     "data": {
      "text/html": [
       "<pre>| 16.898ms                            | 100              | 212             |</pre>"
      ],
      "text/plain": [
       "| 16.898ms                            | 100              | 212             |"
      ]
     },
     "metadata": {},
     "output_type": "display_data"
    },
    {
     "data": {
      "text/html": [
       "<pre>+-------------------------------------+------------------+-----------------+</pre>"
      ],
      "text/plain": [
       "+-------------------------------------+------------------+-----------------+"
      ]
     },
     "metadata": {},
     "output_type": "display_data"
    },
    {
     "data": {
      "text/html": [
       "<pre>Finalizing lookup tables.</pre>"
      ],
      "text/plain": [
       "Finalizing lookup tables."
      ]
     },
     "metadata": {},
     "output_type": "display_data"
    },
    {
     "data": {
      "text/html": [
       "<pre>Generating candidate set for working with new users.</pre>"
      ],
      "text/plain": [
       "Generating candidate set for working with new users."
      ]
     },
     "metadata": {},
     "output_type": "display_data"
    },
    {
     "data": {
      "text/html": [
       "<pre>Finished training in 0.028761s</pre>"
      ],
      "text/plain": [
       "Finished training in 0.028761s"
      ]
     },
     "metadata": {},
     "output_type": "display_data"
    },
    {
     "data": {
      "text/html": [
       "<pre>recommendations finished on 1000/75792 queries. users per second: 117412</pre>"
      ],
      "text/plain": [
       "recommendations finished on 1000/75792 queries. users per second: 117412"
      ]
     },
     "metadata": {},
     "output_type": "display_data"
    },
    {
     "data": {
      "text/html": [
       "<pre>recommendations finished on 2000/75792 queries. users per second: 167084</pre>"
      ],
      "text/plain": [
       "recommendations finished on 2000/75792 queries. users per second: 167084"
      ]
     },
     "metadata": {},
     "output_type": "display_data"
    },
    {
     "data": {
      "text/html": [
       "<pre>recommendations finished on 3000/75792 queries. users per second: 184173</pre>"
      ],
      "text/plain": [
       "recommendations finished on 3000/75792 queries. users per second: 184173"
      ]
     },
     "metadata": {},
     "output_type": "display_data"
    },
    {
     "data": {
      "text/html": [
       "<pre>recommendations finished on 4000/75792 queries. users per second: 202409</pre>"
      ],
      "text/plain": [
       "recommendations finished on 4000/75792 queries. users per second: 202409"
      ]
     },
     "metadata": {},
     "output_type": "display_data"
    },
    {
     "data": {
      "text/html": [
       "<pre>recommendations finished on 5000/75792 queries. users per second: 203542</pre>"
      ],
      "text/plain": [
       "recommendations finished on 5000/75792 queries. users per second: 203542"
      ]
     },
     "metadata": {},
     "output_type": "display_data"
    },
    {
     "data": {
      "text/html": [
       "<pre>recommendations finished on 6000/75792 queries. users per second: 201586</pre>"
      ],
      "text/plain": [
       "recommendations finished on 6000/75792 queries. users per second: 201586"
      ]
     },
     "metadata": {},
     "output_type": "display_data"
    },
    {
     "data": {
      "text/html": [
       "<pre>recommendations finished on 7000/75792 queries. users per second: 202787</pre>"
      ],
      "text/plain": [
       "recommendations finished on 7000/75792 queries. users per second: 202787"
      ]
     },
     "metadata": {},
     "output_type": "display_data"
    },
    {
     "data": {
      "text/html": [
       "<pre>recommendations finished on 8000/75792 queries. users per second: 204363</pre>"
      ],
      "text/plain": [
       "recommendations finished on 8000/75792 queries. users per second: 204363"
      ]
     },
     "metadata": {},
     "output_type": "display_data"
    },
    {
     "data": {
      "text/html": [
       "<pre>recommendations finished on 9000/75792 queries. users per second: 207125</pre>"
      ],
      "text/plain": [
       "recommendations finished on 9000/75792 queries. users per second: 207125"
      ]
     },
     "metadata": {},
     "output_type": "display_data"
    },
    {
     "data": {
      "text/html": [
       "<pre>recommendations finished on 10000/75792 queries. users per second: 212193</pre>"
      ],
      "text/plain": [
       "recommendations finished on 10000/75792 queries. users per second: 212193"
      ]
     },
     "metadata": {},
     "output_type": "display_data"
    },
    {
     "data": {
      "text/html": [
       "<pre>recommendations finished on 11000/75792 queries. users per second: 184387</pre>"
      ],
      "text/plain": [
       "recommendations finished on 11000/75792 queries. users per second: 184387"
      ]
     },
     "metadata": {},
     "output_type": "display_data"
    },
    {
     "data": {
      "text/html": [
       "<pre>recommendations finished on 12000/75792 queries. users per second: 190280</pre>"
      ],
      "text/plain": [
       "recommendations finished on 12000/75792 queries. users per second: 190280"
      ]
     },
     "metadata": {},
     "output_type": "display_data"
    },
    {
     "data": {
      "text/html": [
       "<pre>recommendations finished on 13000/75792 queries. users per second: 193807</pre>"
      ],
      "text/plain": [
       "recommendations finished on 13000/75792 queries. users per second: 193807"
      ]
     },
     "metadata": {},
     "output_type": "display_data"
    },
    {
     "data": {
      "text/html": [
       "<pre>recommendations finished on 14000/75792 queries. users per second: 198247</pre>"
      ],
      "text/plain": [
       "recommendations finished on 14000/75792 queries. users per second: 198247"
      ]
     },
     "metadata": {},
     "output_type": "display_data"
    },
    {
     "data": {
      "text/html": [
       "<pre>recommendations finished on 15000/75792 queries. users per second: 199979</pre>"
      ],
      "text/plain": [
       "recommendations finished on 15000/75792 queries. users per second: 199979"
      ]
     },
     "metadata": {},
     "output_type": "display_data"
    },
    {
     "data": {
      "text/html": [
       "<pre>recommendations finished on 16000/75792 queries. users per second: 200982</pre>"
      ],
      "text/plain": [
       "recommendations finished on 16000/75792 queries. users per second: 200982"
      ]
     },
     "metadata": {},
     "output_type": "display_data"
    },
    {
     "data": {
      "text/html": [
       "<pre>recommendations finished on 17000/75792 queries. users per second: 204482</pre>"
      ],
      "text/plain": [
       "recommendations finished on 17000/75792 queries. users per second: 204482"
      ]
     },
     "metadata": {},
     "output_type": "display_data"
    },
    {
     "data": {
      "text/html": [
       "<pre>recommendations finished on 18000/75792 queries. users per second: 201674</pre>"
      ],
      "text/plain": [
       "recommendations finished on 18000/75792 queries. users per second: 201674"
      ]
     },
     "metadata": {},
     "output_type": "display_data"
    },
    {
     "data": {
      "text/html": [
       "<pre>recommendations finished on 19000/75792 queries. users per second: 199103</pre>"
      ],
      "text/plain": [
       "recommendations finished on 19000/75792 queries. users per second: 199103"
      ]
     },
     "metadata": {},
     "output_type": "display_data"
    },
    {
     "data": {
      "text/html": [
       "<pre>recommendations finished on 20000/75792 queries. users per second: 201609</pre>"
      ],
      "text/plain": [
       "recommendations finished on 20000/75792 queries. users per second: 201609"
      ]
     },
     "metadata": {},
     "output_type": "display_data"
    },
    {
     "data": {
      "text/html": [
       "<pre>recommendations finished on 21000/75792 queries. users per second: 200305</pre>"
      ],
      "text/plain": [
       "recommendations finished on 21000/75792 queries. users per second: 200305"
      ]
     },
     "metadata": {},
     "output_type": "display_data"
    },
    {
     "data": {
      "text/html": [
       "<pre>recommendations finished on 22000/75792 queries. users per second: 202396</pre>"
      ],
      "text/plain": [
       "recommendations finished on 22000/75792 queries. users per second: 202396"
      ]
     },
     "metadata": {},
     "output_type": "display_data"
    },
    {
     "data": {
      "text/html": [
       "<pre>recommendations finished on 23000/75792 queries. users per second: 201052</pre>"
      ],
      "text/plain": [
       "recommendations finished on 23000/75792 queries. users per second: 201052"
      ]
     },
     "metadata": {},
     "output_type": "display_data"
    },
    {
     "data": {
      "text/html": [
       "<pre>recommendations finished on 24000/75792 queries. users per second: 199878</pre>"
      ],
      "text/plain": [
       "recommendations finished on 24000/75792 queries. users per second: 199878"
      ]
     },
     "metadata": {},
     "output_type": "display_data"
    },
    {
     "data": {
      "text/html": [
       "<pre>recommendations finished on 25000/75792 queries. users per second: 200645</pre>"
      ],
      "text/plain": [
       "recommendations finished on 25000/75792 queries. users per second: 200645"
      ]
     },
     "metadata": {},
     "output_type": "display_data"
    },
    {
     "data": {
      "text/html": [
       "<pre>recommendations finished on 26000/75792 queries. users per second: 202391</pre>"
      ],
      "text/plain": [
       "recommendations finished on 26000/75792 queries. users per second: 202391"
      ]
     },
     "metadata": {},
     "output_type": "display_data"
    },
    {
     "data": {
      "text/html": [
       "<pre>recommendations finished on 27000/75792 queries. users per second: 199049</pre>"
      ],
      "text/plain": [
       "recommendations finished on 27000/75792 queries. users per second: 199049"
      ]
     },
     "metadata": {},
     "output_type": "display_data"
    },
    {
     "name": "stdout",
     "output_type": "stream",
     "text": [
      "+------------+-----------+-------+------+\n",
      "| customerId | productId | score | rank |\n",
      "+------------+-----------+-------+------+\n",
      "| 105697630  |   domix   |  0.0  |  1   |\n",
      "| 105697630  |  italwax  |  0.0  |  2   |\n",
      "| 105697630  |   ardell  |  0.0  |  3   |\n",
      "| 105697630  |    oniq   |  0.0  |  4   |\n",
      "| 105697630  |  bluesky  |  0.0  |  5   |\n",
      "| 105697630  |  severina |  0.0  |  6   |\n",
      "| 105697630  |  ingarden |  0.0  |  7   |\n",
      "| 105697630  |    milv   |  0.0  |  8   |\n",
      "| 105697630  |    pole   |  0.0  |  9   |\n",
      "| 105697630  |   dizao   |  0.0  |  10  |\n",
      "| 126051562  |   domix   |  0.0  |  1   |\n",
      "| 126051562  |  italwax  |  0.0  |  2   |\n",
      "| 126051562  |   ardell  |  0.0  |  3   |\n",
      "| 126051562  |    oniq   |  0.0  |  4   |\n",
      "| 126051562  |  severina |  0.0  |  5   |\n",
      "| 126051562  |    milv   |  0.0  |  6   |\n",
      "| 126051562  |    pole   |  0.0  |  7   |\n",
      "| 126051562  |   dizao   |  0.0  |  8   |\n",
      "| 126051562  | bpw.style |  0.0  |  9   |\n",
      "| 126051562  |   masura  |  0.0  |  10  |\n",
      "| 149936015  |  italwax  |  0.0  |  1   |\n",
      "| 149936015  |   ardell  |  0.0  |  2   |\n",
      "| 149936015  |  bluesky  |  0.0  |  3   |\n",
      "| 149936015  |  severina |  0.0  |  4   |\n",
      "| 149936015  |    milv   |  0.0  |  5   |\n",
      "| 149936015  |    pole   |  0.0  |  6   |\n",
      "| 149936015  |   dizao   |  0.0  |  7   |\n",
      "| 149936015  | bpw.style |  0.0  |  8   |\n",
      "| 149936015  |   runail  |  0.0  |  9   |\n",
      "| 149936015  |   masura  |  0.0  |  10  |\n",
      "+------------+-----------+-------+------+\n",
      "[757920 rows x 4 columns]\n",
      "\n"
     ]
    },
    {
     "data": {
      "text/html": [
       "<pre>recommendations finished on 28000/75792 queries. users per second: 201056</pre>"
      ],
      "text/plain": [
       "recommendations finished on 28000/75792 queries. users per second: 201056"
      ]
     },
     "metadata": {},
     "output_type": "display_data"
    },
    {
     "data": {
      "text/html": [
       "<pre>recommendations finished on 29000/75792 queries. users per second: 202555</pre>"
      ],
      "text/plain": [
       "recommendations finished on 29000/75792 queries. users per second: 202555"
      ]
     },
     "metadata": {},
     "output_type": "display_data"
    },
    {
     "data": {
      "text/html": [
       "<pre>recommendations finished on 30000/75792 queries. users per second: 202830</pre>"
      ],
      "text/plain": [
       "recommendations finished on 30000/75792 queries. users per second: 202830"
      ]
     },
     "metadata": {},
     "output_type": "display_data"
    },
    {
     "data": {
      "text/html": [
       "<pre>recommendations finished on 31000/75792 queries. users per second: 203502</pre>"
      ],
      "text/plain": [
       "recommendations finished on 31000/75792 queries. users per second: 203502"
      ]
     },
     "metadata": {},
     "output_type": "display_data"
    },
    {
     "data": {
      "text/html": [
       "<pre>recommendations finished on 32000/75792 queries. users per second: 203916</pre>"
      ],
      "text/plain": [
       "recommendations finished on 32000/75792 queries. users per second: 203916"
      ]
     },
     "metadata": {},
     "output_type": "display_data"
    },
    {
     "data": {
      "text/html": [
       "<pre>recommendations finished on 33000/75792 queries. users per second: 205509</pre>"
      ],
      "text/plain": [
       "recommendations finished on 33000/75792 queries. users per second: 205509"
      ]
     },
     "metadata": {},
     "output_type": "display_data"
    },
    {
     "data": {
      "text/html": [
       "<pre>recommendations finished on 34000/75792 queries. users per second: 205426</pre>"
      ],
      "text/plain": [
       "recommendations finished on 34000/75792 queries. users per second: 205426"
      ]
     },
     "metadata": {},
     "output_type": "display_data"
    },
    {
     "data": {
      "text/html": [
       "<pre>recommendations finished on 35000/75792 queries. users per second: 202371</pre>"
      ],
      "text/plain": [
       "recommendations finished on 35000/75792 queries. users per second: 202371"
      ]
     },
     "metadata": {},
     "output_type": "display_data"
    },
    {
     "data": {
      "text/html": [
       "<pre>recommendations finished on 36000/75792 queries. users per second: 201265</pre>"
      ],
      "text/plain": [
       "recommendations finished on 36000/75792 queries. users per second: 201265"
      ]
     },
     "metadata": {},
     "output_type": "display_data"
    },
    {
     "data": {
      "text/html": [
       "<pre>recommendations finished on 37000/75792 queries. users per second: 199227</pre>"
      ],
      "text/plain": [
       "recommendations finished on 37000/75792 queries. users per second: 199227"
      ]
     },
     "metadata": {},
     "output_type": "display_data"
    },
    {
     "data": {
      "text/html": [
       "<pre>recommendations finished on 38000/75792 queries. users per second: 199158</pre>"
      ],
      "text/plain": [
       "recommendations finished on 38000/75792 queries. users per second: 199158"
      ]
     },
     "metadata": {},
     "output_type": "display_data"
    },
    {
     "data": {
      "text/html": [
       "<pre>recommendations finished on 39000/75792 queries. users per second: 200249</pre>"
      ],
      "text/plain": [
       "recommendations finished on 39000/75792 queries. users per second: 200249"
      ]
     },
     "metadata": {},
     "output_type": "display_data"
    },
    {
     "data": {
      "text/html": [
       "<pre>recommendations finished on 40000/75792 queries. users per second: 201720</pre>"
      ],
      "text/plain": [
       "recommendations finished on 40000/75792 queries. users per second: 201720"
      ]
     },
     "metadata": {},
     "output_type": "display_data"
    },
    {
     "data": {
      "text/html": [
       "<pre>recommendations finished on 41000/75792 queries. users per second: 203440</pre>"
      ],
      "text/plain": [
       "recommendations finished on 41000/75792 queries. users per second: 203440"
      ]
     },
     "metadata": {},
     "output_type": "display_data"
    },
    {
     "data": {
      "text/html": [
       "<pre>recommendations finished on 42000/75792 queries. users per second: 204161</pre>"
      ],
      "text/plain": [
       "recommendations finished on 42000/75792 queries. users per second: 204161"
      ]
     },
     "metadata": {},
     "output_type": "display_data"
    },
    {
     "data": {
      "text/html": [
       "<pre>recommendations finished on 43000/75792 queries. users per second: 205761</pre>"
      ],
      "text/plain": [
       "recommendations finished on 43000/75792 queries. users per second: 205761"
      ]
     },
     "metadata": {},
     "output_type": "display_data"
    },
    {
     "data": {
      "text/html": [
       "<pre>recommendations finished on 44000/75792 queries. users per second: 206761</pre>"
      ],
      "text/plain": [
       "recommendations finished on 44000/75792 queries. users per second: 206761"
      ]
     },
     "metadata": {},
     "output_type": "display_data"
    },
    {
     "data": {
      "text/html": [
       "<pre>recommendations finished on 45000/75792 queries. users per second: 207924</pre>"
      ],
      "text/plain": [
       "recommendations finished on 45000/75792 queries. users per second: 207924"
      ]
     },
     "metadata": {},
     "output_type": "display_data"
    },
    {
     "data": {
      "text/html": [
       "<pre>recommendations finished on 46000/75792 queries. users per second: 207864</pre>"
      ],
      "text/plain": [
       "recommendations finished on 46000/75792 queries. users per second: 207864"
      ]
     },
     "metadata": {},
     "output_type": "display_data"
    },
    {
     "data": {
      "text/html": [
       "<pre>recommendations finished on 47000/75792 queries. users per second: 208824</pre>"
      ],
      "text/plain": [
       "recommendations finished on 47000/75792 queries. users per second: 208824"
      ]
     },
     "metadata": {},
     "output_type": "display_data"
    },
    {
     "data": {
      "text/html": [
       "<pre>recommendations finished on 48000/75792 queries. users per second: 210076</pre>"
      ],
      "text/plain": [
       "recommendations finished on 48000/75792 queries. users per second: 210076"
      ]
     },
     "metadata": {},
     "output_type": "display_data"
    },
    {
     "data": {
      "text/html": [
       "<pre>recommendations finished on 49000/75792 queries. users per second: 209802</pre>"
      ],
      "text/plain": [
       "recommendations finished on 49000/75792 queries. users per second: 209802"
      ]
     },
     "metadata": {},
     "output_type": "display_data"
    },
    {
     "data": {
      "text/html": [
       "<pre>recommendations finished on 50000/75792 queries. users per second: 209213</pre>"
      ],
      "text/plain": [
       "recommendations finished on 50000/75792 queries. users per second: 209213"
      ]
     },
     "metadata": {},
     "output_type": "display_data"
    },
    {
     "data": {
      "text/html": [
       "<pre>recommendations finished on 51000/75792 queries. users per second: 205164</pre>"
      ],
      "text/plain": [
       "recommendations finished on 51000/75792 queries. users per second: 205164"
      ]
     },
     "metadata": {},
     "output_type": "display_data"
    },
    {
     "data": {
      "text/html": [
       "<pre>recommendations finished on 52000/75792 queries. users per second: 205478</pre>"
      ],
      "text/plain": [
       "recommendations finished on 52000/75792 queries. users per second: 205478"
      ]
     },
     "metadata": {},
     "output_type": "display_data"
    },
    {
     "data": {
      "text/html": [
       "<pre>recommendations finished on 53000/75792 queries. users per second: 205940</pre>"
      ],
      "text/plain": [
       "recommendations finished on 53000/75792 queries. users per second: 205940"
      ]
     },
     "metadata": {},
     "output_type": "display_data"
    },
    {
     "data": {
      "text/html": [
       "<pre>recommendations finished on 54000/75792 queries. users per second: 206824</pre>"
      ],
      "text/plain": [
       "recommendations finished on 54000/75792 queries. users per second: 206824"
      ]
     },
     "metadata": {},
     "output_type": "display_data"
    },
    {
     "data": {
      "text/html": [
       "<pre>recommendations finished on 55000/75792 queries. users per second: 206567</pre>"
      ],
      "text/plain": [
       "recommendations finished on 55000/75792 queries. users per second: 206567"
      ]
     },
     "metadata": {},
     "output_type": "display_data"
    },
    {
     "data": {
      "text/html": [
       "<pre>recommendations finished on 56000/75792 queries. users per second: 207623</pre>"
      ],
      "text/plain": [
       "recommendations finished on 56000/75792 queries. users per second: 207623"
      ]
     },
     "metadata": {},
     "output_type": "display_data"
    },
    {
     "data": {
      "text/html": [
       "<pre>recommendations finished on 57000/75792 queries. users per second: 206249</pre>"
      ],
      "text/plain": [
       "recommendations finished on 57000/75792 queries. users per second: 206249"
      ]
     },
     "metadata": {},
     "output_type": "display_data"
    },
    {
     "data": {
      "text/html": [
       "<pre>recommendations finished on 58000/75792 queries. users per second: 206570</pre>"
      ],
      "text/plain": [
       "recommendations finished on 58000/75792 queries. users per second: 206570"
      ]
     },
     "metadata": {},
     "output_type": "display_data"
    },
    {
     "data": {
      "text/html": [
       "<pre>recommendations finished on 59000/75792 queries. users per second: 207046</pre>"
      ],
      "text/plain": [
       "recommendations finished on 59000/75792 queries. users per second: 207046"
      ]
     },
     "metadata": {},
     "output_type": "display_data"
    },
    {
     "data": {
      "text/html": [
       "<pre>recommendations finished on 60000/75792 queries. users per second: 205675</pre>"
      ],
      "text/plain": [
       "recommendations finished on 60000/75792 queries. users per second: 205675"
      ]
     },
     "metadata": {},
     "output_type": "display_data"
    },
    {
     "data": {
      "text/html": [
       "<pre>recommendations finished on 61000/75792 queries. users per second: 202237</pre>"
      ],
      "text/plain": [
       "recommendations finished on 61000/75792 queries. users per second: 202237"
      ]
     },
     "metadata": {},
     "output_type": "display_data"
    },
    {
     "data": {
      "text/html": [
       "<pre>recommendations finished on 62000/75792 queries. users per second: 201729</pre>"
      ],
      "text/plain": [
       "recommendations finished on 62000/75792 queries. users per second: 201729"
      ]
     },
     "metadata": {},
     "output_type": "display_data"
    },
    {
     "data": {
      "text/html": [
       "<pre>recommendations finished on 63000/75792 queries. users per second: 201655</pre>"
      ],
      "text/plain": [
       "recommendations finished on 63000/75792 queries. users per second: 201655"
      ]
     },
     "metadata": {},
     "output_type": "display_data"
    },
    {
     "data": {
      "text/html": [
       "<pre>recommendations finished on 64000/75792 queries. users per second: 201944</pre>"
      ],
      "text/plain": [
       "recommendations finished on 64000/75792 queries. users per second: 201944"
      ]
     },
     "metadata": {},
     "output_type": "display_data"
    },
    {
     "data": {
      "text/html": [
       "<pre>recommendations finished on 65000/75792 queries. users per second: 200529</pre>"
      ],
      "text/plain": [
       "recommendations finished on 65000/75792 queries. users per second: 200529"
      ]
     },
     "metadata": {},
     "output_type": "display_data"
    },
    {
     "data": {
      "text/html": [
       "<pre>recommendations finished on 66000/75792 queries. users per second: 201380</pre>"
      ],
      "text/plain": [
       "recommendations finished on 66000/75792 queries. users per second: 201380"
      ]
     },
     "metadata": {},
     "output_type": "display_data"
    },
    {
     "data": {
      "text/html": [
       "<pre>recommendations finished on 67000/75792 queries. users per second: 201835</pre>"
      ],
      "text/plain": [
       "recommendations finished on 67000/75792 queries. users per second: 201835"
      ]
     },
     "metadata": {},
     "output_type": "display_data"
    },
    {
     "data": {
      "text/html": [
       "<pre>recommendations finished on 68000/75792 queries. users per second: 201497</pre>"
      ],
      "text/plain": [
       "recommendations finished on 68000/75792 queries. users per second: 201497"
      ]
     },
     "metadata": {},
     "output_type": "display_data"
    },
    {
     "data": {
      "text/html": [
       "<pre>recommendations finished on 69000/75792 queries. users per second: 195125</pre>"
      ],
      "text/plain": [
       "recommendations finished on 69000/75792 queries. users per second: 195125"
      ]
     },
     "metadata": {},
     "output_type": "display_data"
    },
    {
     "data": {
      "text/html": [
       "<pre>recommendations finished on 70000/75792 queries. users per second: 194056</pre>"
      ],
      "text/plain": [
       "recommendations finished on 70000/75792 queries. users per second: 194056"
      ]
     },
     "metadata": {},
     "output_type": "display_data"
    },
    {
     "data": {
      "text/html": [
       "<pre>recommendations finished on 71000/75792 queries. users per second: 192884</pre>"
      ],
      "text/plain": [
       "recommendations finished on 71000/75792 queries. users per second: 192884"
      ]
     },
     "metadata": {},
     "output_type": "display_data"
    },
    {
     "data": {
      "text/html": [
       "<pre>recommendations finished on 72000/75792 queries. users per second: 191682</pre>"
      ],
      "text/plain": [
       "recommendations finished on 72000/75792 queries. users per second: 191682"
      ]
     },
     "metadata": {},
     "output_type": "display_data"
    },
    {
     "data": {
      "text/html": [
       "<pre>recommendations finished on 73000/75792 queries. users per second: 191618</pre>"
      ],
      "text/plain": [
       "recommendations finished on 73000/75792 queries. users per second: 191618"
      ]
     },
     "metadata": {},
     "output_type": "display_data"
    },
    {
     "data": {
      "text/html": [
       "<pre>recommendations finished on 74000/75792 queries. users per second: 190934</pre>"
      ],
      "text/plain": [
       "recommendations finished on 74000/75792 queries. users per second: 190934"
      ]
     },
     "metadata": {},
     "output_type": "display_data"
    },
    {
     "data": {
      "text/html": [
       "<pre>recommendations finished on 75000/75792 queries. users per second: 187991</pre>"
      ],
      "text/plain": [
       "recommendations finished on 75000/75792 queries. users per second: 187991"
      ]
     },
     "metadata": {},
     "output_type": "display_data"
    }
   ],
   "source": [
    "name = 'pearson'\n",
    "target = 'purchase_dummy'\n",
    "pear_dummy = model(train_data_dummy, name, user_id, item_id, target, users_to_recommend, n_rec, n_display)"
   ]
  },
  {
   "cell_type": "code",
   "execution_count": 39,
   "metadata": {},
   "outputs": [
    {
     "data": {
      "text/html": [
       "<pre>Preparing data set.</pre>"
      ],
      "text/plain": [
       "Preparing data set."
      ]
     },
     "metadata": {},
     "output_type": "display_data"
    },
    {
     "data": {
      "text/html": [
       "<pre>    Data has 60485 observations with 10605 users and 172 items.</pre>"
      ],
      "text/plain": [
       "    Data has 60485 observations with 10605 users and 172 items."
      ]
     },
     "metadata": {},
     "output_type": "display_data"
    },
    {
     "data": {
      "text/html": [
       "<pre>    Data prepared in: 0.103337s</pre>"
      ],
      "text/plain": [
       "    Data prepared in: 0.103337s"
      ]
     },
     "metadata": {},
     "output_type": "display_data"
    },
    {
     "data": {
      "text/html": [
       "<pre>Training model from provided data.</pre>"
      ],
      "text/plain": [
       "Training model from provided data."
      ]
     },
     "metadata": {},
     "output_type": "display_data"
    },
    {
     "data": {
      "text/html": [
       "<pre>Gathering per-item and per-user statistics.</pre>"
      ],
      "text/plain": [
       "Gathering per-item and per-user statistics."
      ]
     },
     "metadata": {},
     "output_type": "display_data"
    },
    {
     "data": {
      "text/html": [
       "<pre>+--------------------------------+------------+</pre>"
      ],
      "text/plain": [
       "+--------------------------------+------------+"
      ]
     },
     "metadata": {},
     "output_type": "display_data"
    },
    {
     "data": {
      "text/html": [
       "<pre>| Elapsed Time (Item Statistics) | % Complete |</pre>"
      ],
      "text/plain": [
       "| Elapsed Time (Item Statistics) | % Complete |"
      ]
     },
     "metadata": {},
     "output_type": "display_data"
    },
    {
     "data": {
      "text/html": [
       "<pre>+--------------------------------+------------+</pre>"
      ],
      "text/plain": [
       "+--------------------------------+------------+"
      ]
     },
     "metadata": {},
     "output_type": "display_data"
    },
    {
     "data": {
      "text/html": [
       "<pre>| 1.2ms                          | 9.25       |</pre>"
      ],
      "text/plain": [
       "| 1.2ms                          | 9.25       |"
      ]
     },
     "metadata": {},
     "output_type": "display_data"
    },
    {
     "data": {
      "text/html": [
       "<pre>| 4.045ms                        | 100        |</pre>"
      ],
      "text/plain": [
       "| 4.045ms                        | 100        |"
      ]
     },
     "metadata": {},
     "output_type": "display_data"
    },
    {
     "data": {
      "text/html": [
       "<pre>+--------------------------------+------------+</pre>"
      ],
      "text/plain": [
       "+--------------------------------+------------+"
      ]
     },
     "metadata": {},
     "output_type": "display_data"
    },
    {
     "data": {
      "text/html": [
       "<pre>Setting up lookup tables.</pre>"
      ],
      "text/plain": [
       "Setting up lookup tables."
      ]
     },
     "metadata": {},
     "output_type": "display_data"
    },
    {
     "data": {
      "text/html": [
       "<pre>Processing data in one pass using dense lookup tables.</pre>"
      ],
      "text/plain": [
       "Processing data in one pass using dense lookup tables."
      ]
     },
     "metadata": {},
     "output_type": "display_data"
    },
    {
     "data": {
      "text/html": [
       "<pre>+-------------------------------------+------------------+-----------------+</pre>"
      ],
      "text/plain": [
       "+-------------------------------------+------------------+-----------------+"
      ]
     },
     "metadata": {},
     "output_type": "display_data"
    },
    {
     "data": {
      "text/html": [
       "<pre>| Elapsed Time (Constructing Lookups) | Total % Complete | Items Processed |</pre>"
      ],
      "text/plain": [
       "| Elapsed Time (Constructing Lookups) | Total % Complete | Items Processed |"
      ]
     },
     "metadata": {},
     "output_type": "display_data"
    },
    {
     "data": {
      "text/html": [
       "<pre>+-------------------------------------+------------------+-----------------+</pre>"
      ],
      "text/plain": [
       "+-------------------------------------+------------------+-----------------+"
      ]
     },
     "metadata": {},
     "output_type": "display_data"
    },
    {
     "data": {
      "text/html": [
       "<pre>| 4.862ms                             | 0                | 0               |</pre>"
      ],
      "text/plain": [
       "| 4.862ms                             | 0                | 0               |"
      ]
     },
     "metadata": {},
     "output_type": "display_data"
    },
    {
     "data": {
      "text/html": [
       "<pre>| 14.837ms                            | 100              | 172             |</pre>"
      ],
      "text/plain": [
       "| 14.837ms                            | 100              | 172             |"
      ]
     },
     "metadata": {},
     "output_type": "display_data"
    },
    {
     "data": {
      "text/html": [
       "<pre>+-------------------------------------+------------------+-----------------+</pre>"
      ],
      "text/plain": [
       "+-------------------------------------+------------------+-----------------+"
      ]
     },
     "metadata": {},
     "output_type": "display_data"
    },
    {
     "data": {
      "text/html": [
       "<pre>Finalizing lookup tables.</pre>"
      ],
      "text/plain": [
       "Finalizing lookup tables."
      ]
     },
     "metadata": {},
     "output_type": "display_data"
    },
    {
     "data": {
      "text/html": [
       "<pre>Generating candidate set for working with new users.</pre>"
      ],
      "text/plain": [
       "Generating candidate set for working with new users."
      ]
     },
     "metadata": {},
     "output_type": "display_data"
    },
    {
     "data": {
      "text/html": [
       "<pre>Finished training in 0.022266s</pre>"
      ],
      "text/plain": [
       "Finished training in 0.022266s"
      ]
     },
     "metadata": {},
     "output_type": "display_data"
    },
    {
     "data": {
      "text/html": [
       "<pre>recommendations finished on 1000/75792 queries. users per second: 26532.2</pre>"
      ],
      "text/plain": [
       "recommendations finished on 1000/75792 queries. users per second: 26532.2"
      ]
     },
     "metadata": {},
     "output_type": "display_data"
    },
    {
     "data": {
      "text/html": [
       "<pre>recommendations finished on 2000/75792 queries. users per second: 47314.9</pre>"
      ],
      "text/plain": [
       "recommendations finished on 2000/75792 queries. users per second: 47314.9"
      ]
     },
     "metadata": {},
     "output_type": "display_data"
    },
    {
     "data": {
      "text/html": [
       "<pre>recommendations finished on 3000/75792 queries. users per second: 63806.7</pre>"
      ],
      "text/plain": [
       "recommendations finished on 3000/75792 queries. users per second: 63806.7"
      ]
     },
     "metadata": {},
     "output_type": "display_data"
    },
    {
     "data": {
      "text/html": [
       "<pre>recommendations finished on 4000/75792 queries. users per second: 76511.1</pre>"
      ],
      "text/plain": [
       "recommendations finished on 4000/75792 queries. users per second: 76511.1"
      ]
     },
     "metadata": {},
     "output_type": "display_data"
    },
    {
     "data": {
      "text/html": [
       "<pre>recommendations finished on 5000/75792 queries. users per second: 82131.5</pre>"
      ],
      "text/plain": [
       "recommendations finished on 5000/75792 queries. users per second: 82131.5"
      ]
     },
     "metadata": {},
     "output_type": "display_data"
    },
    {
     "data": {
      "text/html": [
       "<pre>recommendations finished on 6000/75792 queries. users per second: 88743</pre>"
      ],
      "text/plain": [
       "recommendations finished on 6000/75792 queries. users per second: 88743"
      ]
     },
     "metadata": {},
     "output_type": "display_data"
    },
    {
     "data": {
      "text/html": [
       "<pre>recommendations finished on 7000/75792 queries. users per second: 90528.2</pre>"
      ],
      "text/plain": [
       "recommendations finished on 7000/75792 queries. users per second: 90528.2"
      ]
     },
     "metadata": {},
     "output_type": "display_data"
    },
    {
     "data": {
      "text/html": [
       "<pre>recommendations finished on 8000/75792 queries. users per second: 97162.8</pre>"
      ],
      "text/plain": [
       "recommendations finished on 8000/75792 queries. users per second: 97162.8"
      ]
     },
     "metadata": {},
     "output_type": "display_data"
    },
    {
     "data": {
      "text/html": [
       "<pre>recommendations finished on 9000/75792 queries. users per second: 103382</pre>"
      ],
      "text/plain": [
       "recommendations finished on 9000/75792 queries. users per second: 103382"
      ]
     },
     "metadata": {},
     "output_type": "display_data"
    },
    {
     "data": {
      "text/html": [
       "<pre>recommendations finished on 10000/75792 queries. users per second: 105567</pre>"
      ],
      "text/plain": [
       "recommendations finished on 10000/75792 queries. users per second: 105567"
      ]
     },
     "metadata": {},
     "output_type": "display_data"
    },
    {
     "data": {
      "text/html": [
       "<pre>recommendations finished on 11000/75792 queries. users per second: 108889</pre>"
      ],
      "text/plain": [
       "recommendations finished on 11000/75792 queries. users per second: 108889"
      ]
     },
     "metadata": {},
     "output_type": "display_data"
    },
    {
     "data": {
      "text/html": [
       "<pre>recommendations finished on 12000/75792 queries. users per second: 111245</pre>"
      ],
      "text/plain": [
       "recommendations finished on 12000/75792 queries. users per second: 111245"
      ]
     },
     "metadata": {},
     "output_type": "display_data"
    },
    {
     "data": {
      "text/html": [
       "<pre>recommendations finished on 13000/75792 queries. users per second: 114040</pre>"
      ],
      "text/plain": [
       "recommendations finished on 13000/75792 queries. users per second: 114040"
      ]
     },
     "metadata": {},
     "output_type": "display_data"
    },
    {
     "data": {
      "text/html": [
       "<pre>recommendations finished on 14000/75792 queries. users per second: 112266</pre>"
      ],
      "text/plain": [
       "recommendations finished on 14000/75792 queries. users per second: 112266"
      ]
     },
     "metadata": {},
     "output_type": "display_data"
    },
    {
     "data": {
      "text/html": [
       "<pre>recommendations finished on 15000/75792 queries. users per second: 115607</pre>"
      ],
      "text/plain": [
       "recommendations finished on 15000/75792 queries. users per second: 115607"
      ]
     },
     "metadata": {},
     "output_type": "display_data"
    },
    {
     "data": {
      "text/html": [
       "<pre>recommendations finished on 16000/75792 queries. users per second: 119112</pre>"
      ],
      "text/plain": [
       "recommendations finished on 16000/75792 queries. users per second: 119112"
      ]
     },
     "metadata": {},
     "output_type": "display_data"
    },
    {
     "data": {
      "text/html": [
       "<pre>recommendations finished on 17000/75792 queries. users per second: 121568</pre>"
      ],
      "text/plain": [
       "recommendations finished on 17000/75792 queries. users per second: 121568"
      ]
     },
     "metadata": {},
     "output_type": "display_data"
    },
    {
     "data": {
      "text/html": [
       "<pre>recommendations finished on 18000/75792 queries. users per second: 124681</pre>"
      ],
      "text/plain": [
       "recommendations finished on 18000/75792 queries. users per second: 124681"
      ]
     },
     "metadata": {},
     "output_type": "display_data"
    },
    {
     "data": {
      "text/html": [
       "<pre>recommendations finished on 19000/75792 queries. users per second: 126529</pre>"
      ],
      "text/plain": [
       "recommendations finished on 19000/75792 queries. users per second: 126529"
      ]
     },
     "metadata": {},
     "output_type": "display_data"
    },
    {
     "data": {
      "text/html": [
       "<pre>recommendations finished on 20000/75792 queries. users per second: 128576</pre>"
      ],
      "text/plain": [
       "recommendations finished on 20000/75792 queries. users per second: 128576"
      ]
     },
     "metadata": {},
     "output_type": "display_data"
    },
    {
     "data": {
      "text/html": [
       "<pre>recommendations finished on 21000/75792 queries. users per second: 129271</pre>"
      ],
      "text/plain": [
       "recommendations finished on 21000/75792 queries. users per second: 129271"
      ]
     },
     "metadata": {},
     "output_type": "display_data"
    },
    {
     "data": {
      "text/html": [
       "<pre>recommendations finished on 22000/75792 queries. users per second: 128235</pre>"
      ],
      "text/plain": [
       "recommendations finished on 22000/75792 queries. users per second: 128235"
      ]
     },
     "metadata": {},
     "output_type": "display_data"
    },
    {
     "data": {
      "text/html": [
       "<pre>recommendations finished on 23000/75792 queries. users per second: 129689</pre>"
      ],
      "text/plain": [
       "recommendations finished on 23000/75792 queries. users per second: 129689"
      ]
     },
     "metadata": {},
     "output_type": "display_data"
    },
    {
     "data": {
      "text/html": [
       "<pre>recommendations finished on 24000/75792 queries. users per second: 131715</pre>"
      ],
      "text/plain": [
       "recommendations finished on 24000/75792 queries. users per second: 131715"
      ]
     },
     "metadata": {},
     "output_type": "display_data"
    },
    {
     "data": {
      "text/html": [
       "<pre>recommendations finished on 25000/75792 queries. users per second: 133854</pre>"
      ],
      "text/plain": [
       "recommendations finished on 25000/75792 queries. users per second: 133854"
      ]
     },
     "metadata": {},
     "output_type": "display_data"
    },
    {
     "data": {
      "text/html": [
       "<pre>recommendations finished on 26000/75792 queries. users per second: 135266</pre>"
      ],
      "text/plain": [
       "recommendations finished on 26000/75792 queries. users per second: 135266"
      ]
     },
     "metadata": {},
     "output_type": "display_data"
    },
    {
     "data": {
      "text/html": [
       "<pre>recommendations finished on 27000/75792 queries. users per second: 135963</pre>"
      ],
      "text/plain": [
       "recommendations finished on 27000/75792 queries. users per second: 135963"
      ]
     },
     "metadata": {},
     "output_type": "display_data"
    },
    {
     "data": {
      "text/html": [
       "<pre>recommendations finished on 28000/75792 queries. users per second: 135070</pre>"
      ],
      "text/plain": [
       "recommendations finished on 28000/75792 queries. users per second: 135070"
      ]
     },
     "metadata": {},
     "output_type": "display_data"
    },
    {
     "data": {
      "text/html": [
       "<pre>recommendations finished on 29000/75792 queries. users per second: 136516</pre>"
      ],
      "text/plain": [
       "recommendations finished on 29000/75792 queries. users per second: 136516"
      ]
     },
     "metadata": {},
     "output_type": "display_data"
    },
    {
     "data": {
      "text/html": [
       "<pre>recommendations finished on 30000/75792 queries. users per second: 137480</pre>"
      ],
      "text/plain": [
       "recommendations finished on 30000/75792 queries. users per second: 137480"
      ]
     },
     "metadata": {},
     "output_type": "display_data"
    },
    {
     "data": {
      "text/html": [
       "<pre>recommendations finished on 31000/75792 queries. users per second: 137553</pre>"
      ],
      "text/plain": [
       "recommendations finished on 31000/75792 queries. users per second: 137553"
      ]
     },
     "metadata": {},
     "output_type": "display_data"
    },
    {
     "data": {
      "text/html": [
       "<pre>recommendations finished on 32000/75792 queries. users per second: 137751</pre>"
      ],
      "text/plain": [
       "recommendations finished on 32000/75792 queries. users per second: 137751"
      ]
     },
     "metadata": {},
     "output_type": "display_data"
    },
    {
     "data": {
      "text/html": [
       "<pre>recommendations finished on 33000/75792 queries. users per second: 124314</pre>"
      ],
      "text/plain": [
       "recommendations finished on 33000/75792 queries. users per second: 124314"
      ]
     },
     "metadata": {},
     "output_type": "display_data"
    },
    {
     "data": {
      "text/html": [
       "<pre>recommendations finished on 34000/75792 queries. users per second: 124612</pre>"
      ],
      "text/plain": [
       "recommendations finished on 34000/75792 queries. users per second: 124612"
      ]
     },
     "metadata": {},
     "output_type": "display_data"
    },
    {
     "data": {
      "text/html": [
       "<pre>recommendations finished on 35000/75792 queries. users per second: 124672</pre>"
      ],
      "text/plain": [
       "recommendations finished on 35000/75792 queries. users per second: 124672"
      ]
     },
     "metadata": {},
     "output_type": "display_data"
    },
    {
     "data": {
      "text/html": [
       "<pre>recommendations finished on 36000/75792 queries. users per second: 125558</pre>"
      ],
      "text/plain": [
       "recommendations finished on 36000/75792 queries. users per second: 125558"
      ]
     },
     "metadata": {},
     "output_type": "display_data"
    },
    {
     "data": {
      "text/html": [
       "<pre>recommendations finished on 37000/75792 queries. users per second: 126920</pre>"
      ],
      "text/plain": [
       "recommendations finished on 37000/75792 queries. users per second: 126920"
      ]
     },
     "metadata": {},
     "output_type": "display_data"
    },
    {
     "data": {
      "text/html": [
       "<pre>recommendations finished on 38000/75792 queries. users per second: 127680</pre>"
      ],
      "text/plain": [
       "recommendations finished on 38000/75792 queries. users per second: 127680"
      ]
     },
     "metadata": {},
     "output_type": "display_data"
    },
    {
     "data": {
      "text/html": [
       "<pre>recommendations finished on 39000/75792 queries. users per second: 128088</pre>"
      ],
      "text/plain": [
       "recommendations finished on 39000/75792 queries. users per second: 128088"
      ]
     },
     "metadata": {},
     "output_type": "display_data"
    },
    {
     "data": {
      "text/html": [
       "<pre>recommendations finished on 40000/75792 queries. users per second: 128673</pre>"
      ],
      "text/plain": [
       "recommendations finished on 40000/75792 queries. users per second: 128673"
      ]
     },
     "metadata": {},
     "output_type": "display_data"
    },
    {
     "data": {
      "text/html": [
       "<pre>recommendations finished on 41000/75792 queries. users per second: 128225</pre>"
      ],
      "text/plain": [
       "recommendations finished on 41000/75792 queries. users per second: 128225"
      ]
     },
     "metadata": {},
     "output_type": "display_data"
    },
    {
     "name": "stdout",
     "output_type": "stream",
     "text": [
      "+------------+------------+---------------------+------+\n",
      "| customerId | productId  |        score        | rank |\n",
      "+------------+------------+---------------------+------+\n",
      "| 105697630  |   labay    |         1.0         |  1   |\n",
      "| 105697630  |    osmo    |  0.6667477374985106 |  2   |\n",
      "| 105697630  |   dewal    |  0.6666666666666667 |  3   |\n",
      "| 105697630  |   mielle   |         0.5         |  4   |\n",
      "| 105697630  |   coxir    |         0.5         |  5   |\n",
      "| 105697630  |   sanoto   |         0.5         |  6   |\n",
      "| 105697630  |  skinity   |         0.5         |  7   |\n",
      "| 105697630  |  ecocraft  |         0.4         |  8   |\n",
      "| 105697630  |   nirvel   |         0.35        |  9   |\n",
      "| 105697630  |   keune    |  0.3333573625201271 |  10  |\n",
      "| 126051562  |   labay    |         1.0         |  1   |\n",
      "| 126051562  |    osmo    |  0.6667516032854717 |  2   |\n",
      "| 126051562  |   dewal    |  0.6666666666666667 |  3   |\n",
      "| 126051562  |   coxir    |         0.5         |  4   |\n",
      "| 126051562  |   sanoto   |         0.5         |  5   |\n",
      "| 126051562  |  skinity   |         0.5         |  6   |\n",
      "| 126051562  |   mielle   |  0.4999927133321762 |  7   |\n",
      "| 126051562  |  ecocraft  |  0.399996729195118  |  8   |\n",
      "| 126051562  |   nirvel   |  0.3499738335609436 |  9   |\n",
      "| 126051562  |   keune    |  0.3334045310815176 |  10  |\n",
      "| 149936015  |   labay    |         1.0         |  1   |\n",
      "| 149936015  |   dewal    |  0.6666666666666667 |  2   |\n",
      "| 149936015  |    osmo    |  0.6666407585144044 |  3   |\n",
      "| 149936015  |   sanoto   |  0.500515898068746  |  4   |\n",
      "| 149936015  |   coxir    |         0.5         |  5   |\n",
      "| 149936015  |  skinity   |         0.5         |  6   |\n",
      "| 149936015  |   mielle   |  0.4999805688858032 |  7   |\n",
      "| 149936015  |  ecocraft  |         0.4         |  8   |\n",
      "| 149936015  |   nirvel   |         0.35        |  9   |\n",
      "| 149936015  | dr.gloderm | 0.33333333333333337 |  10  |\n",
      "+------------+------------+---------------------+------+\n",
      "[757920 rows x 4 columns]\n",
      "\n"
     ]
    },
    {
     "data": {
      "text/html": [
       "<pre>recommendations finished on 42000/75792 queries. users per second: 127803</pre>"
      ],
      "text/plain": [
       "recommendations finished on 42000/75792 queries. users per second: 127803"
      ]
     },
     "metadata": {},
     "output_type": "display_data"
    },
    {
     "data": {
      "text/html": [
       "<pre>recommendations finished on 43000/75792 queries. users per second: 128179</pre>"
      ],
      "text/plain": [
       "recommendations finished on 43000/75792 queries. users per second: 128179"
      ]
     },
     "metadata": {},
     "output_type": "display_data"
    },
    {
     "data": {
      "text/html": [
       "<pre>recommendations finished on 44000/75792 queries. users per second: 128622</pre>"
      ],
      "text/plain": [
       "recommendations finished on 44000/75792 queries. users per second: 128622"
      ]
     },
     "metadata": {},
     "output_type": "display_data"
    },
    {
     "data": {
      "text/html": [
       "<pre>recommendations finished on 45000/75792 queries. users per second: 128996</pre>"
      ],
      "text/plain": [
       "recommendations finished on 45000/75792 queries. users per second: 128996"
      ]
     },
     "metadata": {},
     "output_type": "display_data"
    },
    {
     "data": {
      "text/html": [
       "<pre>recommendations finished on 46000/75792 queries. users per second: 129737</pre>"
      ],
      "text/plain": [
       "recommendations finished on 46000/75792 queries. users per second: 129737"
      ]
     },
     "metadata": {},
     "output_type": "display_data"
    },
    {
     "data": {
      "text/html": [
       "<pre>recommendations finished on 47000/75792 queries. users per second: 129634</pre>"
      ],
      "text/plain": [
       "recommendations finished on 47000/75792 queries. users per second: 129634"
      ]
     },
     "metadata": {},
     "output_type": "display_data"
    },
    {
     "data": {
      "text/html": [
       "<pre>recommendations finished on 48000/75792 queries. users per second: 130589</pre>"
      ],
      "text/plain": [
       "recommendations finished on 48000/75792 queries. users per second: 130589"
      ]
     },
     "metadata": {},
     "output_type": "display_data"
    },
    {
     "data": {
      "text/html": [
       "<pre>recommendations finished on 49000/75792 queries. users per second: 127504</pre>"
      ],
      "text/plain": [
       "recommendations finished on 49000/75792 queries. users per second: 127504"
      ]
     },
     "metadata": {},
     "output_type": "display_data"
    },
    {
     "data": {
      "text/html": [
       "<pre>recommendations finished on 50000/75792 queries. users per second: 127666</pre>"
      ],
      "text/plain": [
       "recommendations finished on 50000/75792 queries. users per second: 127666"
      ]
     },
     "metadata": {},
     "output_type": "display_data"
    },
    {
     "data": {
      "text/html": [
       "<pre>recommendations finished on 51000/75792 queries. users per second: 128355</pre>"
      ],
      "text/plain": [
       "recommendations finished on 51000/75792 queries. users per second: 128355"
      ]
     },
     "metadata": {},
     "output_type": "display_data"
    },
    {
     "data": {
      "text/html": [
       "<pre>recommendations finished on 52000/75792 queries. users per second: 128804</pre>"
      ],
      "text/plain": [
       "recommendations finished on 52000/75792 queries. users per second: 128804"
      ]
     },
     "metadata": {},
     "output_type": "display_data"
    },
    {
     "data": {
      "text/html": [
       "<pre>recommendations finished on 53000/75792 queries. users per second: 129456</pre>"
      ],
      "text/plain": [
       "recommendations finished on 53000/75792 queries. users per second: 129456"
      ]
     },
     "metadata": {},
     "output_type": "display_data"
    },
    {
     "data": {
      "text/html": [
       "<pre>recommendations finished on 54000/75792 queries. users per second: 129871</pre>"
      ],
      "text/plain": [
       "recommendations finished on 54000/75792 queries. users per second: 129871"
      ]
     },
     "metadata": {},
     "output_type": "display_data"
    },
    {
     "data": {
      "text/html": [
       "<pre>recommendations finished on 55000/75792 queries. users per second: 130400</pre>"
      ],
      "text/plain": [
       "recommendations finished on 55000/75792 queries. users per second: 130400"
      ]
     },
     "metadata": {},
     "output_type": "display_data"
    },
    {
     "data": {
      "text/html": [
       "<pre>recommendations finished on 56000/75792 queries. users per second: 130426</pre>"
      ],
      "text/plain": [
       "recommendations finished on 56000/75792 queries. users per second: 130426"
      ]
     },
     "metadata": {},
     "output_type": "display_data"
    },
    {
     "data": {
      "text/html": [
       "<pre>recommendations finished on 57000/75792 queries. users per second: 131297</pre>"
      ],
      "text/plain": [
       "recommendations finished on 57000/75792 queries. users per second: 131297"
      ]
     },
     "metadata": {},
     "output_type": "display_data"
    },
    {
     "data": {
      "text/html": [
       "<pre>recommendations finished on 58000/75792 queries. users per second: 131974</pre>"
      ],
      "text/plain": [
       "recommendations finished on 58000/75792 queries. users per second: 131974"
      ]
     },
     "metadata": {},
     "output_type": "display_data"
    },
    {
     "data": {
      "text/html": [
       "<pre>recommendations finished on 59000/75792 queries. users per second: 131655</pre>"
      ],
      "text/plain": [
       "recommendations finished on 59000/75792 queries. users per second: 131655"
      ]
     },
     "metadata": {},
     "output_type": "display_data"
    },
    {
     "data": {
      "text/html": [
       "<pre>recommendations finished on 60000/75792 queries. users per second: 131971</pre>"
      ],
      "text/plain": [
       "recommendations finished on 60000/75792 queries. users per second: 131971"
      ]
     },
     "metadata": {},
     "output_type": "display_data"
    },
    {
     "data": {
      "text/html": [
       "<pre>recommendations finished on 61000/75792 queries. users per second: 132474</pre>"
      ],
      "text/plain": [
       "recommendations finished on 61000/75792 queries. users per second: 132474"
      ]
     },
     "metadata": {},
     "output_type": "display_data"
    },
    {
     "data": {
      "text/html": [
       "<pre>recommendations finished on 62000/75792 queries. users per second: 132874</pre>"
      ],
      "text/plain": [
       "recommendations finished on 62000/75792 queries. users per second: 132874"
      ]
     },
     "metadata": {},
     "output_type": "display_data"
    },
    {
     "data": {
      "text/html": [
       "<pre>recommendations finished on 63000/75792 queries. users per second: 132847</pre>"
      ],
      "text/plain": [
       "recommendations finished on 63000/75792 queries. users per second: 132847"
      ]
     },
     "metadata": {},
     "output_type": "display_data"
    },
    {
     "data": {
      "text/html": [
       "<pre>recommendations finished on 64000/75792 queries. users per second: 133359</pre>"
      ],
      "text/plain": [
       "recommendations finished on 64000/75792 queries. users per second: 133359"
      ]
     },
     "metadata": {},
     "output_type": "display_data"
    },
    {
     "data": {
      "text/html": [
       "<pre>recommendations finished on 65000/75792 queries. users per second: 133675</pre>"
      ],
      "text/plain": [
       "recommendations finished on 65000/75792 queries. users per second: 133675"
      ]
     },
     "metadata": {},
     "output_type": "display_data"
    },
    {
     "data": {
      "text/html": [
       "<pre>recommendations finished on 66000/75792 queries. users per second: 134023</pre>"
      ],
      "text/plain": [
       "recommendations finished on 66000/75792 queries. users per second: 134023"
      ]
     },
     "metadata": {},
     "output_type": "display_data"
    },
    {
     "data": {
      "text/html": [
       "<pre>recommendations finished on 67000/75792 queries. users per second: 130050</pre>"
      ],
      "text/plain": [
       "recommendations finished on 67000/75792 queries. users per second: 130050"
      ]
     },
     "metadata": {},
     "output_type": "display_data"
    },
    {
     "data": {
      "text/html": [
       "<pre>recommendations finished on 68000/75792 queries. users per second: 130856</pre>"
      ],
      "text/plain": [
       "recommendations finished on 68000/75792 queries. users per second: 130856"
      ]
     },
     "metadata": {},
     "output_type": "display_data"
    },
    {
     "data": {
      "text/html": [
       "<pre>recommendations finished on 69000/75792 queries. users per second: 131302</pre>"
      ],
      "text/plain": [
       "recommendations finished on 69000/75792 queries. users per second: 131302"
      ]
     },
     "metadata": {},
     "output_type": "display_data"
    },
    {
     "data": {
      "text/html": [
       "<pre>recommendations finished on 70000/75792 queries. users per second: 131822</pre>"
      ],
      "text/plain": [
       "recommendations finished on 70000/75792 queries. users per second: 131822"
      ]
     },
     "metadata": {},
     "output_type": "display_data"
    },
    {
     "data": {
      "text/html": [
       "<pre>recommendations finished on 71000/75792 queries. users per second: 131823</pre>"
      ],
      "text/plain": [
       "recommendations finished on 71000/75792 queries. users per second: 131823"
      ]
     },
     "metadata": {},
     "output_type": "display_data"
    },
    {
     "data": {
      "text/html": [
       "<pre>recommendations finished on 72000/75792 queries. users per second: 132496</pre>"
      ],
      "text/plain": [
       "recommendations finished on 72000/75792 queries. users per second: 132496"
      ]
     },
     "metadata": {},
     "output_type": "display_data"
    },
    {
     "data": {
      "text/html": [
       "<pre>recommendations finished on 73000/75792 queries. users per second: 132743</pre>"
      ],
      "text/plain": [
       "recommendations finished on 73000/75792 queries. users per second: 132743"
      ]
     },
     "metadata": {},
     "output_type": "display_data"
    },
    {
     "data": {
      "text/html": [
       "<pre>recommendations finished on 74000/75792 queries. users per second: 132584</pre>"
      ],
      "text/plain": [
       "recommendations finished on 74000/75792 queries. users per second: 132584"
      ]
     },
     "metadata": {},
     "output_type": "display_data"
    },
    {
     "data": {
      "text/html": [
       "<pre>recommendations finished on 75000/75792 queries. users per second: 130827</pre>"
      ],
      "text/plain": [
       "recommendations finished on 75000/75792 queries. users per second: 130827"
      ]
     },
     "metadata": {},
     "output_type": "display_data"
    }
   ],
   "source": [
    "name = 'pearson'\n",
    "target = 'scaled_purchase_freq'\n",
    "pear_norm = model(train_data_norm, name, user_id, item_id, target, users_to_recommend, n_rec, n_display)"
   ]
  },
  {
   "cell_type": "code",
   "execution_count": 40,
   "metadata": {},
   "outputs": [
    {
     "data": {
      "text/html": [
       "<pre>Preparing data set.</pre>"
      ],
      "text/plain": [
       "Preparing data set."
      ]
     },
     "metadata": {},
     "output_type": "display_data"
    },
    {
     "data": {
      "text/html": [
       "<pre>    Data has 60633 observations with 10609 users and 210 items.</pre>"
      ],
      "text/plain": [
       "    Data has 60633 observations with 10609 users and 210 items."
      ]
     },
     "metadata": {},
     "output_type": "display_data"
    },
    {
     "data": {
      "text/html": [
       "<pre>    Data prepared in: 0.083468s</pre>"
      ],
      "text/plain": [
       "    Data prepared in: 0.083468s"
      ]
     },
     "metadata": {},
     "output_type": "display_data"
    },
    {
     "data": {
      "text/html": [
       "<pre>Training model from provided data.</pre>"
      ],
      "text/plain": [
       "Training model from provided data."
      ]
     },
     "metadata": {},
     "output_type": "display_data"
    },
    {
     "data": {
      "text/html": [
       "<pre>Gathering per-item and per-user statistics.</pre>"
      ],
      "text/plain": [
       "Gathering per-item and per-user statistics."
      ]
     },
     "metadata": {},
     "output_type": "display_data"
    },
    {
     "data": {
      "text/html": [
       "<pre>+--------------------------------+------------+</pre>"
      ],
      "text/plain": [
       "+--------------------------------+------------+"
      ]
     },
     "metadata": {},
     "output_type": "display_data"
    },
    {
     "data": {
      "text/html": [
       "<pre>| Elapsed Time (Item Statistics) | % Complete |</pre>"
      ],
      "text/plain": [
       "| Elapsed Time (Item Statistics) | % Complete |"
      ]
     },
     "metadata": {},
     "output_type": "display_data"
    },
    {
     "data": {
      "text/html": [
       "<pre>+--------------------------------+------------+</pre>"
      ],
      "text/plain": [
       "+--------------------------------+------------+"
      ]
     },
     "metadata": {},
     "output_type": "display_data"
    },
    {
     "data": {
      "text/html": [
       "<pre>| 859us                          | 9.25       |</pre>"
      ],
      "text/plain": [
       "| 859us                          | 9.25       |"
      ]
     },
     "metadata": {},
     "output_type": "display_data"
    },
    {
     "data": {
      "text/html": [
       "<pre>| 5.394ms                        | 100        |</pre>"
      ],
      "text/plain": [
       "| 5.394ms                        | 100        |"
      ]
     },
     "metadata": {},
     "output_type": "display_data"
    },
    {
     "data": {
      "text/html": [
       "<pre>+--------------------------------+------------+</pre>"
      ],
      "text/plain": [
       "+--------------------------------+------------+"
      ]
     },
     "metadata": {},
     "output_type": "display_data"
    },
    {
     "data": {
      "text/html": [
       "<pre>Setting up lookup tables.</pre>"
      ],
      "text/plain": [
       "Setting up lookup tables."
      ]
     },
     "metadata": {},
     "output_type": "display_data"
    },
    {
     "data": {
      "text/html": [
       "<pre>Processing data in one pass using dense lookup tables.</pre>"
      ],
      "text/plain": [
       "Processing data in one pass using dense lookup tables."
      ]
     },
     "metadata": {},
     "output_type": "display_data"
    },
    {
     "data": {
      "text/html": [
       "<pre>+-------------------------------------+------------------+-----------------+</pre>"
      ],
      "text/plain": [
       "+-------------------------------------+------------------+-----------------+"
      ]
     },
     "metadata": {},
     "output_type": "display_data"
    },
    {
     "data": {
      "text/html": [
       "<pre>| Elapsed Time (Constructing Lookups) | Total % Complete | Items Processed |</pre>"
      ],
      "text/plain": [
       "| Elapsed Time (Constructing Lookups) | Total % Complete | Items Processed |"
      ]
     },
     "metadata": {},
     "output_type": "display_data"
    },
    {
     "data": {
      "text/html": [
       "<pre>+-------------------------------------+------------------+-----------------+</pre>"
      ],
      "text/plain": [
       "+-------------------------------------+------------------+-----------------+"
      ]
     },
     "metadata": {},
     "output_type": "display_data"
    },
    {
     "data": {
      "text/html": [
       "<pre>| 54.346ms                            | 0                | 0               |</pre>"
      ],
      "text/plain": [
       "| 54.346ms                            | 0                | 0               |"
      ]
     },
     "metadata": {},
     "output_type": "display_data"
    },
    {
     "data": {
      "text/html": [
       "<pre>| 88.307ms                            | 100              | 210             |</pre>"
      ],
      "text/plain": [
       "| 88.307ms                            | 100              | 210             |"
      ]
     },
     "metadata": {},
     "output_type": "display_data"
    },
    {
     "data": {
      "text/html": [
       "<pre>+-------------------------------------+------------------+-----------------+</pre>"
      ],
      "text/plain": [
       "+-------------------------------------+------------------+-----------------+"
      ]
     },
     "metadata": {},
     "output_type": "display_data"
    },
    {
     "data": {
      "text/html": [
       "<pre>Finalizing lookup tables.</pre>"
      ],
      "text/plain": [
       "Finalizing lookup tables."
      ]
     },
     "metadata": {},
     "output_type": "display_data"
    },
    {
     "data": {
      "text/html": [
       "<pre>Generating candidate set for working with new users.</pre>"
      ],
      "text/plain": [
       "Generating candidate set for working with new users."
      ]
     },
     "metadata": {},
     "output_type": "display_data"
    },
    {
     "data": {
      "text/html": [
       "<pre>Finished training in 0.098685s</pre>"
      ],
      "text/plain": [
       "Finished training in 0.098685s"
      ]
     },
     "metadata": {},
     "output_type": "display_data"
    },
    {
     "data": {
      "text/html": [
       "<pre>recommendations finished on 1000/75792 queries. users per second: 122444</pre>"
      ],
      "text/plain": [
       "recommendations finished on 1000/75792 queries. users per second: 122444"
      ]
     },
     "metadata": {},
     "output_type": "display_data"
    },
    {
     "data": {
      "text/html": [
       "<pre>recommendations finished on 2000/75792 queries. users per second: 150240</pre>"
      ],
      "text/plain": [
       "recommendations finished on 2000/75792 queries. users per second: 150240"
      ]
     },
     "metadata": {},
     "output_type": "display_data"
    },
    {
     "data": {
      "text/html": [
       "<pre>recommendations finished on 3000/75792 queries. users per second: 147944</pre>"
      ],
      "text/plain": [
       "recommendations finished on 3000/75792 queries. users per second: 147944"
      ]
     },
     "metadata": {},
     "output_type": "display_data"
    },
    {
     "data": {
      "text/html": [
       "<pre>recommendations finished on 4000/75792 queries. users per second: 158655</pre>"
      ],
      "text/plain": [
       "recommendations finished on 4000/75792 queries. users per second: 158655"
      ]
     },
     "metadata": {},
     "output_type": "display_data"
    },
    {
     "data": {
      "text/html": [
       "<pre>recommendations finished on 5000/75792 queries. users per second: 159357</pre>"
      ],
      "text/plain": [
       "recommendations finished on 5000/75792 queries. users per second: 159357"
      ]
     },
     "metadata": {},
     "output_type": "display_data"
    },
    {
     "data": {
      "text/html": [
       "<pre>recommendations finished on 6000/75792 queries. users per second: 160595</pre>"
      ],
      "text/plain": [
       "recommendations finished on 6000/75792 queries. users per second: 160595"
      ]
     },
     "metadata": {},
     "output_type": "display_data"
    },
    {
     "data": {
      "text/html": [
       "<pre>recommendations finished on 7000/75792 queries. users per second: 164814</pre>"
      ],
      "text/plain": [
       "recommendations finished on 7000/75792 queries. users per second: 164814"
      ]
     },
     "metadata": {},
     "output_type": "display_data"
    },
    {
     "data": {
      "text/html": [
       "<pre>recommendations finished on 8000/75792 queries. users per second: 164996</pre>"
      ],
      "text/plain": [
       "recommendations finished on 8000/75792 queries. users per second: 164996"
      ]
     },
     "metadata": {},
     "output_type": "display_data"
    },
    {
     "data": {
      "text/html": [
       "<pre>recommendations finished on 9000/75792 queries. users per second: 160511</pre>"
      ],
      "text/plain": [
       "recommendations finished on 9000/75792 queries. users per second: 160511"
      ]
     },
     "metadata": {},
     "output_type": "display_data"
    },
    {
     "data": {
      "text/html": [
       "<pre>recommendations finished on 10000/75792 queries. users per second: 164596</pre>"
      ],
      "text/plain": [
       "recommendations finished on 10000/75792 queries. users per second: 164596"
      ]
     },
     "metadata": {},
     "output_type": "display_data"
    },
    {
     "data": {
      "text/html": [
       "<pre>recommendations finished on 11000/75792 queries. users per second: 167377</pre>"
      ],
      "text/plain": [
       "recommendations finished on 11000/75792 queries. users per second: 167377"
      ]
     },
     "metadata": {},
     "output_type": "display_data"
    },
    {
     "data": {
      "text/html": [
       "<pre>recommendations finished on 12000/75792 queries. users per second: 167203</pre>"
      ],
      "text/plain": [
       "recommendations finished on 12000/75792 queries. users per second: 167203"
      ]
     },
     "metadata": {},
     "output_type": "display_data"
    },
    {
     "data": {
      "text/html": [
       "<pre>recommendations finished on 13000/75792 queries. users per second: 166289</pre>"
      ],
      "text/plain": [
       "recommendations finished on 13000/75792 queries. users per second: 166289"
      ]
     },
     "metadata": {},
     "output_type": "display_data"
    },
    {
     "data": {
      "text/html": [
       "<pre>recommendations finished on 14000/75792 queries. users per second: 162221</pre>"
      ],
      "text/plain": [
       "recommendations finished on 14000/75792 queries. users per second: 162221"
      ]
     },
     "metadata": {},
     "output_type": "display_data"
    },
    {
     "data": {
      "text/html": [
       "<pre>recommendations finished on 15000/75792 queries. users per second: 163317</pre>"
      ],
      "text/plain": [
       "recommendations finished on 15000/75792 queries. users per second: 163317"
      ]
     },
     "metadata": {},
     "output_type": "display_data"
    },
    {
     "data": {
      "text/html": [
       "<pre>recommendations finished on 16000/75792 queries. users per second: 164274</pre>"
      ],
      "text/plain": [
       "recommendations finished on 16000/75792 queries. users per second: 164274"
      ]
     },
     "metadata": {},
     "output_type": "display_data"
    },
    {
     "data": {
      "text/html": [
       "<pre>recommendations finished on 17000/75792 queries. users per second: 163534</pre>"
      ],
      "text/plain": [
       "recommendations finished on 17000/75792 queries. users per second: 163534"
      ]
     },
     "metadata": {},
     "output_type": "display_data"
    },
    {
     "data": {
      "text/html": [
       "<pre>recommendations finished on 18000/75792 queries. users per second: 164615</pre>"
      ],
      "text/plain": [
       "recommendations finished on 18000/75792 queries. users per second: 164615"
      ]
     },
     "metadata": {},
     "output_type": "display_data"
    },
    {
     "data": {
      "text/html": [
       "<pre>recommendations finished on 19000/75792 queries. users per second: 164535</pre>"
      ],
      "text/plain": [
       "recommendations finished on 19000/75792 queries. users per second: 164535"
      ]
     },
     "metadata": {},
     "output_type": "display_data"
    },
    {
     "data": {
      "text/html": [
       "<pre>recommendations finished on 20000/75792 queries. users per second: 164503</pre>"
      ],
      "text/plain": [
       "recommendations finished on 20000/75792 queries. users per second: 164503"
      ]
     },
     "metadata": {},
     "output_type": "display_data"
    },
    {
     "data": {
      "text/html": [
       "<pre>recommendations finished on 21000/75792 queries. users per second: 165658</pre>"
      ],
      "text/plain": [
       "recommendations finished on 21000/75792 queries. users per second: 165658"
      ]
     },
     "metadata": {},
     "output_type": "display_data"
    },
    {
     "data": {
      "text/html": [
       "<pre>recommendations finished on 22000/75792 queries. users per second: 164253</pre>"
      ],
      "text/plain": [
       "recommendations finished on 22000/75792 queries. users per second: 164253"
      ]
     },
     "metadata": {},
     "output_type": "display_data"
    },
    {
     "data": {
      "text/html": [
       "<pre>recommendations finished on 23000/75792 queries. users per second: 163788</pre>"
      ],
      "text/plain": [
       "recommendations finished on 23000/75792 queries. users per second: 163788"
      ]
     },
     "metadata": {},
     "output_type": "display_data"
    },
    {
     "data": {
      "text/html": [
       "<pre>recommendations finished on 24000/75792 queries. users per second: 161783</pre>"
      ],
      "text/plain": [
       "recommendations finished on 24000/75792 queries. users per second: 161783"
      ]
     },
     "metadata": {},
     "output_type": "display_data"
    },
    {
     "name": "stdout",
     "output_type": "stream",
     "text": [
      "+------------+-----------+----------------------+------+\n",
      "| customerId | productId |        score         | rank |\n",
      "+------------+-----------+----------------------+------+\n",
      "| 105697630  |   runail  | 0.13963550329208374  |  1   |\n",
      "| 105697630  | bpw.style |  0.1085998813311259  |  2   |\n",
      "| 105697630  |  ingarden | 0.09747594594955444  |  3   |\n",
      "| 105697630  |  grattol  | 0.09008134404818217  |  4   |\n",
      "| 105697630  | freedecor | 0.07864546775817871  |  5   |\n",
      "| 105697630  |   domix   | 0.07530614733695984  |  6   |\n",
      "| 105697630  |    milv   | 0.07007154822349548  |  7   |\n",
      "| 105697630  |    uno    | 0.06881490349769592  |  8   |\n",
      "| 105697630  |  severina | 0.061802953481674194 |  9   |\n",
      "| 105697630  |   zinger  | 0.053297460079193115 |  10  |\n",
      "| 126051562  | bpw.style |  0.1552469465467665  |  1   |\n",
      "| 126051562  |   masura  | 0.11825984054141575  |  2   |\n",
      "| 126051562  |   domix   | 0.10620878802405463  |  3   |\n",
      "| 126051562  | freedecor | 0.10473116901185778  |  4   |\n",
      "| 126051562  |    milv   | 0.09834123982323541  |  5   |\n",
      "| 126051562  |  severina | 0.07453805208206177  |  6   |\n",
      "| 126051562  |   zinger  | 0.07422380314932929  |  7   |\n",
      "| 126051562  |  jessnail | 0.07141095399856567  |  8   |\n",
      "| 126051562  |  haruyama | 0.06668223937352498  |  9   |\n",
      "| 126051562  |    yoko   | 0.06414408816231622  |  10  |\n",
      "| 149936015  |   runail  | 0.10970962047576904  |  1   |\n",
      "| 149936015  |   irisk   | 0.10393455028533935  |  2   |\n",
      "| 149936015  | bpw.style | 0.10168766975402832  |  3   |\n",
      "| 149936015  |    uno    | 0.07721734046936035  |  4   |\n",
      "| 149936015  | freedecor | 0.07501964569091797  |  5   |\n",
      "| 149936015  |   masura  | 0.07412914037704468  |  6   |\n",
      "| 149936015  |   domix   | 0.06467539072036743  |  7   |\n",
      "| 149936015  |   de.lux  | 0.058946645259857176 |  8   |\n",
      "| 149936015  |  lianail  | 0.054137790203094484 |  9   |\n",
      "| 149936015  |    milv   | 0.053956234455108644 |  10  |\n",
      "+------------+-----------+----------------------+------+\n",
      "[757920 rows x 4 columns]\n",
      "\n"
     ]
    },
    {
     "data": {
      "text/html": [
       "<pre>recommendations finished on 25000/75792 queries. users per second: 155375</pre>"
      ],
      "text/plain": [
       "recommendations finished on 25000/75792 queries. users per second: 155375"
      ]
     },
     "metadata": {},
     "output_type": "display_data"
    },
    {
     "data": {
      "text/html": [
       "<pre>recommendations finished on 26000/75792 queries. users per second: 155309</pre>"
      ],
      "text/plain": [
       "recommendations finished on 26000/75792 queries. users per second: 155309"
      ]
     },
     "metadata": {},
     "output_type": "display_data"
    },
    {
     "data": {
      "text/html": [
       "<pre>recommendations finished on 27000/75792 queries. users per second: 156176</pre>"
      ],
      "text/plain": [
       "recommendations finished on 27000/75792 queries. users per second: 156176"
      ]
     },
     "metadata": {},
     "output_type": "display_data"
    },
    {
     "data": {
      "text/html": [
       "<pre>recommendations finished on 28000/75792 queries. users per second: 155437</pre>"
      ],
      "text/plain": [
       "recommendations finished on 28000/75792 queries. users per second: 155437"
      ]
     },
     "metadata": {},
     "output_type": "display_data"
    },
    {
     "data": {
      "text/html": [
       "<pre>recommendations finished on 29000/75792 queries. users per second: 144536</pre>"
      ],
      "text/plain": [
       "recommendations finished on 29000/75792 queries. users per second: 144536"
      ]
     },
     "metadata": {},
     "output_type": "display_data"
    },
    {
     "data": {
      "text/html": [
       "<pre>recommendations finished on 30000/75792 queries. users per second: 145503</pre>"
      ],
      "text/plain": [
       "recommendations finished on 30000/75792 queries. users per second: 145503"
      ]
     },
     "metadata": {},
     "output_type": "display_data"
    },
    {
     "data": {
      "text/html": [
       "<pre>recommendations finished on 31000/75792 queries. users per second: 147099</pre>"
      ],
      "text/plain": [
       "recommendations finished on 31000/75792 queries. users per second: 147099"
      ]
     },
     "metadata": {},
     "output_type": "display_data"
    },
    {
     "data": {
      "text/html": [
       "<pre>recommendations finished on 32000/75792 queries. users per second: 148577</pre>"
      ],
      "text/plain": [
       "recommendations finished on 32000/75792 queries. users per second: 148577"
      ]
     },
     "metadata": {},
     "output_type": "display_data"
    },
    {
     "data": {
      "text/html": [
       "<pre>recommendations finished on 33000/75792 queries. users per second: 148816</pre>"
      ],
      "text/plain": [
       "recommendations finished on 33000/75792 queries. users per second: 148816"
      ]
     },
     "metadata": {},
     "output_type": "display_data"
    },
    {
     "data": {
      "text/html": [
       "<pre>recommendations finished on 34000/75792 queries. users per second: 148321</pre>"
      ],
      "text/plain": [
       "recommendations finished on 34000/75792 queries. users per second: 148321"
      ]
     },
     "metadata": {},
     "output_type": "display_data"
    },
    {
     "data": {
      "text/html": [
       "<pre>recommendations finished on 35000/75792 queries. users per second: 149118</pre>"
      ],
      "text/plain": [
       "recommendations finished on 35000/75792 queries. users per second: 149118"
      ]
     },
     "metadata": {},
     "output_type": "display_data"
    },
    {
     "data": {
      "text/html": [
       "<pre>recommendations finished on 36000/75792 queries. users per second: 150165</pre>"
      ],
      "text/plain": [
       "recommendations finished on 36000/75792 queries. users per second: 150165"
      ]
     },
     "metadata": {},
     "output_type": "display_data"
    },
    {
     "data": {
      "text/html": [
       "<pre>recommendations finished on 37000/75792 queries. users per second: 150892</pre>"
      ],
      "text/plain": [
       "recommendations finished on 37000/75792 queries. users per second: 150892"
      ]
     },
     "metadata": {},
     "output_type": "display_data"
    },
    {
     "data": {
      "text/html": [
       "<pre>recommendations finished on 38000/75792 queries. users per second: 150297</pre>"
      ],
      "text/plain": [
       "recommendations finished on 38000/75792 queries. users per second: 150297"
      ]
     },
     "metadata": {},
     "output_type": "display_data"
    },
    {
     "data": {
      "text/html": [
       "<pre>recommendations finished on 39000/75792 queries. users per second: 151261</pre>"
      ],
      "text/plain": [
       "recommendations finished on 39000/75792 queries. users per second: 151261"
      ]
     },
     "metadata": {},
     "output_type": "display_data"
    },
    {
     "data": {
      "text/html": [
       "<pre>recommendations finished on 40000/75792 queries. users per second: 151503</pre>"
      ],
      "text/plain": [
       "recommendations finished on 40000/75792 queries. users per second: 151503"
      ]
     },
     "metadata": {},
     "output_type": "display_data"
    },
    {
     "data": {
      "text/html": [
       "<pre>recommendations finished on 41000/75792 queries. users per second: 150246</pre>"
      ],
      "text/plain": [
       "recommendations finished on 41000/75792 queries. users per second: 150246"
      ]
     },
     "metadata": {},
     "output_type": "display_data"
    },
    {
     "data": {
      "text/html": [
       "<pre>recommendations finished on 42000/75792 queries. users per second: 146110</pre>"
      ],
      "text/plain": [
       "recommendations finished on 42000/75792 queries. users per second: 146110"
      ]
     },
     "metadata": {},
     "output_type": "display_data"
    },
    {
     "data": {
      "text/html": [
       "<pre>recommendations finished on 43000/75792 queries. users per second: 146728</pre>"
      ],
      "text/plain": [
       "recommendations finished on 43000/75792 queries. users per second: 146728"
      ]
     },
     "metadata": {},
     "output_type": "display_data"
    },
    {
     "data": {
      "text/html": [
       "<pre>recommendations finished on 44000/75792 queries. users per second: 147104</pre>"
      ],
      "text/plain": [
       "recommendations finished on 44000/75792 queries. users per second: 147104"
      ]
     },
     "metadata": {},
     "output_type": "display_data"
    },
    {
     "data": {
      "text/html": [
       "<pre>recommendations finished on 45000/75792 queries. users per second: 147005</pre>"
      ],
      "text/plain": [
       "recommendations finished on 45000/75792 queries. users per second: 147005"
      ]
     },
     "metadata": {},
     "output_type": "display_data"
    },
    {
     "data": {
      "text/html": [
       "<pre>recommendations finished on 46000/75792 queries. users per second: 146841</pre>"
      ],
      "text/plain": [
       "recommendations finished on 46000/75792 queries. users per second: 146841"
      ]
     },
     "metadata": {},
     "output_type": "display_data"
    },
    {
     "data": {
      "text/html": [
       "<pre>recommendations finished on 47000/75792 queries. users per second: 147259</pre>"
      ],
      "text/plain": [
       "recommendations finished on 47000/75792 queries. users per second: 147259"
      ]
     },
     "metadata": {},
     "output_type": "display_data"
    },
    {
     "data": {
      "text/html": [
       "<pre>recommendations finished on 48000/75792 queries. users per second: 148274</pre>"
      ],
      "text/plain": [
       "recommendations finished on 48000/75792 queries. users per second: 148274"
      ]
     },
     "metadata": {},
     "output_type": "display_data"
    },
    {
     "data": {
      "text/html": [
       "<pre>recommendations finished on 49000/75792 queries. users per second: 148609</pre>"
      ],
      "text/plain": [
       "recommendations finished on 49000/75792 queries. users per second: 148609"
      ]
     },
     "metadata": {},
     "output_type": "display_data"
    },
    {
     "data": {
      "text/html": [
       "<pre>recommendations finished on 50000/75792 queries. users per second: 148253</pre>"
      ],
      "text/plain": [
       "recommendations finished on 50000/75792 queries. users per second: 148253"
      ]
     },
     "metadata": {},
     "output_type": "display_data"
    },
    {
     "data": {
      "text/html": [
       "<pre>recommendations finished on 51000/75792 queries. users per second: 148270</pre>"
      ],
      "text/plain": [
       "recommendations finished on 51000/75792 queries. users per second: 148270"
      ]
     },
     "metadata": {},
     "output_type": "display_data"
    },
    {
     "data": {
      "text/html": [
       "<pre>recommendations finished on 52000/75792 queries. users per second: 148556</pre>"
      ],
      "text/plain": [
       "recommendations finished on 52000/75792 queries. users per second: 148556"
      ]
     },
     "metadata": {},
     "output_type": "display_data"
    },
    {
     "data": {
      "text/html": [
       "<pre>recommendations finished on 53000/75792 queries. users per second: 149271</pre>"
      ],
      "text/plain": [
       "recommendations finished on 53000/75792 queries. users per second: 149271"
      ]
     },
     "metadata": {},
     "output_type": "display_data"
    },
    {
     "data": {
      "text/html": [
       "<pre>recommendations finished on 54000/75792 queries. users per second: 149424</pre>"
      ],
      "text/plain": [
       "recommendations finished on 54000/75792 queries. users per second: 149424"
      ]
     },
     "metadata": {},
     "output_type": "display_data"
    },
    {
     "data": {
      "text/html": [
       "<pre>recommendations finished on 55000/75792 queries. users per second: 150015</pre>"
      ],
      "text/plain": [
       "recommendations finished on 55000/75792 queries. users per second: 150015"
      ]
     },
     "metadata": {},
     "output_type": "display_data"
    },
    {
     "data": {
      "text/html": [
       "<pre>recommendations finished on 56000/75792 queries. users per second: 150559</pre>"
      ],
      "text/plain": [
       "recommendations finished on 56000/75792 queries. users per second: 150559"
      ]
     },
     "metadata": {},
     "output_type": "display_data"
    },
    {
     "data": {
      "text/html": [
       "<pre>recommendations finished on 57000/75792 queries. users per second: 150509</pre>"
      ],
      "text/plain": [
       "recommendations finished on 57000/75792 queries. users per second: 150509"
      ]
     },
     "metadata": {},
     "output_type": "display_data"
    },
    {
     "data": {
      "text/html": [
       "<pre>recommendations finished on 58000/75792 queries. users per second: 150989</pre>"
      ],
      "text/plain": [
       "recommendations finished on 58000/75792 queries. users per second: 150989"
      ]
     },
     "metadata": {},
     "output_type": "display_data"
    },
    {
     "data": {
      "text/html": [
       "<pre>recommendations finished on 59000/75792 queries. users per second: 149791</pre>"
      ],
      "text/plain": [
       "recommendations finished on 59000/75792 queries. users per second: 149791"
      ]
     },
     "metadata": {},
     "output_type": "display_data"
    },
    {
     "data": {
      "text/html": [
       "<pre>recommendations finished on 60000/75792 queries. users per second: 149425</pre>"
      ],
      "text/plain": [
       "recommendations finished on 60000/75792 queries. users per second: 149425"
      ]
     },
     "metadata": {},
     "output_type": "display_data"
    },
    {
     "data": {
      "text/html": [
       "<pre>recommendations finished on 61000/75792 queries. users per second: 148476</pre>"
      ],
      "text/plain": [
       "recommendations finished on 61000/75792 queries. users per second: 148476"
      ]
     },
     "metadata": {},
     "output_type": "display_data"
    },
    {
     "data": {
      "text/html": [
       "<pre>recommendations finished on 62000/75792 queries. users per second: 148362</pre>"
      ],
      "text/plain": [
       "recommendations finished on 62000/75792 queries. users per second: 148362"
      ]
     },
     "metadata": {},
     "output_type": "display_data"
    },
    {
     "data": {
      "text/html": [
       "<pre>recommendations finished on 63000/75792 queries. users per second: 148995</pre>"
      ],
      "text/plain": [
       "recommendations finished on 63000/75792 queries. users per second: 148995"
      ]
     },
     "metadata": {},
     "output_type": "display_data"
    },
    {
     "data": {
      "text/html": [
       "<pre>recommendations finished on 64000/75792 queries. users per second: 149254</pre>"
      ],
      "text/plain": [
       "recommendations finished on 64000/75792 queries. users per second: 149254"
      ]
     },
     "metadata": {},
     "output_type": "display_data"
    },
    {
     "data": {
      "text/html": [
       "<pre>recommendations finished on 65000/75792 queries. users per second: 149751</pre>"
      ],
      "text/plain": [
       "recommendations finished on 65000/75792 queries. users per second: 149751"
      ]
     },
     "metadata": {},
     "output_type": "display_data"
    },
    {
     "data": {
      "text/html": [
       "<pre>recommendations finished on 66000/75792 queries. users per second: 150542</pre>"
      ],
      "text/plain": [
       "recommendations finished on 66000/75792 queries. users per second: 150542"
      ]
     },
     "metadata": {},
     "output_type": "display_data"
    },
    {
     "data": {
      "text/html": [
       "<pre>recommendations finished on 67000/75792 queries. users per second: 146965</pre>"
      ],
      "text/plain": [
       "recommendations finished on 67000/75792 queries. users per second: 146965"
      ]
     },
     "metadata": {},
     "output_type": "display_data"
    },
    {
     "data": {
      "text/html": [
       "<pre>recommendations finished on 68000/75792 queries. users per second: 147358</pre>"
      ],
      "text/plain": [
       "recommendations finished on 68000/75792 queries. users per second: 147358"
      ]
     },
     "metadata": {},
     "output_type": "display_data"
    },
    {
     "data": {
      "text/html": [
       "<pre>recommendations finished on 69000/75792 queries. users per second: 147967</pre>"
      ],
      "text/plain": [
       "recommendations finished on 69000/75792 queries. users per second: 147967"
      ]
     },
     "metadata": {},
     "output_type": "display_data"
    },
    {
     "data": {
      "text/html": [
       "<pre>recommendations finished on 70000/75792 queries. users per second: 148447</pre>"
      ],
      "text/plain": [
       "recommendations finished on 70000/75792 queries. users per second: 148447"
      ]
     },
     "metadata": {},
     "output_type": "display_data"
    },
    {
     "data": {
      "text/html": [
       "<pre>recommendations finished on 71000/75792 queries. users per second: 148596</pre>"
      ],
      "text/plain": [
       "recommendations finished on 71000/75792 queries. users per second: 148596"
      ]
     },
     "metadata": {},
     "output_type": "display_data"
    },
    {
     "data": {
      "text/html": [
       "<pre>recommendations finished on 72000/75792 queries. users per second: 148841</pre>"
      ],
      "text/plain": [
       "recommendations finished on 72000/75792 queries. users per second: 148841"
      ]
     },
     "metadata": {},
     "output_type": "display_data"
    },
    {
     "data": {
      "text/html": [
       "<pre>recommendations finished on 73000/75792 queries. users per second: 147590</pre>"
      ],
      "text/plain": [
       "recommendations finished on 73000/75792 queries. users per second: 147590"
      ]
     },
     "metadata": {},
     "output_type": "display_data"
    },
    {
     "data": {
      "text/html": [
       "<pre>recommendations finished on 74000/75792 queries. users per second: 146053</pre>"
      ],
      "text/plain": [
       "recommendations finished on 74000/75792 queries. users per second: 146053"
      ]
     },
     "metadata": {},
     "output_type": "display_data"
    },
    {
     "data": {
      "text/html": [
       "<pre>recommendations finished on 75000/75792 queries. users per second: 143976</pre>"
      ],
      "text/plain": [
       "recommendations finished on 75000/75792 queries. users per second: 143976"
      ]
     },
     "metadata": {},
     "output_type": "display_data"
    }
   ],
   "source": [
    "name = 'jaccard'\n",
    "target = 'purchase_count'\n",
    "jacc = model(train_data, name, user_id, item_id, target, users_to_recommend, n_rec, n_display)"
   ]
  },
  {
   "cell_type": "code",
   "execution_count": 41,
   "metadata": {},
   "outputs": [
    {
     "data": {
      "text/html": [
       "<pre>Warning: Ignoring columns purchase_count;</pre>"
      ],
      "text/plain": [
       "Warning: Ignoring columns purchase_count;"
      ]
     },
     "metadata": {},
     "output_type": "display_data"
    },
    {
     "data": {
      "text/html": [
       "<pre>    To use these columns in scoring predictions, use a model that allows the use of additional features.</pre>"
      ],
      "text/plain": [
       "    To use these columns in scoring predictions, use a model that allows the use of additional features."
      ]
     },
     "metadata": {},
     "output_type": "display_data"
    },
    {
     "data": {
      "text/html": [
       "<pre>Preparing data set.</pre>"
      ],
      "text/plain": [
       "Preparing data set."
      ]
     },
     "metadata": {},
     "output_type": "display_data"
    },
    {
     "data": {
      "text/html": [
       "<pre>    Data has 60633 observations with 10608 users and 212 items.</pre>"
      ],
      "text/plain": [
       "    Data has 60633 observations with 10608 users and 212 items."
      ]
     },
     "metadata": {},
     "output_type": "display_data"
    },
    {
     "data": {
      "text/html": [
       "<pre>    Data prepared in: 0.150522s</pre>"
      ],
      "text/plain": [
       "    Data prepared in: 0.150522s"
      ]
     },
     "metadata": {},
     "output_type": "display_data"
    },
    {
     "data": {
      "text/html": [
       "<pre>Training model from provided data.</pre>"
      ],
      "text/plain": [
       "Training model from provided data."
      ]
     },
     "metadata": {},
     "output_type": "display_data"
    },
    {
     "data": {
      "text/html": [
       "<pre>Gathering per-item and per-user statistics.</pre>"
      ],
      "text/plain": [
       "Gathering per-item and per-user statistics."
      ]
     },
     "metadata": {},
     "output_type": "display_data"
    },
    {
     "data": {
      "text/html": [
       "<pre>+--------------------------------+------------+</pre>"
      ],
      "text/plain": [
       "+--------------------------------+------------+"
      ]
     },
     "metadata": {},
     "output_type": "display_data"
    },
    {
     "data": {
      "text/html": [
       "<pre>| Elapsed Time (Item Statistics) | % Complete |</pre>"
      ],
      "text/plain": [
       "| Elapsed Time (Item Statistics) | % Complete |"
      ]
     },
     "metadata": {},
     "output_type": "display_data"
    },
    {
     "data": {
      "text/html": [
       "<pre>+--------------------------------+------------+</pre>"
      ],
      "text/plain": [
       "+--------------------------------+------------+"
      ]
     },
     "metadata": {},
     "output_type": "display_data"
    },
    {
     "data": {
      "text/html": [
       "<pre>| 1.206ms                        | 9.25       |</pre>"
      ],
      "text/plain": [
       "| 1.206ms                        | 9.25       |"
      ]
     },
     "metadata": {},
     "output_type": "display_data"
    },
    {
     "data": {
      "text/html": [
       "<pre>| 3.794ms                        | 100        |</pre>"
      ],
      "text/plain": [
       "| 3.794ms                        | 100        |"
      ]
     },
     "metadata": {},
     "output_type": "display_data"
    },
    {
     "data": {
      "text/html": [
       "<pre>+--------------------------------+------------+</pre>"
      ],
      "text/plain": [
       "+--------------------------------+------------+"
      ]
     },
     "metadata": {},
     "output_type": "display_data"
    },
    {
     "data": {
      "text/html": [
       "<pre>Setting up lookup tables.</pre>"
      ],
      "text/plain": [
       "Setting up lookup tables."
      ]
     },
     "metadata": {},
     "output_type": "display_data"
    },
    {
     "data": {
      "text/html": [
       "<pre>Processing data in one pass using dense lookup tables.</pre>"
      ],
      "text/plain": [
       "Processing data in one pass using dense lookup tables."
      ]
     },
     "metadata": {},
     "output_type": "display_data"
    },
    {
     "data": {
      "text/html": [
       "<pre>+-------------------------------------+------------------+-----------------+</pre>"
      ],
      "text/plain": [
       "+-------------------------------------+------------------+-----------------+"
      ]
     },
     "metadata": {},
     "output_type": "display_data"
    },
    {
     "data": {
      "text/html": [
       "<pre>| Elapsed Time (Constructing Lookups) | Total % Complete | Items Processed |</pre>"
      ],
      "text/plain": [
       "| Elapsed Time (Constructing Lookups) | Total % Complete | Items Processed |"
      ]
     },
     "metadata": {},
     "output_type": "display_data"
    },
    {
     "data": {
      "text/html": [
       "<pre>+-------------------------------------+------------------+-----------------+</pre>"
      ],
      "text/plain": [
       "+-------------------------------------+------------------+-----------------+"
      ]
     },
     "metadata": {},
     "output_type": "display_data"
    },
    {
     "data": {
      "text/html": [
       "<pre>| 5.32ms                              | 0                | 0               |</pre>"
      ],
      "text/plain": [
       "| 5.32ms                              | 0                | 0               |"
      ]
     },
     "metadata": {},
     "output_type": "display_data"
    },
    {
     "data": {
      "text/html": [
       "<pre>| 18.288ms                            | 100              | 212             |</pre>"
      ],
      "text/plain": [
       "| 18.288ms                            | 100              | 212             |"
      ]
     },
     "metadata": {},
     "output_type": "display_data"
    },
    {
     "data": {
      "text/html": [
       "<pre>+-------------------------------------+------------------+-----------------+</pre>"
      ],
      "text/plain": [
       "+-------------------------------------+------------------+-----------------+"
      ]
     },
     "metadata": {},
     "output_type": "display_data"
    },
    {
     "data": {
      "text/html": [
       "<pre>Finalizing lookup tables.</pre>"
      ],
      "text/plain": [
       "Finalizing lookup tables."
      ]
     },
     "metadata": {},
     "output_type": "display_data"
    },
    {
     "data": {
      "text/html": [
       "<pre>Generating candidate set for working with new users.</pre>"
      ],
      "text/plain": [
       "Generating candidate set for working with new users."
      ]
     },
     "metadata": {},
     "output_type": "display_data"
    },
    {
     "data": {
      "text/html": [
       "<pre>Finished training in 0.026186s</pre>"
      ],
      "text/plain": [
       "Finished training in 0.026186s"
      ]
     },
     "metadata": {},
     "output_type": "display_data"
    },
    {
     "data": {
      "text/html": [
       "<pre>recommendations finished on 1000/75792 queries. users per second: 60565.7</pre>"
      ],
      "text/plain": [
       "recommendations finished on 1000/75792 queries. users per second: 60565.7"
      ]
     },
     "metadata": {},
     "output_type": "display_data"
    },
    {
     "data": {
      "text/html": [
       "<pre>recommendations finished on 2000/75792 queries. users per second: 93755.9</pre>"
      ],
      "text/plain": [
       "recommendations finished on 2000/75792 queries. users per second: 93755.9"
      ]
     },
     "metadata": {},
     "output_type": "display_data"
    },
    {
     "data": {
      "text/html": [
       "<pre>recommendations finished on 3000/75792 queries. users per second: 108885</pre>"
      ],
      "text/plain": [
       "recommendations finished on 3000/75792 queries. users per second: 108885"
      ]
     },
     "metadata": {},
     "output_type": "display_data"
    },
    {
     "name": "stdout",
     "output_type": "stream",
     "text": [
      "+------------+-----------+----------------------+------+\n",
      "| customerId | productId |        score         | rank |\n",
      "+------------+-----------+----------------------+------+\n",
      "| 105697630  |  ingarden | 0.11788840591907501  |  1   |\n",
      "| 105697630  |  grattol  | 0.11352728307247162  |  2   |\n",
      "| 105697630  | freedecor | 0.09824187308549881  |  3   |\n",
      "| 105697630  |   domix   | 0.08815513551235199  |  4   |\n",
      "| 105697630  |    milv   | 0.08245334029197693  |  5   |\n",
      "| 105697630  |    uno    | 0.08202414959669113  |  6   |\n",
      "| 105697630  |  severina | 0.07113657891750336  |  7   |\n",
      "| 105697630  |   de.lux  | 0.06914214044809341  |  8   |\n",
      "| 105697630  |   zinger  | 0.06118902564048767  |  9   |\n",
      "| 105697630  |  jessnail | 0.05903148651123047  |  10  |\n",
      "| 126051562  | bpw.style | 0.17345990985631943  |  1   |\n",
      "| 126051562  |   masura  | 0.12848469614982605  |  2   |\n",
      "| 126051562  | freedecor |  0.1187070980668068  |  3   |\n",
      "| 126051562  |   domix   | 0.10959205031394958  |  4   |\n",
      "| 126051562  |    milv   | 0.10380382835865021  |  5   |\n",
      "| 126051562  |  severina | 0.08926839381456375  |  6   |\n",
      "| 126051562  |   zinger  | 0.07897134870290756  |  7   |\n",
      "| 126051562  |  jessnail | 0.07508985698223114  |  8   |\n",
      "| 126051562  |  haruyama | 0.07149700820446014  |  9   |\n",
      "| 126051562  |    pole   | 0.06640653312206268  |  10  |\n",
      "| 149936015  |   runail  | 0.10329745213190715  |  1   |\n",
      "| 149936015  |   irisk   |  0.0993882417678833  |  2   |\n",
      "| 149936015  | bpw.style | 0.09809048970540364  |  3   |\n",
      "| 149936015  |  grattol  | 0.09258862336476643  |  4   |\n",
      "| 149936015  |    uno    | 0.07301960388819377  |  5   |\n",
      "| 149936015  |   masura  | 0.07023388147354126  |  6   |\n",
      "| 149936015  |   de.lux  | 0.06595510244369507  |  7   |\n",
      "| 149936015  |    milv   | 0.06433910131454468  |  8   |\n",
      "| 149936015  | freedecor | 0.06405466794967651  |  9   |\n",
      "| 149936015  |   domix   | 0.059336225191752114 |  10  |\n",
      "+------------+-----------+----------------------+------+\n",
      "[757920 rows x 4 columns]\n",
      "\n"
     ]
    },
    {
     "data": {
      "text/html": [
       "<pre>recommendations finished on 4000/75792 queries. users per second: 118839</pre>"
      ],
      "text/plain": [
       "recommendations finished on 4000/75792 queries. users per second: 118839"
      ]
     },
     "metadata": {},
     "output_type": "display_data"
    },
    {
     "data": {
      "text/html": [
       "<pre>recommendations finished on 5000/75792 queries. users per second: 124217</pre>"
      ],
      "text/plain": [
       "recommendations finished on 5000/75792 queries. users per second: 124217"
      ]
     },
     "metadata": {},
     "output_type": "display_data"
    },
    {
     "data": {
      "text/html": [
       "<pre>recommendations finished on 6000/75792 queries. users per second: 134339</pre>"
      ],
      "text/plain": [
       "recommendations finished on 6000/75792 queries. users per second: 134339"
      ]
     },
     "metadata": {},
     "output_type": "display_data"
    },
    {
     "data": {
      "text/html": [
       "<pre>recommendations finished on 7000/75792 queries. users per second: 137344</pre>"
      ],
      "text/plain": [
       "recommendations finished on 7000/75792 queries. users per second: 137344"
      ]
     },
     "metadata": {},
     "output_type": "display_data"
    },
    {
     "data": {
      "text/html": [
       "<pre>recommendations finished on 8000/75792 queries. users per second: 139594</pre>"
      ],
      "text/plain": [
       "recommendations finished on 8000/75792 queries. users per second: 139594"
      ]
     },
     "metadata": {},
     "output_type": "display_data"
    },
    {
     "data": {
      "text/html": [
       "<pre>recommendations finished on 9000/75792 queries. users per second: 144286</pre>"
      ],
      "text/plain": [
       "recommendations finished on 9000/75792 queries. users per second: 144286"
      ]
     },
     "metadata": {},
     "output_type": "display_data"
    },
    {
     "data": {
      "text/html": [
       "<pre>recommendations finished on 10000/75792 queries. users per second: 148694</pre>"
      ],
      "text/plain": [
       "recommendations finished on 10000/75792 queries. users per second: 148694"
      ]
     },
     "metadata": {},
     "output_type": "display_data"
    },
    {
     "data": {
      "text/html": [
       "<pre>recommendations finished on 11000/75792 queries. users per second: 149739</pre>"
      ],
      "text/plain": [
       "recommendations finished on 11000/75792 queries. users per second: 149739"
      ]
     },
     "metadata": {},
     "output_type": "display_data"
    },
    {
     "data": {
      "text/html": [
       "<pre>recommendations finished on 12000/75792 queries. users per second: 150145</pre>"
      ],
      "text/plain": [
       "recommendations finished on 12000/75792 queries. users per second: 150145"
      ]
     },
     "metadata": {},
     "output_type": "display_data"
    },
    {
     "data": {
      "text/html": [
       "<pre>recommendations finished on 13000/75792 queries. users per second: 147152</pre>"
      ],
      "text/plain": [
       "recommendations finished on 13000/75792 queries. users per second: 147152"
      ]
     },
     "metadata": {},
     "output_type": "display_data"
    },
    {
     "data": {
      "text/html": [
       "<pre>recommendations finished on 14000/75792 queries. users per second: 142618</pre>"
      ],
      "text/plain": [
       "recommendations finished on 14000/75792 queries. users per second: 142618"
      ]
     },
     "metadata": {},
     "output_type": "display_data"
    },
    {
     "data": {
      "text/html": [
       "<pre>recommendations finished on 15000/75792 queries. users per second: 143753</pre>"
      ],
      "text/plain": [
       "recommendations finished on 15000/75792 queries. users per second: 143753"
      ]
     },
     "metadata": {},
     "output_type": "display_data"
    },
    {
     "data": {
      "text/html": [
       "<pre>recommendations finished on 16000/75792 queries. users per second: 142382</pre>"
      ],
      "text/plain": [
       "recommendations finished on 16000/75792 queries. users per second: 142382"
      ]
     },
     "metadata": {},
     "output_type": "display_data"
    },
    {
     "data": {
      "text/html": [
       "<pre>recommendations finished on 17000/75792 queries. users per second: 142284</pre>"
      ],
      "text/plain": [
       "recommendations finished on 17000/75792 queries. users per second: 142284"
      ]
     },
     "metadata": {},
     "output_type": "display_data"
    },
    {
     "data": {
      "text/html": [
       "<pre>recommendations finished on 18000/75792 queries. users per second: 144564</pre>"
      ],
      "text/plain": [
       "recommendations finished on 18000/75792 queries. users per second: 144564"
      ]
     },
     "metadata": {},
     "output_type": "display_data"
    },
    {
     "data": {
      "text/html": [
       "<pre>recommendations finished on 19000/75792 queries. users per second: 147194</pre>"
      ],
      "text/plain": [
       "recommendations finished on 19000/75792 queries. users per second: 147194"
      ]
     },
     "metadata": {},
     "output_type": "display_data"
    },
    {
     "data": {
      "text/html": [
       "<pre>recommendations finished on 20000/75792 queries. users per second: 148441</pre>"
      ],
      "text/plain": [
       "recommendations finished on 20000/75792 queries. users per second: 148441"
      ]
     },
     "metadata": {},
     "output_type": "display_data"
    },
    {
     "data": {
      "text/html": [
       "<pre>recommendations finished on 21000/75792 queries. users per second: 148589</pre>"
      ],
      "text/plain": [
       "recommendations finished on 21000/75792 queries. users per second: 148589"
      ]
     },
     "metadata": {},
     "output_type": "display_data"
    },
    {
     "data": {
      "text/html": [
       "<pre>recommendations finished on 22000/75792 queries. users per second: 147619</pre>"
      ],
      "text/plain": [
       "recommendations finished on 22000/75792 queries. users per second: 147619"
      ]
     },
     "metadata": {},
     "output_type": "display_data"
    },
    {
     "data": {
      "text/html": [
       "<pre>recommendations finished on 23000/75792 queries. users per second: 148808</pre>"
      ],
      "text/plain": [
       "recommendations finished on 23000/75792 queries. users per second: 148808"
      ]
     },
     "metadata": {},
     "output_type": "display_data"
    },
    {
     "data": {
      "text/html": [
       "<pre>recommendations finished on 24000/75792 queries. users per second: 150047</pre>"
      ],
      "text/plain": [
       "recommendations finished on 24000/75792 queries. users per second: 150047"
      ]
     },
     "metadata": {},
     "output_type": "display_data"
    },
    {
     "data": {
      "text/html": [
       "<pre>recommendations finished on 25000/75792 queries. users per second: 149980</pre>"
      ],
      "text/plain": [
       "recommendations finished on 25000/75792 queries. users per second: 149980"
      ]
     },
     "metadata": {},
     "output_type": "display_data"
    },
    {
     "data": {
      "text/html": [
       "<pre>recommendations finished on 26000/75792 queries. users per second: 149411</pre>"
      ],
      "text/plain": [
       "recommendations finished on 26000/75792 queries. users per second: 149411"
      ]
     },
     "metadata": {},
     "output_type": "display_data"
    },
    {
     "data": {
      "text/html": [
       "<pre>recommendations finished on 27000/75792 queries. users per second: 149220</pre>"
      ],
      "text/plain": [
       "recommendations finished on 27000/75792 queries. users per second: 149220"
      ]
     },
     "metadata": {},
     "output_type": "display_data"
    },
    {
     "data": {
      "text/html": [
       "<pre>recommendations finished on 28000/75792 queries. users per second: 146736</pre>"
      ],
      "text/plain": [
       "recommendations finished on 28000/75792 queries. users per second: 146736"
      ]
     },
     "metadata": {},
     "output_type": "display_data"
    },
    {
     "data": {
      "text/html": [
       "<pre>recommendations finished on 29000/75792 queries. users per second: 146111</pre>"
      ],
      "text/plain": [
       "recommendations finished on 29000/75792 queries. users per second: 146111"
      ]
     },
     "metadata": {},
     "output_type": "display_data"
    },
    {
     "data": {
      "text/html": [
       "<pre>recommendations finished on 30000/75792 queries. users per second: 146093</pre>"
      ],
      "text/plain": [
       "recommendations finished on 30000/75792 queries. users per second: 146093"
      ]
     },
     "metadata": {},
     "output_type": "display_data"
    },
    {
     "data": {
      "text/html": [
       "<pre>recommendations finished on 31000/75792 queries. users per second: 146613</pre>"
      ],
      "text/plain": [
       "recommendations finished on 31000/75792 queries. users per second: 146613"
      ]
     },
     "metadata": {},
     "output_type": "display_data"
    },
    {
     "data": {
      "text/html": [
       "<pre>recommendations finished on 32000/75792 queries. users per second: 147683</pre>"
      ],
      "text/plain": [
       "recommendations finished on 32000/75792 queries. users per second: 147683"
      ]
     },
     "metadata": {},
     "output_type": "display_data"
    },
    {
     "data": {
      "text/html": [
       "<pre>recommendations finished on 33000/75792 queries. users per second: 148975</pre>"
      ],
      "text/plain": [
       "recommendations finished on 33000/75792 queries. users per second: 148975"
      ]
     },
     "metadata": {},
     "output_type": "display_data"
    },
    {
     "data": {
      "text/html": [
       "<pre>recommendations finished on 34000/75792 queries. users per second: 148882</pre>"
      ],
      "text/plain": [
       "recommendations finished on 34000/75792 queries. users per second: 148882"
      ]
     },
     "metadata": {},
     "output_type": "display_data"
    },
    {
     "data": {
      "text/html": [
       "<pre>recommendations finished on 35000/75792 queries. users per second: 150013</pre>"
      ],
      "text/plain": [
       "recommendations finished on 35000/75792 queries. users per second: 150013"
      ]
     },
     "metadata": {},
     "output_type": "display_data"
    },
    {
     "data": {
      "text/html": [
       "<pre>recommendations finished on 36000/75792 queries. users per second: 149711</pre>"
      ],
      "text/plain": [
       "recommendations finished on 36000/75792 queries. users per second: 149711"
      ]
     },
     "metadata": {},
     "output_type": "display_data"
    },
    {
     "data": {
      "text/html": [
       "<pre>recommendations finished on 37000/75792 queries. users per second: 145333</pre>"
      ],
      "text/plain": [
       "recommendations finished on 37000/75792 queries. users per second: 145333"
      ]
     },
     "metadata": {},
     "output_type": "display_data"
    },
    {
     "data": {
      "text/html": [
       "<pre>recommendations finished on 38000/75792 queries. users per second: 146604</pre>"
      ],
      "text/plain": [
       "recommendations finished on 38000/75792 queries. users per second: 146604"
      ]
     },
     "metadata": {},
     "output_type": "display_data"
    },
    {
     "data": {
      "text/html": [
       "<pre>recommendations finished on 39000/75792 queries. users per second: 146791</pre>"
      ],
      "text/plain": [
       "recommendations finished on 39000/75792 queries. users per second: 146791"
      ]
     },
     "metadata": {},
     "output_type": "display_data"
    },
    {
     "data": {
      "text/html": [
       "<pre>recommendations finished on 40000/75792 queries. users per second: 147757</pre>"
      ],
      "text/plain": [
       "recommendations finished on 40000/75792 queries. users per second: 147757"
      ]
     },
     "metadata": {},
     "output_type": "display_data"
    },
    {
     "data": {
      "text/html": [
       "<pre>recommendations finished on 41000/75792 queries. users per second: 148577</pre>"
      ],
      "text/plain": [
       "recommendations finished on 41000/75792 queries. users per second: 148577"
      ]
     },
     "metadata": {},
     "output_type": "display_data"
    },
    {
     "data": {
      "text/html": [
       "<pre>recommendations finished on 42000/75792 queries. users per second: 148541</pre>"
      ],
      "text/plain": [
       "recommendations finished on 42000/75792 queries. users per second: 148541"
      ]
     },
     "metadata": {},
     "output_type": "display_data"
    },
    {
     "data": {
      "text/html": [
       "<pre>recommendations finished on 43000/75792 queries. users per second: 147397</pre>"
      ],
      "text/plain": [
       "recommendations finished on 43000/75792 queries. users per second: 147397"
      ]
     },
     "metadata": {},
     "output_type": "display_data"
    },
    {
     "data": {
      "text/html": [
       "<pre>recommendations finished on 44000/75792 queries. users per second: 147563</pre>"
      ],
      "text/plain": [
       "recommendations finished on 44000/75792 queries. users per second: 147563"
      ]
     },
     "metadata": {},
     "output_type": "display_data"
    },
    {
     "data": {
      "text/html": [
       "<pre>recommendations finished on 45000/75792 queries. users per second: 145497</pre>"
      ],
      "text/plain": [
       "recommendations finished on 45000/75792 queries. users per second: 145497"
      ]
     },
     "metadata": {},
     "output_type": "display_data"
    },
    {
     "data": {
      "text/html": [
       "<pre>recommendations finished on 46000/75792 queries. users per second: 144408</pre>"
      ],
      "text/plain": [
       "recommendations finished on 46000/75792 queries. users per second: 144408"
      ]
     },
     "metadata": {},
     "output_type": "display_data"
    },
    {
     "data": {
      "text/html": [
       "<pre>recommendations finished on 47000/75792 queries. users per second: 145043</pre>"
      ],
      "text/plain": [
       "recommendations finished on 47000/75792 queries. users per second: 145043"
      ]
     },
     "metadata": {},
     "output_type": "display_data"
    },
    {
     "data": {
      "text/html": [
       "<pre>recommendations finished on 48000/75792 queries. users per second: 143594</pre>"
      ],
      "text/plain": [
       "recommendations finished on 48000/75792 queries. users per second: 143594"
      ]
     },
     "metadata": {},
     "output_type": "display_data"
    },
    {
     "data": {
      "text/html": [
       "<pre>recommendations finished on 49000/75792 queries. users per second: 143657</pre>"
      ],
      "text/plain": [
       "recommendations finished on 49000/75792 queries. users per second: 143657"
      ]
     },
     "metadata": {},
     "output_type": "display_data"
    },
    {
     "data": {
      "text/html": [
       "<pre>recommendations finished on 50000/75792 queries. users per second: 144143</pre>"
      ],
      "text/plain": [
       "recommendations finished on 50000/75792 queries. users per second: 144143"
      ]
     },
     "metadata": {},
     "output_type": "display_data"
    },
    {
     "data": {
      "text/html": [
       "<pre>recommendations finished on 51000/75792 queries. users per second: 143678</pre>"
      ],
      "text/plain": [
       "recommendations finished on 51000/75792 queries. users per second: 143678"
      ]
     },
     "metadata": {},
     "output_type": "display_data"
    },
    {
     "data": {
      "text/html": [
       "<pre>recommendations finished on 52000/75792 queries. users per second: 142951</pre>"
      ],
      "text/plain": [
       "recommendations finished on 52000/75792 queries. users per second: 142951"
      ]
     },
     "metadata": {},
     "output_type": "display_data"
    },
    {
     "data": {
      "text/html": [
       "<pre>recommendations finished on 53000/75792 queries. users per second: 143547</pre>"
      ],
      "text/plain": [
       "recommendations finished on 53000/75792 queries. users per second: 143547"
      ]
     },
     "metadata": {},
     "output_type": "display_data"
    },
    {
     "data": {
      "text/html": [
       "<pre>recommendations finished on 54000/75792 queries. users per second: 143600</pre>"
      ],
      "text/plain": [
       "recommendations finished on 54000/75792 queries. users per second: 143600"
      ]
     },
     "metadata": {},
     "output_type": "display_data"
    },
    {
     "data": {
      "text/html": [
       "<pre>recommendations finished on 55000/75792 queries. users per second: 143124</pre>"
      ],
      "text/plain": [
       "recommendations finished on 55000/75792 queries. users per second: 143124"
      ]
     },
     "metadata": {},
     "output_type": "display_data"
    },
    {
     "data": {
      "text/html": [
       "<pre>recommendations finished on 56000/75792 queries. users per second: 143268</pre>"
      ],
      "text/plain": [
       "recommendations finished on 56000/75792 queries. users per second: 143268"
      ]
     },
     "metadata": {},
     "output_type": "display_data"
    },
    {
     "data": {
      "text/html": [
       "<pre>recommendations finished on 57000/75792 queries. users per second: 142442</pre>"
      ],
      "text/plain": [
       "recommendations finished on 57000/75792 queries. users per second: 142442"
      ]
     },
     "metadata": {},
     "output_type": "display_data"
    },
    {
     "data": {
      "text/html": [
       "<pre>recommendations finished on 58000/75792 queries. users per second: 141937</pre>"
      ],
      "text/plain": [
       "recommendations finished on 58000/75792 queries. users per second: 141937"
      ]
     },
     "metadata": {},
     "output_type": "display_data"
    },
    {
     "data": {
      "text/html": [
       "<pre>recommendations finished on 59000/75792 queries. users per second: 138430</pre>"
      ],
      "text/plain": [
       "recommendations finished on 59000/75792 queries. users per second: 138430"
      ]
     },
     "metadata": {},
     "output_type": "display_data"
    },
    {
     "data": {
      "text/html": [
       "<pre>recommendations finished on 60000/75792 queries. users per second: 137959</pre>"
      ],
      "text/plain": [
       "recommendations finished on 60000/75792 queries. users per second: 137959"
      ]
     },
     "metadata": {},
     "output_type": "display_data"
    },
    {
     "data": {
      "text/html": [
       "<pre>recommendations finished on 61000/75792 queries. users per second: 138652</pre>"
      ],
      "text/plain": [
       "recommendations finished on 61000/75792 queries. users per second: 138652"
      ]
     },
     "metadata": {},
     "output_type": "display_data"
    },
    {
     "data": {
      "text/html": [
       "<pre>recommendations finished on 62000/75792 queries. users per second: 139146</pre>"
      ],
      "text/plain": [
       "recommendations finished on 62000/75792 queries. users per second: 139146"
      ]
     },
     "metadata": {},
     "output_type": "display_data"
    },
    {
     "data": {
      "text/html": [
       "<pre>recommendations finished on 63000/75792 queries. users per second: 139096</pre>"
      ],
      "text/plain": [
       "recommendations finished on 63000/75792 queries. users per second: 139096"
      ]
     },
     "metadata": {},
     "output_type": "display_data"
    },
    {
     "data": {
      "text/html": [
       "<pre>recommendations finished on 64000/75792 queries. users per second: 139304</pre>"
      ],
      "text/plain": [
       "recommendations finished on 64000/75792 queries. users per second: 139304"
      ]
     },
     "metadata": {},
     "output_type": "display_data"
    },
    {
     "data": {
      "text/html": [
       "<pre>recommendations finished on 65000/75792 queries. users per second: 139888</pre>"
      ],
      "text/plain": [
       "recommendations finished on 65000/75792 queries. users per second: 139888"
      ]
     },
     "metadata": {},
     "output_type": "display_data"
    },
    {
     "data": {
      "text/html": [
       "<pre>recommendations finished on 66000/75792 queries. users per second: 140665</pre>"
      ],
      "text/plain": [
       "recommendations finished on 66000/75792 queries. users per second: 140665"
      ]
     },
     "metadata": {},
     "output_type": "display_data"
    },
    {
     "data": {
      "text/html": [
       "<pre>recommendations finished on 67000/75792 queries. users per second: 140528</pre>"
      ],
      "text/plain": [
       "recommendations finished on 67000/75792 queries. users per second: 140528"
      ]
     },
     "metadata": {},
     "output_type": "display_data"
    },
    {
     "data": {
      "text/html": [
       "<pre>recommendations finished on 68000/75792 queries. users per second: 141027</pre>"
      ],
      "text/plain": [
       "recommendations finished on 68000/75792 queries. users per second: 141027"
      ]
     },
     "metadata": {},
     "output_type": "display_data"
    },
    {
     "data": {
      "text/html": [
       "<pre>recommendations finished on 69000/75792 queries. users per second: 141196</pre>"
      ],
      "text/plain": [
       "recommendations finished on 69000/75792 queries. users per second: 141196"
      ]
     },
     "metadata": {},
     "output_type": "display_data"
    },
    {
     "data": {
      "text/html": [
       "<pre>recommendations finished on 70000/75792 queries. users per second: 141257</pre>"
      ],
      "text/plain": [
       "recommendations finished on 70000/75792 queries. users per second: 141257"
      ]
     },
     "metadata": {},
     "output_type": "display_data"
    },
    {
     "data": {
      "text/html": [
       "<pre>recommendations finished on 71000/75792 queries. users per second: 141368</pre>"
      ],
      "text/plain": [
       "recommendations finished on 71000/75792 queries. users per second: 141368"
      ]
     },
     "metadata": {},
     "output_type": "display_data"
    },
    {
     "data": {
      "text/html": [
       "<pre>recommendations finished on 72000/75792 queries. users per second: 142045</pre>"
      ],
      "text/plain": [
       "recommendations finished on 72000/75792 queries. users per second: 142045"
      ]
     },
     "metadata": {},
     "output_type": "display_data"
    },
    {
     "data": {
      "text/html": [
       "<pre>recommendations finished on 73000/75792 queries. users per second: 142534</pre>"
      ],
      "text/plain": [
       "recommendations finished on 73000/75792 queries. users per second: 142534"
      ]
     },
     "metadata": {},
     "output_type": "display_data"
    },
    {
     "data": {
      "text/html": [
       "<pre>recommendations finished on 74000/75792 queries. users per second: 142539</pre>"
      ],
      "text/plain": [
       "recommendations finished on 74000/75792 queries. users per second: 142539"
      ]
     },
     "metadata": {},
     "output_type": "display_data"
    },
    {
     "data": {
      "text/html": [
       "<pre>recommendations finished on 75000/75792 queries. users per second: 141296</pre>"
      ],
      "text/plain": [
       "recommendations finished on 75000/75792 queries. users per second: 141296"
      ]
     },
     "metadata": {},
     "output_type": "display_data"
    }
   ],
   "source": [
    "name = 'jaccard'\n",
    "target = 'purchase_dummy'\n",
    "jacc_dummy = model(train_data_dummy, name, user_id, item_id, target, users_to_recommend, n_rec, n_display)"
   ]
  },
  {
   "cell_type": "code",
   "execution_count": 42,
   "metadata": {},
   "outputs": [
    {
     "data": {
      "text/html": [
       "<pre>Preparing data set.</pre>"
      ],
      "text/plain": [
       "Preparing data set."
      ]
     },
     "metadata": {},
     "output_type": "display_data"
    },
    {
     "data": {
      "text/html": [
       "<pre>    Data has 60485 observations with 10605 users and 172 items.</pre>"
      ],
      "text/plain": [
       "    Data has 60485 observations with 10605 users and 172 items."
      ]
     },
     "metadata": {},
     "output_type": "display_data"
    },
    {
     "data": {
      "text/html": [
       "<pre>    Data prepared in: 0.094137s</pre>"
      ],
      "text/plain": [
       "    Data prepared in: 0.094137s"
      ]
     },
     "metadata": {},
     "output_type": "display_data"
    },
    {
     "data": {
      "text/html": [
       "<pre>Training model from provided data.</pre>"
      ],
      "text/plain": [
       "Training model from provided data."
      ]
     },
     "metadata": {},
     "output_type": "display_data"
    },
    {
     "data": {
      "text/html": [
       "<pre>Gathering per-item and per-user statistics.</pre>"
      ],
      "text/plain": [
       "Gathering per-item and per-user statistics."
      ]
     },
     "metadata": {},
     "output_type": "display_data"
    },
    {
     "data": {
      "text/html": [
       "<pre>+--------------------------------+------------+</pre>"
      ],
      "text/plain": [
       "+--------------------------------+------------+"
      ]
     },
     "metadata": {},
     "output_type": "display_data"
    },
    {
     "data": {
      "text/html": [
       "<pre>| Elapsed Time (Item Statistics) | % Complete |</pre>"
      ],
      "text/plain": [
       "| Elapsed Time (Item Statistics) | % Complete |"
      ]
     },
     "metadata": {},
     "output_type": "display_data"
    },
    {
     "data": {
      "text/html": [
       "<pre>+--------------------------------+------------+</pre>"
      ],
      "text/plain": [
       "+--------------------------------+------------+"
      ]
     },
     "metadata": {},
     "output_type": "display_data"
    },
    {
     "data": {
      "text/html": [
       "<pre>| 2.001ms                        | 9.25       |</pre>"
      ],
      "text/plain": [
       "| 2.001ms                        | 9.25       |"
      ]
     },
     "metadata": {},
     "output_type": "display_data"
    },
    {
     "data": {
      "text/html": [
       "<pre>| 17.247ms                       | 100        |</pre>"
      ],
      "text/plain": [
       "| 17.247ms                       | 100        |"
      ]
     },
     "metadata": {},
     "output_type": "display_data"
    },
    {
     "data": {
      "text/html": [
       "<pre>+--------------------------------+------------+</pre>"
      ],
      "text/plain": [
       "+--------------------------------+------------+"
      ]
     },
     "metadata": {},
     "output_type": "display_data"
    },
    {
     "data": {
      "text/html": [
       "<pre>Setting up lookup tables.</pre>"
      ],
      "text/plain": [
       "Setting up lookup tables."
      ]
     },
     "metadata": {},
     "output_type": "display_data"
    },
    {
     "data": {
      "text/html": [
       "<pre>Processing data in one pass using dense lookup tables.</pre>"
      ],
      "text/plain": [
       "Processing data in one pass using dense lookup tables."
      ]
     },
     "metadata": {},
     "output_type": "display_data"
    },
    {
     "data": {
      "text/html": [
       "<pre>+-------------------------------------+------------------+-----------------+</pre>"
      ],
      "text/plain": [
       "+-------------------------------------+------------------+-----------------+"
      ]
     },
     "metadata": {},
     "output_type": "display_data"
    },
    {
     "data": {
      "text/html": [
       "<pre>| Elapsed Time (Constructing Lookups) | Total % Complete | Items Processed |</pre>"
      ],
      "text/plain": [
       "| Elapsed Time (Constructing Lookups) | Total % Complete | Items Processed |"
      ]
     },
     "metadata": {},
     "output_type": "display_data"
    },
    {
     "data": {
      "text/html": [
       "<pre>+-------------------------------------+------------------+-----------------+</pre>"
      ],
      "text/plain": [
       "+-------------------------------------+------------------+-----------------+"
      ]
     },
     "metadata": {},
     "output_type": "display_data"
    },
    {
     "data": {
      "text/html": [
       "<pre>| 19.309ms                            | 0                | 0               |</pre>"
      ],
      "text/plain": [
       "| 19.309ms                            | 0                | 0               |"
      ]
     },
     "metadata": {},
     "output_type": "display_data"
    },
    {
     "data": {
      "text/html": [
       "<pre>| 29.14ms                             | 100              | 172             |</pre>"
      ],
      "text/plain": [
       "| 29.14ms                             | 100              | 172             |"
      ]
     },
     "metadata": {},
     "output_type": "display_data"
    },
    {
     "data": {
      "text/html": [
       "<pre>+-------------------------------------+------------------+-----------------+</pre>"
      ],
      "text/plain": [
       "+-------------------------------------+------------------+-----------------+"
      ]
     },
     "metadata": {},
     "output_type": "display_data"
    },
    {
     "data": {
      "text/html": [
       "<pre>Finalizing lookup tables.</pre>"
      ],
      "text/plain": [
       "Finalizing lookup tables."
      ]
     },
     "metadata": {},
     "output_type": "display_data"
    },
    {
     "data": {
      "text/html": [
       "<pre>Generating candidate set for working with new users.</pre>"
      ],
      "text/plain": [
       "Generating candidate set for working with new users."
      ]
     },
     "metadata": {},
     "output_type": "display_data"
    },
    {
     "data": {
      "text/html": [
       "<pre>Finished training in 0.037582s</pre>"
      ],
      "text/plain": [
       "Finished training in 0.037582s"
      ]
     },
     "metadata": {},
     "output_type": "display_data"
    },
    {
     "data": {
      "text/html": [
       "<pre>recommendations finished on 1000/75792 queries. users per second: 55123.8</pre>"
      ],
      "text/plain": [
       "recommendations finished on 1000/75792 queries. users per second: 55123.8"
      ]
     },
     "metadata": {},
     "output_type": "display_data"
    },
    {
     "data": {
      "text/html": [
       "<pre>recommendations finished on 2000/75792 queries. users per second: 79251.9</pre>"
      ],
      "text/plain": [
       "recommendations finished on 2000/75792 queries. users per second: 79251.9"
      ]
     },
     "metadata": {},
     "output_type": "display_data"
    },
    {
     "data": {
      "text/html": [
       "<pre>recommendations finished on 3000/75792 queries. users per second: 92165.9</pre>"
      ],
      "text/plain": [
       "recommendations finished on 3000/75792 queries. users per second: 92165.9"
      ]
     },
     "metadata": {},
     "output_type": "display_data"
    },
    {
     "data": {
      "text/html": [
       "<pre>recommendations finished on 4000/75792 queries. users per second: 105164</pre>"
      ],
      "text/plain": [
       "recommendations finished on 4000/75792 queries. users per second: 105164"
      ]
     },
     "metadata": {},
     "output_type": "display_data"
    },
    {
     "data": {
      "text/html": [
       "<pre>recommendations finished on 5000/75792 queries. users per second: 102653</pre>"
      ],
      "text/plain": [
       "recommendations finished on 5000/75792 queries. users per second: 102653"
      ]
     },
     "metadata": {},
     "output_type": "display_data"
    },
    {
     "data": {
      "text/html": [
       "<pre>recommendations finished on 6000/75792 queries. users per second: 96910.2</pre>"
      ],
      "text/plain": [
       "recommendations finished on 6000/75792 queries. users per second: 96910.2"
      ]
     },
     "metadata": {},
     "output_type": "display_data"
    },
    {
     "data": {
      "text/html": [
       "<pre>recommendations finished on 7000/75792 queries. users per second: 101580</pre>"
      ],
      "text/plain": [
       "recommendations finished on 7000/75792 queries. users per second: 101580"
      ]
     },
     "metadata": {},
     "output_type": "display_data"
    },
    {
     "data": {
      "text/html": [
       "<pre>recommendations finished on 8000/75792 queries. users per second: 109105</pre>"
      ],
      "text/plain": [
       "recommendations finished on 8000/75792 queries. users per second: 109105"
      ]
     },
     "metadata": {},
     "output_type": "display_data"
    },
    {
     "data": {
      "text/html": [
       "<pre>recommendations finished on 9000/75792 queries. users per second: 115361</pre>"
      ],
      "text/plain": [
       "recommendations finished on 9000/75792 queries. users per second: 115361"
      ]
     },
     "metadata": {},
     "output_type": "display_data"
    },
    {
     "data": {
      "text/html": [
       "<pre>recommendations finished on 10000/75792 queries. users per second: 119613</pre>"
      ],
      "text/plain": [
       "recommendations finished on 10000/75792 queries. users per second: 119613"
      ]
     },
     "metadata": {},
     "output_type": "display_data"
    },
    {
     "data": {
      "text/html": [
       "<pre>recommendations finished on 11000/75792 queries. users per second: 123194</pre>"
      ],
      "text/plain": [
       "recommendations finished on 11000/75792 queries. users per second: 123194"
      ]
     },
     "metadata": {},
     "output_type": "display_data"
    },
    {
     "data": {
      "text/html": [
       "<pre>recommendations finished on 12000/75792 queries. users per second: 118321</pre>"
      ],
      "text/plain": [
       "recommendations finished on 12000/75792 queries. users per second: 118321"
      ]
     },
     "metadata": {},
     "output_type": "display_data"
    },
    {
     "data": {
      "text/html": [
       "<pre>recommendations finished on 13000/75792 queries. users per second: 121749</pre>"
      ],
      "text/plain": [
       "recommendations finished on 13000/75792 queries. users per second: 121749"
      ]
     },
     "metadata": {},
     "output_type": "display_data"
    },
    {
     "data": {
      "text/html": [
       "<pre>recommendations finished on 14000/75792 queries. users per second: 124378</pre>"
      ],
      "text/plain": [
       "recommendations finished on 14000/75792 queries. users per second: 124378"
      ]
     },
     "metadata": {},
     "output_type": "display_data"
    },
    {
     "data": {
      "text/html": [
       "<pre>recommendations finished on 15000/75792 queries. users per second: 125468</pre>"
      ],
      "text/plain": [
       "recommendations finished on 15000/75792 queries. users per second: 125468"
      ]
     },
     "metadata": {},
     "output_type": "display_data"
    },
    {
     "data": {
      "text/html": [
       "<pre>recommendations finished on 16000/75792 queries. users per second: 129291</pre>"
      ],
      "text/plain": [
       "recommendations finished on 16000/75792 queries. users per second: 129291"
      ]
     },
     "metadata": {},
     "output_type": "display_data"
    },
    {
     "data": {
      "text/html": [
       "<pre>recommendations finished on 17000/75792 queries. users per second: 133422</pre>"
      ],
      "text/plain": [
       "recommendations finished on 17000/75792 queries. users per second: 133422"
      ]
     },
     "metadata": {},
     "output_type": "display_data"
    },
    {
     "data": {
      "text/html": [
       "<pre>recommendations finished on 18000/75792 queries. users per second: 135344</pre>"
      ],
      "text/plain": [
       "recommendations finished on 18000/75792 queries. users per second: 135344"
      ]
     },
     "metadata": {},
     "output_type": "display_data"
    },
    {
     "data": {
      "text/html": [
       "<pre>recommendations finished on 19000/75792 queries. users per second: 136505</pre>"
      ],
      "text/plain": [
       "recommendations finished on 19000/75792 queries. users per second: 136505"
      ]
     },
     "metadata": {},
     "output_type": "display_data"
    },
    {
     "data": {
      "text/html": [
       "<pre>recommendations finished on 20000/75792 queries. users per second: 138812</pre>"
      ],
      "text/plain": [
       "recommendations finished on 20000/75792 queries. users per second: 138812"
      ]
     },
     "metadata": {},
     "output_type": "display_data"
    },
    {
     "data": {
      "text/html": [
       "<pre>recommendations finished on 21000/75792 queries. users per second: 141244</pre>"
      ],
      "text/plain": [
       "recommendations finished on 21000/75792 queries. users per second: 141244"
      ]
     },
     "metadata": {},
     "output_type": "display_data"
    },
    {
     "data": {
      "text/html": [
       "<pre>recommendations finished on 22000/75792 queries. users per second: 141071</pre>"
      ],
      "text/plain": [
       "recommendations finished on 22000/75792 queries. users per second: 141071"
      ]
     },
     "metadata": {},
     "output_type": "display_data"
    },
    {
     "name": "stdout",
     "output_type": "stream",
     "text": [
      "+------------+-----------+----------------------+------+\n",
      "| customerId | productId |        score         | rank |\n",
      "+------------+-----------+----------------------+------+\n",
      "| 105697630  |   irisk   |  0.0793764761516026  |  1   |\n",
      "| 105697630  | freedecor | 0.05246158157076154  |  2   |\n",
      "| 105697630  |  grattol  | 0.04689739431653704  |  3   |\n",
      "| 105697630  |  ingarden | 0.04470562083380563  |  4   |\n",
      "| 105697630  |    milv   | 0.03124966791697911  |  5   |\n",
      "| 105697630  |   de.lux  | 0.028992925371442522 |  6   |\n",
      "| 105697630  |    uno    | 0.026084601879119873 |  7   |\n",
      "| 105697630  |   domix   | 0.021358072757720947 |  8   |\n",
      "| 105697630  |  haruyama | 0.01683098077774048  |  9   |\n",
      "| 105697630  |    pole   | 0.015866202967507497 |  10  |\n",
      "| 126051562  |   irisk   | 0.03949251025915146  |  1   |\n",
      "| 126051562  | bpw.style | 0.028025485575199127 |  2   |\n",
      "| 126051562  |   masura  | 0.021750353276729584 |  3   |\n",
      "| 126051562  | freedecor | 0.017033152282238007 |  4   |\n",
      "| 126051562  |    milv   | 0.013865053653717041 |  5   |\n",
      "| 126051562  |   domix   | 0.013180792331695557 |  6   |\n",
      "| 126051562  |   de.lux  | 0.011444568634033203 |  7   |\n",
      "| 126051562  |   estel   | 0.009556218981742859 |  8   |\n",
      "| 126051562  |    pole   | 0.00930716097354889  |  9   |\n",
      "| 126051562  |    yoko   | 0.008552208542823792 |  10  |\n",
      "| 149936015  |  beautix  | 0.013071894645690918 |  1   |\n",
      "| 149936015  |   konad   | 0.01048217217127482  |  2   |\n",
      "| 149936015  |   artex   | 0.008169929186503092 |  3   |\n",
      "| 149936015  |   smart   | 0.008130073547363281 |  4   |\n",
      "| 149936015  |  kinetics | 0.007824718952178955 |  5   |\n",
      "| 149936015  |  jessnail | 0.007017552852630615 |  6   |\n",
      "| 149936015  |  roubloff | 0.006903350353240967 |  7   |\n",
      "| 149936015  |  metzger  | 0.006747643152872722 |  8   |\n",
      "| 149936015  | bpw.style | 0.006175378958384196 |  9   |\n",
      "| 149936015  | freedecor | 0.006145735581715901 |  10  |\n",
      "+------------+-----------+----------------------+------+\n",
      "[757920 rows x 4 columns]\n",
      "\n"
     ]
    },
    {
     "data": {
      "text/html": [
       "<pre>recommendations finished on 23000/75792 queries. users per second: 143121</pre>"
      ],
      "text/plain": [
       "recommendations finished on 23000/75792 queries. users per second: 143121"
      ]
     },
     "metadata": {},
     "output_type": "display_data"
    },
    {
     "data": {
      "text/html": [
       "<pre>recommendations finished on 24000/75792 queries. users per second: 145116</pre>"
      ],
      "text/plain": [
       "recommendations finished on 24000/75792 queries. users per second: 145116"
      ]
     },
     "metadata": {},
     "output_type": "display_data"
    },
    {
     "data": {
      "text/html": [
       "<pre>recommendations finished on 25000/75792 queries. users per second: 146685</pre>"
      ],
      "text/plain": [
       "recommendations finished on 25000/75792 queries. users per second: 146685"
      ]
     },
     "metadata": {},
     "output_type": "display_data"
    },
    {
     "data": {
      "text/html": [
       "<pre>recommendations finished on 26000/75792 queries. users per second: 148481</pre>"
      ],
      "text/plain": [
       "recommendations finished on 26000/75792 queries. users per second: 148481"
      ]
     },
     "metadata": {},
     "output_type": "display_data"
    },
    {
     "data": {
      "text/html": [
       "<pre>recommendations finished on 27000/75792 queries. users per second: 150467</pre>"
      ],
      "text/plain": [
       "recommendations finished on 27000/75792 queries. users per second: 150467"
      ]
     },
     "metadata": {},
     "output_type": "display_data"
    },
    {
     "data": {
      "text/html": [
       "<pre>recommendations finished on 28000/75792 queries. users per second: 150881</pre>"
      ],
      "text/plain": [
       "recommendations finished on 28000/75792 queries. users per second: 150881"
      ]
     },
     "metadata": {},
     "output_type": "display_data"
    },
    {
     "data": {
      "text/html": [
       "<pre>recommendations finished on 29000/75792 queries. users per second: 151364</pre>"
      ],
      "text/plain": [
       "recommendations finished on 29000/75792 queries. users per second: 151364"
      ]
     },
     "metadata": {},
     "output_type": "display_data"
    },
    {
     "data": {
      "text/html": [
       "<pre>recommendations finished on 30000/75792 queries. users per second: 150454</pre>"
      ],
      "text/plain": [
       "recommendations finished on 30000/75792 queries. users per second: 150454"
      ]
     },
     "metadata": {},
     "output_type": "display_data"
    },
    {
     "data": {
      "text/html": [
       "<pre>recommendations finished on 31000/75792 queries. users per second: 143183</pre>"
      ],
      "text/plain": [
       "recommendations finished on 31000/75792 queries. users per second: 143183"
      ]
     },
     "metadata": {},
     "output_type": "display_data"
    },
    {
     "data": {
      "text/html": [
       "<pre>recommendations finished on 32000/75792 queries. users per second: 142964</pre>"
      ],
      "text/plain": [
       "recommendations finished on 32000/75792 queries. users per second: 142964"
      ]
     },
     "metadata": {},
     "output_type": "display_data"
    },
    {
     "data": {
      "text/html": [
       "<pre>recommendations finished on 33000/75792 queries. users per second: 143854</pre>"
      ],
      "text/plain": [
       "recommendations finished on 33000/75792 queries. users per second: 143854"
      ]
     },
     "metadata": {},
     "output_type": "display_data"
    },
    {
     "data": {
      "text/html": [
       "<pre>recommendations finished on 34000/75792 queries. users per second: 145641</pre>"
      ],
      "text/plain": [
       "recommendations finished on 34000/75792 queries. users per second: 145641"
      ]
     },
     "metadata": {},
     "output_type": "display_data"
    },
    {
     "data": {
      "text/html": [
       "<pre>recommendations finished on 35000/75792 queries. users per second: 146635</pre>"
      ],
      "text/plain": [
       "recommendations finished on 35000/75792 queries. users per second: 146635"
      ]
     },
     "metadata": {},
     "output_type": "display_data"
    },
    {
     "data": {
      "text/html": [
       "<pre>recommendations finished on 36000/75792 queries. users per second: 147365</pre>"
      ],
      "text/plain": [
       "recommendations finished on 36000/75792 queries. users per second: 147365"
      ]
     },
     "metadata": {},
     "output_type": "display_data"
    },
    {
     "data": {
      "text/html": [
       "<pre>recommendations finished on 37000/75792 queries. users per second: 147509</pre>"
      ],
      "text/plain": [
       "recommendations finished on 37000/75792 queries. users per second: 147509"
      ]
     },
     "metadata": {},
     "output_type": "display_data"
    },
    {
     "data": {
      "text/html": [
       "<pre>recommendations finished on 38000/75792 queries. users per second: 146826</pre>"
      ],
      "text/plain": [
       "recommendations finished on 38000/75792 queries. users per second: 146826"
      ]
     },
     "metadata": {},
     "output_type": "display_data"
    },
    {
     "data": {
      "text/html": [
       "<pre>recommendations finished on 39000/75792 queries. users per second: 147954</pre>"
      ],
      "text/plain": [
       "recommendations finished on 39000/75792 queries. users per second: 147954"
      ]
     },
     "metadata": {},
     "output_type": "display_data"
    },
    {
     "data": {
      "text/html": [
       "<pre>recommendations finished on 40000/75792 queries. users per second: 148787</pre>"
      ],
      "text/plain": [
       "recommendations finished on 40000/75792 queries. users per second: 148787"
      ]
     },
     "metadata": {},
     "output_type": "display_data"
    },
    {
     "data": {
      "text/html": [
       "<pre>recommendations finished on 41000/75792 queries. users per second: 149677</pre>"
      ],
      "text/plain": [
       "recommendations finished on 41000/75792 queries. users per second: 149677"
      ]
     },
     "metadata": {},
     "output_type": "display_data"
    },
    {
     "data": {
      "text/html": [
       "<pre>recommendations finished on 42000/75792 queries. users per second: 150575</pre>"
      ],
      "text/plain": [
       "recommendations finished on 42000/75792 queries. users per second: 150575"
      ]
     },
     "metadata": {},
     "output_type": "display_data"
    },
    {
     "data": {
      "text/html": [
       "<pre>recommendations finished on 43000/75792 queries. users per second: 150779</pre>"
      ],
      "text/plain": [
       "recommendations finished on 43000/75792 queries. users per second: 150779"
      ]
     },
     "metadata": {},
     "output_type": "display_data"
    },
    {
     "data": {
      "text/html": [
       "<pre>recommendations finished on 44000/75792 queries. users per second: 151626</pre>"
      ],
      "text/plain": [
       "recommendations finished on 44000/75792 queries. users per second: 151626"
      ]
     },
     "metadata": {},
     "output_type": "display_data"
    },
    {
     "data": {
      "text/html": [
       "<pre>recommendations finished on 45000/75792 queries. users per second: 152018</pre>"
      ],
      "text/plain": [
       "recommendations finished on 45000/75792 queries. users per second: 152018"
      ]
     },
     "metadata": {},
     "output_type": "display_data"
    },
    {
     "data": {
      "text/html": [
       "<pre>recommendations finished on 46000/75792 queries. users per second: 153164</pre>"
      ],
      "text/plain": [
       "recommendations finished on 46000/75792 queries. users per second: 153164"
      ]
     },
     "metadata": {},
     "output_type": "display_data"
    },
    {
     "data": {
      "text/html": [
       "<pre>recommendations finished on 47000/75792 queries. users per second: 153394</pre>"
      ],
      "text/plain": [
       "recommendations finished on 47000/75792 queries. users per second: 153394"
      ]
     },
     "metadata": {},
     "output_type": "display_data"
    },
    {
     "data": {
      "text/html": [
       "<pre>recommendations finished on 49000/75792 queries. users per second: 152988</pre>"
      ],
      "text/plain": [
       "recommendations finished on 49000/75792 queries. users per second: 152988"
      ]
     },
     "metadata": {},
     "output_type": "display_data"
    },
    {
     "data": {
      "text/html": [
       "<pre>recommendations finished on 48000/75792 queries. users per second: 153644</pre>"
      ],
      "text/plain": [
       "recommendations finished on 48000/75792 queries. users per second: 153644"
      ]
     },
     "metadata": {},
     "output_type": "display_data"
    },
    {
     "data": {
      "text/html": [
       "<pre>recommendations finished on 50000/75792 queries. users per second: 152338</pre>"
      ],
      "text/plain": [
       "recommendations finished on 50000/75792 queries. users per second: 152338"
      ]
     },
     "metadata": {},
     "output_type": "display_data"
    },
    {
     "data": {
      "text/html": [
       "<pre>recommendations finished on 51000/75792 queries. users per second: 152327</pre>"
      ],
      "text/plain": [
       "recommendations finished on 51000/75792 queries. users per second: 152327"
      ]
     },
     "metadata": {},
     "output_type": "display_data"
    },
    {
     "data": {
      "text/html": [
       "<pre>recommendations finished on 52000/75792 queries. users per second: 151015</pre>"
      ],
      "text/plain": [
       "recommendations finished on 52000/75792 queries. users per second: 151015"
      ]
     },
     "metadata": {},
     "output_type": "display_data"
    },
    {
     "data": {
      "text/html": [
       "<pre>recommendations finished on 53000/75792 queries. users per second: 150572</pre>"
      ],
      "text/plain": [
       "recommendations finished on 53000/75792 queries. users per second: 150572"
      ]
     },
     "metadata": {},
     "output_type": "display_data"
    },
    {
     "data": {
      "text/html": [
       "<pre>recommendations finished on 54000/75792 queries. users per second: 151157</pre>"
      ],
      "text/plain": [
       "recommendations finished on 54000/75792 queries. users per second: 151157"
      ]
     },
     "metadata": {},
     "output_type": "display_data"
    },
    {
     "data": {
      "text/html": [
       "<pre>recommendations finished on 55000/75792 queries. users per second: 151402</pre>"
      ],
      "text/plain": [
       "recommendations finished on 55000/75792 queries. users per second: 151402"
      ]
     },
     "metadata": {},
     "output_type": "display_data"
    },
    {
     "data": {
      "text/html": [
       "<pre>recommendations finished on 56000/75792 queries. users per second: 151738</pre>"
      ],
      "text/plain": [
       "recommendations finished on 56000/75792 queries. users per second: 151738"
      ]
     },
     "metadata": {},
     "output_type": "display_data"
    },
    {
     "data": {
      "text/html": [
       "<pre>recommendations finished on 57000/75792 queries. users per second: 151601</pre>"
      ],
      "text/plain": [
       "recommendations finished on 57000/75792 queries. users per second: 151601"
      ]
     },
     "metadata": {},
     "output_type": "display_data"
    },
    {
     "data": {
      "text/html": [
       "<pre>recommendations finished on 58000/75792 queries. users per second: 152712</pre>"
      ],
      "text/plain": [
       "recommendations finished on 58000/75792 queries. users per second: 152712"
      ]
     },
     "metadata": {},
     "output_type": "display_data"
    },
    {
     "data": {
      "text/html": [
       "<pre>recommendations finished on 59000/75792 queries. users per second: 152983</pre>"
      ],
      "text/plain": [
       "recommendations finished on 59000/75792 queries. users per second: 152983"
      ]
     },
     "metadata": {},
     "output_type": "display_data"
    },
    {
     "data": {
      "text/html": [
       "<pre>recommendations finished on 60000/75792 queries. users per second: 153392</pre>"
      ],
      "text/plain": [
       "recommendations finished on 60000/75792 queries. users per second: 153392"
      ]
     },
     "metadata": {},
     "output_type": "display_data"
    },
    {
     "data": {
      "text/html": [
       "<pre>recommendations finished on 61000/75792 queries. users per second: 153450</pre>"
      ],
      "text/plain": [
       "recommendations finished on 61000/75792 queries. users per second: 153450"
      ]
     },
     "metadata": {},
     "output_type": "display_data"
    },
    {
     "data": {
      "text/html": [
       "<pre>recommendations finished on 62000/75792 queries. users per second: 153613</pre>"
      ],
      "text/plain": [
       "recommendations finished on 62000/75792 queries. users per second: 153613"
      ]
     },
     "metadata": {},
     "output_type": "display_data"
    },
    {
     "data": {
      "text/html": [
       "<pre>recommendations finished on 63000/75792 queries. users per second: 154137</pre>"
      ],
      "text/plain": [
       "recommendations finished on 63000/75792 queries. users per second: 154137"
      ]
     },
     "metadata": {},
     "output_type": "display_data"
    },
    {
     "data": {
      "text/html": [
       "<pre>recommendations finished on 64000/75792 queries. users per second: 154925</pre>"
      ],
      "text/plain": [
       "recommendations finished on 64000/75792 queries. users per second: 154925"
      ]
     },
     "metadata": {},
     "output_type": "display_data"
    },
    {
     "data": {
      "text/html": [
       "<pre>recommendations finished on 65000/75792 queries. users per second: 155979</pre>"
      ],
      "text/plain": [
       "recommendations finished on 65000/75792 queries. users per second: 155979"
      ]
     },
     "metadata": {},
     "output_type": "display_data"
    },
    {
     "data": {
      "text/html": [
       "<pre>recommendations finished on 66000/75792 queries. users per second: 156640</pre>"
      ],
      "text/plain": [
       "recommendations finished on 66000/75792 queries. users per second: 156640"
      ]
     },
     "metadata": {},
     "output_type": "display_data"
    },
    {
     "data": {
      "text/html": [
       "<pre>recommendations finished on 67000/75792 queries. users per second: 156670</pre>"
      ],
      "text/plain": [
       "recommendations finished on 67000/75792 queries. users per second: 156670"
      ]
     },
     "metadata": {},
     "output_type": "display_data"
    },
    {
     "data": {
      "text/html": [
       "<pre>recommendations finished on 68000/75792 queries. users per second: 156028</pre>"
      ],
      "text/plain": [
       "recommendations finished on 68000/75792 queries. users per second: 156028"
      ]
     },
     "metadata": {},
     "output_type": "display_data"
    },
    {
     "data": {
      "text/html": [
       "<pre>recommendations finished on 69000/75792 queries. users per second: 155787</pre>"
      ],
      "text/plain": [
       "recommendations finished on 69000/75792 queries. users per second: 155787"
      ]
     },
     "metadata": {},
     "output_type": "display_data"
    },
    {
     "data": {
      "text/html": [
       "<pre>recommendations finished on 70000/75792 queries. users per second: 156232</pre>"
      ],
      "text/plain": [
       "recommendations finished on 70000/75792 queries. users per second: 156232"
      ]
     },
     "metadata": {},
     "output_type": "display_data"
    },
    {
     "data": {
      "text/html": [
       "<pre>recommendations finished on 71000/75792 queries. users per second: 157077</pre>"
      ],
      "text/plain": [
       "recommendations finished on 71000/75792 queries. users per second: 157077"
      ]
     },
     "metadata": {},
     "output_type": "display_data"
    },
    {
     "data": {
      "text/html": [
       "<pre>recommendations finished on 72000/75792 queries. users per second: 156204</pre>"
      ],
      "text/plain": [
       "recommendations finished on 72000/75792 queries. users per second: 156204"
      ]
     },
     "metadata": {},
     "output_type": "display_data"
    },
    {
     "data": {
      "text/html": [
       "<pre>recommendations finished on 73000/75792 queries. users per second: 155842</pre>"
      ],
      "text/plain": [
       "recommendations finished on 73000/75792 queries. users per second: 155842"
      ]
     },
     "metadata": {},
     "output_type": "display_data"
    },
    {
     "data": {
      "text/html": [
       "<pre>recommendations finished on 74000/75792 queries. users per second: 153778</pre>"
      ],
      "text/plain": [
       "recommendations finished on 74000/75792 queries. users per second: 153778"
      ]
     },
     "metadata": {},
     "output_type": "display_data"
    },
    {
     "data": {
      "text/html": [
       "<pre>recommendations finished on 75000/75792 queries. users per second: 151761</pre>"
      ],
      "text/plain": [
       "recommendations finished on 75000/75792 queries. users per second: 151761"
      ]
     },
     "metadata": {},
     "output_type": "display_data"
    }
   ],
   "source": [
    "name = 'jaccard'\n",
    "target = 'scaled_purchase_freq'\n",
    "jacc_norm = model(train_data_norm, name, user_id, item_id, target, users_to_recommend, n_rec, n_display)"
   ]
  },
  {
   "cell_type": "code",
   "execution_count": 43,
   "metadata": {},
   "outputs": [],
   "source": [
    "models_w_counts = [popularity, cos, pear,jacc]\n",
    "models_w_dummy = [pop_dummy, cos_dummy, pear_dummy,jacc_dummy]\n",
    "models_w_norm = [pop_norm, cos_norm, pear_norm,jacc_norm]\n",
    "names_w_counts = ['Popularity Model on Purchase Counts', 'Cosine Similarity on Purchase Counts', 'Pearson Similarity on Purchase Counts','Jaccard Similarity on Purchase Counts']\n",
    "names_w_dummy = ['Popularity Model on Purchase Dummy', 'Cosine Similarity on Purchase Dummy', 'Pearson Similarity on Purchase Dummy','Jaccard Similarity on Purchase Dummy']\n",
    "names_w_norm = ['Popularity Model on Scaled Purchase Counts', 'Cosine Similarity on Scaled Purchase Counts', 'Pearson Similarity on Scaled Purchase Counts','Jaccard Similarity on Scaled Purchase Counts']"
   ]
  },
  {
   "cell_type": "code",
   "execution_count": 45,
   "metadata": {},
   "outputs": [
    {
     "name": "stdout",
     "output_type": "stream",
     "text": [
      "PROGRESS: Evaluate model Popularity Model on Purchase Counts\n"
     ]
    },
    {
     "data": {
      "text/html": [
       "<pre>recommendations finished on 1000/8199 queries. users per second: 64512</pre>"
      ],
      "text/plain": [
       "recommendations finished on 1000/8199 queries. users per second: 64512"
      ]
     },
     "metadata": {},
     "output_type": "display_data"
    },
    {
     "data": {
      "text/html": [
       "<pre>recommendations finished on 2000/8199 queries. users per second: 74985</pre>"
      ],
      "text/plain": [
       "recommendations finished on 2000/8199 queries. users per second: 74985"
      ]
     },
     "metadata": {},
     "output_type": "display_data"
    },
    {
     "data": {
      "text/html": [
       "<pre>recommendations finished on 3000/8199 queries. users per second: 77259.9</pre>"
      ],
      "text/plain": [
       "recommendations finished on 3000/8199 queries. users per second: 77259.9"
      ]
     },
     "metadata": {},
     "output_type": "display_data"
    },
    {
     "data": {
      "text/html": [
       "<pre>recommendations finished on 4000/8199 queries. users per second: 80970</pre>"
      ],
      "text/plain": [
       "recommendations finished on 4000/8199 queries. users per second: 80970"
      ]
     },
     "metadata": {},
     "output_type": "display_data"
    },
    {
     "data": {
      "text/html": [
       "<pre>recommendations finished on 5000/8199 queries. users per second: 84108.5</pre>"
      ],
      "text/plain": [
       "recommendations finished on 5000/8199 queries. users per second: 84108.5"
      ]
     },
     "metadata": {},
     "output_type": "display_data"
    },
    {
     "data": {
      "text/html": [
       "<pre>recommendations finished on 6000/8199 queries. users per second: 81547.2</pre>"
      ],
      "text/plain": [
       "recommendations finished on 6000/8199 queries. users per second: 81547.2"
      ]
     },
     "metadata": {},
     "output_type": "display_data"
    },
    {
     "data": {
      "text/html": [
       "<pre>recommendations finished on 7000/8199 queries. users per second: 85019.6</pre>"
      ],
      "text/plain": [
       "recommendations finished on 7000/8199 queries. users per second: 85019.6"
      ]
     },
     "metadata": {},
     "output_type": "display_data"
    },
    {
     "data": {
      "text/html": [
       "<pre>recommendations finished on 8000/8199 queries. users per second: 87591.6</pre>"
      ],
      "text/plain": [
       "recommendations finished on 8000/8199 queries. users per second: 87591.6"
      ]
     },
     "metadata": {},
     "output_type": "display_data"
    },
    {
     "name": "stdout",
     "output_type": "stream",
     "text": [
      "\n",
      "Precision and recall summary statistics by cutoff\n",
      "+--------+---------------------+---------------------+\n",
      "| cutoff |    mean_precision   |     mean_recall     |\n",
      "+--------+---------------------+---------------------+\n",
      "|   1    | 0.12757653372362476 | 0.06928545292979987 |\n",
      "|   2    | 0.09062080741553852 | 0.09869409161396009 |\n",
      "|   3    | 0.06866691059885352 | 0.11248894077287815 |\n",
      "|   4    |  0.0740029271862422 |  0.1625937735341322 |\n",
      "|   5    |  0.0837907061836811 |  0.2300591729150086 |\n",
      "|   6    | 0.07818026588608366 |  0.2579880047315094 |\n",
      "|   7    | 0.07237816458453139 |  0.2773402486172335 |\n",
      "|   8    | 0.06564824978655948 |  0.286557981325636  |\n",
      "|   9    | 0.05899093385372197 |  0.2895412138917438 |\n",
      "|   10   | 0.05433589462129532 | 0.29609398745878807 |\n",
      "+--------+---------------------+---------------------+\n",
      "[10 rows x 3 columns]\n",
      "\n",
      "\n",
      "Overall RMSE: 3.0698958071907074\n",
      "\n",
      "Per User RMSE (best)\n",
      "+------------+------+-------+\n",
      "| customerId | rmse | count |\n",
      "+------------+------+-------+\n",
      "| 575449812  | 0.0  |   1   |\n",
      "+------------+------+-------+\n",
      "[1 rows x 3 columns]\n",
      "\n",
      "\n",
      "Per User RMSE (worst)\n",
      "+------------+-------------------+-------+\n",
      "| customerId |        rmse       | count |\n",
      "+------------+-------------------+-------+\n",
      "| 514908450  | 65.57018644300483 |   3   |\n",
      "+------------+-------------------+-------+\n",
      "[1 rows x 3 columns]\n",
      "\n",
      "\n",
      "Per Item RMSE (best)\n",
      "+-----------+------+-------+\n",
      "| productId | rmse | count |\n",
      "+-----------+------+-------+\n",
      "|   riche   | 0.0  |   1   |\n",
      "+-----------+------+-------+\n",
      "[1 rows x 3 columns]\n",
      "\n",
      "\n",
      "Per Item RMSE (worst)\n",
      "+-----------+------------------+-------+\n",
      "| productId |       rmse       | count |\n",
      "+-----------+------------------+-------+\n",
      "|  kinetics | 7.91894267810364 |   36  |\n",
      "+-----------+------------------+-------+\n",
      "[1 rows x 3 columns]\n",
      "\n",
      "PROGRESS: Evaluate model Cosine Similarity on Purchase Counts\n"
     ]
    },
    {
     "data": {
      "text/html": [
       "<pre>recommendations finished on 1000/8199 queries. users per second: 60547.3</pre>"
      ],
      "text/plain": [
       "recommendations finished on 1000/8199 queries. users per second: 60547.3"
      ]
     },
     "metadata": {},
     "output_type": "display_data"
    },
    {
     "data": {
      "text/html": [
       "<pre>recommendations finished on 2000/8199 queries. users per second: 56674.9</pre>"
      ],
      "text/plain": [
       "recommendations finished on 2000/8199 queries. users per second: 56674.9"
      ]
     },
     "metadata": {},
     "output_type": "display_data"
    },
    {
     "data": {
      "text/html": [
       "<pre>recommendations finished on 3000/8199 queries. users per second: 55929.5</pre>"
      ],
      "text/plain": [
       "recommendations finished on 3000/8199 queries. users per second: 55929.5"
      ]
     },
     "metadata": {},
     "output_type": "display_data"
    },
    {
     "data": {
      "text/html": [
       "<pre>recommendations finished on 4000/8199 queries. users per second: 61745.5</pre>"
      ],
      "text/plain": [
       "recommendations finished on 4000/8199 queries. users per second: 61745.5"
      ]
     },
     "metadata": {},
     "output_type": "display_data"
    },
    {
     "data": {
      "text/html": [
       "<pre>recommendations finished on 5000/8199 queries. users per second: 59215.7</pre>"
      ],
      "text/plain": [
       "recommendations finished on 5000/8199 queries. users per second: 59215.7"
      ]
     },
     "metadata": {},
     "output_type": "display_data"
    },
    {
     "data": {
      "text/html": [
       "<pre>recommendations finished on 6000/8199 queries. users per second: 59790.1</pre>"
      ],
      "text/plain": [
       "recommendations finished on 6000/8199 queries. users per second: 59790.1"
      ]
     },
     "metadata": {},
     "output_type": "display_data"
    },
    {
     "data": {
      "text/html": [
       "<pre>recommendations finished on 7000/8199 queries. users per second: 62261.5</pre>"
      ],
      "text/plain": [
       "recommendations finished on 7000/8199 queries. users per second: 62261.5"
      ]
     },
     "metadata": {},
     "output_type": "display_data"
    },
    {
     "data": {
      "text/html": [
       "<pre>recommendations finished on 8000/8199 queries. users per second: 61992.9</pre>"
      ],
      "text/plain": [
       "recommendations finished on 8000/8199 queries. users per second: 61992.9"
      ]
     },
     "metadata": {},
     "output_type": "display_data"
    },
    {
     "name": "stdout",
     "output_type": "stream",
     "text": [
      "\n",
      "Precision and recall summary statistics by cutoff\n",
      "+--------+---------------------+---------------------+\n",
      "| cutoff |    mean_precision   |     mean_recall     |\n",
      "+--------+---------------------+---------------------+\n",
      "|   1    | 0.31613611416026344 |  0.181210300520582  |\n",
      "|   2    | 0.24570069520673246 |  0.2746871472905133 |\n",
      "|   3    |  0.2048217262267755 | 0.34124578684586016 |\n",
      "|   4    | 0.17864983534577383 | 0.39440775781792975 |\n",
      "|   5    | 0.15909257226491053 |  0.438360562747683  |\n",
      "|   6    | 0.14450949302760485 |  0.4771027051305137 |\n",
      "|   7    | 0.13297788928963453 |  0.5106642892958311 |\n",
      "|   8    |  0.1230637882668618 |  0.5391409037493935 |\n",
      "|   9    | 0.11486495643100143 |  0.5663852250661625 |\n",
      "|   10   | 0.10780582997926587 |  0.591596100569756  |\n",
      "+--------+---------------------+---------------------+\n",
      "[10 rows x 3 columns]\n",
      "\n",
      "\n",
      "Overall RMSE: 3.7263409001617167\n",
      "\n",
      "Per User RMSE (best)\n",
      "+------------+----------------------+-------+\n",
      "| customerId |         rmse         | count |\n",
      "+------------+----------------------+-------+\n",
      "| 555323478  | 0.004827901721000671 |   1   |\n",
      "+------------+----------------------+-------+\n",
      "[1 rows x 3 columns]\n",
      "\n",
      "\n",
      "Per User RMSE (worst)\n",
      "+------------+-------------------+-------+\n",
      "| customerId |        rmse       | count |\n",
      "+------------+-------------------+-------+\n",
      "| 514908450  | 66.31974645738259 |   3   |\n",
      "+------------+-------------------+-------+\n",
      "[1 rows x 3 columns]\n",
      "\n",
      "\n",
      "Per Item RMSE (best)\n",
      "+-----------+--------------------+-------+\n",
      "| productId |        rmse        | count |\n",
      "+-----------+--------------------+-------+\n",
      "|    fly    | 0.5579256117343903 |   1   |\n",
      "+-----------+--------------------+-------+\n",
      "[1 rows x 3 columns]\n",
      "\n",
      "\n",
      "Per Item RMSE (worst)\n",
      "+-----------+-------------------+-------+\n",
      "| productId |        rmse       | count |\n",
      "+-----------+-------------------+-------+\n",
      "|  kinetics | 8.577754364270673 |   36  |\n",
      "+-----------+-------------------+-------+\n",
      "[1 rows x 3 columns]\n",
      "\n",
      "PROGRESS: Evaluate model Pearson Similarity on Purchase Counts\n"
     ]
    },
    {
     "data": {
      "text/html": [
       "<pre>recommendations finished on 1000/8199 queries. users per second: 55894</pre>"
      ],
      "text/plain": [
       "recommendations finished on 1000/8199 queries. users per second: 55894"
      ]
     },
     "metadata": {},
     "output_type": "display_data"
    },
    {
     "data": {
      "text/html": [
       "<pre>recommendations finished on 2000/8199 queries. users per second: 59799.7</pre>"
      ],
      "text/plain": [
       "recommendations finished on 2000/8199 queries. users per second: 59799.7"
      ]
     },
     "metadata": {},
     "output_type": "display_data"
    },
    {
     "data": {
      "text/html": [
       "<pre>recommendations finished on 3000/8199 queries. users per second: 65395.1</pre>"
      ],
      "text/plain": [
       "recommendations finished on 3000/8199 queries. users per second: 65395.1"
      ]
     },
     "metadata": {},
     "output_type": "display_data"
    },
    {
     "data": {
      "text/html": [
       "<pre>recommendations finished on 4000/8199 queries. users per second: 65374.4</pre>"
      ],
      "text/plain": [
       "recommendations finished on 4000/8199 queries. users per second: 65374.4"
      ]
     },
     "metadata": {},
     "output_type": "display_data"
    },
    {
     "data": {
      "text/html": [
       "<pre>recommendations finished on 5000/8199 queries. users per second: 66994.5</pre>"
      ],
      "text/plain": [
       "recommendations finished on 5000/8199 queries. users per second: 66994.5"
      ]
     },
     "metadata": {},
     "output_type": "display_data"
    },
    {
     "data": {
      "text/html": [
       "<pre>recommendations finished on 6000/8199 queries. users per second: 65357.3</pre>"
      ],
      "text/plain": [
       "recommendations finished on 6000/8199 queries. users per second: 65357.3"
      ]
     },
     "metadata": {},
     "output_type": "display_data"
    },
    {
     "data": {
      "text/html": [
       "<pre>recommendations finished on 7000/8199 queries. users per second: 63899.5</pre>"
      ],
      "text/plain": [
       "recommendations finished on 7000/8199 queries. users per second: 63899.5"
      ]
     },
     "metadata": {},
     "output_type": "display_data"
    },
    {
     "data": {
      "text/html": [
       "<pre>recommendations finished on 8000/8199 queries. users per second: 63565.7</pre>"
      ],
      "text/plain": [
       "recommendations finished on 8000/8199 queries. users per second: 63565.7"
      ]
     },
     "metadata": {},
     "output_type": "display_data"
    },
    {
     "name": "stdout",
     "output_type": "stream",
     "text": [
      "\n",
      "Precision and recall summary statistics by cutoff\n",
      "+--------+---------------------+---------------------+\n",
      "| cutoff |    mean_precision   |     mean_recall     |\n",
      "+--------+---------------------+---------------------+\n",
      "|   1    | 0.13013782168557145 |  0.070549834764983  |\n",
      "|   2    | 0.09976826442249058 | 0.10854401523995406 |\n",
      "|   3    | 0.07850550880188643 | 0.12780178380251594 |\n",
      "|   4    |  0.079277960726918  | 0.17428828912546424 |\n",
      "|   5    |  0.0846932552750335 | 0.23185817279304263 |\n",
      "|   6    | 0.07769240151237955 | 0.25581700826852605 |\n",
      "|   7    | 0.07246528322269268 |  0.2777833920900146 |\n",
      "|   8    | 0.06656299548725447 | 0.29037958558631827 |\n",
      "|   9    | 0.06021059478798221 | 0.29507150504223356 |\n",
      "|   10   | 0.05553116233687033 | 0.30257271018339404 |\n",
      "+--------+---------------------+---------------------+\n",
      "[10 rows x 3 columns]\n",
      "\n",
      "\n",
      "Overall RMSE: 3.0569750892269023\n",
      "\n",
      "Per User RMSE (best)\n",
      "+------------+------+-------+\n",
      "| customerId | rmse | count |\n",
      "+------------+------+-------+\n",
      "| 575449812  | 0.0  |   1   |\n",
      "+------------+------+-------+\n",
      "[1 rows x 3 columns]\n",
      "\n",
      "\n",
      "Per User RMSE (worst)\n",
      "+------------+-------------------+-------+\n",
      "| customerId |        rmse       | count |\n",
      "+------------+-------------------+-------+\n",
      "| 514908450  | 65.43597017775193 |   3   |\n",
      "+------------+-------------------+-------+\n",
      "[1 rows x 3 columns]\n",
      "\n",
      "\n",
      "Per Item RMSE (best)\n",
      "+-----------+------+-------+\n",
      "| productId | rmse | count |\n",
      "+-----------+------+-------+\n",
      "|   riche   | 0.0  |   1   |\n",
      "+-----------+------+-------+\n",
      "[1 rows x 3 columns]\n",
      "\n",
      "\n",
      "Per Item RMSE (worst)\n",
      "+-----------+-------------------+-------+\n",
      "| productId |        rmse       | count |\n",
      "+-----------+-------------------+-------+\n",
      "|  kinetics | 7.906412829581524 |   36  |\n",
      "+-----------+-------------------+-------+\n",
      "[1 rows x 3 columns]\n",
      "\n",
      "PROGRESS: Evaluate model Jaccard Similarity on Purchase Counts\n"
     ]
    },
    {
     "data": {
      "text/html": [
       "<pre>recommendations finished on 1000/8199 queries. users per second: 54969.2</pre>"
      ],
      "text/plain": [
       "recommendations finished on 1000/8199 queries. users per second: 54969.2"
      ]
     },
     "metadata": {},
     "output_type": "display_data"
    },
    {
     "data": {
      "text/html": [
       "<pre>recommendations finished on 2000/8199 queries. users per second: 58317.5</pre>"
      ],
      "text/plain": [
       "recommendations finished on 2000/8199 queries. users per second: 58317.5"
      ]
     },
     "metadata": {},
     "output_type": "display_data"
    },
    {
     "data": {
      "text/html": [
       "<pre>recommendations finished on 3000/8199 queries. users per second: 60111.8</pre>"
      ],
      "text/plain": [
       "recommendations finished on 3000/8199 queries. users per second: 60111.8"
      ]
     },
     "metadata": {},
     "output_type": "display_data"
    },
    {
     "data": {
      "text/html": [
       "<pre>recommendations finished on 4000/8199 queries. users per second: 61608.6</pre>"
      ],
      "text/plain": [
       "recommendations finished on 4000/8199 queries. users per second: 61608.6"
      ]
     },
     "metadata": {},
     "output_type": "display_data"
    },
    {
     "data": {
      "text/html": [
       "<pre>recommendations finished on 5000/8199 queries. users per second: 62063.2</pre>"
      ],
      "text/plain": [
       "recommendations finished on 5000/8199 queries. users per second: 62063.2"
      ]
     },
     "metadata": {},
     "output_type": "display_data"
    },
    {
     "data": {
      "text/html": [
       "<pre>recommendations finished on 6000/8199 queries. users per second: 62711</pre>"
      ],
      "text/plain": [
       "recommendations finished on 6000/8199 queries. users per second: 62711"
      ]
     },
     "metadata": {},
     "output_type": "display_data"
    },
    {
     "data": {
      "text/html": [
       "<pre>recommendations finished on 7000/8199 queries. users per second: 62445.9</pre>"
      ],
      "text/plain": [
       "recommendations finished on 7000/8199 queries. users per second: 62445.9"
      ]
     },
     "metadata": {},
     "output_type": "display_data"
    },
    {
     "data": {
      "text/html": [
       "<pre>recommendations finished on 8000/8199 queries. users per second: 63698.8</pre>"
      ],
      "text/plain": [
       "recommendations finished on 8000/8199 queries. users per second: 63698.8"
      ]
     },
     "metadata": {},
     "output_type": "display_data"
    },
    {
     "name": "stdout",
     "output_type": "stream",
     "text": [
      "\n",
      "Precision and recall summary statistics by cutoff\n",
      "+--------+---------------------+---------------------+\n",
      "| cutoff |    mean_precision   |     mean_recall     |\n",
      "+--------+---------------------+---------------------+\n",
      "|   1    | 0.34150506159287763 | 0.19564731084123646 |\n",
      "|   2    |  0.2588120502500305 | 0.28994994550245184 |\n",
      "|   3    |  0.215798674635118  | 0.35816587195108945 |\n",
      "|   4    |  0.188529088913282  | 0.41690967926789296 |\n",
      "|   5    | 0.16845956824002936 |  0.4637556941709893 |\n",
      "|   6    | 0.15119730048379884 |  0.4991344279306231 |\n",
      "|   7    |  0.1371421601937517 |  0.5260976464415908 |\n",
      "|   8    |  0.1265093304061472 |  0.5548426346999346 |\n",
      "|   9    | 0.11767017657980024 |  0.5794344838801477 |\n",
      "|   10   | 0.11015977558238813 |  0.6027297657283024 |\n",
      "+--------+---------------------+---------------------+\n",
      "[10 rows x 3 columns]\n",
      "\n",
      "\n",
      "Overall RMSE: 3.859371859057911\n",
      "\n",
      "Per User RMSE (best)\n",
      "+------------+--------------------+-------+\n",
      "| customerId |        rmse        | count |\n",
      "+------------+--------------------+-------+\n",
      "| 564373034  | 0.7250090539455414 |   1   |\n",
      "+------------+--------------------+-------+\n",
      "[1 rows x 3 columns]\n",
      "\n",
      "\n",
      "Per User RMSE (worst)\n",
      "+------------+------------------+-------+\n",
      "| customerId |       rmse       | count |\n",
      "+------------+------------------+-------+\n",
      "| 514908450  | 67.0422534149859 |   3   |\n",
      "+------------+------------------+-------+\n",
      "[1 rows x 3 columns]\n",
      "\n",
      "\n",
      "Per Item RMSE (best)\n",
      "+-----------+--------------------+-------+\n",
      "| productId |        rmse        | count |\n",
      "+-----------+--------------------+-------+\n",
      "|   consly  | 0.9923514291248982 |   5   |\n",
      "+-----------+--------------------+-------+\n",
      "[1 rows x 3 columns]\n",
      "\n",
      "\n",
      "Per Item RMSE (worst)\n",
      "+-----------+-------------------+-------+\n",
      "| productId |        rmse       | count |\n",
      "+-----------+-------------------+-------+\n",
      "|  kinetics | 8.611827348504463 |   36  |\n",
      "+-----------+-------------------+-------+\n",
      "[1 rows x 3 columns]\n",
      "\n",
      "PROGRESS: Evaluate model Popularity Model on Purchase Dummy\n"
     ]
    },
    {
     "data": {
      "text/html": [
       "<pre>recommendations finished on 1000/8157 queries. users per second: 44879.3</pre>"
      ],
      "text/plain": [
       "recommendations finished on 1000/8157 queries. users per second: 44879.3"
      ]
     },
     "metadata": {},
     "output_type": "display_data"
    },
    {
     "data": {
      "text/html": [
       "<pre>recommendations finished on 2000/8157 queries. users per second: 60395.6</pre>"
      ],
      "text/plain": [
       "recommendations finished on 2000/8157 queries. users per second: 60395.6"
      ]
     },
     "metadata": {},
     "output_type": "display_data"
    },
    {
     "data": {
      "text/html": [
       "<pre>recommendations finished on 3000/8157 queries. users per second: 71187.9</pre>"
      ],
      "text/plain": [
       "recommendations finished on 3000/8157 queries. users per second: 71187.9"
      ]
     },
     "metadata": {},
     "output_type": "display_data"
    },
    {
     "data": {
      "text/html": [
       "<pre>recommendations finished on 4000/8157 queries. users per second: 76609.3</pre>"
      ],
      "text/plain": [
       "recommendations finished on 4000/8157 queries. users per second: 76609.3"
      ]
     },
     "metadata": {},
     "output_type": "display_data"
    },
    {
     "data": {
      "text/html": [
       "<pre>recommendations finished on 5000/8157 queries. users per second: 77772.6</pre>"
      ],
      "text/plain": [
       "recommendations finished on 5000/8157 queries. users per second: 77772.6"
      ]
     },
     "metadata": {},
     "output_type": "display_data"
    },
    {
     "data": {
      "text/html": [
       "<pre>recommendations finished on 6000/8157 queries. users per second: 79739.5</pre>"
      ],
      "text/plain": [
       "recommendations finished on 6000/8157 queries. users per second: 79739.5"
      ]
     },
     "metadata": {},
     "output_type": "display_data"
    },
    {
     "data": {
      "text/html": [
       "<pre>recommendations finished on 7000/8157 queries. users per second: 81152.8</pre>"
      ],
      "text/plain": [
       "recommendations finished on 7000/8157 queries. users per second: 81152.8"
      ]
     },
     "metadata": {},
     "output_type": "display_data"
    },
    {
     "data": {
      "text/html": [
       "<pre>recommendations finished on 8000/8157 queries. users per second: 79587.7</pre>"
      ],
      "text/plain": [
       "recommendations finished on 8000/8157 queries. users per second: 79587.7"
      ]
     },
     "metadata": {},
     "output_type": "display_data"
    },
    {
     "name": "stdout",
     "output_type": "stream",
     "text": [
      "\n",
      "Precision and recall summary statistics by cutoff\n",
      "+--------+-----------------------+-----------------------+\n",
      "| cutoff |     mean_precision    |      mean_recall      |\n",
      "+--------+-----------------------+-----------------------+\n",
      "|   1    | 0.0008581586367537087 | 0.0004903763638592623 |\n",
      "|   2    | 0.0011033468186833397 | 0.0013383188263659017 |\n",
      "|   3    | 0.0009807527277185233 | 0.0017408360917003799 |\n",
      "|   4    | 0.0009194556822361159 | 0.0021261318061612296 |\n",
      "|   5    |  0.001299497364227043 | 0.0038976164206028048 |\n",
      "|   6    | 0.0012872379551305616 |  0.004714910360368254 |\n",
      "|   7    | 0.0015411828578433932 |  0.006308633542910853 |\n",
      "|   8    |  0.001455804830207184 |  0.006758145209781841 |\n",
      "|   9    | 0.0014438859602522688 |  0.007555006801053148 |\n",
      "|   10   |  0.001373053818805931 |  0.008106680210394799 |\n",
      "+--------+-----------------------+-----------------------+\n",
      "[10 rows x 3 columns]\n",
      "\n",
      "\n",
      "Overall RMSE: 0.0\n",
      "\n",
      "Per User RMSE (best)\n",
      "+------------+------+-------+\n",
      "| customerId | rmse | count |\n",
      "+------------+------+-------+\n",
      "| 236324195  | 0.0  |   3   |\n",
      "+------------+------+-------+\n",
      "[1 rows x 3 columns]\n",
      "\n",
      "\n",
      "Per User RMSE (worst)\n",
      "+------------+------+-------+\n",
      "| customerId | rmse | count |\n",
      "+------------+------+-------+\n",
      "| 545461654  | 0.0  |   1   |\n",
      "+------------+------+-------+\n",
      "[1 rows x 3 columns]\n",
      "\n",
      "\n",
      "Per Item RMSE (best)\n",
      "+-----------+------+-------+\n",
      "| productId | rmse | count |\n",
      "+-----------+------+-------+\n",
      "|  glysolid | 0.0  |   9   |\n",
      "+-----------+------+-------+\n",
      "[1 rows x 3 columns]\n",
      "\n",
      "\n",
      "Per Item RMSE (worst)\n",
      "+-----------+------+-------+\n",
      "| productId | rmse | count |\n",
      "+-----------+------+-------+\n",
      "|   sunuv   | 0.0  |   41  |\n",
      "+-----------+------+-------+\n",
      "[1 rows x 3 columns]\n",
      "\n",
      "PROGRESS: Evaluate model Cosine Similarity on Purchase Dummy\n"
     ]
    },
    {
     "data": {
      "text/html": [
       "<pre>recommendations finished on 1000/8157 queries. users per second: 59210.1</pre>"
      ],
      "text/plain": [
       "recommendations finished on 1000/8157 queries. users per second: 59210.1"
      ]
     },
     "metadata": {},
     "output_type": "display_data"
    },
    {
     "data": {
      "text/html": [
       "<pre>recommendations finished on 2000/8157 queries. users per second: 66731.2</pre>"
      ],
      "text/plain": [
       "recommendations finished on 2000/8157 queries. users per second: 66731.2"
      ]
     },
     "metadata": {},
     "output_type": "display_data"
    },
    {
     "data": {
      "text/html": [
       "<pre>recommendations finished on 3000/8157 queries. users per second: 67698.7</pre>"
      ],
      "text/plain": [
       "recommendations finished on 3000/8157 queries. users per second: 67698.7"
      ]
     },
     "metadata": {},
     "output_type": "display_data"
    },
    {
     "data": {
      "text/html": [
       "<pre>recommendations finished on 4000/8157 queries. users per second: 69104.9</pre>"
      ],
      "text/plain": [
       "recommendations finished on 4000/8157 queries. users per second: 69104.9"
      ]
     },
     "metadata": {},
     "output_type": "display_data"
    },
    {
     "data": {
      "text/html": [
       "<pre>recommendations finished on 5000/8157 queries. users per second: 71553.3</pre>"
      ],
      "text/plain": [
       "recommendations finished on 5000/8157 queries. users per second: 71553.3"
      ]
     },
     "metadata": {},
     "output_type": "display_data"
    },
    {
     "data": {
      "text/html": [
       "<pre>recommendations finished on 6000/8157 queries. users per second: 71983</pre>"
      ],
      "text/plain": [
       "recommendations finished on 6000/8157 queries. users per second: 71983"
      ]
     },
     "metadata": {},
     "output_type": "display_data"
    },
    {
     "data": {
      "text/html": [
       "<pre>recommendations finished on 7000/8157 queries. users per second: 73232.5</pre>"
      ],
      "text/plain": [
       "recommendations finished on 7000/8157 queries. users per second: 73232.5"
      ]
     },
     "metadata": {},
     "output_type": "display_data"
    },
    {
     "data": {
      "text/html": [
       "<pre>recommendations finished on 8000/8157 queries. users per second: 67692.2</pre>"
      ],
      "text/plain": [
       "recommendations finished on 8000/8157 queries. users per second: 67692.2"
      ]
     },
     "metadata": {},
     "output_type": "display_data"
    },
    {
     "name": "stdout",
     "output_type": "stream",
     "text": [
      "\n",
      "Precision and recall summary statistics by cutoff\n",
      "+--------+---------------------+---------------------+\n",
      "| cutoff |    mean_precision   |     mean_recall     |\n",
      "+--------+---------------------+---------------------+\n",
      "|   1    | 0.34436680152016674 | 0.19931191634023523 |\n",
      "|   2    | 0.26130930489150417 | 0.29554010480821813 |\n",
      "|   3    | 0.21829921131134808 |  0.3683510705577637 |\n",
      "|   4    | 0.18983694985901683 |  0.4237768807003826 |\n",
      "|   5    | 0.16962118425891864 | 0.47067495830827943 |\n",
      "|   6    |  0.1518327816599239 |   0.50266749174436  |\n",
      "|   7    | 0.13751554317939008 |  0.5294331385449458 |\n",
      "|   8    | 0.12622594090964814 |  0.5543566631834387 |\n",
      "|   9    |  0.1172408156593521 |  0.5784763208540346 |\n",
      "|   10   | 0.10972171141350995 |  0.6016249068382205 |\n",
      "+--------+---------------------+---------------------+\n",
      "[10 rows x 3 columns]\n",
      "\n",
      "\n",
      "Overall RMSE: 0.8344548393333262\n",
      "\n",
      "Per User RMSE (best)\n",
      "+------------+--------------------+-------+\n",
      "| customerId |        rmse        | count |\n",
      "+------------+--------------------+-------+\n",
      "| 280872198  | 0.5522710382938385 |   1   |\n",
      "+------------+--------------------+-------+\n",
      "[1 rows x 3 columns]\n",
      "\n",
      "\n",
      "Per User RMSE (worst)\n",
      "+------------+------+-------+\n",
      "| customerId | rmse | count |\n",
      "+------------+------+-------+\n",
      "| 564676105  | 1.0  |   1   |\n",
      "+------------+------+-------+\n",
      "[1 rows x 3 columns]\n",
      "\n",
      "\n",
      "Per Item RMSE (best)\n",
      "+-----------+--------------------+-------+\n",
      "| productId |        rmse        | count |\n",
      "+-----------+--------------------+-------+\n",
      "|   runail  | 0.7075385397083864 |  1521 |\n",
      "+-----------+--------------------+-------+\n",
      "[1 rows x 3 columns]\n",
      "\n",
      "\n",
      "Per Item RMSE (worst)\n",
      "+-----------+------+-------+\n",
      "| productId | rmse | count |\n",
      "+-----------+------+-------+\n",
      "| bespecial | 1.0  |   2   |\n",
      "+-----------+------+-------+\n",
      "[1 rows x 3 columns]\n",
      "\n",
      "PROGRESS: Evaluate model Pearson Similarity on Purchase Dummy\n"
     ]
    },
    {
     "data": {
      "text/html": [
       "<pre>recommendations finished on 1000/8157 queries. users per second: 62278.1</pre>"
      ],
      "text/plain": [
       "recommendations finished on 1000/8157 queries. users per second: 62278.1"
      ]
     },
     "metadata": {},
     "output_type": "display_data"
    },
    {
     "data": {
      "text/html": [
       "<pre>recommendations finished on 2000/8157 queries. users per second: 72740.5</pre>"
      ],
      "text/plain": [
       "recommendations finished on 2000/8157 queries. users per second: 72740.5"
      ]
     },
     "metadata": {},
     "output_type": "display_data"
    },
    {
     "data": {
      "text/html": [
       "<pre>recommendations finished on 3000/8157 queries. users per second: 72254.3</pre>"
      ],
      "text/plain": [
       "recommendations finished on 3000/8157 queries. users per second: 72254.3"
      ]
     },
     "metadata": {},
     "output_type": "display_data"
    },
    {
     "data": {
      "text/html": [
       "<pre>recommendations finished on 4000/8157 queries. users per second: 72875.7</pre>"
      ],
      "text/plain": [
       "recommendations finished on 4000/8157 queries. users per second: 72875.7"
      ]
     },
     "metadata": {},
     "output_type": "display_data"
    },
    {
     "data": {
      "text/html": [
       "<pre>recommendations finished on 5000/8157 queries. users per second: 77983.7</pre>"
      ],
      "text/plain": [
       "recommendations finished on 5000/8157 queries. users per second: 77983.7"
      ]
     },
     "metadata": {},
     "output_type": "display_data"
    },
    {
     "data": {
      "text/html": [
       "<pre>recommendations finished on 6000/8157 queries. users per second: 78709.2</pre>"
      ],
      "text/plain": [
       "recommendations finished on 6000/8157 queries. users per second: 78709.2"
      ]
     },
     "metadata": {},
     "output_type": "display_data"
    },
    {
     "data": {
      "text/html": [
       "<pre>recommendations finished on 7000/8157 queries. users per second: 78139.8</pre>"
      ],
      "text/plain": [
       "recommendations finished on 7000/8157 queries. users per second: 78139.8"
      ]
     },
     "metadata": {},
     "output_type": "display_data"
    },
    {
     "data": {
      "text/html": [
       "<pre>recommendations finished on 8000/8157 queries. users per second: 78987.4</pre>"
      ],
      "text/plain": [
       "recommendations finished on 8000/8157 queries. users per second: 78987.4"
      ]
     },
     "metadata": {},
     "output_type": "display_data"
    },
    {
     "name": "stdout",
     "output_type": "stream",
     "text": [
      "\n",
      "Precision and recall summary statistics by cutoff\n",
      "+--------+-----------------------+-----------------------+\n",
      "| cutoff |     mean_precision    |      mean_recall      |\n",
      "+--------+-----------------------+-----------------------+\n",
      "|   1    | 0.0008581586367537093 | 0.0004903763638592618 |\n",
      "|   2    | 0.0011033468186833404 |  0.001338318826365903 |\n",
      "|   3    | 0.0009807527277185253 |  0.00174083609170038  |\n",
      "|   4    | 0.0009194556822361166 | 0.0021261318061612353 |\n",
      "|   5    | 0.0012994973642270447 | 0.0038976164206028117 |\n",
      "|   6    | 0.0012872379551305618 |  0.004714910360368259 |\n",
      "|   7    | 0.0015411828578433934 |  0.006308633542910851 |\n",
      "|   8    | 0.0014558048302071845 |  0.006758145209781845 |\n",
      "|   9    |  0.001443885960252269 |  0.00755500680105314  |\n",
      "|   10   | 0.0013730538188059301 |  0.008106680210394812 |\n",
      "+--------+-----------------------+-----------------------+\n",
      "[10 rows x 3 columns]\n",
      "\n",
      "\n",
      "Overall RMSE: 1.0\n",
      "\n",
      "Per User RMSE (best)\n",
      "+------------+------+-------+\n",
      "| customerId | rmse | count |\n",
      "+------------+------+-------+\n",
      "| 236324195  | 1.0  |   3   |\n",
      "+------------+------+-------+\n",
      "[1 rows x 3 columns]\n",
      "\n",
      "\n",
      "Per User RMSE (worst)\n",
      "+------------+------+-------+\n",
      "| customerId | rmse | count |\n",
      "+------------+------+-------+\n",
      "| 545461654  | 1.0  |   1   |\n",
      "+------------+------+-------+\n",
      "[1 rows x 3 columns]\n",
      "\n",
      "\n",
      "Per Item RMSE (best)\n",
      "+-----------+------+-------+\n",
      "| productId | rmse | count |\n",
      "+-----------+------+-------+\n",
      "|  glysolid | 1.0  |   9   |\n",
      "+-----------+------+-------+\n",
      "[1 rows x 3 columns]\n",
      "\n",
      "\n",
      "Per Item RMSE (worst)\n",
      "+-----------+------+-------+\n",
      "| productId | rmse | count |\n",
      "+-----------+------+-------+\n",
      "|   sunuv   | 1.0  |   41  |\n",
      "+-----------+------+-------+\n",
      "[1 rows x 3 columns]\n",
      "\n",
      "PROGRESS: Evaluate model Jaccard Similarity on Purchase Dummy\n"
     ]
    },
    {
     "data": {
      "text/html": [
       "<pre>recommendations finished on 1000/8157 queries. users per second: 53225.5</pre>"
      ],
      "text/plain": [
       "recommendations finished on 1000/8157 queries. users per second: 53225.5"
      ]
     },
     "metadata": {},
     "output_type": "display_data"
    },
    {
     "data": {
      "text/html": [
       "<pre>recommendations finished on 2000/8157 queries. users per second: 58303.9</pre>"
      ],
      "text/plain": [
       "recommendations finished on 2000/8157 queries. users per second: 58303.9"
      ]
     },
     "metadata": {},
     "output_type": "display_data"
    },
    {
     "data": {
      "text/html": [
       "<pre>recommendations finished on 3000/8157 queries. users per second: 59057.4</pre>"
      ],
      "text/plain": [
       "recommendations finished on 3000/8157 queries. users per second: 59057.4"
      ]
     },
     "metadata": {},
     "output_type": "display_data"
    },
    {
     "data": {
      "text/html": [
       "<pre>recommendations finished on 4000/8157 queries. users per second: 61937.7</pre>"
      ],
      "text/plain": [
       "recommendations finished on 4000/8157 queries. users per second: 61937.7"
      ]
     },
     "metadata": {},
     "output_type": "display_data"
    },
    {
     "data": {
      "text/html": [
       "<pre>recommendations finished on 5000/8157 queries. users per second: 62679.4</pre>"
      ],
      "text/plain": [
       "recommendations finished on 5000/8157 queries. users per second: 62679.4"
      ]
     },
     "metadata": {},
     "output_type": "display_data"
    },
    {
     "data": {
      "text/html": [
       "<pre>recommendations finished on 6000/8157 queries. users per second: 63217.8</pre>"
      ],
      "text/plain": [
       "recommendations finished on 6000/8157 queries. users per second: 63217.8"
      ]
     },
     "metadata": {},
     "output_type": "display_data"
    },
    {
     "data": {
      "text/html": [
       "<pre>recommendations finished on 7000/8157 queries. users per second: 63799.3</pre>"
      ],
      "text/plain": [
       "recommendations finished on 7000/8157 queries. users per second: 63799.3"
      ]
     },
     "metadata": {},
     "output_type": "display_data"
    },
    {
     "data": {
      "text/html": [
       "<pre>recommendations finished on 8000/8157 queries. users per second: 63026.4</pre>"
      ],
      "text/plain": [
       "recommendations finished on 8000/8157 queries. users per second: 63026.4"
      ]
     },
     "metadata": {},
     "output_type": "display_data"
    },
    {
     "name": "stdout",
     "output_type": "stream",
     "text": [
      "\n",
      "Precision and recall summary statistics by cutoff\n",
      "+--------+---------------------+---------------------+\n",
      "| cutoff |    mean_precision   |     mean_recall     |\n",
      "+--------+---------------------+---------------------+\n",
      "|   1    | 0.34044379060929264 |  0.1982955529479981 |\n",
      "|   2    |  0.2559764619345349 |  0.2901941267700739 |\n",
      "|   3    |  0.2146622532793918 |  0.3618855457674879 |\n",
      "|   4    | 0.18775285031261504 | 0.41887224138971146 |\n",
      "|   5    | 0.16795390462179732 |  0.4659375723645673 |\n",
      "|   6    | 0.15034122021985202 |  0.4978996032232513 |\n",
      "|   7    |  0.1362720888281753 |  0.5249523245201799 |\n",
      "|   8    | 0.12516856687507655 |  0.5500965185224104 |\n",
      "|   9    |  0.1163145491942847 |  0.5734090984274868 |\n",
      "|   10   | 0.10866740223121249 |  0.5961942804991719 |\n",
      "+--------+---------------------+---------------------+\n",
      "[10 rows x 3 columns]\n",
      "\n",
      "\n",
      "Overall RMSE: 0.9149688683866506\n",
      "\n",
      "Per User RMSE (best)\n",
      "+------------+--------------------+-------+\n",
      "| customerId |        rmse        | count |\n",
      "+------------+--------------------+-------+\n",
      "| 280872198  | 0.7251798510551453 |   1   |\n",
      "+------------+--------------------+-------+\n",
      "[1 rows x 3 columns]\n",
      "\n",
      "\n",
      "Per User RMSE (worst)\n",
      "+------------+------+-------+\n",
      "| customerId | rmse | count |\n",
      "+------------+------+-------+\n",
      "| 564676105  | 1.0  |   1   |\n",
      "+------------+------+-------+\n",
      "[1 rows x 3 columns]\n",
      "\n",
      "\n",
      "Per Item RMSE (best)\n",
      "+-----------+--------------------+-------+\n",
      "| productId |        rmse        | count |\n",
      "+-----------+--------------------+-------+\n",
      "| bpw.style | 0.8459368618163089 |  802  |\n",
      "+-----------+--------------------+-------+\n",
      "[1 rows x 3 columns]\n",
      "\n",
      "\n",
      "Per Item RMSE (worst)\n",
      "+-----------+------+-------+\n",
      "| productId | rmse | count |\n",
      "+-----------+------+-------+\n",
      "| bespecial | 1.0  |   2   |\n",
      "+-----------+------+-------+\n",
      "[1 rows x 3 columns]\n",
      "\n",
      "PROGRESS: Evaluate model Popularity Model on Scaled Purchase Counts\n"
     ]
    },
    {
     "data": {
      "text/html": [
       "<pre>recommendations finished on 1000/8171 queries. users per second: 58865.1</pre>"
      ],
      "text/plain": [
       "recommendations finished on 1000/8171 queries. users per second: 58865.1"
      ]
     },
     "metadata": {},
     "output_type": "display_data"
    },
    {
     "data": {
      "text/html": [
       "<pre>recommendations finished on 2000/8171 queries. users per second: 69594.3</pre>"
      ],
      "text/plain": [
       "recommendations finished on 2000/8171 queries. users per second: 69594.3"
      ]
     },
     "metadata": {},
     "output_type": "display_data"
    },
    {
     "data": {
      "text/html": [
       "<pre>recommendations finished on 3000/8171 queries. users per second: 73245.8</pre>"
      ],
      "text/plain": [
       "recommendations finished on 3000/8171 queries. users per second: 73245.8"
      ]
     },
     "metadata": {},
     "output_type": "display_data"
    },
    {
     "data": {
      "text/html": [
       "<pre>recommendations finished on 4000/8171 queries. users per second: 76765.1</pre>"
      ],
      "text/plain": [
       "recommendations finished on 4000/8171 queries. users per second: 76765.1"
      ]
     },
     "metadata": {},
     "output_type": "display_data"
    },
    {
     "data": {
      "text/html": [
       "<pre>recommendations finished on 5000/8171 queries. users per second: 77989.7</pre>"
      ],
      "text/plain": [
       "recommendations finished on 5000/8171 queries. users per second: 77989.7"
      ]
     },
     "metadata": {},
     "output_type": "display_data"
    },
    {
     "data": {
      "text/html": [
       "<pre>recommendations finished on 6000/8171 queries. users per second: 80266.5</pre>"
      ],
      "text/plain": [
       "recommendations finished on 6000/8171 queries. users per second: 80266.5"
      ]
     },
     "metadata": {},
     "output_type": "display_data"
    },
    {
     "data": {
      "text/html": [
       "<pre>recommendations finished on 7000/8171 queries. users per second: 83048.6</pre>"
      ],
      "text/plain": [
       "recommendations finished on 7000/8171 queries. users per second: 83048.6"
      ]
     },
     "metadata": {},
     "output_type": "display_data"
    },
    {
     "data": {
      "text/html": [
       "<pre>recommendations finished on 8000/8171 queries. users per second: 81890</pre>"
      ],
      "text/plain": [
       "recommendations finished on 8000/8171 queries. users per second: 81890"
      ]
     },
     "metadata": {},
     "output_type": "display_data"
    },
    {
     "name": "stdout",
     "output_type": "stream",
     "text": [
      "\n",
      "Precision and recall summary statistics by cutoff\n",
      "+--------+------------------------+------------------------+\n",
      "| cutoff |     mean_precision     |      mean_recall       |\n",
      "+--------+------------------------+------------------------+\n",
      "|   1    | 0.00012238404112103785 | 0.00012238404112103785 |\n",
      "|   2    | 0.00012238404112103785 | 0.0002447680822420757  |\n",
      "|   3    | 0.0002039734018683964  | 0.00046913882429731185 |\n",
      "|   4    | 0.00015298005140129722 | 0.0004691388242973115  |\n",
      "|   5    | 0.0001223840411210378  | 0.0004691388242973118  |\n",
      "|   6    | 0.00010198670093419812 | 0.0004691388242973116  |\n",
      "|   7    | 0.00010490060667517525 | 0.0005303308448578312  |\n",
      "|   8    | 0.00010708603598090803 | 0.0006527148859788682  |\n",
      "|   9    | 0.00012238404112103774 | 0.0007445029168196464  |\n",
      "|   10   | 0.00011014563700893396 | 0.0007445029168196466  |\n",
      "+--------+------------------------+------------------------+\n",
      "[10 rows x 3 columns]\n",
      "\n",
      "\n",
      "Overall RMSE: 0.09443703136005296\n",
      "\n",
      "Per User RMSE (best)\n",
      "+------------+------+-------+\n",
      "| customerId | rmse | count |\n",
      "+------------+------+-------+\n",
      "| 524778697  | 0.0  |   1   |\n",
      "+------------+------+-------+\n",
      "[1 rows x 3 columns]\n",
      "\n",
      "\n",
      "Per User RMSE (worst)\n",
      "+------------+------+-------+\n",
      "| customerId | rmse | count |\n",
      "+------------+------+-------+\n",
      "| 233705922  | 1.0  |   1   |\n",
      "+------------+------+-------+\n",
      "[1 rows x 3 columns]\n",
      "\n",
      "\n",
      "Per Item RMSE (best)\n",
      "+-----------+----------------------+-------+\n",
      "| productId |         rmse         | count |\n",
      "+-----------+----------------------+-------+\n",
      "|  haruyama | 0.019550488086002574 |  210  |\n",
      "+-----------+----------------------+-------+\n",
      "[1 rows x 3 columns]\n",
      "\n",
      "\n",
      "Per Item RMSE (worst)\n",
      "+-----------+------+-------+\n",
      "| productId | rmse | count |\n",
      "+-----------+------+-------+\n",
      "|   labay   | 1.0  |   1   |\n",
      "+-----------+------+-------+\n",
      "[1 rows x 3 columns]\n",
      "\n",
      "PROGRESS: Evaluate model Cosine Similarity on Scaled Purchase Counts\n"
     ]
    },
    {
     "data": {
      "text/html": [
       "<pre>recommendations finished on 1000/8171 queries. users per second: 58058.5</pre>"
      ],
      "text/plain": [
       "recommendations finished on 1000/8171 queries. users per second: 58058.5"
      ]
     },
     "metadata": {},
     "output_type": "display_data"
    },
    {
     "data": {
      "text/html": [
       "<pre>recommendations finished on 2000/8171 queries. users per second: 59438.9</pre>"
      ],
      "text/plain": [
       "recommendations finished on 2000/8171 queries. users per second: 59438.9"
      ]
     },
     "metadata": {},
     "output_type": "display_data"
    },
    {
     "data": {
      "text/html": [
       "<pre>recommendations finished on 3000/8171 queries. users per second: 63478.6</pre>"
      ],
      "text/plain": [
       "recommendations finished on 3000/8171 queries. users per second: 63478.6"
      ]
     },
     "metadata": {},
     "output_type": "display_data"
    },
    {
     "data": {
      "text/html": [
       "<pre>recommendations finished on 4000/8171 queries. users per second: 63120.4</pre>"
      ],
      "text/plain": [
       "recommendations finished on 4000/8171 queries. users per second: 63120.4"
      ]
     },
     "metadata": {},
     "output_type": "display_data"
    },
    {
     "data": {
      "text/html": [
       "<pre>recommendations finished on 5000/8171 queries. users per second: 62714</pre>"
      ],
      "text/plain": [
       "recommendations finished on 5000/8171 queries. users per second: 62714"
      ]
     },
     "metadata": {},
     "output_type": "display_data"
    },
    {
     "data": {
      "text/html": [
       "<pre>recommendations finished on 6000/8171 queries. users per second: 62686.1</pre>"
      ],
      "text/plain": [
       "recommendations finished on 6000/8171 queries. users per second: 62686.1"
      ]
     },
     "metadata": {},
     "output_type": "display_data"
    },
    {
     "data": {
      "text/html": [
       "<pre>recommendations finished on 7000/8171 queries. users per second: 64459.7</pre>"
      ],
      "text/plain": [
       "recommendations finished on 7000/8171 queries. users per second: 64459.7"
      ]
     },
     "metadata": {},
     "output_type": "display_data"
    },
    {
     "data": {
      "text/html": [
       "<pre>recommendations finished on 8000/8171 queries. users per second: 63115.4</pre>"
      ],
      "text/plain": [
       "recommendations finished on 8000/8171 queries. users per second: 63115.4"
      ]
     },
     "metadata": {},
     "output_type": "display_data"
    },
    {
     "name": "stdout",
     "output_type": "stream",
     "text": [
      "\n",
      "Precision and recall summary statistics by cutoff\n",
      "+--------+---------------------+---------------------+\n",
      "| cutoff |    mean_precision   |     mean_recall     |\n",
      "+--------+---------------------+---------------------+\n",
      "|   1    | 0.20597234120670666 |  0.1182391073346897 |\n",
      "|   2    |  0.1655856076367641 |  0.1854557737099652 |\n",
      "|   3    | 0.14490270468730865 | 0.24376861257292026 |\n",
      "|   4    | 0.13394933300697584 | 0.29895847295798333 |\n",
      "|   5    | 0.12328968302533339 |  0.3417378630969375 |\n",
      "|   6    | 0.11371517154163102 | 0.37825075324463425 |\n",
      "|   7    | 0.10507544101963379 |  0.4077161195322993 |\n",
      "|   8    | 0.09760127279402767 |  0.4316667735098771 |\n",
      "|   9    | 0.09159765566570127 |  0.4547653528836987 |\n",
      "|   10   |  0.0864520866479012 | 0.47525535527310153 |\n",
      "+--------+---------------------+---------------------+\n",
      "[10 rows x 3 columns]\n",
      "\n",
      "\n",
      "Overall RMSE: 0.10223464451249951\n",
      "\n",
      "Per User RMSE (best)\n",
      "+------------+------+-------+\n",
      "| customerId | rmse | count |\n",
      "+------------+------+-------+\n",
      "| 478421396  | 0.0  |   1   |\n",
      "+------------+------+-------+\n",
      "[1 rows x 3 columns]\n",
      "\n",
      "\n",
      "Per User RMSE (worst)\n",
      "+------------+------+-------+\n",
      "| customerId | rmse | count |\n",
      "+------------+------+-------+\n",
      "| 458093728  | 1.0  |   1   |\n",
      "+------------+------+-------+\n",
      "[1 rows x 3 columns]\n",
      "\n",
      "\n",
      "Per Item RMSE (best)\n",
      "+-----------+------+-------+\n",
      "| productId | rmse | count |\n",
      "+-----------+------+-------+\n",
      "| profhenna | 0.0  |   5   |\n",
      "+-----------+------+-------+\n",
      "[1 rows x 3 columns]\n",
      "\n",
      "\n",
      "Per Item RMSE (worst)\n",
      "+-----------+------+-------+\n",
      "| productId | rmse | count |\n",
      "+-----------+------+-------+\n",
      "|  ecocraft | 1.0  |   1   |\n",
      "+-----------+------+-------+\n",
      "[1 rows x 3 columns]\n",
      "\n",
      "PROGRESS: Evaluate model Pearson Similarity on Scaled Purchase Counts\n"
     ]
    },
    {
     "data": {
      "text/html": [
       "<pre>recommendations finished on 1000/8171 queries. users per second: 49304.8</pre>"
      ],
      "text/plain": [
       "recommendations finished on 1000/8171 queries. users per second: 49304.8"
      ]
     },
     "metadata": {},
     "output_type": "display_data"
    },
    {
     "data": {
      "text/html": [
       "<pre>recommendations finished on 2000/8171 queries. users per second: 58164.9</pre>"
      ],
      "text/plain": [
       "recommendations finished on 2000/8171 queries. users per second: 58164.9"
      ]
     },
     "metadata": {},
     "output_type": "display_data"
    },
    {
     "data": {
      "text/html": [
       "<pre>recommendations finished on 3000/8171 queries. users per second: 63017.3</pre>"
      ],
      "text/plain": [
       "recommendations finished on 3000/8171 queries. users per second: 63017.3"
      ]
     },
     "metadata": {},
     "output_type": "display_data"
    },
    {
     "data": {
      "text/html": [
       "<pre>recommendations finished on 4000/8171 queries. users per second: 64407.1</pre>"
      ],
      "text/plain": [
       "recommendations finished on 4000/8171 queries. users per second: 64407.1"
      ]
     },
     "metadata": {},
     "output_type": "display_data"
    },
    {
     "data": {
      "text/html": [
       "<pre>recommendations finished on 5000/8171 queries. users per second: 65129.6</pre>"
      ],
      "text/plain": [
       "recommendations finished on 5000/8171 queries. users per second: 65129.6"
      ]
     },
     "metadata": {},
     "output_type": "display_data"
    },
    {
     "data": {
      "text/html": [
       "<pre>recommendations finished on 6000/8171 queries. users per second: 64927.3</pre>"
      ],
      "text/plain": [
       "recommendations finished on 6000/8171 queries. users per second: 64927.3"
      ]
     },
     "metadata": {},
     "output_type": "display_data"
    },
    {
     "data": {
      "text/html": [
       "<pre>recommendations finished on 7000/8171 queries. users per second: 65600.8</pre>"
      ],
      "text/plain": [
       "recommendations finished on 7000/8171 queries. users per second: 65600.8"
      ]
     },
     "metadata": {},
     "output_type": "display_data"
    },
    {
     "data": {
      "text/html": [
       "<pre>recommendations finished on 8000/8171 queries. users per second: 63742.5</pre>"
      ],
      "text/plain": [
       "recommendations finished on 8000/8171 queries. users per second: 63742.5"
      ]
     },
     "metadata": {},
     "output_type": "display_data"
    },
    {
     "name": "stdout",
     "output_type": "stream",
     "text": [
      "\n",
      "Precision and recall summary statistics by cutoff\n",
      "+--------+------------------------+------------------------+\n",
      "| cutoff |     mean_precision     |      mean_recall       |\n",
      "+--------+------------------------+------------------------+\n",
      "|   1    | 0.00012238404112103785 | 0.00012238404112103785 |\n",
      "|   2    | 0.00018357606168155677 |  0.000285562762615755  |\n",
      "|   3    | 0.0002039734018683963  | 0.00046913882429731196 |\n",
      "|   4    | 0.0001529800514012972  | 0.00046913882429731147 |\n",
      "|   5    | 0.00012238404112103788 | 0.00046913882429731207 |\n",
      "|   6    | 0.00010198670093419823 | 0.00046913882429731196 |\n",
      "|   7    | 0.00010490060667517536 | 0.0005303308448578307  |\n",
      "|   8    | 0.0001070860359809078  | 0.0006527148859788683  |\n",
      "|   9    | 0.0001223840411210378  | 0.0007445029168196465  |\n",
      "|   10   | 0.00012238404112103788 | 0.0007750989270999064  |\n",
      "+--------+------------------------+------------------------+\n",
      "[10 rows x 3 columns]\n",
      "\n",
      "\n",
      "Overall RMSE: 0.0942172711743491\n",
      "\n",
      "Per User RMSE (best)\n",
      "+------------+------------------------+-------+\n",
      "| customerId |          rmse          | count |\n",
      "+------------+------------------------+-------+\n",
      "| 579079865  | 4.4752065219387516e-06 |   1   |\n",
      "+------------+------------------------+-------+\n",
      "[1 rows x 3 columns]\n",
      "\n",
      "\n",
      "Per User RMSE (worst)\n",
      "+------------+------+-------+\n",
      "| customerId | rmse | count |\n",
      "+------------+------+-------+\n",
      "| 233705922  | 1.0  |   1   |\n",
      "+------------+------+-------+\n",
      "[1 rows x 3 columns]\n",
      "\n",
      "\n",
      "Per Item RMSE (best)\n",
      "+-----------+----------------------+-------+\n",
      "| productId |         rmse         | count |\n",
      "+-----------+----------------------+-------+\n",
      "|  haruyama | 0.019480440032426296 |  210  |\n",
      "+-----------+----------------------+-------+\n",
      "[1 rows x 3 columns]\n",
      "\n",
      "\n",
      "Per Item RMSE (worst)\n",
      "+-----------+------+-------+\n",
      "| productId | rmse | count |\n",
      "+-----------+------+-------+\n",
      "|   labay   | 1.0  |   1   |\n",
      "+-----------+------+-------+\n",
      "[1 rows x 3 columns]\n",
      "\n",
      "PROGRESS: Evaluate model Jaccard Similarity on Scaled Purchase Counts\n"
     ]
    },
    {
     "data": {
      "text/html": [
       "<pre>recommendations finished on 1000/8171 queries. users per second: 53036.3</pre>"
      ],
      "text/plain": [
       "recommendations finished on 1000/8171 queries. users per second: 53036.3"
      ]
     },
     "metadata": {},
     "output_type": "display_data"
    },
    {
     "data": {
      "text/html": [
       "<pre>recommendations finished on 2000/8171 queries. users per second: 58288.6</pre>"
      ],
      "text/plain": [
       "recommendations finished on 2000/8171 queries. users per second: 58288.6"
      ]
     },
     "metadata": {},
     "output_type": "display_data"
    },
    {
     "data": {
      "text/html": [
       "<pre>recommendations finished on 3000/8171 queries. users per second: 56152.4</pre>"
      ],
      "text/plain": [
       "recommendations finished on 3000/8171 queries. users per second: 56152.4"
      ]
     },
     "metadata": {},
     "output_type": "display_data"
    },
    {
     "data": {
      "text/html": [
       "<pre>recommendations finished on 4000/8171 queries. users per second: 60201.1</pre>"
      ],
      "text/plain": [
       "recommendations finished on 4000/8171 queries. users per second: 60201.1"
      ]
     },
     "metadata": {},
     "output_type": "display_data"
    },
    {
     "data": {
      "text/html": [
       "<pre>recommendations finished on 5000/8171 queries. users per second: 60743</pre>"
      ],
      "text/plain": [
       "recommendations finished on 5000/8171 queries. users per second: 60743"
      ]
     },
     "metadata": {},
     "output_type": "display_data"
    },
    {
     "data": {
      "text/html": [
       "<pre>recommendations finished on 6000/8171 queries. users per second: 61970</pre>"
      ],
      "text/plain": [
       "recommendations finished on 6000/8171 queries. users per second: 61970"
      ]
     },
     "metadata": {},
     "output_type": "display_data"
    },
    {
     "data": {
      "text/html": [
       "<pre>recommendations finished on 7000/8171 queries. users per second: 62279.8</pre>"
      ],
      "text/plain": [
       "recommendations finished on 7000/8171 queries. users per second: 62279.8"
      ]
     },
     "metadata": {},
     "output_type": "display_data"
    },
    {
     "data": {
      "text/html": [
       "<pre>recommendations finished on 8000/8171 queries. users per second: 62559.1</pre>"
      ],
      "text/plain": [
       "recommendations finished on 8000/8171 queries. users per second: 62559.1"
      ]
     },
     "metadata": {},
     "output_type": "display_data"
    },
    {
     "name": "stdout",
     "output_type": "stream",
     "text": [
      "\n",
      "Precision and recall summary statistics by cutoff\n",
      "+--------+---------------------+---------------------+\n",
      "| cutoff |    mean_precision   |     mean_recall     |\n",
      "+--------+---------------------+---------------------+\n",
      "|   1    |  0.2746297882756089 | 0.15847426924100533 |\n",
      "|   2    | 0.21539591237302655 | 0.24380076266626236 |\n",
      "|   3    | 0.18153632766287275 | 0.30470979441423685 |\n",
      "|   4    |  0.1595275976012729 |  0.3547669555318552 |\n",
      "|   5    | 0.14022763431648524 | 0.38680530058880375 |\n",
      "|   6    |  0.1274017868070004 | 0.41864001219955155 |\n",
      "|   7    | 0.11619490532720231 | 0.44418729226280346 |\n",
      "|   8    | 0.10691775792436667 | 0.46704285189782635 |\n",
      "|   9    | 0.09963420769931608 | 0.48943087535671087 |\n",
      "|   10   | 0.09336678497123987 |  0.5087666796821121 |\n",
      "+--------+---------------------+---------------------+\n",
      "[10 rows x 3 columns]\n",
      "\n",
      "\n",
      "Overall RMSE: 0.10190272227802054\n",
      "\n",
      "Per User RMSE (best)\n",
      "+------------+------+-------+\n",
      "| customerId | rmse | count |\n",
      "+------------+------+-------+\n",
      "| 478421396  | 0.0  |   1   |\n",
      "+------------+------+-------+\n",
      "[1 rows x 3 columns]\n",
      "\n",
      "\n",
      "Per User RMSE (worst)\n",
      "+------------+------+-------+\n",
      "| customerId | rmse | count |\n",
      "+------------+------+-------+\n",
      "| 458093728  | 1.0  |   1   |\n",
      "+------------+------+-------+\n",
      "[1 rows x 3 columns]\n",
      "\n",
      "\n",
      "Per Item RMSE (best)\n",
      "+-----------+------+-------+\n",
      "| productId | rmse | count |\n",
      "+-----------+------+-------+\n",
      "| profhenna | 0.0  |   5   |\n",
      "+-----------+------+-------+\n",
      "[1 rows x 3 columns]\n",
      "\n",
      "\n",
      "Per Item RMSE (worst)\n",
      "+-----------+------+-------+\n",
      "| productId | rmse | count |\n",
      "+-----------+------+-------+\n",
      "|  ecocraft | 1.0  |   1   |\n",
      "+-----------+------+-------+\n",
      "[1 rows x 3 columns]\n",
      "\n"
     ]
    }
   ],
   "source": [
    "eval_counts = tc.recommender.util.compare_models(test_data, models_w_counts, model_names=names_w_counts)\n",
    "eval_dummy = tc.recommender.util.compare_models(test_data_dummy, models_w_dummy, model_names=names_w_dummy)\n",
    "eval_norm = tc.recommender.util.compare_models(test_data_norm, models_w_norm, model_names=names_w_norm)"
   ]
  },
  {
   "cell_type": "code",
   "execution_count": null,
   "metadata": {},
   "outputs": [],
   "source": [
    "eval_counts"
   ]
  },
  {
   "cell_type": "code",
   "execution_count": 46,
   "metadata": {},
   "outputs": [
    {
     "data": {
      "text/html": [
       "<pre>Warning: Ignoring columns purchase_count;</pre>"
      ],
      "text/plain": [
       "Warning: Ignoring columns purchase_count;"
      ]
     },
     "metadata": {},
     "output_type": "display_data"
    },
    {
     "data": {
      "text/html": [
       "<pre>    To use these columns in scoring predictions, use a model that allows the use of additional features.</pre>"
      ],
      "text/plain": [
       "    To use these columns in scoring predictions, use a model that allows the use of additional features."
      ]
     },
     "metadata": {},
     "output_type": "display_data"
    },
    {
     "data": {
      "text/html": [
       "<pre>Preparing data set.</pre>"
      ],
      "text/plain": [
       "Preparing data set."
      ]
     },
     "metadata": {},
     "output_type": "display_data"
    },
    {
     "data": {
      "text/html": [
       "<pre>    Data has 75792 observations with 10609 users and 213 items.</pre>"
      ],
      "text/plain": [
       "    Data has 75792 observations with 10609 users and 213 items."
      ]
     },
     "metadata": {},
     "output_type": "display_data"
    },
    {
     "data": {
      "text/html": [
       "<pre>    Data prepared in: 0.158766s</pre>"
      ],
      "text/plain": [
       "    Data prepared in: 0.158766s"
      ]
     },
     "metadata": {},
     "output_type": "display_data"
    },
    {
     "data": {
      "text/html": [
       "<pre>Training model from provided data.</pre>"
      ],
      "text/plain": [
       "Training model from provided data."
      ]
     },
     "metadata": {},
     "output_type": "display_data"
    },
    {
     "data": {
      "text/html": [
       "<pre>Gathering per-item and per-user statistics.</pre>"
      ],
      "text/plain": [
       "Gathering per-item and per-user statistics."
      ]
     },
     "metadata": {},
     "output_type": "display_data"
    },
    {
     "data": {
      "text/html": [
       "<pre>+--------------------------------+------------+</pre>"
      ],
      "text/plain": [
       "+--------------------------------+------------+"
      ]
     },
     "metadata": {},
     "output_type": "display_data"
    },
    {
     "data": {
      "text/html": [
       "<pre>| Elapsed Time (Item Statistics) | % Complete |</pre>"
      ],
      "text/plain": [
       "| Elapsed Time (Item Statistics) | % Complete |"
      ]
     },
     "metadata": {},
     "output_type": "display_data"
    },
    {
     "data": {
      "text/html": [
       "<pre>+--------------------------------+------------+</pre>"
      ],
      "text/plain": [
       "+--------------------------------+------------+"
      ]
     },
     "metadata": {},
     "output_type": "display_data"
    },
    {
     "data": {
      "text/html": [
       "<pre>| 1.221ms                        | 9.25       |</pre>"
      ],
      "text/plain": [
       "| 1.221ms                        | 9.25       |"
      ]
     },
     "metadata": {},
     "output_type": "display_data"
    },
    {
     "data": {
      "text/html": [
       "<pre>| 3.851ms                        | 100        |</pre>"
      ],
      "text/plain": [
       "| 3.851ms                        | 100        |"
      ]
     },
     "metadata": {},
     "output_type": "display_data"
    },
    {
     "data": {
      "text/html": [
       "<pre>+--------------------------------+------------+</pre>"
      ],
      "text/plain": [
       "+--------------------------------+------------+"
      ]
     },
     "metadata": {},
     "output_type": "display_data"
    },
    {
     "data": {
      "text/html": [
       "<pre>Setting up lookup tables.</pre>"
      ],
      "text/plain": [
       "Setting up lookup tables."
      ]
     },
     "metadata": {},
     "output_type": "display_data"
    },
    {
     "data": {
      "text/html": [
       "<pre>Processing data in one pass using dense lookup tables.</pre>"
      ],
      "text/plain": [
       "Processing data in one pass using dense lookup tables."
      ]
     },
     "metadata": {},
     "output_type": "display_data"
    },
    {
     "data": {
      "text/html": [
       "<pre>+-------------------------------------+------------------+-----------------+</pre>"
      ],
      "text/plain": [
       "+-------------------------------------+------------------+-----------------+"
      ]
     },
     "metadata": {},
     "output_type": "display_data"
    },
    {
     "data": {
      "text/html": [
       "<pre>| Elapsed Time (Constructing Lookups) | Total % Complete | Items Processed |</pre>"
      ],
      "text/plain": [
       "| Elapsed Time (Constructing Lookups) | Total % Complete | Items Processed |"
      ]
     },
     "metadata": {},
     "output_type": "display_data"
    },
    {
     "data": {
      "text/html": [
       "<pre>+-------------------------------------+------------------+-----------------+</pre>"
      ],
      "text/plain": [
       "+-------------------------------------+------------------+-----------------+"
      ]
     },
     "metadata": {},
     "output_type": "display_data"
    },
    {
     "data": {
      "text/html": [
       "<pre>| 5.366ms                             | 0                | 0               |</pre>"
      ],
      "text/plain": [
       "| 5.366ms                             | 0                | 0               |"
      ]
     },
     "metadata": {},
     "output_type": "display_data"
    },
    {
     "data": {
      "text/html": [
       "<pre>| 15.273ms                            | 100              | 213             |</pre>"
      ],
      "text/plain": [
       "| 15.273ms                            | 100              | 213             |"
      ]
     },
     "metadata": {},
     "output_type": "display_data"
    },
    {
     "data": {
      "text/html": [
       "<pre>+-------------------------------------+------------------+-----------------+</pre>"
      ],
      "text/plain": [
       "+-------------------------------------+------------------+-----------------+"
      ]
     },
     "metadata": {},
     "output_type": "display_data"
    },
    {
     "data": {
      "text/html": [
       "<pre>Finalizing lookup tables.</pre>"
      ],
      "text/plain": [
       "Finalizing lookup tables."
      ]
     },
     "metadata": {},
     "output_type": "display_data"
    },
    {
     "data": {
      "text/html": [
       "<pre>Generating candidate set for working with new users.</pre>"
      ],
      "text/plain": [
       "Generating candidate set for working with new users."
      ]
     },
     "metadata": {},
     "output_type": "display_data"
    },
    {
     "data": {
      "text/html": [
       "<pre>Finished training in 0.024521s</pre>"
      ],
      "text/plain": [
       "Finished training in 0.024521s"
      ]
     },
     "metadata": {},
     "output_type": "display_data"
    },
    {
     "data": {
      "text/html": [
       "<pre>recommendations finished on 1000/75792 queries. users per second: 52664.8</pre>"
      ],
      "text/plain": [
       "recommendations finished on 1000/75792 queries. users per second: 52664.8"
      ]
     },
     "metadata": {},
     "output_type": "display_data"
    },
    {
     "data": {
      "text/html": [
       "<pre>recommendations finished on 2000/75792 queries. users per second: 61990.5</pre>"
      ],
      "text/plain": [
       "recommendations finished on 2000/75792 queries. users per second: 61990.5"
      ]
     },
     "metadata": {},
     "output_type": "display_data"
    },
    {
     "data": {
      "text/html": [
       "<pre>recommendations finished on 3000/75792 queries. users per second: 77093.1</pre>"
      ],
      "text/plain": [
       "recommendations finished on 3000/75792 queries. users per second: 77093.1"
      ]
     },
     "metadata": {},
     "output_type": "display_data"
    },
    {
     "data": {
      "text/html": [
       "<pre>recommendations finished on 4000/75792 queries. users per second: 85895.9</pre>"
      ],
      "text/plain": [
       "recommendations finished on 4000/75792 queries. users per second: 85895.9"
      ]
     },
     "metadata": {},
     "output_type": "display_data"
    },
    {
     "data": {
      "text/html": [
       "<pre>recommendations finished on 5000/75792 queries. users per second: 95133</pre>"
      ],
      "text/plain": [
       "recommendations finished on 5000/75792 queries. users per second: 95133"
      ]
     },
     "metadata": {},
     "output_type": "display_data"
    },
    {
     "data": {
      "text/html": [
       "<pre>recommendations finished on 6000/75792 queries. users per second: 102126</pre>"
      ],
      "text/plain": [
       "recommendations finished on 6000/75792 queries. users per second: 102126"
      ]
     },
     "metadata": {},
     "output_type": "display_data"
    },
    {
     "data": {
      "text/html": [
       "<pre>recommendations finished on 7000/75792 queries. users per second: 108785</pre>"
      ],
      "text/plain": [
       "recommendations finished on 7000/75792 queries. users per second: 108785"
      ]
     },
     "metadata": {},
     "output_type": "display_data"
    },
    {
     "data": {
      "text/html": [
       "<pre>recommendations finished on 8000/75792 queries. users per second: 112467</pre>"
      ],
      "text/plain": [
       "recommendations finished on 8000/75792 queries. users per second: 112467"
      ]
     },
     "metadata": {},
     "output_type": "display_data"
    },
    {
     "data": {
      "text/html": [
       "<pre>recommendations finished on 9000/75792 queries. users per second: 116116</pre>"
      ],
      "text/plain": [
       "recommendations finished on 9000/75792 queries. users per second: 116116"
      ]
     },
     "metadata": {},
     "output_type": "display_data"
    },
    {
     "data": {
      "text/html": [
       "<pre>recommendations finished on 10000/75792 queries. users per second: 117998</pre>"
      ],
      "text/plain": [
       "recommendations finished on 10000/75792 queries. users per second: 117998"
      ]
     },
     "metadata": {},
     "output_type": "display_data"
    },
    {
     "data": {
      "text/html": [
       "<pre>recommendations finished on 11000/75792 queries. users per second: 118775</pre>"
      ],
      "text/plain": [
       "recommendations finished on 11000/75792 queries. users per second: 118775"
      ]
     },
     "metadata": {},
     "output_type": "display_data"
    },
    {
     "data": {
      "text/html": [
       "<pre>recommendations finished on 12000/75792 queries. users per second: 120160</pre>"
      ],
      "text/plain": [
       "recommendations finished on 12000/75792 queries. users per second: 120160"
      ]
     },
     "metadata": {},
     "output_type": "display_data"
    },
    {
     "data": {
      "text/html": [
       "<pre>recommendations finished on 13000/75792 queries. users per second: 123522</pre>"
      ],
      "text/plain": [
       "recommendations finished on 13000/75792 queries. users per second: 123522"
      ]
     },
     "metadata": {},
     "output_type": "display_data"
    },
    {
     "data": {
      "text/html": [
       "<pre>recommendations finished on 14000/75792 queries. users per second: 121142</pre>"
      ],
      "text/plain": [
       "recommendations finished on 14000/75792 queries. users per second: 121142"
      ]
     },
     "metadata": {},
     "output_type": "display_data"
    },
    {
     "data": {
      "text/html": [
       "<pre>recommendations finished on 15000/75792 queries. users per second: 118791</pre>"
      ],
      "text/plain": [
       "recommendations finished on 15000/75792 queries. users per second: 118791"
      ]
     },
     "metadata": {},
     "output_type": "display_data"
    },
    {
     "data": {
      "text/html": [
       "<pre>recommendations finished on 16000/75792 queries. users per second: 119543</pre>"
      ],
      "text/plain": [
       "recommendations finished on 16000/75792 queries. users per second: 119543"
      ]
     },
     "metadata": {},
     "output_type": "display_data"
    },
    {
     "data": {
      "text/html": [
       "<pre>recommendations finished on 17000/75792 queries. users per second: 120502</pre>"
      ],
      "text/plain": [
       "recommendations finished on 17000/75792 queries. users per second: 120502"
      ]
     },
     "metadata": {},
     "output_type": "display_data"
    },
    {
     "data": {
      "text/html": [
       "<pre>recommendations finished on 18000/75792 queries. users per second: 122032</pre>"
      ],
      "text/plain": [
       "recommendations finished on 18000/75792 queries. users per second: 122032"
      ]
     },
     "metadata": {},
     "output_type": "display_data"
    },
    {
     "data": {
      "text/html": [
       "<pre>recommendations finished on 19000/75792 queries. users per second: 124577</pre>"
      ],
      "text/plain": [
       "recommendations finished on 19000/75792 queries. users per second: 124577"
      ]
     },
     "metadata": {},
     "output_type": "display_data"
    },
    {
     "data": {
      "text/html": [
       "<pre>recommendations finished on 20000/75792 queries. users per second: 124806</pre>"
      ],
      "text/plain": [
       "recommendations finished on 20000/75792 queries. users per second: 124806"
      ]
     },
     "metadata": {},
     "output_type": "display_data"
    },
    {
     "name": "stdout",
     "output_type": "stream",
     "text": [
      "+------------+-----------+---------------------+------+\n",
      "| customerId | productId |        score        | rank |\n",
      "+------------+-----------+---------------------+------+\n",
      "| 105697630  |  ingarden |  0.2608681619167328 |  1   |\n",
      "| 105697630  |  grattol  |  0.2507947444915771 |  2   |\n",
      "| 105697630  | freedecor |  0.2367006242275238 |  3   |\n",
      "| 105697630  |   domix   | 0.20659009218215943 |  4   |\n",
      "| 105697630  |    milv   |  0.2047964811325073 |  5   |\n",
      "| 105697630  |    uno    |  0.1964915633201599 |  6   |\n",
      "| 105697630  |  severina | 0.17321430444717406 |  7   |\n",
      "| 105697630  |   zinger  | 0.15881983041763306 |  8   |\n",
      "| 105697630  |  jessnail | 0.14715051651000977 |  9   |\n",
      "| 105697630  |    yoko   | 0.14709696769714356 |  10  |\n",
      "| 126051562  | bpw.style | 0.32805266976356506 |  1   |\n",
      "| 126051562  |   masura  | 0.24917551279067993 |  2   |\n",
      "| 126051562  | freedecor |  0.2325199544429779 |  3   |\n",
      "| 126051562  |   domix   |  0.2261669874191284 |  4   |\n",
      "| 126051562  |    milv   | 0.22544825673103333 |  5   |\n",
      "| 126051562  |  severina | 0.18755630254745484 |  6   |\n",
      "| 126051562  |   zinger  | 0.17464381456375122 |  7   |\n",
      "| 126051562  |  jessnail | 0.16556017994880676 |  8   |\n",
      "| 126051562  |  haruyama | 0.16522002816200257 |  9   |\n",
      "| 126051562  |    pole   | 0.16389148831367492 |  10  |\n",
      "| 149936015  |   runail  | 0.29223649501800536 |  1   |\n",
      "| 149936015  |   irisk   |  0.2785850644111633 |  2   |\n",
      "| 149936015  | bpw.style |  0.2537562966346741 |  3   |\n",
      "| 149936015  |    uno    | 0.19780610799789428 |  4   |\n",
      "| 149936015  | freedecor |  0.191484534740448  |  5   |\n",
      "| 149936015  |   masura  | 0.17985566854476928 |  6   |\n",
      "| 149936015  |   domix   | 0.16747530698776245 |  7   |\n",
      "| 149936015  |    milv   | 0.16387779712677003 |  8   |\n",
      "| 149936015  |   de.lux  |  0.1609346389770508 |  9   |\n",
      "| 149936015  |  lianail  | 0.14767242670059205 |  10  |\n",
      "+------------+-----------+---------------------+------+\n",
      "[757920 rows x 4 columns]\n",
      "\n"
     ]
    },
    {
     "data": {
      "text/html": [
       "<pre>recommendations finished on 21000/75792 queries. users per second: 126185</pre>"
      ],
      "text/plain": [
       "recommendations finished on 21000/75792 queries. users per second: 126185"
      ]
     },
     "metadata": {},
     "output_type": "display_data"
    },
    {
     "data": {
      "text/html": [
       "<pre>recommendations finished on 22000/75792 queries. users per second: 128240</pre>"
      ],
      "text/plain": [
       "recommendations finished on 22000/75792 queries. users per second: 128240"
      ]
     },
     "metadata": {},
     "output_type": "display_data"
    },
    {
     "data": {
      "text/html": [
       "<pre>recommendations finished on 23000/75792 queries. users per second: 126808</pre>"
      ],
      "text/plain": [
       "recommendations finished on 23000/75792 queries. users per second: 126808"
      ]
     },
     "metadata": {},
     "output_type": "display_data"
    },
    {
     "data": {
      "text/html": [
       "<pre>recommendations finished on 24000/75792 queries. users per second: 126664</pre>"
      ],
      "text/plain": [
       "recommendations finished on 24000/75792 queries. users per second: 126664"
      ]
     },
     "metadata": {},
     "output_type": "display_data"
    },
    {
     "data": {
      "text/html": [
       "<pre>recommendations finished on 25000/75792 queries. users per second: 127677</pre>"
      ],
      "text/plain": [
       "recommendations finished on 25000/75792 queries. users per second: 127677"
      ]
     },
     "metadata": {},
     "output_type": "display_data"
    },
    {
     "data": {
      "text/html": [
       "<pre>recommendations finished on 26000/75792 queries. users per second: 128716</pre>"
      ],
      "text/plain": [
       "recommendations finished on 26000/75792 queries. users per second: 128716"
      ]
     },
     "metadata": {},
     "output_type": "display_data"
    },
    {
     "data": {
      "text/html": [
       "<pre>recommendations finished on 27000/75792 queries. users per second: 128339</pre>"
      ],
      "text/plain": [
       "recommendations finished on 27000/75792 queries. users per second: 128339"
      ]
     },
     "metadata": {},
     "output_type": "display_data"
    },
    {
     "data": {
      "text/html": [
       "<pre>recommendations finished on 28000/75792 queries. users per second: 129324</pre>"
      ],
      "text/plain": [
       "recommendations finished on 28000/75792 queries. users per second: 129324"
      ]
     },
     "metadata": {},
     "output_type": "display_data"
    },
    {
     "data": {
      "text/html": [
       "<pre>recommendations finished on 29000/75792 queries. users per second: 126522</pre>"
      ],
      "text/plain": [
       "recommendations finished on 29000/75792 queries. users per second: 126522"
      ]
     },
     "metadata": {},
     "output_type": "display_data"
    },
    {
     "data": {
      "text/html": [
       "<pre>recommendations finished on 30000/75792 queries. users per second: 119519</pre>"
      ],
      "text/plain": [
       "recommendations finished on 30000/75792 queries. users per second: 119519"
      ]
     },
     "metadata": {},
     "output_type": "display_data"
    },
    {
     "data": {
      "text/html": [
       "<pre>recommendations finished on 31000/75792 queries. users per second: 120891</pre>"
      ],
      "text/plain": [
       "recommendations finished on 31000/75792 queries. users per second: 120891"
      ]
     },
     "metadata": {},
     "output_type": "display_data"
    },
    {
     "data": {
      "text/html": [
       "<pre>recommendations finished on 32000/75792 queries. users per second: 121327</pre>"
      ],
      "text/plain": [
       "recommendations finished on 32000/75792 queries. users per second: 121327"
      ]
     },
     "metadata": {},
     "output_type": "display_data"
    },
    {
     "data": {
      "text/html": [
       "<pre>recommendations finished on 33000/75792 queries. users per second: 122241</pre>"
      ],
      "text/plain": [
       "recommendations finished on 33000/75792 queries. users per second: 122241"
      ]
     },
     "metadata": {},
     "output_type": "display_data"
    },
    {
     "data": {
      "text/html": [
       "<pre>recommendations finished on 34000/75792 queries. users per second: 121321</pre>"
      ],
      "text/plain": [
       "recommendations finished on 34000/75792 queries. users per second: 121321"
      ]
     },
     "metadata": {},
     "output_type": "display_data"
    },
    {
     "data": {
      "text/html": [
       "<pre>recommendations finished on 35000/75792 queries. users per second: 121920</pre>"
      ],
      "text/plain": [
       "recommendations finished on 35000/75792 queries. users per second: 121920"
      ]
     },
     "metadata": {},
     "output_type": "display_data"
    },
    {
     "data": {
      "text/html": [
       "<pre>recommendations finished on 36000/75792 queries. users per second: 122059</pre>"
      ],
      "text/plain": [
       "recommendations finished on 36000/75792 queries. users per second: 122059"
      ]
     },
     "metadata": {},
     "output_type": "display_data"
    },
    {
     "data": {
      "text/html": [
       "<pre>recommendations finished on 37000/75792 queries. users per second: 122694</pre>"
      ],
      "text/plain": [
       "recommendations finished on 37000/75792 queries. users per second: 122694"
      ]
     },
     "metadata": {},
     "output_type": "display_data"
    },
    {
     "data": {
      "text/html": [
       "<pre>recommendations finished on 38000/75792 queries. users per second: 123497</pre>"
      ],
      "text/plain": [
       "recommendations finished on 38000/75792 queries. users per second: 123497"
      ]
     },
     "metadata": {},
     "output_type": "display_data"
    },
    {
     "data": {
      "text/html": [
       "<pre>recommendations finished on 39000/75792 queries. users per second: 123985</pre>"
      ],
      "text/plain": [
       "recommendations finished on 39000/75792 queries. users per second: 123985"
      ]
     },
     "metadata": {},
     "output_type": "display_data"
    },
    {
     "data": {
      "text/html": [
       "<pre>recommendations finished on 40000/75792 queries. users per second: 123912</pre>"
      ],
      "text/plain": [
       "recommendations finished on 40000/75792 queries. users per second: 123912"
      ]
     },
     "metadata": {},
     "output_type": "display_data"
    },
    {
     "data": {
      "text/html": [
       "<pre>recommendations finished on 41000/75792 queries. users per second: 124148</pre>"
      ],
      "text/plain": [
       "recommendations finished on 41000/75792 queries. users per second: 124148"
      ]
     },
     "metadata": {},
     "output_type": "display_data"
    },
    {
     "data": {
      "text/html": [
       "<pre>recommendations finished on 42000/75792 queries. users per second: 124283</pre>"
      ],
      "text/plain": [
       "recommendations finished on 42000/75792 queries. users per second: 124283"
      ]
     },
     "metadata": {},
     "output_type": "display_data"
    },
    {
     "data": {
      "text/html": [
       "<pre>recommendations finished on 43000/75792 queries. users per second: 124423</pre>"
      ],
      "text/plain": [
       "recommendations finished on 43000/75792 queries. users per second: 124423"
      ]
     },
     "metadata": {},
     "output_type": "display_data"
    },
    {
     "data": {
      "text/html": [
       "<pre>recommendations finished on 44000/75792 queries. users per second: 125106</pre>"
      ],
      "text/plain": [
       "recommendations finished on 44000/75792 queries. users per second: 125106"
      ]
     },
     "metadata": {},
     "output_type": "display_data"
    },
    {
     "data": {
      "text/html": [
       "<pre>recommendations finished on 45000/75792 queries. users per second: 125518</pre>"
      ],
      "text/plain": [
       "recommendations finished on 45000/75792 queries. users per second: 125518"
      ]
     },
     "metadata": {},
     "output_type": "display_data"
    },
    {
     "data": {
      "text/html": [
       "<pre>recommendations finished on 46000/75792 queries. users per second: 126391</pre>"
      ],
      "text/plain": [
       "recommendations finished on 46000/75792 queries. users per second: 126391"
      ]
     },
     "metadata": {},
     "output_type": "display_data"
    },
    {
     "data": {
      "text/html": [
       "<pre>recommendations finished on 47000/75792 queries. users per second: 125920</pre>"
      ],
      "text/plain": [
       "recommendations finished on 47000/75792 queries. users per second: 125920"
      ]
     },
     "metadata": {},
     "output_type": "display_data"
    },
    {
     "data": {
      "text/html": [
       "<pre>recommendations finished on 48000/75792 queries. users per second: 125872</pre>"
      ],
      "text/plain": [
       "recommendations finished on 48000/75792 queries. users per second: 125872"
      ]
     },
     "metadata": {},
     "output_type": "display_data"
    },
    {
     "data": {
      "text/html": [
       "<pre>recommendations finished on 49000/75792 queries. users per second: 126098</pre>"
      ],
      "text/plain": [
       "recommendations finished on 49000/75792 queries. users per second: 126098"
      ]
     },
     "metadata": {},
     "output_type": "display_data"
    },
    {
     "data": {
      "text/html": [
       "<pre>recommendations finished on 50000/75792 queries. users per second: 126688</pre>"
      ],
      "text/plain": [
       "recommendations finished on 50000/75792 queries. users per second: 126688"
      ]
     },
     "metadata": {},
     "output_type": "display_data"
    },
    {
     "data": {
      "text/html": [
       "<pre>recommendations finished on 51000/75792 queries. users per second: 127214</pre>"
      ],
      "text/plain": [
       "recommendations finished on 51000/75792 queries. users per second: 127214"
      ]
     },
     "metadata": {},
     "output_type": "display_data"
    },
    {
     "data": {
      "text/html": [
       "<pre>recommendations finished on 52000/75792 queries. users per second: 127694</pre>"
      ],
      "text/plain": [
       "recommendations finished on 52000/75792 queries. users per second: 127694"
      ]
     },
     "metadata": {},
     "output_type": "display_data"
    },
    {
     "data": {
      "text/html": [
       "<pre>recommendations finished on 53000/75792 queries. users per second: 126890</pre>"
      ],
      "text/plain": [
       "recommendations finished on 53000/75792 queries. users per second: 126890"
      ]
     },
     "metadata": {},
     "output_type": "display_data"
    },
    {
     "data": {
      "text/html": [
       "<pre>recommendations finished on 54000/75792 queries. users per second: 127004</pre>"
      ],
      "text/plain": [
       "recommendations finished on 54000/75792 queries. users per second: 127004"
      ]
     },
     "metadata": {},
     "output_type": "display_data"
    },
    {
     "data": {
      "text/html": [
       "<pre>recommendations finished on 55000/75792 queries. users per second: 126672</pre>"
      ],
      "text/plain": [
       "recommendations finished on 55000/75792 queries. users per second: 126672"
      ]
     },
     "metadata": {},
     "output_type": "display_data"
    },
    {
     "data": {
      "text/html": [
       "<pre>recommendations finished on 56000/75792 queries. users per second: 126265</pre>"
      ],
      "text/plain": [
       "recommendations finished on 56000/75792 queries. users per second: 126265"
      ]
     },
     "metadata": {},
     "output_type": "display_data"
    },
    {
     "data": {
      "text/html": [
       "<pre>recommendations finished on 57000/75792 queries. users per second: 126949</pre>"
      ],
      "text/plain": [
       "recommendations finished on 57000/75792 queries. users per second: 126949"
      ]
     },
     "metadata": {},
     "output_type": "display_data"
    },
    {
     "data": {
      "text/html": [
       "<pre>recommendations finished on 58000/75792 queries. users per second: 127563</pre>"
      ],
      "text/plain": [
       "recommendations finished on 58000/75792 queries. users per second: 127563"
      ]
     },
     "metadata": {},
     "output_type": "display_data"
    },
    {
     "data": {
      "text/html": [
       "<pre>recommendations finished on 59000/75792 queries. users per second: 127968</pre>"
      ],
      "text/plain": [
       "recommendations finished on 59000/75792 queries. users per second: 127968"
      ]
     },
     "metadata": {},
     "output_type": "display_data"
    },
    {
     "data": {
      "text/html": [
       "<pre>recommendations finished on 60000/75792 queries. users per second: 128584</pre>"
      ],
      "text/plain": [
       "recommendations finished on 60000/75792 queries. users per second: 128584"
      ]
     },
     "metadata": {},
     "output_type": "display_data"
    },
    {
     "data": {
      "text/html": [
       "<pre>recommendations finished on 61000/75792 queries. users per second: 128896</pre>"
      ],
      "text/plain": [
       "recommendations finished on 61000/75792 queries. users per second: 128896"
      ]
     },
     "metadata": {},
     "output_type": "display_data"
    },
    {
     "data": {
      "text/html": [
       "<pre>recommendations finished on 62000/75792 queries. users per second: 129534</pre>"
      ],
      "text/plain": [
       "recommendations finished on 62000/75792 queries. users per second: 129534"
      ]
     },
     "metadata": {},
     "output_type": "display_data"
    },
    {
     "data": {
      "text/html": [
       "<pre>recommendations finished on 63000/75792 queries. users per second: 129948</pre>"
      ],
      "text/plain": [
       "recommendations finished on 63000/75792 queries. users per second: 129948"
      ]
     },
     "metadata": {},
     "output_type": "display_data"
    },
    {
     "data": {
      "text/html": [
       "<pre>recommendations finished on 64000/75792 queries. users per second: 130273</pre>"
      ],
      "text/plain": [
       "recommendations finished on 64000/75792 queries. users per second: 130273"
      ]
     },
     "metadata": {},
     "output_type": "display_data"
    },
    {
     "data": {
      "text/html": [
       "<pre>recommendations finished on 65000/75792 queries. users per second: 129512</pre>"
      ],
      "text/plain": [
       "recommendations finished on 65000/75792 queries. users per second: 129512"
      ]
     },
     "metadata": {},
     "output_type": "display_data"
    },
    {
     "data": {
      "text/html": [
       "<pre>recommendations finished on 66000/75792 queries. users per second: 129058</pre>"
      ],
      "text/plain": [
       "recommendations finished on 66000/75792 queries. users per second: 129058"
      ]
     },
     "metadata": {},
     "output_type": "display_data"
    },
    {
     "data": {
      "text/html": [
       "<pre>recommendations finished on 67000/75792 queries. users per second: 129166</pre>"
      ],
      "text/plain": [
       "recommendations finished on 67000/75792 queries. users per second: 129166"
      ]
     },
     "metadata": {},
     "output_type": "display_data"
    },
    {
     "data": {
      "text/html": [
       "<pre>recommendations finished on 68000/75792 queries. users per second: 129298</pre>"
      ],
      "text/plain": [
       "recommendations finished on 68000/75792 queries. users per second: 129298"
      ]
     },
     "metadata": {},
     "output_type": "display_data"
    },
    {
     "data": {
      "text/html": [
       "<pre>recommendations finished on 69000/75792 queries. users per second: 129548</pre>"
      ],
      "text/plain": [
       "recommendations finished on 69000/75792 queries. users per second: 129548"
      ]
     },
     "metadata": {},
     "output_type": "display_data"
    },
    {
     "data": {
      "text/html": [
       "<pre>recommendations finished on 70000/75792 queries. users per second: 129865</pre>"
      ],
      "text/plain": [
       "recommendations finished on 70000/75792 queries. users per second: 129865"
      ]
     },
     "metadata": {},
     "output_type": "display_data"
    },
    {
     "data": {
      "text/html": [
       "<pre>recommendations finished on 71000/75792 queries. users per second: 130331</pre>"
      ],
      "text/plain": [
       "recommendations finished on 71000/75792 queries. users per second: 130331"
      ]
     },
     "metadata": {},
     "output_type": "display_data"
    },
    {
     "data": {
      "text/html": [
       "<pre>recommendations finished on 72000/75792 queries. users per second: 130787</pre>"
      ],
      "text/plain": [
       "recommendations finished on 72000/75792 queries. users per second: 130787"
      ]
     },
     "metadata": {},
     "output_type": "display_data"
    },
    {
     "data": {
      "text/html": [
       "<pre>recommendations finished on 73000/75792 queries. users per second: 130863</pre>"
      ],
      "text/plain": [
       "recommendations finished on 73000/75792 queries. users per second: 130863"
      ]
     },
     "metadata": {},
     "output_type": "display_data"
    },
    {
     "data": {
      "text/html": [
       "<pre>recommendations finished on 74000/75792 queries. users per second: 130457</pre>"
      ],
      "text/plain": [
       "recommendations finished on 74000/75792 queries. users per second: 130457"
      ]
     },
     "metadata": {},
     "output_type": "display_data"
    },
    {
     "data": {
      "text/html": [
       "<pre>recommendations finished on 75000/75792 queries. users per second: 127897</pre>"
      ],
      "text/plain": [
       "recommendations finished on 75000/75792 queries. users per second: 127897"
      ]
     },
     "metadata": {},
     "output_type": "display_data"
    }
   ],
   "source": [
    "final_model = tc.item_similarity_recommender.create(tc.SFrame(data_dummy), \n",
    "                                            user_id=user_id, \n",
    "                                            item_id=item_id, \n",
    "                                            target='purchase_dummy', similarity_type='cosine')\n",
    "recom = final_model.recommend(users=users_to_recommend, k=n_rec)\n",
    "recom.print_rows(n_display)"
   ]
  },
  {
   "cell_type": "code",
   "execution_count": 47,
   "metadata": {},
   "outputs": [
    {
     "name": "stdout",
     "output_type": "stream",
     "text": [
      "(757920, 4)\n"
     ]
    },
    {
     "data": {
      "text/html": [
       "<div>\n",
       "<style scoped>\n",
       "    .dataframe tbody tr th:only-of-type {\n",
       "        vertical-align: middle;\n",
       "    }\n",
       "\n",
       "    .dataframe tbody tr th {\n",
       "        vertical-align: top;\n",
       "    }\n",
       "\n",
       "    .dataframe thead th {\n",
       "        text-align: right;\n",
       "    }\n",
       "</style>\n",
       "<table border=\"1\" class=\"dataframe\">\n",
       "  <thead>\n",
       "    <tr style=\"text-align: right;\">\n",
       "      <th></th>\n",
       "      <th>customerId</th>\n",
       "      <th>productId</th>\n",
       "      <th>score</th>\n",
       "      <th>rank</th>\n",
       "    </tr>\n",
       "  </thead>\n",
       "  <tbody>\n",
       "    <tr>\n",
       "      <th>0</th>\n",
       "      <td>105697630</td>\n",
       "      <td>ingarden</td>\n",
       "      <td>0.260868</td>\n",
       "      <td>1</td>\n",
       "    </tr>\n",
       "    <tr>\n",
       "      <th>1</th>\n",
       "      <td>105697630</td>\n",
       "      <td>grattol</td>\n",
       "      <td>0.250795</td>\n",
       "      <td>2</td>\n",
       "    </tr>\n",
       "    <tr>\n",
       "      <th>2</th>\n",
       "      <td>105697630</td>\n",
       "      <td>freedecor</td>\n",
       "      <td>0.236701</td>\n",
       "      <td>3</td>\n",
       "    </tr>\n",
       "    <tr>\n",
       "      <th>3</th>\n",
       "      <td>105697630</td>\n",
       "      <td>domix</td>\n",
       "      <td>0.206590</td>\n",
       "      <td>4</td>\n",
       "    </tr>\n",
       "    <tr>\n",
       "      <th>4</th>\n",
       "      <td>105697630</td>\n",
       "      <td>milv</td>\n",
       "      <td>0.204796</td>\n",
       "      <td>5</td>\n",
       "    </tr>\n",
       "  </tbody>\n",
       "</table>\n",
       "</div>"
      ],
      "text/plain": [
       "   customerId  productId     score  rank\n",
       "0   105697630   ingarden  0.260868     1\n",
       "1   105697630    grattol  0.250795     2\n",
       "2   105697630  freedecor  0.236701     3\n",
       "3   105697630      domix  0.206590     4\n",
       "4   105697630       milv  0.204796     5"
      ]
     },
     "execution_count": 47,
     "metadata": {},
     "output_type": "execute_result"
    }
   ],
   "source": [
    "df_rec = recom.to_dataframe()\n",
    "print(df_rec.shape)\n",
    "df_rec.head()"
   ]
  },
  {
   "cell_type": "code",
   "execution_count": null,
   "metadata": {},
   "outputs": [],
   "source": [
    "def create_output(model, users_to_recommend, n_rec, print_csv=True):\n",
    "    recomendation = model.recommend(users=users_to_recommend, k=5)\n",
    "    df_rec = recomendation.to_dataframe()\n",
    "    df_rec['recommendedProducts'] = df_rec.groupby([user_id])[item_id] \\\n",
    "        .transform(lambda x: ' , '.join(x.astype(str)))\n",
    "    df_output = df_rec[['customerId', 'recommendedProducts']].drop_duplicates() \\\n",
    "        .sort_values('customerId').set_index('customerId')"
   ]
  },
  {
   "cell_type": "code",
   "execution_count": 64,
   "metadata": {},
   "outputs": [
    {
     "data": {
      "text/html": [
       "<pre>recommendations finished on 1000/75792 queries. users per second: 70141</pre>"
      ],
      "text/plain": [
       "recommendations finished on 1000/75792 queries. users per second: 70141"
      ]
     },
     "metadata": {},
     "output_type": "display_data"
    },
    {
     "data": {
      "text/html": [
       "<pre>recommendations finished on 2000/75792 queries. users per second: 99735.7</pre>"
      ],
      "text/plain": [
       "recommendations finished on 2000/75792 queries. users per second: 99735.7"
      ]
     },
     "metadata": {},
     "output_type": "display_data"
    },
    {
     "data": {
      "text/html": [
       "<pre>recommendations finished on 3000/75792 queries. users per second: 113611</pre>"
      ],
      "text/plain": [
       "recommendations finished on 3000/75792 queries. users per second: 113611"
      ]
     },
     "metadata": {},
     "output_type": "display_data"
    },
    {
     "data": {
      "text/html": [
       "<pre>recommendations finished on 4000/75792 queries. users per second: 119080</pre>"
      ],
      "text/plain": [
       "recommendations finished on 4000/75792 queries. users per second: 119080"
      ]
     },
     "metadata": {},
     "output_type": "display_data"
    },
    {
     "data": {
      "text/html": [
       "<pre>recommendations finished on 5000/75792 queries. users per second: 128710</pre>"
      ],
      "text/plain": [
       "recommendations finished on 5000/75792 queries. users per second: 128710"
      ]
     },
     "metadata": {},
     "output_type": "display_data"
    },
    {
     "data": {
      "text/html": [
       "<pre>recommendations finished on 6000/75792 queries. users per second: 133967</pre>"
      ],
      "text/plain": [
       "recommendations finished on 6000/75792 queries. users per second: 133967"
      ]
     },
     "metadata": {},
     "output_type": "display_data"
    },
    {
     "data": {
      "text/html": [
       "<pre>recommendations finished on 7000/75792 queries. users per second: 136545</pre>"
      ],
      "text/plain": [
       "recommendations finished on 7000/75792 queries. users per second: 136545"
      ]
     },
     "metadata": {},
     "output_type": "display_data"
    },
    {
     "data": {
      "text/html": [
       "<pre>recommendations finished on 8000/75792 queries. users per second: 141216</pre>"
      ],
      "text/plain": [
       "recommendations finished on 8000/75792 queries. users per second: 141216"
      ]
     },
     "metadata": {},
     "output_type": "display_data"
    },
    {
     "data": {
      "text/html": [
       "<pre>recommendations finished on 9000/75792 queries. users per second: 147336</pre>"
      ],
      "text/plain": [
       "recommendations finished on 9000/75792 queries. users per second: 147336"
      ]
     },
     "metadata": {},
     "output_type": "display_data"
    },
    {
     "data": {
      "text/html": [
       "<pre>recommendations finished on 10000/75792 queries. users per second: 150764</pre>"
      ],
      "text/plain": [
       "recommendations finished on 10000/75792 queries. users per second: 150764"
      ]
     },
     "metadata": {},
     "output_type": "display_data"
    },
    {
     "data": {
      "text/html": [
       "<pre>recommendations finished on 11000/75792 queries. users per second: 151450</pre>"
      ],
      "text/plain": [
       "recommendations finished on 11000/75792 queries. users per second: 151450"
      ]
     },
     "metadata": {},
     "output_type": "display_data"
    },
    {
     "data": {
      "text/html": [
       "<pre>recommendations finished on 12000/75792 queries. users per second: 151509</pre>"
      ],
      "text/plain": [
       "recommendations finished on 12000/75792 queries. users per second: 151509"
      ]
     },
     "metadata": {},
     "output_type": "display_data"
    },
    {
     "data": {
      "text/html": [
       "<pre>recommendations finished on 13000/75792 queries. users per second: 151653</pre>"
      ],
      "text/plain": [
       "recommendations finished on 13000/75792 queries. users per second: 151653"
      ]
     },
     "metadata": {},
     "output_type": "display_data"
    },
    {
     "data": {
      "text/html": [
       "<pre>recommendations finished on 14000/75792 queries. users per second: 153704</pre>"
      ],
      "text/plain": [
       "recommendations finished on 14000/75792 queries. users per second: 153704"
      ]
     },
     "metadata": {},
     "output_type": "display_data"
    },
    {
     "data": {
      "text/html": [
       "<pre>recommendations finished on 15000/75792 queries. users per second: 154588</pre>"
      ],
      "text/plain": [
       "recommendations finished on 15000/75792 queries. users per second: 154588"
      ]
     },
     "metadata": {},
     "output_type": "display_data"
    },
    {
     "data": {
      "text/html": [
       "<pre>recommendations finished on 16000/75792 queries. users per second: 157670</pre>"
      ],
      "text/plain": [
       "recommendations finished on 16000/75792 queries. users per second: 157670"
      ]
     },
     "metadata": {},
     "output_type": "display_data"
    },
    {
     "data": {
      "text/html": [
       "<pre>recommendations finished on 17000/75792 queries. users per second: 158649</pre>"
      ],
      "text/plain": [
       "recommendations finished on 17000/75792 queries. users per second: 158649"
      ]
     },
     "metadata": {},
     "output_type": "display_data"
    },
    {
     "data": {
      "text/html": [
       "<pre>recommendations finished on 18000/75792 queries. users per second: 159610</pre>"
      ],
      "text/plain": [
       "recommendations finished on 18000/75792 queries. users per second: 159610"
      ]
     },
     "metadata": {},
     "output_type": "display_data"
    },
    {
     "data": {
      "text/html": [
       "<pre>recommendations finished on 19000/75792 queries. users per second: 159630</pre>"
      ],
      "text/plain": [
       "recommendations finished on 19000/75792 queries. users per second: 159630"
      ]
     },
     "metadata": {},
     "output_type": "display_data"
    },
    {
     "data": {
      "text/html": [
       "<pre>recommendations finished on 20000/75792 queries. users per second: 159459</pre>"
      ],
      "text/plain": [
       "recommendations finished on 20000/75792 queries. users per second: 159459"
      ]
     },
     "metadata": {},
     "output_type": "display_data"
    },
    {
     "data": {
      "text/html": [
       "<pre>recommendations finished on 21000/75792 queries. users per second: 159682</pre>"
      ],
      "text/plain": [
       "recommendations finished on 21000/75792 queries. users per second: 159682"
      ]
     },
     "metadata": {},
     "output_type": "display_data"
    },
    {
     "data": {
      "text/html": [
       "<pre>recommendations finished on 22000/75792 queries. users per second: 159881</pre>"
      ],
      "text/plain": [
       "recommendations finished on 22000/75792 queries. users per second: 159881"
      ]
     },
     "metadata": {},
     "output_type": "display_data"
    },
    {
     "data": {
      "text/html": [
       "<pre>recommendations finished on 23000/75792 queries. users per second: 158132</pre>"
      ],
      "text/plain": [
       "recommendations finished on 23000/75792 queries. users per second: 158132"
      ]
     },
     "metadata": {},
     "output_type": "display_data"
    },
    {
     "data": {
      "text/html": [
       "<pre>recommendations finished on 24000/75792 queries. users per second: 159012</pre>"
      ],
      "text/plain": [
       "recommendations finished on 24000/75792 queries. users per second: 159012"
      ]
     },
     "metadata": {},
     "output_type": "display_data"
    },
    {
     "data": {
      "text/html": [
       "<pre>recommendations finished on 25000/75792 queries. users per second: 160294</pre>"
      ],
      "text/plain": [
       "recommendations finished on 25000/75792 queries. users per second: 160294"
      ]
     },
     "metadata": {},
     "output_type": "display_data"
    },
    {
     "data": {
      "text/html": [
       "<pre>recommendations finished on 26000/75792 queries. users per second: 161547</pre>"
      ],
      "text/plain": [
       "recommendations finished on 26000/75792 queries. users per second: 161547"
      ]
     },
     "metadata": {},
     "output_type": "display_data"
    },
    {
     "data": {
      "text/html": [
       "<pre>recommendations finished on 27000/75792 queries. users per second: 163388</pre>"
      ],
      "text/plain": [
       "recommendations finished on 27000/75792 queries. users per second: 163388"
      ]
     },
     "metadata": {},
     "output_type": "display_data"
    },
    {
     "data": {
      "text/html": [
       "<pre>recommendations finished on 28000/75792 queries. users per second: 163730</pre>"
      ],
      "text/plain": [
       "recommendations finished on 28000/75792 queries. users per second: 163730"
      ]
     },
     "metadata": {},
     "output_type": "display_data"
    },
    {
     "data": {
      "text/html": [
       "<pre>recommendations finished on 29000/75792 queries. users per second: 164447</pre>"
      ],
      "text/plain": [
       "recommendations finished on 29000/75792 queries. users per second: 164447"
      ]
     },
     "metadata": {},
     "output_type": "display_data"
    },
    {
     "data": {
      "text/html": [
       "<pre>recommendations finished on 30000/75792 queries. users per second: 162026</pre>"
      ],
      "text/plain": [
       "recommendations finished on 30000/75792 queries. users per second: 162026"
      ]
     },
     "metadata": {},
     "output_type": "display_data"
    },
    {
     "data": {
      "text/html": [
       "<pre>recommendations finished on 31000/75792 queries. users per second: 162439</pre>"
      ],
      "text/plain": [
       "recommendations finished on 31000/75792 queries. users per second: 162439"
      ]
     },
     "metadata": {},
     "output_type": "display_data"
    },
    {
     "data": {
      "text/html": [
       "<pre>recommendations finished on 32000/75792 queries. users per second: 163932</pre>"
      ],
      "text/plain": [
       "recommendations finished on 32000/75792 queries. users per second: 163932"
      ]
     },
     "metadata": {},
     "output_type": "display_data"
    },
    {
     "data": {
      "text/html": [
       "<pre>recommendations finished on 33000/75792 queries. users per second: 164276</pre>"
      ],
      "text/plain": [
       "recommendations finished on 33000/75792 queries. users per second: 164276"
      ]
     },
     "metadata": {},
     "output_type": "display_data"
    },
    {
     "data": {
      "text/html": [
       "<pre>recommendations finished on 34000/75792 queries. users per second: 165276</pre>"
      ],
      "text/plain": [
       "recommendations finished on 34000/75792 queries. users per second: 165276"
      ]
     },
     "metadata": {},
     "output_type": "display_data"
    },
    {
     "data": {
      "text/html": [
       "<pre>recommendations finished on 35000/75792 queries. users per second: 165669</pre>"
      ],
      "text/plain": [
       "recommendations finished on 35000/75792 queries. users per second: 165669"
      ]
     },
     "metadata": {},
     "output_type": "display_data"
    },
    {
     "data": {
      "text/html": [
       "<pre>recommendations finished on 36000/75792 queries. users per second: 162369</pre>"
      ],
      "text/plain": [
       "recommendations finished on 36000/75792 queries. users per second: 162369"
      ]
     },
     "metadata": {},
     "output_type": "display_data"
    },
    {
     "data": {
      "text/html": [
       "<pre>recommendations finished on 37000/75792 queries. users per second: 162435</pre>"
      ],
      "text/plain": [
       "recommendations finished on 37000/75792 queries. users per second: 162435"
      ]
     },
     "metadata": {},
     "output_type": "display_data"
    },
    {
     "data": {
      "text/html": [
       "<pre>recommendations finished on 38000/75792 queries. users per second: 162442</pre>"
      ],
      "text/plain": [
       "recommendations finished on 38000/75792 queries. users per second: 162442"
      ]
     },
     "metadata": {},
     "output_type": "display_data"
    },
    {
     "data": {
      "text/html": [
       "<pre>recommendations finished on 39000/75792 queries. users per second: 161615</pre>"
      ],
      "text/plain": [
       "recommendations finished on 39000/75792 queries. users per second: 161615"
      ]
     },
     "metadata": {},
     "output_type": "display_data"
    },
    {
     "data": {
      "text/html": [
       "<pre>recommendations finished on 40000/75792 queries. users per second: 161941</pre>"
      ],
      "text/plain": [
       "recommendations finished on 40000/75792 queries. users per second: 161941"
      ]
     },
     "metadata": {},
     "output_type": "display_data"
    },
    {
     "data": {
      "text/html": [
       "<pre>recommendations finished on 41000/75792 queries. users per second: 156957</pre>"
      ],
      "text/plain": [
       "recommendations finished on 41000/75792 queries. users per second: 156957"
      ]
     },
     "metadata": {},
     "output_type": "display_data"
    },
    {
     "data": {
      "text/html": [
       "<pre>recommendations finished on 42000/75792 queries. users per second: 157359</pre>"
      ],
      "text/plain": [
       "recommendations finished on 42000/75792 queries. users per second: 157359"
      ]
     },
     "metadata": {},
     "output_type": "display_data"
    },
    {
     "data": {
      "text/html": [
       "<pre>recommendations finished on 43000/75792 queries. users per second: 158228</pre>"
      ],
      "text/plain": [
       "recommendations finished on 43000/75792 queries. users per second: 158228"
      ]
     },
     "metadata": {},
     "output_type": "display_data"
    },
    {
     "data": {
      "text/html": [
       "<pre>recommendations finished on 44000/75792 queries. users per second: 159088</pre>"
      ],
      "text/plain": [
       "recommendations finished on 44000/75792 queries. users per second: 159088"
      ]
     },
     "metadata": {},
     "output_type": "display_data"
    },
    {
     "data": {
      "text/html": [
       "<pre>recommendations finished on 45000/75792 queries. users per second: 159092</pre>"
      ],
      "text/plain": [
       "recommendations finished on 45000/75792 queries. users per second: 159092"
      ]
     },
     "metadata": {},
     "output_type": "display_data"
    },
    {
     "data": {
      "text/html": [
       "<pre>recommendations finished on 46000/75792 queries. users per second: 159073</pre>"
      ],
      "text/plain": [
       "recommendations finished on 46000/75792 queries. users per second: 159073"
      ]
     },
     "metadata": {},
     "output_type": "display_data"
    },
    {
     "data": {
      "text/html": [
       "<pre>recommendations finished on 47000/75792 queries. users per second: 159002</pre>"
      ],
      "text/plain": [
       "recommendations finished on 47000/75792 queries. users per second: 159002"
      ]
     },
     "metadata": {},
     "output_type": "display_data"
    },
    {
     "data": {
      "text/html": [
       "<pre>recommendations finished on 48000/75792 queries. users per second: 158905</pre>"
      ],
      "text/plain": [
       "recommendations finished on 48000/75792 queries. users per second: 158905"
      ]
     },
     "metadata": {},
     "output_type": "display_data"
    },
    {
     "data": {
      "text/html": [
       "<pre>recommendations finished on 49000/75792 queries. users per second: 158986</pre>"
      ],
      "text/plain": [
       "recommendations finished on 49000/75792 queries. users per second: 158986"
      ]
     },
     "metadata": {},
     "output_type": "display_data"
    },
    {
     "data": {
      "text/html": [
       "<pre>recommendations finished on 50000/75792 queries. users per second: 158401</pre>"
      ],
      "text/plain": [
       "recommendations finished on 50000/75792 queries. users per second: 158401"
      ]
     },
     "metadata": {},
     "output_type": "display_data"
    },
    {
     "data": {
      "text/html": [
       "<pre>recommendations finished on 51000/75792 queries. users per second: 159307</pre>"
      ],
      "text/plain": [
       "recommendations finished on 51000/75792 queries. users per second: 159307"
      ]
     },
     "metadata": {},
     "output_type": "display_data"
    },
    {
     "data": {
      "text/html": [
       "<pre>recommendations finished on 52000/75792 queries. users per second: 158455</pre>"
      ],
      "text/plain": [
       "recommendations finished on 52000/75792 queries. users per second: 158455"
      ]
     },
     "metadata": {},
     "output_type": "display_data"
    },
    {
     "data": {
      "text/html": [
       "<pre>recommendations finished on 53000/75792 queries. users per second: 158426</pre>"
      ],
      "text/plain": [
       "recommendations finished on 53000/75792 queries. users per second: 158426"
      ]
     },
     "metadata": {},
     "output_type": "display_data"
    },
    {
     "data": {
      "text/html": [
       "<pre>recommendations finished on 54000/75792 queries. users per second: 157990</pre>"
      ],
      "text/plain": [
       "recommendations finished on 54000/75792 queries. users per second: 157990"
      ]
     },
     "metadata": {},
     "output_type": "display_data"
    },
    {
     "data": {
      "text/html": [
       "<pre>recommendations finished on 55000/75792 queries. users per second: 158396</pre>"
      ],
      "text/plain": [
       "recommendations finished on 55000/75792 queries. users per second: 158396"
      ]
     },
     "metadata": {},
     "output_type": "display_data"
    },
    {
     "data": {
      "text/html": [
       "<pre>recommendations finished on 56000/75792 queries. users per second: 158857</pre>"
      ],
      "text/plain": [
       "recommendations finished on 56000/75792 queries. users per second: 158857"
      ]
     },
     "metadata": {},
     "output_type": "display_data"
    },
    {
     "data": {
      "text/html": [
       "<pre>recommendations finished on 57000/75792 queries. users per second: 159023</pre>"
      ],
      "text/plain": [
       "recommendations finished on 57000/75792 queries. users per second: 159023"
      ]
     },
     "metadata": {},
     "output_type": "display_data"
    },
    {
     "data": {
      "text/html": [
       "<pre>recommendations finished on 58000/75792 queries. users per second: 159128</pre>"
      ],
      "text/plain": [
       "recommendations finished on 58000/75792 queries. users per second: 159128"
      ]
     },
     "metadata": {},
     "output_type": "display_data"
    },
    {
     "data": {
      "text/html": [
       "<pre>recommendations finished on 59000/75792 queries. users per second: 159341</pre>"
      ],
      "text/plain": [
       "recommendations finished on 59000/75792 queries. users per second: 159341"
      ]
     },
     "metadata": {},
     "output_type": "display_data"
    },
    {
     "data": {
      "text/html": [
       "<pre>recommendations finished on 60000/75792 queries. users per second: 158645</pre>"
      ],
      "text/plain": [
       "recommendations finished on 60000/75792 queries. users per second: 158645"
      ]
     },
     "metadata": {},
     "output_type": "display_data"
    },
    {
     "data": {
      "text/html": [
       "<pre>recommendations finished on 61000/75792 queries. users per second: 156983</pre>"
      ],
      "text/plain": [
       "recommendations finished on 61000/75792 queries. users per second: 156983"
      ]
     },
     "metadata": {},
     "output_type": "display_data"
    },
    {
     "data": {
      "text/html": [
       "<pre>recommendations finished on 62000/75792 queries. users per second: 157195</pre>"
      ],
      "text/plain": [
       "recommendations finished on 62000/75792 queries. users per second: 157195"
      ]
     },
     "metadata": {},
     "output_type": "display_data"
    },
    {
     "data": {
      "text/html": [
       "<pre>recommendations finished on 63000/75792 queries. users per second: 157780</pre>"
      ],
      "text/plain": [
       "recommendations finished on 63000/75792 queries. users per second: 157780"
      ]
     },
     "metadata": {},
     "output_type": "display_data"
    },
    {
     "data": {
      "text/html": [
       "<pre>recommendations finished on 64000/75792 queries. users per second: 158459</pre>"
      ],
      "text/plain": [
       "recommendations finished on 64000/75792 queries. users per second: 158459"
      ]
     },
     "metadata": {},
     "output_type": "display_data"
    },
    {
     "data": {
      "text/html": [
       "<pre>recommendations finished on 65000/75792 queries. users per second: 159116</pre>"
      ],
      "text/plain": [
       "recommendations finished on 65000/75792 queries. users per second: 159116"
      ]
     },
     "metadata": {},
     "output_type": "display_data"
    },
    {
     "data": {
      "text/html": [
       "<pre>recommendations finished on 66000/75792 queries. users per second: 159578</pre>"
      ],
      "text/plain": [
       "recommendations finished on 66000/75792 queries. users per second: 159578"
      ]
     },
     "metadata": {},
     "output_type": "display_data"
    },
    {
     "data": {
      "text/html": [
       "<pre>recommendations finished on 67000/75792 queries. users per second: 160191</pre>"
      ],
      "text/plain": [
       "recommendations finished on 67000/75792 queries. users per second: 160191"
      ]
     },
     "metadata": {},
     "output_type": "display_data"
    },
    {
     "data": {
      "text/html": [
       "<pre>recommendations finished on 68000/75792 queries. users per second: 159670</pre>"
      ],
      "text/plain": [
       "recommendations finished on 68000/75792 queries. users per second: 159670"
      ]
     },
     "metadata": {},
     "output_type": "display_data"
    },
    {
     "data": {
      "text/html": [
       "<pre>recommendations finished on 69000/75792 queries. users per second: 158494</pre>"
      ],
      "text/plain": [
       "recommendations finished on 69000/75792 queries. users per second: 158494"
      ]
     },
     "metadata": {},
     "output_type": "display_data"
    },
    {
     "data": {
      "text/html": [
       "<pre>recommendations finished on 70000/75792 queries. users per second: 157550</pre>"
      ],
      "text/plain": [
       "recommendations finished on 70000/75792 queries. users per second: 157550"
      ]
     },
     "metadata": {},
     "output_type": "display_data"
    },
    {
     "data": {
      "text/html": [
       "<pre>recommendations finished on 71000/75792 queries. users per second: 158011</pre>"
      ],
      "text/plain": [
       "recommendations finished on 71000/75792 queries. users per second: 158011"
      ]
     },
     "metadata": {},
     "output_type": "display_data"
    },
    {
     "data": {
      "text/html": [
       "<pre>recommendations finished on 72000/75792 queries. users per second: 158540</pre>"
      ],
      "text/plain": [
       "recommendations finished on 72000/75792 queries. users per second: 158540"
      ]
     },
     "metadata": {},
     "output_type": "display_data"
    },
    {
     "data": {
      "text/html": [
       "<pre>recommendations finished on 73000/75792 queries. users per second: 157865</pre>"
      ],
      "text/plain": [
       "recommendations finished on 73000/75792 queries. users per second: 157865"
      ]
     },
     "metadata": {},
     "output_type": "display_data"
    },
    {
     "data": {
      "text/html": [
       "<pre>recommendations finished on 74000/75792 queries. users per second: 157580</pre>"
      ],
      "text/plain": [
       "recommendations finished on 74000/75792 queries. users per second: 157580"
      ]
     },
     "metadata": {},
     "output_type": "display_data"
    },
    {
     "data": {
      "text/html": [
       "<pre>recommendations finished on 75000/75792 queries. users per second: 157111</pre>"
      ],
      "text/plain": [
       "recommendations finished on 75000/75792 queries. users per second: 157111"
      ]
     },
     "metadata": {},
     "output_type": "display_data"
    }
   ],
   "source": [
    "recomendation = final_model.recommend(users=users_to_recommend, k=5)\n",
    "df_rec = recomendation.to_dataframe()\n",
    "df_rec['recommendedProducts'] = df_rec.groupby([user_id])[item_id] \\\n",
    "    .transform(lambda x: ' , '.join(x.astype(str)))\n",
    "df_output = df_rec[['customerId', 'recommendedProducts']].drop_duplicates() \\\n",
    "    .sort_values('customerId').set_index('customerId')"
   ]
  },
  {
   "cell_type": "code",
   "execution_count": 65,
   "metadata": {},
   "outputs": [],
   "source": [
    "df_output=df_output.reset_index()"
   ]
  },
  {
   "cell_type": "code",
   "execution_count": 66,
   "metadata": {},
   "outputs": [
    {
     "data": {
      "text/html": [
       "<div>\n",
       "<style scoped>\n",
       "    .dataframe tbody tr th:only-of-type {\n",
       "        vertical-align: middle;\n",
       "    }\n",
       "\n",
       "    .dataframe tbody tr th {\n",
       "        vertical-align: top;\n",
       "    }\n",
       "\n",
       "    .dataframe thead th {\n",
       "        text-align: right;\n",
       "    }\n",
       "</style>\n",
       "<table border=\"1\" class=\"dataframe\">\n",
       "  <thead>\n",
       "    <tr style=\"text-align: right;\">\n",
       "      <th></th>\n",
       "      <th>customerId</th>\n",
       "      <th>recommendedProducts</th>\n",
       "    </tr>\n",
       "  </thead>\n",
       "  <tbody>\n",
       "    <tr>\n",
       "      <th>0</th>\n",
       "      <td>29025780</td>\n",
       "      <td>bpw.style , ingarden , grattol , masura , uno ...</td>\n",
       "    </tr>\n",
       "    <tr>\n",
       "      <th>1</th>\n",
       "      <td>33609704</td>\n",
       "      <td>irisk , bpw.style , ingarden , grattol , uno ,...</td>\n",
       "    </tr>\n",
       "    <tr>\n",
       "      <th>2</th>\n",
       "      <td>34236465</td>\n",
       "      <td>bpw.style , grattol , masura , domix , freedec...</td>\n",
       "    </tr>\n",
       "    <tr>\n",
       "      <th>3</th>\n",
       "      <td>36180886</td>\n",
       "      <td>irisk , bpw.style , grattol , masura , freedec...</td>\n",
       "    </tr>\n",
       "    <tr>\n",
       "      <th>4</th>\n",
       "      <td>40821287</td>\n",
       "      <td>bpw.style , ingarden , masura , domix , freede...</td>\n",
       "    </tr>\n",
       "  </tbody>\n",
       "</table>\n",
       "</div>"
      ],
      "text/plain": [
       "   customerId                                recommendedProducts\n",
       "0    29025780  bpw.style , ingarden , grattol , masura , uno ...\n",
       "1    33609704  irisk , bpw.style , ingarden , grattol , uno ,...\n",
       "2    34236465  bpw.style , grattol , masura , domix , freedec...\n",
       "3    36180886  irisk , bpw.style , grattol , masura , freedec...\n",
       "4    40821287  bpw.style , ingarden , masura , domix , freede..."
      ]
     },
     "execution_count": 66,
     "metadata": {},
     "output_type": "execute_result"
    }
   ],
   "source": [
    "df_output.head()"
   ]
  },
  {
   "cell_type": "markdown",
   "metadata": {},
   "source": [
    "## This is for Streamlit"
   ]
  },
  {
   "cell_type": "code",
   "execution_count": 67,
   "metadata": {},
   "outputs": [],
   "source": [
    "# new=recomendation.to_dataframe()\n",
    "\n",
    "# new.columns=[\"user_id\",\"brand\",\"score\",\"rank\"]\n",
    "# new.to_csv('new_brand.csv',index=False)"
   ]
  },
  {
   "cell_type": "code",
   "execution_count": 48,
   "metadata": {},
   "outputs": [],
   "source": [
    "def create_output(model, users_to_recommend, n_rec, print_csv=True):\n",
    "    recomendation = model.recommend(users=users_to_recommend, k=n_rec)\n",
    "    df_rec = recomendation.to_dataframe()\n",
    "    df_rec['recommendedProducts'] = df_rec.groupby([user_id])[item_id] \\\n",
    "        .transform(lambda x: '|'.join(x.astype(str)))\n",
    "    df_output = df_rec[['customerId', 'recommendedProducts']].drop_duplicates() \\\n",
    "        .sort_values('customerId').set_index('customerId')\n",
    "    if print_csv:\n",
    "        df_output.to_csv('option1_recommendation.csv')\n",
    "        print(\"An output file can be found in 'output' folder with name 'option1_recommendation.csv'\")\n",
    "    return df_output"
   ]
  },
  {
   "cell_type": "code",
   "execution_count": 49,
   "metadata": {},
   "outputs": [
    {
     "data": {
      "text/html": [
       "<pre>recommendations finished on 1000/75792 queries. users per second: 32180.2</pre>"
      ],
      "text/plain": [
       "recommendations finished on 1000/75792 queries. users per second: 32180.2"
      ]
     },
     "metadata": {},
     "output_type": "display_data"
    },
    {
     "data": {
      "text/html": [
       "<pre>recommendations finished on 2000/75792 queries. users per second: 57002.8</pre>"
      ],
      "text/plain": [
       "recommendations finished on 2000/75792 queries. users per second: 57002.8"
      ]
     },
     "metadata": {},
     "output_type": "display_data"
    },
    {
     "data": {
      "text/html": [
       "<pre>recommendations finished on 3000/75792 queries. users per second: 77019.8</pre>"
      ],
      "text/plain": [
       "recommendations finished on 3000/75792 queries. users per second: 77019.8"
      ]
     },
     "metadata": {},
     "output_type": "display_data"
    },
    {
     "data": {
      "text/html": [
       "<pre>recommendations finished on 4000/75792 queries. users per second: 92142.5</pre>"
      ],
      "text/plain": [
       "recommendations finished on 4000/75792 queries. users per second: 92142.5"
      ]
     },
     "metadata": {},
     "output_type": "display_data"
    },
    {
     "data": {
      "text/html": [
       "<pre>recommendations finished on 5000/75792 queries. users per second: 105033</pre>"
      ],
      "text/plain": [
       "recommendations finished on 5000/75792 queries. users per second: 105033"
      ]
     },
     "metadata": {},
     "output_type": "display_data"
    },
    {
     "data": {
      "text/html": [
       "<pre>recommendations finished on 6000/75792 queries. users per second: 116306</pre>"
      ],
      "text/plain": [
       "recommendations finished on 6000/75792 queries. users per second: 116306"
      ]
     },
     "metadata": {},
     "output_type": "display_data"
    },
    {
     "data": {
      "text/html": [
       "<pre>recommendations finished on 7000/75792 queries. users per second: 126333</pre>"
      ],
      "text/plain": [
       "recommendations finished on 7000/75792 queries. users per second: 126333"
      ]
     },
     "metadata": {},
     "output_type": "display_data"
    },
    {
     "data": {
      "text/html": [
       "<pre>recommendations finished on 8000/75792 queries. users per second: 134219</pre>"
      ],
      "text/plain": [
       "recommendations finished on 8000/75792 queries. users per second: 134219"
      ]
     },
     "metadata": {},
     "output_type": "display_data"
    },
    {
     "data": {
      "text/html": [
       "<pre>recommendations finished on 9000/75792 queries. users per second: 141474</pre>"
      ],
      "text/plain": [
       "recommendations finished on 9000/75792 queries. users per second: 141474"
      ]
     },
     "metadata": {},
     "output_type": "display_data"
    },
    {
     "data": {
      "text/html": [
       "<pre>recommendations finished on 10000/75792 queries. users per second: 147962</pre>"
      ],
      "text/plain": [
       "recommendations finished on 10000/75792 queries. users per second: 147962"
      ]
     },
     "metadata": {},
     "output_type": "display_data"
    },
    {
     "data": {
      "text/html": [
       "<pre>recommendations finished on 11000/75792 queries. users per second: 153960</pre>"
      ],
      "text/plain": [
       "recommendations finished on 11000/75792 queries. users per second: 153960"
      ]
     },
     "metadata": {},
     "output_type": "display_data"
    },
    {
     "data": {
      "text/html": [
       "<pre>recommendations finished on 12000/75792 queries. users per second: 156102</pre>"
      ],
      "text/plain": [
       "recommendations finished on 12000/75792 queries. users per second: 156102"
      ]
     },
     "metadata": {},
     "output_type": "display_data"
    },
    {
     "data": {
      "text/html": [
       "<pre>recommendations finished on 13000/75792 queries. users per second: 158874</pre>"
      ],
      "text/plain": [
       "recommendations finished on 13000/75792 queries. users per second: 158874"
      ]
     },
     "metadata": {},
     "output_type": "display_data"
    },
    {
     "data": {
      "text/html": [
       "<pre>recommendations finished on 14000/75792 queries. users per second: 160820</pre>"
      ],
      "text/plain": [
       "recommendations finished on 14000/75792 queries. users per second: 160820"
      ]
     },
     "metadata": {},
     "output_type": "display_data"
    },
    {
     "data": {
      "text/html": [
       "<pre>recommendations finished on 15000/75792 queries. users per second: 159882</pre>"
      ],
      "text/plain": [
       "recommendations finished on 15000/75792 queries. users per second: 159882"
      ]
     },
     "metadata": {},
     "output_type": "display_data"
    },
    {
     "data": {
      "text/html": [
       "<pre>recommendations finished on 16000/75792 queries. users per second: 161745</pre>"
      ],
      "text/plain": [
       "recommendations finished on 16000/75792 queries. users per second: 161745"
      ]
     },
     "metadata": {},
     "output_type": "display_data"
    },
    {
     "data": {
      "text/html": [
       "<pre>recommendations finished on 17000/75792 queries. users per second: 163256</pre>"
      ],
      "text/plain": [
       "recommendations finished on 17000/75792 queries. users per second: 163256"
      ]
     },
     "metadata": {},
     "output_type": "display_data"
    },
    {
     "data": {
      "text/html": [
       "<pre>recommendations finished on 18000/75792 queries. users per second: 163205</pre>"
      ],
      "text/plain": [
       "recommendations finished on 18000/75792 queries. users per second: 163205"
      ]
     },
     "metadata": {},
     "output_type": "display_data"
    },
    {
     "data": {
      "text/html": [
       "<pre>recommendations finished on 19000/75792 queries. users per second: 159474</pre>"
      ],
      "text/plain": [
       "recommendations finished on 19000/75792 queries. users per second: 159474"
      ]
     },
     "metadata": {},
     "output_type": "display_data"
    },
    {
     "data": {
      "text/html": [
       "<pre>recommendations finished on 20000/75792 queries. users per second: 160346</pre>"
      ],
      "text/plain": [
       "recommendations finished on 20000/75792 queries. users per second: 160346"
      ]
     },
     "metadata": {},
     "output_type": "display_data"
    },
    {
     "data": {
      "text/html": [
       "<pre>recommendations finished on 21000/75792 queries. users per second: 156521</pre>"
      ],
      "text/plain": [
       "recommendations finished on 21000/75792 queries. users per second: 156521"
      ]
     },
     "metadata": {},
     "output_type": "display_data"
    },
    {
     "data": {
      "text/html": [
       "<pre>recommendations finished on 22000/75792 queries. users per second: 157650</pre>"
      ],
      "text/plain": [
       "recommendations finished on 22000/75792 queries. users per second: 157650"
      ]
     },
     "metadata": {},
     "output_type": "display_data"
    },
    {
     "data": {
      "text/html": [
       "<pre>recommendations finished on 23000/75792 queries. users per second: 159580</pre>"
      ],
      "text/plain": [
       "recommendations finished on 23000/75792 queries. users per second: 159580"
      ]
     },
     "metadata": {},
     "output_type": "display_data"
    },
    {
     "data": {
      "text/html": [
       "<pre>recommendations finished on 24000/75792 queries. users per second: 157431</pre>"
      ],
      "text/plain": [
       "recommendations finished on 24000/75792 queries. users per second: 157431"
      ]
     },
     "metadata": {},
     "output_type": "display_data"
    },
    {
     "data": {
      "text/html": [
       "<pre>recommendations finished on 25000/75792 queries. users per second: 158823</pre>"
      ],
      "text/plain": [
       "recommendations finished on 25000/75792 queries. users per second: 158823"
      ]
     },
     "metadata": {},
     "output_type": "display_data"
    },
    {
     "data": {
      "text/html": [
       "<pre>recommendations finished on 26000/75792 queries. users per second: 160218</pre>"
      ],
      "text/plain": [
       "recommendations finished on 26000/75792 queries. users per second: 160218"
      ]
     },
     "metadata": {},
     "output_type": "display_data"
    },
    {
     "data": {
      "text/html": [
       "<pre>recommendations finished on 27000/75792 queries. users per second: 161407</pre>"
      ],
      "text/plain": [
       "recommendations finished on 27000/75792 queries. users per second: 161407"
      ]
     },
     "metadata": {},
     "output_type": "display_data"
    },
    {
     "data": {
      "text/html": [
       "<pre>recommendations finished on 28000/75792 queries. users per second: 160914</pre>"
      ],
      "text/plain": [
       "recommendations finished on 28000/75792 queries. users per second: 160914"
      ]
     },
     "metadata": {},
     "output_type": "display_data"
    },
    {
     "data": {
      "text/html": [
       "<pre>recommendations finished on 30000/75792 queries. users per second: 160893</pre>"
      ],
      "text/plain": [
       "recommendations finished on 30000/75792 queries. users per second: 160893"
      ]
     },
     "metadata": {},
     "output_type": "display_data"
    },
    {
     "data": {
      "text/html": [
       "<pre>recommendations finished on 31000/75792 queries. users per second: 161528</pre>"
      ],
      "text/plain": [
       "recommendations finished on 31000/75792 queries. users per second: 161528"
      ]
     },
     "metadata": {},
     "output_type": "display_data"
    },
    {
     "data": {
      "text/html": [
       "<pre>recommendations finished on 29000/75792 queries. users per second: 161505</pre>"
      ],
      "text/plain": [
       "recommendations finished on 29000/75792 queries. users per second: 161505"
      ]
     },
     "metadata": {},
     "output_type": "display_data"
    },
    {
     "data": {
      "text/html": [
       "<pre>recommendations finished on 32000/75792 queries. users per second: 162919</pre>"
      ],
      "text/plain": [
       "recommendations finished on 32000/75792 queries. users per second: 162919"
      ]
     },
     "metadata": {},
     "output_type": "display_data"
    },
    {
     "data": {
      "text/html": [
       "<pre>recommendations finished on 33000/75792 queries. users per second: 164843</pre>"
      ],
      "text/plain": [
       "recommendations finished on 33000/75792 queries. users per second: 164843"
      ]
     },
     "metadata": {},
     "output_type": "display_data"
    },
    {
     "data": {
      "text/html": [
       "<pre>recommendations finished on 34000/75792 queries. users per second: 165969</pre>"
      ],
      "text/plain": [
       "recommendations finished on 34000/75792 queries. users per second: 165969"
      ]
     },
     "metadata": {},
     "output_type": "display_data"
    },
    {
     "data": {
      "text/html": [
       "<pre>recommendations finished on 35000/75792 queries. users per second: 159784</pre>"
      ],
      "text/plain": [
       "recommendations finished on 35000/75792 queries. users per second: 159784"
      ]
     },
     "metadata": {},
     "output_type": "display_data"
    },
    {
     "data": {
      "text/html": [
       "<pre>recommendations finished on 36000/75792 queries. users per second: 161134</pre>"
      ],
      "text/plain": [
       "recommendations finished on 36000/75792 queries. users per second: 161134"
      ]
     },
     "metadata": {},
     "output_type": "display_data"
    },
    {
     "data": {
      "text/html": [
       "<pre>recommendations finished on 37000/75792 queries. users per second: 162267</pre>"
      ],
      "text/plain": [
       "recommendations finished on 37000/75792 queries. users per second: 162267"
      ]
     },
     "metadata": {},
     "output_type": "display_data"
    },
    {
     "data": {
      "text/html": [
       "<pre>recommendations finished on 38000/75792 queries. users per second: 162822</pre>"
      ],
      "text/plain": [
       "recommendations finished on 38000/75792 queries. users per second: 162822"
      ]
     },
     "metadata": {},
     "output_type": "display_data"
    },
    {
     "data": {
      "text/html": [
       "<pre>recommendations finished on 39000/75792 queries. users per second: 163094</pre>"
      ],
      "text/plain": [
       "recommendations finished on 39000/75792 queries. users per second: 163094"
      ]
     },
     "metadata": {},
     "output_type": "display_data"
    },
    {
     "data": {
      "text/html": [
       "<pre>recommendations finished on 40000/75792 queries. users per second: 163970</pre>"
      ],
      "text/plain": [
       "recommendations finished on 40000/75792 queries. users per second: 163970"
      ]
     },
     "metadata": {},
     "output_type": "display_data"
    },
    {
     "data": {
      "text/html": [
       "<pre>recommendations finished on 41000/75792 queries. users per second: 165441</pre>"
      ],
      "text/plain": [
       "recommendations finished on 41000/75792 queries. users per second: 165441"
      ]
     },
     "metadata": {},
     "output_type": "display_data"
    },
    {
     "data": {
      "text/html": [
       "<pre>recommendations finished on 42000/75792 queries. users per second: 166633</pre>"
      ],
      "text/plain": [
       "recommendations finished on 42000/75792 queries. users per second: 166633"
      ]
     },
     "metadata": {},
     "output_type": "display_data"
    },
    {
     "data": {
      "text/html": [
       "<pre>recommendations finished on 43000/75792 queries. users per second: 167148</pre>"
      ],
      "text/plain": [
       "recommendations finished on 43000/75792 queries. users per second: 167148"
      ]
     },
     "metadata": {},
     "output_type": "display_data"
    },
    {
     "data": {
      "text/html": [
       "<pre>recommendations finished on 44000/75792 queries. users per second: 168294</pre>"
      ],
      "text/plain": [
       "recommendations finished on 44000/75792 queries. users per second: 168294"
      ]
     },
     "metadata": {},
     "output_type": "display_data"
    },
    {
     "data": {
      "text/html": [
       "<pre>recommendations finished on 45000/75792 queries. users per second: 165956</pre>"
      ],
      "text/plain": [
       "recommendations finished on 45000/75792 queries. users per second: 165956"
      ]
     },
     "metadata": {},
     "output_type": "display_data"
    },
    {
     "data": {
      "text/html": [
       "<pre>recommendations finished on 46000/75792 queries. users per second: 167313</pre>"
      ],
      "text/plain": [
       "recommendations finished on 46000/75792 queries. users per second: 167313"
      ]
     },
     "metadata": {},
     "output_type": "display_data"
    },
    {
     "data": {
      "text/html": [
       "<pre>recommendations finished on 47000/75792 queries. users per second: 167950</pre>"
      ],
      "text/plain": [
       "recommendations finished on 47000/75792 queries. users per second: 167950"
      ]
     },
     "metadata": {},
     "output_type": "display_data"
    },
    {
     "data": {
      "text/html": [
       "<pre>recommendations finished on 48000/75792 queries. users per second: 168852</pre>"
      ],
      "text/plain": [
       "recommendations finished on 48000/75792 queries. users per second: 168852"
      ]
     },
     "metadata": {},
     "output_type": "display_data"
    },
    {
     "data": {
      "text/html": [
       "<pre>recommendations finished on 49000/75792 queries. users per second: 169709</pre>"
      ],
      "text/plain": [
       "recommendations finished on 49000/75792 queries. users per second: 169709"
      ]
     },
     "metadata": {},
     "output_type": "display_data"
    },
    {
     "data": {
      "text/html": [
       "<pre>recommendations finished on 50000/75792 queries. users per second: 170489</pre>"
      ],
      "text/plain": [
       "recommendations finished on 50000/75792 queries. users per second: 170489"
      ]
     },
     "metadata": {},
     "output_type": "display_data"
    },
    {
     "data": {
      "text/html": [
       "<pre>recommendations finished on 51000/75792 queries. users per second: 171210</pre>"
      ],
      "text/plain": [
       "recommendations finished on 51000/75792 queries. users per second: 171210"
      ]
     },
     "metadata": {},
     "output_type": "display_data"
    },
    {
     "data": {
      "text/html": [
       "<pre>recommendations finished on 52000/75792 queries. users per second: 171661</pre>"
      ],
      "text/plain": [
       "recommendations finished on 52000/75792 queries. users per second: 171661"
      ]
     },
     "metadata": {},
     "output_type": "display_data"
    },
    {
     "data": {
      "text/html": [
       "<pre>recommendations finished on 53000/75792 queries. users per second: 172601</pre>"
      ],
      "text/plain": [
       "recommendations finished on 53000/75792 queries. users per second: 172601"
      ]
     },
     "metadata": {},
     "output_type": "display_data"
    },
    {
     "data": {
      "text/html": [
       "<pre>recommendations finished on 54000/75792 queries. users per second: 173359</pre>"
      ],
      "text/plain": [
       "recommendations finished on 54000/75792 queries. users per second: 173359"
      ]
     },
     "metadata": {},
     "output_type": "display_data"
    },
    {
     "data": {
      "text/html": [
       "<pre>recommendations finished on 55000/75792 queries. users per second: 174145</pre>"
      ],
      "text/plain": [
       "recommendations finished on 55000/75792 queries. users per second: 174145"
      ]
     },
     "metadata": {},
     "output_type": "display_data"
    },
    {
     "data": {
      "text/html": [
       "<pre>recommendations finished on 56000/75792 queries. users per second: 173495</pre>"
      ],
      "text/plain": [
       "recommendations finished on 56000/75792 queries. users per second: 173495"
      ]
     },
     "metadata": {},
     "output_type": "display_data"
    },
    {
     "data": {
      "text/html": [
       "<pre>recommendations finished on 57000/75792 queries. users per second: 173495</pre>"
      ],
      "text/plain": [
       "recommendations finished on 57000/75792 queries. users per second: 173495"
      ]
     },
     "metadata": {},
     "output_type": "display_data"
    },
    {
     "data": {
      "text/html": [
       "<pre>recommendations finished on 58000/75792 queries. users per second: 171352</pre>"
      ],
      "text/plain": [
       "recommendations finished on 58000/75792 queries. users per second: 171352"
      ]
     },
     "metadata": {},
     "output_type": "display_data"
    },
    {
     "data": {
      "text/html": [
       "<pre>recommendations finished on 59000/75792 queries. users per second: 170655</pre>"
      ],
      "text/plain": [
       "recommendations finished on 59000/75792 queries. users per second: 170655"
      ]
     },
     "metadata": {},
     "output_type": "display_data"
    },
    {
     "data": {
      "text/html": [
       "<pre>recommendations finished on 60000/75792 queries. users per second: 170647</pre>"
      ],
      "text/plain": [
       "recommendations finished on 60000/75792 queries. users per second: 170647"
      ]
     },
     "metadata": {},
     "output_type": "display_data"
    },
    {
     "data": {
      "text/html": [
       "<pre>recommendations finished on 61000/75792 queries. users per second: 171371</pre>"
      ],
      "text/plain": [
       "recommendations finished on 61000/75792 queries. users per second: 171371"
      ]
     },
     "metadata": {},
     "output_type": "display_data"
    },
    {
     "data": {
      "text/html": [
       "<pre>recommendations finished on 62000/75792 queries. users per second: 171222</pre>"
      ],
      "text/plain": [
       "recommendations finished on 62000/75792 queries. users per second: 171222"
      ]
     },
     "metadata": {},
     "output_type": "display_data"
    },
    {
     "data": {
      "text/html": [
       "<pre>recommendations finished on 63000/75792 queries. users per second: 172237</pre>"
      ],
      "text/plain": [
       "recommendations finished on 63000/75792 queries. users per second: 172237"
      ]
     },
     "metadata": {},
     "output_type": "display_data"
    },
    {
     "data": {
      "text/html": [
       "<pre>recommendations finished on 64000/75792 queries. users per second: 172928</pre>"
      ],
      "text/plain": [
       "recommendations finished on 64000/75792 queries. users per second: 172928"
      ]
     },
     "metadata": {},
     "output_type": "display_data"
    },
    {
     "data": {
      "text/html": [
       "<pre>recommendations finished on 65000/75792 queries. users per second: 173801</pre>"
      ],
      "text/plain": [
       "recommendations finished on 65000/75792 queries. users per second: 173801"
      ]
     },
     "metadata": {},
     "output_type": "display_data"
    },
    {
     "data": {
      "text/html": [
       "<pre>recommendations finished on 66000/75792 queries. users per second: 174345</pre>"
      ],
      "text/plain": [
       "recommendations finished on 66000/75792 queries. users per second: 174345"
      ]
     },
     "metadata": {},
     "output_type": "display_data"
    },
    {
     "data": {
      "text/html": [
       "<pre>recommendations finished on 67000/75792 queries. users per second: 175274</pre>"
      ],
      "text/plain": [
       "recommendations finished on 67000/75792 queries. users per second: 175274"
      ]
     },
     "metadata": {},
     "output_type": "display_data"
    },
    {
     "data": {
      "text/html": [
       "<pre>recommendations finished on 68000/75792 queries. users per second: 175276</pre>"
      ],
      "text/plain": [
       "recommendations finished on 68000/75792 queries. users per second: 175276"
      ]
     },
     "metadata": {},
     "output_type": "display_data"
    },
    {
     "data": {
      "text/html": [
       "<pre>recommendations finished on 69000/75792 queries. users per second: 175042</pre>"
      ],
      "text/plain": [
       "recommendations finished on 69000/75792 queries. users per second: 175042"
      ]
     },
     "metadata": {},
     "output_type": "display_data"
    },
    {
     "data": {
      "text/html": [
       "<pre>recommendations finished on 70000/75792 queries. users per second: 173754</pre>"
      ],
      "text/plain": [
       "recommendations finished on 70000/75792 queries. users per second: 173754"
      ]
     },
     "metadata": {},
     "output_type": "display_data"
    },
    {
     "data": {
      "text/html": [
       "<pre>recommendations finished on 71000/75792 queries. users per second: 173809</pre>"
      ],
      "text/plain": [
       "recommendations finished on 71000/75792 queries. users per second: 173809"
      ]
     },
     "metadata": {},
     "output_type": "display_data"
    },
    {
     "data": {
      "text/html": [
       "<pre>recommendations finished on 72000/75792 queries. users per second: 173747</pre>"
      ],
      "text/plain": [
       "recommendations finished on 72000/75792 queries. users per second: 173747"
      ]
     },
     "metadata": {},
     "output_type": "display_data"
    },
    {
     "data": {
      "text/html": [
       "<pre>recommendations finished on 73000/75792 queries. users per second: 173704</pre>"
      ],
      "text/plain": [
       "recommendations finished on 73000/75792 queries. users per second: 173704"
      ]
     },
     "metadata": {},
     "output_type": "display_data"
    },
    {
     "data": {
      "text/html": [
       "<pre>recommendations finished on 74000/75792 queries. users per second: 172449</pre>"
      ],
      "text/plain": [
       "recommendations finished on 74000/75792 queries. users per second: 172449"
      ]
     },
     "metadata": {},
     "output_type": "display_data"
    },
    {
     "data": {
      "text/html": [
       "<pre>recommendations finished on 75000/75792 queries. users per second: 171347</pre>"
      ],
      "text/plain": [
       "recommendations finished on 75000/75792 queries. users per second: 171347"
      ]
     },
     "metadata": {},
     "output_type": "display_data"
    },
    {
     "name": "stdout",
     "output_type": "stream",
     "text": [
      "An output file can be found in 'output' folder with name 'option1_recommendation.csv'\n",
      "(10609, 1)\n"
     ]
    },
    {
     "data": {
      "text/html": [
       "<div>\n",
       "<style scoped>\n",
       "    .dataframe tbody tr th:only-of-type {\n",
       "        vertical-align: middle;\n",
       "    }\n",
       "\n",
       "    .dataframe tbody tr th {\n",
       "        vertical-align: top;\n",
       "    }\n",
       "\n",
       "    .dataframe thead th {\n",
       "        text-align: right;\n",
       "    }\n",
       "</style>\n",
       "<table border=\"1\" class=\"dataframe\">\n",
       "  <thead>\n",
       "    <tr style=\"text-align: right;\">\n",
       "      <th></th>\n",
       "      <th>recommendedProducts</th>\n",
       "    </tr>\n",
       "    <tr>\n",
       "      <th>customerId</th>\n",
       "      <th></th>\n",
       "    </tr>\n",
       "  </thead>\n",
       "  <tbody>\n",
       "    <tr>\n",
       "      <th>29025780</th>\n",
       "      <td>labay|dewal|osmo|coxir|sanoto|labay|dewal|osmo...</td>\n",
       "    </tr>\n",
       "    <tr>\n",
       "      <th>33609704</th>\n",
       "      <td>labay|dewal|osmo|mielle|coxir|labay|dewal|osmo...</td>\n",
       "    </tr>\n",
       "    <tr>\n",
       "      <th>34236465</th>\n",
       "      <td>labay|dewal|osmo|coxir|sanoto|labay|dewal|osmo...</td>\n",
       "    </tr>\n",
       "    <tr>\n",
       "      <th>36180886</th>\n",
       "      <td>labay|osmo|dewal|mielle|coxir|labay|osmo|dewal...</td>\n",
       "    </tr>\n",
       "    <tr>\n",
       "      <th>40821287</th>\n",
       "      <td>labay|dewal|osmo|coxir|sanoto|labay|dewal|osmo...</td>\n",
       "    </tr>\n",
       "  </tbody>\n",
       "</table>\n",
       "</div>"
      ],
      "text/plain": [
       "                                          recommendedProducts\n",
       "customerId                                                   \n",
       "29025780    labay|dewal|osmo|coxir|sanoto|labay|dewal|osmo...\n",
       "33609704    labay|dewal|osmo|mielle|coxir|labay|dewal|osmo...\n",
       "34236465    labay|dewal|osmo|coxir|sanoto|labay|dewal|osmo...\n",
       "36180886    labay|osmo|dewal|mielle|coxir|labay|osmo|dewal...\n",
       "40821287    labay|dewal|osmo|coxir|sanoto|labay|dewal|osmo..."
      ]
     },
     "execution_count": 49,
     "metadata": {},
     "output_type": "execute_result"
    }
   ],
   "source": [
    "df_output = create_output(pear_norm, users_to_recommend, 5, print_csv=True)\n",
    "print(df_output.shape)\n",
    "df_output.head()"
   ]
  },
  {
   "cell_type": "code",
   "execution_count": 50,
   "metadata": {},
   "outputs": [],
   "source": [
    "def customer_recomendation(customer_id):\n",
    "    if customer_id not in df_output.index:\n",
    "        print('Customer not found.')\n",
    "        return customer_id\n",
    "    return df_output.loc[customer_id]"
   ]
  },
  {
   "cell_type": "code",
   "execution_count": 51,
   "metadata": {},
   "outputs": [
    {
     "data": {
      "text/plain": [
       "recommendedProducts    labay|dewal|osmo|coxir|sanoto|labay|dewal|osmo...\n",
       "Name: 40821287, dtype: object"
      ]
     },
     "execution_count": 51,
     "metadata": {},
     "output_type": "execute_result"
    }
   ],
   "source": [
    "customer_recomendation(40821287)"
   ]
  }
 ],
 "metadata": {
  "kernelspec": {
   "display_name": "Python 3",
   "language": "python",
   "name": "python3"
  },
  "language_info": {
   "codemirror_mode": {
    "name": "ipython",
    "version": 3
   },
   "file_extension": ".py",
   "mimetype": "text/x-python",
   "name": "python",
   "nbconvert_exporter": "python",
   "pygments_lexer": "ipython3",
   "version": "3.6.9"
  }
 },
 "nbformat": 4,
 "nbformat_minor": 4
}
