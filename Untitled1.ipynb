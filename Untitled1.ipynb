{
 "cells": [
  {
   "cell_type": "code",
   "execution_count": 1,
   "id": "fc644d70",
   "metadata": {},
   "outputs": [],
   "source": [
    "import numpy as np \n",
    "import pandas as pd "
   ]
  },
  {
   "cell_type": "code",
   "execution_count": 2,
   "id": "c107d669",
   "metadata": {},
   "outputs": [],
   "source": [
    "\n",
    "import time\n",
    "import warnings\n",
    "warnings.filterwarnings(\"ignore\")\n",
    "from sklearn.model_selection import train_test_split"
   ]
  },
  {
   "cell_type": "code",
   "execution_count": 3,
   "id": "aafa5de9",
   "metadata": {},
   "outputs": [],
   "source": [
    "import mlflow"
   ]
  },
  {
   "cell_type": "code",
   "execution_count": 4,
   "id": "1d116e13",
   "metadata": {},
   "outputs": [],
   "source": [
    "\n",
    "import matplotlib.pyplot as plt\n",
    "from collections import defaultdict"
   ]
  },
  {
   "cell_type": "code",
   "execution_count": 5,
   "id": "3297b8b7",
   "metadata": {},
   "outputs": [],
   "source": [
    "from surprise import SVD, SVDpp, SlopeOne, NMF, NormalPredictor, KNNBaseline, KNNBasic, KNNWithMeans, KNNWithZScore, BaselineOnly, CoClustering\n",
    "from surprise import Reader, Dataset\n",
    "from surprise.model_selection import cross_validate"
   ]
  },
  {
   "cell_type": "code",
   "execution_count": 6,
   "id": "7b2fa735",
   "metadata": {},
   "outputs": [],
   "source": [
    "df=pd.read_csv('Final_merged_purchased.csv')"
   ]
  },
  {
   "cell_type": "code",
   "execution_count": null,
   "id": "61aaa9bf",
   "metadata": {},
   "outputs": [],
   "source": [
    "def create_data_dummy(data):\n",
    "    data_dummy = data.copy()\n",
    "    data_dummy['purchase_dummy'] = 1\n",
    "    return data_dummy\n",
    "data_dummy = create_data_dummy(data)\n"
   ]
  },
  {
   "cell_type": "code",
   "execution_count": null,
   "id": "54028d97",
   "metadata": {},
   "outputs": [],
   "source": [
    "data_dummy"
   ]
  },
  {
   "cell_type": "code",
   "execution_count": null,
   "id": "adcf80d7",
   "metadata": {},
   "outputs": [],
   "source": [
    "#df_matrix = pd.pivot_table(data, values='purchase_count',index='customerId', columns='brand')"
   ]
  },
  {
   "cell_type": "code",
   "execution_count": null,
   "id": "47bc71be",
   "metadata": {},
   "outputs": [],
   "source": [
    "# df_matrix_norm = (df_matrix-df_matrix.min())/(df_matrix.max()-\n",
    "# df_matrix.min())"
   ]
  },
  {
   "cell_type": "code",
   "execution_count": null,
   "id": "f578e41e",
   "metadata": {},
   "outputs": [],
   "source": [
    "# d = df_matrix_norm.reset_index()\n",
    "# d.index.names = ['scaled_purchase_freq']\n",
    "# data_norm = pd.melt(d, id_vars=['customerId'],\n",
    "# value_name='scaled_purchase_freq').dropna()\n",
    "# print(data_norm.shape)\n",
    "# data_norm.head()\n"
   ]
  },
  {
   "cell_type": "code",
   "execution_count": null,
   "id": "b7d76644",
   "metadata": {},
   "outputs": [],
   "source": [
    "def normalize_data(data):\n",
    "    df_matrix = pd.pivot_table(data, values='purchase_count',\n",
    "    index='customerId', columns='productId')\n",
    "    df_matrix_norm = (df_matrix-df_matrix.min())/(df_matrix.max()-df_matrix.min())\n",
    "    d = df_matrix_norm.reset_index()\n",
    "    d.index.names = ['scaled_purchase_freq']\n",
    "return pd.melt(d, id_vars=['customerId'],value_name='scaled_purchase_freq').dropna()\n"
   ]
  },
  {
   "cell_type": "code",
   "execution_count": null,
   "id": "f83e850f",
   "metadata": {},
   "outputs": [],
   "source": []
  },
  {
   "cell_type": "code",
   "execution_count": null,
   "id": "b6e3ca7b",
   "metadata": {},
   "outputs": [],
   "source": []
  },
  {
   "cell_type": "code",
   "execution_count": 7,
   "id": "fe9219ad",
   "metadata": {},
   "outputs": [
    {
     "data": {
      "text/plain": [
       "Index(['Unnamed: 0', 'event_time', 'event_type', 'product_id', 'category_id',\n",
       "       'brand', 'price', 'user_id', 'user_session', 'product_count',\n",
       "       'order_id'],\n",
       "      dtype='object')"
      ]
     },
     "execution_count": 7,
     "metadata": {},
     "output_type": "execute_result"
    }
   ],
   "source": [
    "df.columns"
   ]
  },
  {
   "cell_type": "code",
   "execution_count": 8,
   "id": "69336f80",
   "metadata": {},
   "outputs": [
    {
     "name": "stdout",
     "output_type": "stream",
     "text": [
      "number of unique customer :  52523\n",
      "number of unique product :  33167\n"
     ]
    }
   ],
   "source": [
    "print(\"number of unique customer : \",df[\"user_id\"].nunique())\n",
    "print(\"number of unique product : \",df[\"product_id\"].nunique())"
   ]
  },
  {
   "cell_type": "code",
   "execution_count": 9,
   "id": "d5ee3a73",
   "metadata": {},
   "outputs": [],
   "source": [
    "def remove_strip(x:pd.Series)->pd.Series:\n",
    "    x=x.replace(\"-\",\"\",regex=True)\n",
    "    return x\n",
    "\n",
    "df['customer_id']=remove_strip(df['user_id'])"
   ]
  },
  {
   "cell_type": "code",
   "execution_count": 10,
   "id": "648854af",
   "metadata": {},
   "outputs": [
    {
     "name": "stdout",
     "output_type": "stream",
     "text": [
      "No of Nan values in our dataframe :  0\n"
     ]
    }
   ],
   "source": [
    "# just to make sure that all Nan containing rows are deleted..\n",
    "print(\"No of Nan values in our dataframe : \", sum(df.isnull().any()))"
   ]
  },
  {
   "cell_type": "code",
   "execution_count": 11,
   "id": "ba900405",
   "metadata": {},
   "outputs": [
    {
     "name": "stdout",
     "output_type": "stream",
     "text": [
      "There are 17857 duplicate rating entries in the data..\n"
     ]
    }
   ],
   "source": [
    "dup_bool = df.duplicated(['user_id','product_id','product_count'])\n",
    "dups = sum(dup_bool) # by considering all columns..( including timestamp)\n",
    "print(\"There are {} duplicate rating entries in the data..\".format(dups))"
   ]
  },
  {
   "cell_type": "code",
   "execution_count": 12,
   "id": "456094a9",
   "metadata": {},
   "outputs": [],
   "source": [
    "#df.drop_duplicates()"
   ]
  },
  {
   "cell_type": "code",
   "execution_count": 13,
   "id": "2c5219ca",
   "metadata": {},
   "outputs": [
    {
     "data": {
      "text/plain": [
       "(567514, 12)"
      ]
     },
     "execution_count": 13,
     "metadata": {},
     "output_type": "execute_result"
    }
   ],
   "source": [
    "df.shape"
   ]
  },
  {
   "cell_type": "code",
   "execution_count": 14,
   "id": "d2bce499",
   "metadata": {},
   "outputs": [
    {
     "data": {
      "text/plain": [
       "Index(['Unnamed: 0', 'event_time', 'event_type', 'product_id', 'category_id',\n",
       "       'brand', 'price', 'user_id', 'user_session', 'product_count',\n",
       "       'order_id', 'customer_id'],\n",
       "      dtype='object')"
      ]
     },
     "execution_count": 14,
     "metadata": {},
     "output_type": "execute_result"
    }
   ],
   "source": [
    "df.columns"
   ]
  },
  {
   "cell_type": "code",
   "execution_count": 15,
   "id": "0c9b4d2b",
   "metadata": {},
   "outputs": [],
   "source": [
    "df=df[['event_time', 'event_type', 'product_id', 'category_id',\n",
    "       'brand', 'price', 'user_id', 'user_session', 'product_count',\n",
    "       'order_id', 'customer_id']]"
   ]
  },
  {
   "cell_type": "code",
   "execution_count": null,
   "id": "970f58ee",
   "metadata": {},
   "outputs": [],
   "source": []
  },
  {
   "cell_type": "code",
   "execution_count": 16,
   "id": "35a935a1",
   "metadata": {},
   "outputs": [
    {
     "name": "stdout",
     "output_type": "stream",
     "text": [
      "data train sample : \n",
      "========================================================================================\n",
      "train data shape :  (397259, 11)\n",
      "test data shape :  (170255, 11)\n"
     ]
    }
   ],
   "source": [
    "#Split the training and test data in the ratio 70:30\n",
    "train_data, test_data = train_test_split(df, test_size = 0.3, random_state=0)\n",
    "print(\"data train sample : \")\n",
    "\n",
    "print(\"====\"*22)\n",
    "print(\"train data shape : \",train_data.shape)\n",
    "print(\"test data shape : \",test_data.shape)"
   ]
  },
  {
   "cell_type": "code",
   "execution_count": 17,
   "id": "6bbd8039",
   "metadata": {},
   "outputs": [
    {
     "data": {
      "text/plain": [
       "Index(['event_time', 'event_type', 'product_id', 'category_id', 'brand',\n",
       "       'price', 'user_id', 'user_session', 'product_count', 'order_id',\n",
       "       'customer_id'],\n",
       "      dtype='object')"
      ]
     },
     "execution_count": 17,
     "metadata": {},
     "output_type": "execute_result"
    }
   ],
   "source": [
    "train_data.columns"
   ]
  },
  {
   "cell_type": "code",
   "execution_count": 18,
   "id": "100d97f6",
   "metadata": {},
   "outputs": [],
   "source": [
    "reader=Reader(rating_scale=(0,10))\n",
    "data=Dataset.load_from_df(df[[\"user_id\",\"product_id\",\"product_count\"]],reader)"
   ]
  },
  {
   "cell_type": "code",
   "execution_count": 19,
   "id": "c6953a0a",
   "metadata": {},
   "outputs": [],
   "source": [
    "from surprise.model_selection import train_test_split\n",
    "trainset,testset=train_test_split(data,test_size=0.25,random_state=121)"
   ]
  },
  {
   "cell_type": "code",
   "execution_count": 20,
   "id": "3d7e5c92",
   "metadata": {},
   "outputs": [],
   "source": [
    "# We can now use the algorithm that yields the best rmse:\n",
    "SVDpp = SVDpp(n_factors=20,n_epochs=50,lr_all=0.0003,reg_all=0.03)\n",
    "SVDpp.fit(trainset)\n",
    "# Predict ratings for all pairs (i,j) that are NOT in the training set.\n",
    "SVDpp_test = SVDpp.test(testset)"
   ]
  },
  {
   "cell_type": "code",
   "execution_count": 26,
   "id": "cecb2bb9",
   "metadata": {},
   "outputs": [
    {
     "data": {
      "text/plain": [
       "141879"
      ]
     },
     "execution_count": 26,
     "metadata": {},
     "output_type": "execute_result"
    }
   ],
   "source": [
    "len(SVDpp_test)"
   ]
  },
  {
   "cell_type": "code",
   "execution_count": null,
   "id": "d33f9dfc",
   "metadata": {},
   "outputs": [],
   "source": [
    "from surprise import accuracy"
   ]
  },
  {
   "cell_type": "code",
   "execution_count": null,
   "id": "2c377f33",
   "metadata": {},
   "outputs": [],
   "source": [
    "RMSE=accuracy.rmse(SVDpp_test,verbose=False)\n",
    "MAE=accuracy.mae(SVDpp_test,verbose=False)"
   ]
  },
  {
   "cell_type": "code",
   "execution_count": null,
   "id": "ef52ebba",
   "metadata": {},
   "outputs": [],
   "source": [
    "MAE"
   ]
  },
  {
   "cell_type": "code",
   "execution_count": null,
   "id": "3b71166c",
   "metadata": {},
   "outputs": [],
   "source": [
    "RMSE"
   ]
  },
  {
   "cell_type": "code",
   "execution_count": 22,
   "id": "3a88d4c8",
   "metadata": {},
   "outputs": [
    {
     "name": "stdout",
     "output_type": "stream",
     "text": [
      "RMSE :  0.056768745546791795\n",
      "MAE  :  0.03915786816856314\n"
     ]
    }
   ],
   "source": [
    "\n",
    "\n",
    "print(\"RMSE : \",RMSE)\n",
    "print(\"MAE  : \",MAE)"
   ]
  },
  {
   "cell_type": "code",
   "execution_count": 23,
   "id": "25c0b8eb",
   "metadata": {},
   "outputs": [],
   "source": [
    "# from surprise import accuracy\n",
    "\n",
    "# RMSE=accuracy.rmse(SVDpp_test,verbose=False)\n",
    "# MAE=accuracy.mae(SVDpp_test,verbose=False)\n",
    "\n",
    "# print(\"RMSE : \",RMSE)\n",
    "# print(\"MAE  : \",MAE)\n",
    "# RMSE :  0.0632745718923133\n",
    "# MAE  :  0.04479505215993599\n",
    "    \n",
    "# RMSE :  0.06714444078916948\n",
    "# MAE  :  0.04803607076322554"
   ]
  },
  {
   "cell_type": "code",
   "execution_count": 24,
   "id": "3ad8bfde",
   "metadata": {},
   "outputs": [],
   "source": [
    "# # We can now use the algorithm that yields the best rmse:\n",
    "# SVDpp = SVDpp(n_factors=20,n_epochs=50,lr_all=0.0003,reg_all=0.03)\n",
    "# SVDpp.fit(trainset)\n",
    "# # Predict ratings for all pairs (i,j) that are NOT in the training set.\n",
    "# SVDpp_test = SVDpp.test(testset)\n",
    "# RMSE :  0.05716347327509343\n",
    "# MAE  :  0.03933804302943817"
   ]
  }
 ],
 "metadata": {
  "kernelspec": {
   "display_name": "Python 3 (ipykernel)",
   "language": "python",
   "name": "python3"
  },
  "language_info": {
   "codemirror_mode": {
    "name": "ipython",
    "version": 3
   },
   "file_extension": ".py",
   "mimetype": "text/x-python",
   "name": "python",
   "nbconvert_exporter": "python",
   "pygments_lexer": "ipython3",
   "version": "3.9.16"
  }
 },
 "nbformat": 4,
 "nbformat_minor": 5
}
