{
  "cells": [
    {
      "cell_type": "code",
      "execution_count": null,
      "id": "fc644d70",
      "metadata": {
        "id": "fc644d70"
      },
      "outputs": [],
      "source": [
        "import numpy as np \n",
        "import pandas as pd "
      ]
    },
    {
      "cell_type": "code",
      "execution_count": null,
      "id": "c107d669",
      "metadata": {
        "id": "c107d669"
      },
      "outputs": [],
      "source": [
        "\n",
        "import time\n",
        "import warnings\n",
        "warnings.filterwarnings(\"ignore\")\n",
        "from sklearn.model_selection import train_test_split"
      ]
    },
    {
      "cell_type": "code",
      "execution_count": null,
      "id": "aafa5de9",
      "metadata": {
        "id": "aafa5de9"
      },
      "outputs": [],
      "source": [
        "import mlflow"
      ]
    },
    {
      "cell_type": "code",
      "execution_count": null,
      "id": "1d116e13",
      "metadata": {
        "id": "1d116e13"
      },
      "outputs": [],
      "source": [
        "\n",
        "import matplotlib.pyplot as plt\n",
        "from collections import defaultdict"
      ]
    },
    {
      "cell_type": "code",
      "execution_count": null,
      "id": "3297b8b7",
      "metadata": {
        "id": "3297b8b7"
      },
      "outputs": [],
      "source": [
        "from surprise import SVD, SVDpp, SlopeOne, NMF, NormalPredictor, KNNBaseline, KNNBasic, KNNWithMeans, KNNWithZScore, BaselineOnly, CoClustering\n",
        "from surprise import Reader, Dataset\n",
        "from surprise.model_selection import cross_validate"
      ]
    },
    {
      "cell_type": "code",
      "execution_count": null,
      "id": "7b2fa735",
      "metadata": {
        "id": "7b2fa735"
      },
      "outputs": [],
      "source": [
        "df=pd.read_csv('Final_merged_purchased.csv')"
      ]
    },
    {
      "cell_type": "code",
      "execution_count": null,
      "id": "61aaa9bf",
      "metadata": {
        "id": "61aaa9bf"
      },
      "outputs": [],
      "source": [
        "def create_data_dummy(data):\n",
        "    data_dummy = data.copy()\n",
        "    data_dummy['purchase_dummy'] = 1\n",
        "    return data_dummy\n",
        "data_dummy = create_data_dummy(data)\n"
      ]
    },
    {
      "cell_type": "code",
      "execution_count": null,
      "id": "b6e3ca7b",
      "metadata": {
        "id": "b6e3ca7b"
      },
      "outputs": [],
      "source": []
    },
    {
      "cell_type": "code",
      "execution_count": null,
      "id": "fe9219ad",
      "metadata": {
        "id": "fe9219ad",
        "outputId": "cb94d50f-db44-4042-8bb5-e6eb5389ff78"
      },
      "outputs": [
        {
          "data": {
            "text/plain": [
              "Index(['Unnamed: 0', 'event_time', 'event_type', 'product_id', 'category_id',\n",
              "       'brand', 'price', 'user_id', 'user_session', 'product_count',\n",
              "       'order_id'],\n",
              "      dtype='object')"
            ]
          },
          "execution_count": 7,
          "metadata": {},
          "output_type": "execute_result"
        }
      ],
      "source": [
        "df.columns"
      ]
    },
    {
      "cell_type": "code",
      "execution_count": null,
      "id": "69336f80",
      "metadata": {
        "id": "69336f80",
        "outputId": "1150d34b-bdb4-4ec3-b462-244d5990552c"
      },
      "outputs": [
        {
          "name": "stdout",
          "output_type": "stream",
          "text": [
            "number of unique customer :  52523\n",
            "number of unique product :  33167\n"
          ]
        }
      ],
      "source": [
        "print(\"number of unique customer : \",df[\"user_id\"].nunique())\n",
        "print(\"number of unique product : \",df[\"product_id\"].nunique())"
      ]
    },
    {
      "cell_type": "code",
      "execution_count": null,
      "id": "d5ee3a73",
      "metadata": {
        "id": "d5ee3a73"
      },
      "outputs": [],
      "source": [
        "def remove_strip(x:pd.Series)->pd.Series:\n",
        "    x=x.replace(\"-\",\"\",regex=True)\n",
        "    return x\n",
        "\n",
        "df['customer_id']=remove_strip(df['user_id'])"
      ]
    },
    {
      "cell_type": "code",
      "execution_count": null,
      "id": "648854af",
      "metadata": {
        "id": "648854af",
        "outputId": "c97fa8f1-ef00-4cdc-e44f-6bb8e5d2f13e"
      },
      "outputs": [
        {
          "name": "stdout",
          "output_type": "stream",
          "text": [
            "No of Nan values in our dataframe :  0\n"
          ]
        }
      ],
      "source": [
        "# just to make sure that all Nan containing rows are deleted..\n",
        "print(\"No of Nan values in our dataframe : \", sum(df.isnull().any()))"
      ]
    },
    {
      "cell_type": "code",
      "execution_count": null,
      "id": "ba900405",
      "metadata": {
        "id": "ba900405",
        "outputId": "5cd65b76-dedc-47b1-b602-491dde430278"
      },
      "outputs": [
        {
          "name": "stdout",
          "output_type": "stream",
          "text": [
            "There are 17857 duplicate rating entries in the data..\n"
          ]
        }
      ],
      "source": [
        "dup_bool = df.duplicated(['user_id','product_id','product_count'])\n",
        "dups = sum(dup_bool) # by considering all columns..( including timestamp)\n",
        "print(\"There are {} duplicate rating entries in the data..\".format(dups))"
      ]
    },
    {
      "cell_type": "code",
      "execution_count": null,
      "id": "456094a9",
      "metadata": {
        "id": "456094a9"
      },
      "outputs": [],
      "source": [
        "#df.drop_duplicates()"
      ]
    },
    {
      "cell_type": "code",
      "execution_count": null,
      "id": "2c5219ca",
      "metadata": {
        "id": "2c5219ca",
        "outputId": "74623848-7f1c-4dd4-9037-7c2a9783e1d0"
      },
      "outputs": [
        {
          "data": {
            "text/plain": [
              "(567514, 12)"
            ]
          },
          "execution_count": 13,
          "metadata": {},
          "output_type": "execute_result"
        }
      ],
      "source": [
        "df.shape"
      ]
    },
    {
      "cell_type": "code",
      "execution_count": null,
      "id": "d2bce499",
      "metadata": {
        "id": "d2bce499",
        "outputId": "b430d62a-5602-4629-d409-4302c9013668"
      },
      "outputs": [
        {
          "data": {
            "text/plain": [
              "Index(['Unnamed: 0', 'event_time', 'event_type', 'product_id', 'category_id',\n",
              "       'brand', 'price', 'user_id', 'user_session', 'product_count',\n",
              "       'order_id', 'customer_id'],\n",
              "      dtype='object')"
            ]
          },
          "execution_count": 14,
          "metadata": {},
          "output_type": "execute_result"
        }
      ],
      "source": [
        "df.columns"
      ]
    },
    {
      "cell_type": "code",
      "execution_count": null,
      "id": "0c9b4d2b",
      "metadata": {
        "id": "0c9b4d2b"
      },
      "outputs": [],
      "source": [
        "df=df[['event_time', 'event_type', 'product_id', 'category_id',\n",
        "       'brand', 'price', 'user_id', 'user_session', 'product_count',\n",
        "       'order_id', 'customer_id']]"
      ]
    },
    {
      "cell_type": "code",
      "execution_count": null,
      "id": "970f58ee",
      "metadata": {
        "id": "970f58ee"
      },
      "outputs": [],
      "source": []
    },
    {
      "cell_type": "code",
      "execution_count": null,
      "id": "35a935a1",
      "metadata": {
        "id": "35a935a1",
        "outputId": "e86267fc-be35-452d-f8e9-0e07f0ec6bb6"
      },
      "outputs": [
        {
          "name": "stdout",
          "output_type": "stream",
          "text": [
            "data train sample : \n",
            "========================================================================================\n",
            "train data shape :  (397259, 11)\n",
            "test data shape :  (170255, 11)\n"
          ]
        }
      ],
      "source": [
        "#Split the training and test data in the ratio 70:30\n",
        "train_data, test_data = train_test_split(df, test_size = 0.3, random_state=0)\n",
        "print(\"data train sample : \")\n",
        "\n",
        "print(\"====\"*20)\n",
        "print(\"train data shape : \",train_data.shape)\n",
        "print(\"test data shape : \",test_data.shape)"
      ]
    },
    {
      "cell_type": "code",
      "execution_count": null,
      "id": "6bbd8039",
      "metadata": {
        "id": "6bbd8039",
        "outputId": "2776e1f5-947b-4b6a-db84-0358c92484d7"
      },
      "outputs": [
        {
          "data": {
            "text/plain": [
              "Index(['event_time', 'event_type', 'product_id', 'category_id', 'brand',\n",
              "       'price', 'user_id', 'user_session', 'product_count', 'order_id',\n",
              "       'customer_id'],\n",
              "      dtype='object')"
            ]
          },
          "execution_count": 17,
          "metadata": {},
          "output_type": "execute_result"
        }
      ],
      "source": [
        "train_data.columns"
      ]
    },
    {
      "cell_type": "code",
      "execution_count": null,
      "id": "100d97f6",
      "metadata": {
        "id": "100d97f6"
      },
      "outputs": [],
      "source": [
        "reader=Reader(rating_scale=(0,10))\n",
        "data=Dataset.load_from_df(df[[\"user_id\",\"product_id\",\"product_count\"]],reader)"
      ]
    },
    {
      "cell_type": "code",
      "execution_count": null,
      "id": "c6953a0a",
      "metadata": {
        "id": "c6953a0a"
      },
      "outputs": [],
      "source": [
        "from surprise.model_selection import train_test_split\n",
        "trainset,testset=train_test_split(data,test_size=0.25,random_state=121)"
      ]
    },
    {
      "cell_type": "code",
      "execution_count": null,
      "id": "3d7e5c92",
      "metadata": {
        "id": "3d7e5c92"
      },
      "outputs": [],
      "source": [
        "# We can now use the algorithm that yields the best rmse:\n",
        "SVDpp = SVDpp(n_factors=20,n_epochs=50,lr_all=0.0003,reg_all=0.03)\n",
        "SVDpp.fit(trainset)\n",
        "# Predict ratings for all pairs (i,j) that are NOT in the training set.\n",
        "SVDpp_test = SVDpp.test(testset)"
      ]
    },
    {
      "cell_type": "code",
      "execution_count": null,
      "id": "cecb2bb9",
      "metadata": {
        "id": "cecb2bb9",
        "outputId": "f01cc4ef-dce3-4c3c-cb59-cadc8d7cc8ed"
      },
      "outputs": [
        {
          "data": {
            "text/plain": [
              "141879"
            ]
          },
          "execution_count": 26,
          "metadata": {},
          "output_type": "execute_result"
        }
      ],
      "source": [
        "len(SVDpp_test)"
      ]
    },
    {
      "cell_type": "code",
      "execution_count": null,
      "id": "d33f9dfc",
      "metadata": {
        "id": "d33f9dfc"
      },
      "outputs": [],
      "source": [
        "from surprise import accuracy"
      ]
    },
    {
      "cell_type": "code",
      "execution_count": null,
      "id": "2c377f33",
      "metadata": {
        "id": "2c377f33"
      },
      "outputs": [],
      "source": [
        "RMSE=accuracy.rmse(SVDpp_test,verbose=False)\n",
        "MAE=accuracy.mae(SVDpp_test,verbose=False)"
      ]
    },
    {
      "cell_type": "code",
      "execution_count": null,
      "id": "ef52ebba",
      "metadata": {
        "id": "ef52ebba"
      },
      "outputs": [],
      "source": [
        "MAE"
      ]
    },
    {
      "cell_type": "code",
      "execution_count": null,
      "id": "3b71166c",
      "metadata": {
        "id": "3b71166c"
      },
      "outputs": [],
      "source": [
        "RMSE"
      ]
    },
    {
      "cell_type": "code",
      "execution_count": null,
      "id": "3a88d4c8",
      "metadata": {
        "id": "3a88d4c8",
        "outputId": "f2a1de03-3dd8-4418-d7b4-d543a4ce91cf"
      },
      "outputs": [
        {
          "name": "stdout",
          "output_type": "stream",
          "text": [
            "RMSE :  0.056768745546791795\n",
            "MAE  :  0.03915786816856314\n"
          ]
        }
      ],
      "source": [
        "\n",
        "\n",
        "print(\"RMSE : \",RMSE)\n",
        "print(\"MAE  : \",MAE)"
      ]
    },
    {
      "cell_type": "code",
      "execution_count": null,
      "id": "3ad8bfde",
      "metadata": {
        "id": "3ad8bfde"
      },
      "outputs": [],
      "source": [
        "# # We can now use the algorithm that yields the best rmse:\n",
        "# SVDpp = SVDpp(n_factors=20,n_epochs=50,lr_all=0.0003,reg_all=0.03)\n",
        "# SVDpp.fit(trainset)\n",
        "# # Predict ratings for all pairs (i,j) that are NOT in the training set.\n",
        "# SVDpp_test = SVDpp.test(testset)\n",
        "# RMSE :  0.05716347327509343\n",
        "# MAE  :  0.03933804302943817"
      ]
    }
  ],
  "metadata": {
    "kernelspec": {
      "display_name": "Python 3 (ipykernel)",
      "language": "python",
      "name": "python3"
    },
    "language_info": {
      "codemirror_mode": {
        "name": "ipython",
        "version": 3
      },
      "file_extension": ".py",
      "mimetype": "text/x-python",
      "name": "python",
      "nbconvert_exporter": "python",
      "pygments_lexer": "ipython3",
      "version": "3.9.16"
    },
    "colab": {
      "provenance": []
    }
  },
  "nbformat": 4,
  "nbformat_minor": 5
}